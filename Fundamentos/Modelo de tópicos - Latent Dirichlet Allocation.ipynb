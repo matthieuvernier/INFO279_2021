{
 "cells": [
  {
   "cell_type": "markdown",
   "id": "c1e4dea8",
   "metadata": {},
   "source": [
    "# Modelo de Tópicos - Latent Dirichlet Allocation\n",
    "\n",
    "## Motivación\n",
    "\n",
    "Los __modelos de tópicos__ permiten descubrir, a partir de los propios textos, el conjunto de tópicos o temas que estos abordan. Se trata de un análisis automatizado, que sería muy difícil de llevar a cabo manualmente por personas, debido a la cantidad y tamaño de los textos.\n",
    "\n",
    "- Revisar el artículo \"Probabilistic Topic Models\" : https://drive.google.com/open?id=1rSQPJvRVj0V_IChzspQMRPNwlDTkHYHp\n",
    "\n",
    "Uno de los algoritmos más comunes para aprender modelos de tópicos es el algoritmo _Latent Dirichlet Allocation (LDA)_. LDA modela os textos como provenientes de un modelo generativo, con una estructura oculta de tópicos y distribución de palabras en cada tópico, cuyas distribuciones a priori son Dirichlet.\n",
    "\n",
    "- Revisar el artículo \"Latent Dirichlet Allocation\" : https://drive.google.com/file/d/1BobImO3192hifZPLXowd14gryVAUzBPW/view\n",
    "\n"
   ]
  },
  {
   "cell_type": "markdown",
   "id": "a5dfefdc",
   "metadata": {},
   "source": [
    "## ¿Qué hace Latent Dirichlet Allocation?\n",
    "\n",
    "Dado un número de tópicos definido por el analista, el modelo permite asociar una distribución de tópicos $\\theta_d$ a cada texto $d$ y al mismo tiempo, la distribución de palabras $\\beta_t$ en cada tópico $t$."
   ]
  },
  {
   "cell_type": "markdown",
   "id": "7b186106",
   "metadata": {},
   "source": [
    "<img src=\"img/f1.jpg\"/>"
   ]
  },
  {
   "cell_type": "markdown",
   "id": "1ed13656",
   "metadata": {},
   "source": [
    "<img src=\"img/f2.jpg\"/>"
   ]
  },
  {
   "cell_type": "markdown",
   "id": "b293b309",
   "metadata": {},
   "source": [
    "## Tutorial práctico\n",
    "\n",
    "En este tutorial, tomaremos un dataset de posts en un foro en inglés y utilizaremos a LDA para descubrir cuáles son los tópicos conversados.\n",
    "\n",
    "Utilizaremos la implementación de LDA de la libreria Gensim."
   ]
  },
  {
   "cell_type": "markdown",
   "id": "84e7915d",
   "metadata": {},
   "source": [
    "### 1.  Instalación de librerias y depedencias\n",
    "\n",
    "Utilizaremos en particular:\n",
    "- la libreria NLTK (Natural Language ToolKit) para tener una lista de \"stopwords\" del inglés\n",
    "- el modelo inglés de Spacy para preprocesar los textos y lematizar las palabras\n",
    "- la librería pyLDAvis que ofrece algunas herramientas de visualización de modelos de tópicos"
   ]
  },
  {
   "cell_type": "code",
   "execution_count": null,
   "id": "2e105633",
   "metadata": {},
   "outputs": [],
   "source": [
    "!pip install nltk"
   ]
  },
  {
   "cell_type": "code",
   "execution_count": 4,
   "id": "8ad231a1",
   "metadata": {},
   "outputs": [
    {
     "name": "stderr",
     "output_type": "stream",
     "text": [
      "[nltk_data] Downloading package stopwords to\n",
      "[nltk_data]     /home/mvernier/nltk_data...\n",
      "[nltk_data]   Unzipping corpora/stopwords.zip.\n"
     ]
    },
    {
     "data": {
      "text/plain": [
       "True"
      ]
     },
     "execution_count": 4,
     "metadata": {},
     "output_type": "execute_result"
    }
   ],
   "source": [
    "# Run in python console\n",
    "import nltk; nltk.download('stopwords')"
   ]
  },
  {
   "cell_type": "code",
   "execution_count": null,
   "id": "311b485a",
   "metadata": {},
   "outputs": [],
   "source": [
    "# Run in terminal or command prompt\n",
    "!python -m spacy download en_core_web_sm"
   ]
  },
  {
   "cell_type": "code",
   "execution_count": null,
   "id": "5cee1e90",
   "metadata": {},
   "outputs": [],
   "source": [
    "!pip install pyLDAvis"
   ]
  },
  {
   "cell_type": "code",
   "execution_count": 81,
   "id": "c6ffdea5",
   "metadata": {},
   "outputs": [],
   "source": [
    "import re\n",
    "import numpy as np\n",
    "import pandas as pd\n",
    "from pprint import pprint\n",
    "\n",
    "# Gensim\n",
    "import gensim\n",
    "import gensim.corpora as corpora\n",
    "from gensim.utils import simple_preprocess\n",
    "from gensim.models import CoherenceModel\n",
    "\n",
    "# spacy for lemmatization\n",
    "import spacy\n",
    "\n",
    "# Plotting tools\n",
    "import pyLDAvis\n",
    "import pyLDAvis.gensim_models  # don't skip this\n",
    "import matplotlib.pyplot as plt\n",
    "%matplotlib inline\n",
    "\n",
    "# Enable logging for gensim - optional\n",
    "#import logging\n",
    "#logging.basicConfig(format='%(asctime)s : %(levelname)s : %(message)s', level=logging.ERROR)\n",
    "\n",
    "#import warnings\n",
    "#warnings.filterwarnings(\"ignore\",category=DeprecationWarning)"
   ]
  },
  {
   "cell_type": "markdown",
   "id": "eb5e656b",
   "metadata": {},
   "source": [
    "### 2. Dataset y preprocessing\n",
    "\n",
    "El dataset que utilizamos contiene aproximadamente 11.000 posts en el foro newsgroup donde las personas pueden hablar de distintos temas. "
   ]
  },
  {
   "cell_type": "code",
   "execution_count": 82,
   "id": "34792905",
   "metadata": {},
   "outputs": [
    {
     "name": "stdout",
     "output_type": "stream",
     "text": [
      "['rec.autos' 'comp.sys.mac.hardware' 'comp.graphics' 'sci.space'\n",
      " 'talk.politics.guns' 'sci.med' 'comp.sys.ibm.pc.hardware'\n",
      " 'comp.os.ms-windows.misc' 'rec.motorcycles' 'talk.religion.misc'\n",
      " 'misc.forsale' 'alt.atheism' 'sci.electronics' 'comp.windows.x'\n",
      " 'rec.sport.hockey' 'rec.sport.baseball' 'soc.religion.christian'\n",
      " 'talk.politics.mideast' 'talk.politics.misc' 'sci.crypt']\n"
     ]
    },
    {
     "data": {
      "text/html": [
       "<div>\n",
       "<style scoped>\n",
       "    .dataframe tbody tr th:only-of-type {\n",
       "        vertical-align: middle;\n",
       "    }\n",
       "\n",
       "    .dataframe tbody tr th {\n",
       "        vertical-align: top;\n",
       "    }\n",
       "\n",
       "    .dataframe thead th {\n",
       "        text-align: right;\n",
       "    }\n",
       "</style>\n",
       "<table border=\"1\" class=\"dataframe\">\n",
       "  <thead>\n",
       "    <tr style=\"text-align: right;\">\n",
       "      <th></th>\n",
       "      <th>content</th>\n",
       "      <th>target</th>\n",
       "      <th>target_names</th>\n",
       "    </tr>\n",
       "  </thead>\n",
       "  <tbody>\n",
       "    <tr>\n",
       "      <th>0</th>\n",
       "      <td>From: lerxst@wam.umd.edu (where's my thing)\\nS...</td>\n",
       "      <td>7</td>\n",
       "      <td>rec.autos</td>\n",
       "    </tr>\n",
       "    <tr>\n",
       "      <th>1</th>\n",
       "      <td>From: guykuo@carson.u.washington.edu (Guy Kuo)...</td>\n",
       "      <td>4</td>\n",
       "      <td>comp.sys.mac.hardware</td>\n",
       "    </tr>\n",
       "    <tr>\n",
       "      <th>2</th>\n",
       "      <td>From: twillis@ec.ecn.purdue.edu (Thomas E Will...</td>\n",
       "      <td>4</td>\n",
       "      <td>comp.sys.mac.hardware</td>\n",
       "    </tr>\n",
       "    <tr>\n",
       "      <th>3</th>\n",
       "      <td>From: jgreen@amber (Joe Green)\\nSubject: Re: W...</td>\n",
       "      <td>1</td>\n",
       "      <td>comp.graphics</td>\n",
       "    </tr>\n",
       "    <tr>\n",
       "      <th>4</th>\n",
       "      <td>From: jcm@head-cfa.harvard.edu (Jonathan McDow...</td>\n",
       "      <td>14</td>\n",
       "      <td>sci.space</td>\n",
       "    </tr>\n",
       "  </tbody>\n",
       "</table>\n",
       "</div>"
      ],
      "text/plain": [
       "                                             content  target  \\\n",
       "0  From: lerxst@wam.umd.edu (where's my thing)\\nS...       7   \n",
       "1  From: guykuo@carson.u.washington.edu (Guy Kuo)...       4   \n",
       "2  From: twillis@ec.ecn.purdue.edu (Thomas E Will...       4   \n",
       "3  From: jgreen@amber (Joe Green)\\nSubject: Re: W...       1   \n",
       "4  From: jcm@head-cfa.harvard.edu (Jonathan McDow...      14   \n",
       "\n",
       "            target_names  \n",
       "0              rec.autos  \n",
       "1  comp.sys.mac.hardware  \n",
       "2  comp.sys.mac.hardware  \n",
       "3          comp.graphics  \n",
       "4              sci.space  "
      ]
     },
     "execution_count": 82,
     "metadata": {},
     "output_type": "execute_result"
    }
   ],
   "source": [
    "# Import Dataset\n",
    "df = pd.read_json('https://raw.githubusercontent.com/selva86/datasets/master/newsgroups.json')\n",
    "print(df.target_names.unique())\n",
    "df.head()"
   ]
  },
  {
   "cell_type": "code",
   "execution_count": 84,
   "id": "1f2a14c1",
   "metadata": {},
   "outputs": [
    {
     "data": {
      "text/plain": [
       "\"From: lerxst@wam.umd.edu (where's my thing)\\nSubject: WHAT car is this!?\\nNntp-Posting-Host: rac3.wam.umd.edu\\nOrganization: University of Maryland, College Park\\nLines: 15\\n\\n I was wondering if anyone out there could enlighten me on this car I saw\\nthe other day. It was a 2-door sports car, looked to be from the late 60s/\\nearly 70s. It was called a Bricklin. The doors were really small. In addition,\\nthe front bumper was separate from the rest of the body. This is \\nall I know. If anyone can tellme a model name, engine specs, years\\nof production, where this car is made, history, or whatever info you\\nhave on this funky looking car, please e-mail.\\n\\nThanks,\\n- IL\\n   ---- brought to you by your neighborhood Lerxst ----\\n\\n\\n\\n\\n\""
      ]
     },
     "execution_count": 84,
     "metadata": {},
     "output_type": "execute_result"
    }
   ],
   "source": [
    "df[\"content\"][0]"
   ]
  },
  {
   "cell_type": "code",
   "execution_count": 11,
   "id": "4e02bb70",
   "metadata": {},
   "outputs": [],
   "source": [
    "# NLTK Stop words\n",
    "from nltk.corpus import stopwords\n",
    "stop_words = stopwords.words('english')\n",
    "stop_words.extend(['from', 'subject', 're', 'edu', 'use'])"
   ]
  },
  {
   "cell_type": "markdown",
   "id": "e5edecae",
   "metadata": {},
   "source": [
    "- Utilizamos expresiones regulares (libreria \"re\") para suprimir los emails, espacios blancos y caracteres que podrian generan ruido en el análisis."
   ]
  },
  {
   "cell_type": "code",
   "execution_count": 86,
   "id": "23983f04",
   "metadata": {},
   "outputs": [
    {
     "data": {
      "text/plain": [
       "\"From: lerxst@wam.umd.edu (where's my thing)\\nSubject: WHAT car is this!?\\nNntp-Posting-Host: rac3.wam.umd.edu\\nOrganization: University of Maryland, College Park\\nLines: 15\\n\\n I was wondering if anyone out there could enlighten me on this car I saw\\nthe other day. It was a 2-door sports car, looked to be from the late 60s/\\nearly 70s. It was called a Bricklin. The doors were really small. In addition,\\nthe front bumper was separate from the rest of the body. This is \\nall I know. If anyone can tellme a model name, engine specs, years\\nof production, where this car is made, history, or whatever info you\\nhave on this funky looking car, please e-mail.\\n\\nThanks,\\n- IL\\n   ---- brought to you by your neighborhood Lerxst ----\\n\\n\\n\\n\\n\""
      ]
     },
     "execution_count": 86,
     "metadata": {},
     "output_type": "execute_result"
    }
   ],
   "source": [
    "# Convert to list\n",
    "data = df.content.values.tolist()\n",
    "data[0]"
   ]
  },
  {
   "cell_type": "code",
   "execution_count": 87,
   "id": "6a843bdb",
   "metadata": {},
   "outputs": [
    {
     "data": {
      "text/plain": [
       "'From: (wheres my thing) Subject: WHAT car is this!? Nntp-Posting-Host: rac3.wam.umd.edu Organization: University of Maryland, College Park Lines: 15 I was wondering if anyone out there could enlighten me on this car I saw the other day. It was a 2-door sports car, looked to be from the late 60s/ early 70s. It was called a Bricklin. The doors were really small. In addition, the front bumper was separate from the rest of the body. This is all I know. If anyone can tellme a model name, engine specs, years of production, where this car is made, history, or whatever info you have on this funky looking car, please e-mail. Thanks, - IL ---- brought to you by your neighborhood Lerxst ---- '"
      ]
     },
     "execution_count": 87,
     "metadata": {},
     "output_type": "execute_result"
    }
   ],
   "source": [
    "# Remove Emails\n",
    "data = [re.sub('\\S*@\\S*\\s?', '', sent) for sent in data]\n",
    "\n",
    "# Remove new line characters\n",
    "data = [re.sub('\\s+', ' ', sent) for sent in data]\n",
    "\n",
    "# Remove distracting single quotes\n",
    "data = [re.sub(\"\\'\", \"\", sent) for sent in data]\n",
    "\n",
    "data[0]"
   ]
  },
  {
   "cell_type": "markdown",
   "id": "c955f2e8",
   "metadata": {},
   "source": [
    "- Gensim tiene una función \"simple_preprocess\" que tokeniza los textos, suprima las puntuaciones y transforma un texto en una lista de tokens"
   ]
  },
  {
   "cell_type": "code",
   "execution_count": 89,
   "id": "005f33f0",
   "metadata": {},
   "outputs": [],
   "source": [
    "def sent_to_words(sentences):\n",
    "    for sentence in sentences:\n",
    "        yield(gensim.utils.simple_preprocess(str(sentence), deacc=True))  # deacc=True removes punctuations\n",
    "        \n",
    "data_words = list(sent_to_words(data))"
   ]
  },
  {
   "cell_type": "code",
   "execution_count": 91,
   "id": "acfaf117",
   "metadata": {},
   "outputs": [
    {
     "name": "stdout",
     "output_type": "stream",
     "text": [
      "['from', 'wheres', 'my', 'thing', 'subject', 'what', 'car', 'is', 'this', 'nntp', 'posting', 'host', 'rac', 'wam', 'umd', 'edu', 'organization', 'university', 'of', 'maryland', 'college', 'park', 'lines', 'was', 'wondering', 'if', 'anyone', 'out', 'there', 'could', 'enlighten', 'me', 'on', 'this', 'car', 'saw', 'the', 'other', 'day', 'it', 'was', 'door', 'sports', 'car', 'looked', 'to', 'be', 'from', 'the', 'late', 'early', 'it', 'was', 'called', 'bricklin', 'the', 'doors', 'were', 'really', 'small', 'in', 'addition', 'the', 'front', 'bumper', 'was', 'separate', 'from', 'the', 'rest', 'of', 'the', 'body', 'this', 'is', 'all', 'know', 'if', 'anyone', 'can', 'tellme', 'model', 'name', 'engine', 'specs', 'years', 'of', 'production', 'where', 'this', 'car', 'is', 'made', 'history', 'or', 'whatever', 'info', 'you', 'have', 'on', 'this', 'funky', 'looking', 'car', 'please', 'mail', 'thanks', 'il', 'brought', 'to', 'you', 'by', 'your', 'neighborhood', 'lerxst']\n"
     ]
    }
   ],
   "source": [
    "print(data_words[0])"
   ]
  },
  {
   "cell_type": "markdown",
   "id": "9995bb6a",
   "metadata": {},
   "source": [
    "- Para extraer los tópicos de un conjunto de documentos, puede ser muy relevante añadir \"conceptos\" (palabras de más de 1 token) a nuestro vocabulario. Por lo tanto guardaremos tambien los \"bigrams\" y \"trigrams\" más frecuentes."
   ]
  },
  {
   "cell_type": "code",
   "execution_count": 92,
   "id": "f90137b0",
   "metadata": {},
   "outputs": [],
   "source": [
    "# Build the bigram and trigram models\n",
    "bigram = gensim.models.Phrases(data_words, min_count=5, threshold=100) # higher threshold fewer phrases.\n",
    "trigram = gensim.models.Phrases(bigram[data_words], threshold=100)  \n",
    "\n",
    "# Faster way to get a sentence clubbed as a trigram/bigram\n",
    "bigram_mod = gensim.models.phrases.Phraser(bigram)\n",
    "trigram_mod = gensim.models.phrases.Phraser(trigram)"
   ]
  },
  {
   "cell_type": "code",
   "execution_count": 96,
   "id": "cdf8e8f3",
   "metadata": {},
   "outputs": [
    {
     "name": "stdout",
     "output_type": "stream",
     "text": [
      "['from', 'allen', 'subject', 're', 'tiff_philosophical_significance', 'of', 'organization', 'purdue_university', 'lines', 'in', 'article', 'martin_preston', 'writes', 'why', 'not', 'use', 'the', 'pd', 'library', 'for', 'reading', 'writing', 'tiff', 'files', 'it', 'took', 'me', 'good', 'minutes', 'to', 'start', 'using', 'them', 'in', 'your', 'own', 'app', 'certainly', 'do', 'use', 'it', 'whenever', 'have', 'to', 'do', 'tiff', 'and', 'it', 'usually', 'works', 'very', 'well', 'thats', 'not', 'my', 'point', 'im', 'philosophically', 'opposed', 'to', 'it', 'because', 'of', 'its', 'complexity', 'this', 'complexity', 'has', 'led', 'to', 'some', 'programs', 'poor', 'tiff', 'writers', 'making', 'some', 'very', 'bizarre', 'files', 'other', 'programs', 'inability', 'to', 'load', 'tiff', 'images', 'though', 'theyll', 'save', 'them', 'of', 'course', 'and', 'general', 'inability', 'to', 'interchange', 'images', 'between', 'different', 'environments', 'despite', 'the', 'fact', 'they', 'all', 'think', 'they', 'understand', 'tiff', 'as', 'the', 'saying', 'goes', 'its', 'not', 'me', 'im', 'worried', 'about', 'its', 'all', 'the', 'other', 'assholes', 'out', 'there', 'ive', 'had', 'big', 'trouble', 'with', 'misuse', 'and', 'abuse', 'of', 'tiff', 'over', 'the', 'years', 'and', 'chalk', 'it', 'all', 'up', 'to', 'the', 'immense', 'and', 'unnecessary', 'complexity', 'of', 'the', 'format', 'in', 'the', 'words', 'of', 'the', 'tiff', 'spec', 'appendix', 'page', 'capitalized', 'emphasis', 'mine', 'the', 'only', 'problem', 'with', 'this', 'sort', 'of', 'success', 'is', 'that', 'tiff', 'was', 'designed', 'to', 'be', 'powerful', 'and', 'flexible', 'at', 'the', 'expense', 'of', 'simplicity', 'it', 'takes', 'fair_amount', 'of', 'effort', 'to', 'handle', 'all', 'the', 'options', 'currently', 'defined', 'in', 'this', 'specification', 'probably', 'no', 'application', 'does', 'complete', 'job', 'and', 'that', 'is', 'currently', 'the', 'only', 'way', 'you', 'can', 'be', 'sure', 'that', 'you', 'will', 'be', 'able', 'to', 'import', 'any', 'tiff', 'image', 'since', 'there', 'are', 'so', 'many', 'image', 'generating', 'applications', 'out', 'there', 'now', 'if', 'program', 'or', 'worse', 'all', 'applications', 'cant', 'read', 'every', 'tiff', 'image', 'that', 'means', 'there', 'are', 'some', 'it', 'wont', 'some', 'that', 'might', 'have', 'to', 'deal', 'with', 'why', 'would', 'want', 'my', 'images', 'to', 'be', 'trapped', 'in', 'that', 'format', 'dont', 'and', 'neither', 'should', 'anyone', 'who', 'agrees', 'with', 'my', 'reasoning', 'not', 'that', 'anyone', 'does', 'of', 'course', 'ab']\n"
     ]
    }
   ],
   "source": [
    "# See trigram example\n",
    "print(trigram_mod[bigram_mod[data_words[16]]])"
   ]
  },
  {
   "cell_type": "code",
   "execution_count": 97,
   "id": "21ef98db",
   "metadata": {},
   "outputs": [],
   "source": [
    "# Define functions for stopwords, bigrams, trigrams and lemmatization\n",
    "def remove_stopwords(texts):\n",
    "    return [[word for word in simple_preprocess(str(doc)) if word not in stop_words] for doc in texts]\n",
    "\n",
    "def make_bigrams(texts):\n",
    "    return [bigram_mod[doc] for doc in texts]\n",
    "\n",
    "def make_trigrams(texts):\n",
    "    return [trigram_mod[bigram_mod[doc]] for doc in texts]\n",
    "\n",
    "def lemmatization(texts, allowed_postags=['NOUN', 'ADJ', 'VERB', 'ADV']):\n",
    "    \"\"\"https://spacy.io/api/annotation\"\"\"\n",
    "    texts_out = []\n",
    "    for sent in texts:\n",
    "        doc = nlp(\" \".join(sent)) \n",
    "        texts_out.append([token.lemma_ for token in doc if token.pos_ in allowed_postags])\n",
    "    return texts_out"
   ]
  },
  {
   "cell_type": "markdown",
   "id": "838fb242",
   "metadata": {},
   "source": [
    "- Se aplican las funciones para suprimir stopwords, añadir bigrams y lematizar las palabras con los modelos de spacy"
   ]
  },
  {
   "cell_type": "code",
   "execution_count": 98,
   "id": "d4168aaa",
   "metadata": {},
   "outputs": [
    {
     "name": "stdout",
     "output_type": "stream",
     "text": [
      "['where', 's', 'thing', 'car', 'nntp_poste', 'host', 'rac_wam', 'umd', 'organization', 'university', 'park', 'line', 'wonder', 'enlighten', 'car', 'saw', 'day', 'door', 'sport', 'car', 'look', 'late', 'early', 'call', 'bricklin', 'door', 'really', 'small', 'addition', 'separate', 'rest', 'body', 'know', 'tellme', 'model', 'name', 'engine', 'spec', 'year', 'production', 'car', 'make', 'history', 'info', 'funky', 'look', 'car', 'mail', 'thank', 'bring', 'neighborhood', 'lerxst']\n"
     ]
    }
   ],
   "source": [
    "# Remove Stop Words\n",
    "data_words_nostops = remove_stopwords(data_words)\n",
    "\n",
    "# Form Bigrams\n",
    "data_words_bigrams = make_bigrams(data_words_nostops)\n",
    "\n",
    "# Initialize spacy 'en' model, keeping only tagger component (for efficiency)\n",
    "# python3 -m spacy download en\n",
    "nlp = spacy.load('en_core_web_sm', disable=['parser', 'ner'])\n",
    "\n",
    "# Do lemmatization keeping only noun, adj, vb, adv\n",
    "data_lemmatized = lemmatization(data_words_bigrams, allowed_postags=['NOUN', 'ADJ', 'VERB', 'ADV'])"
   ]
  },
  {
   "cell_type": "code",
   "execution_count": 100,
   "id": "945461d2",
   "metadata": {},
   "outputs": [
    {
     "name": "stdout",
     "output_type": "stream",
     "text": [
      "['si', 'clock', 'poll', 'final', 'call', 'summary', 'final', 'call', 'si', 'clock', 'report', 'keyword', 'acceleration', 'clock', 'upgrade', 'article', 'shelley', 'qvfo', 'innc', 'organization', 'university', 'washington', 'line', 'nntp_poste', 'host', 'fair', 'number', 'brave', 'soul', 'upgrade', 'clock', 'oscillator', 'share', 'experience', 'poll', 'send', 'brief', 'message', 'detail', 'experience', 'procedure', 'top', 'speed', 'attain', 'cpu', 'rate', 'speed', 'add', 'card', 'adapter', 'heat_sink', 'hour', 'usage', 'day', 'floppy_disk', 'functionality', 'floppy', 'especially', 'request', 'summarize', 'day', 'add', 'network', 'knowledge', 'base', 'do', 'clock', 'upgrade', 'have', 'answer', 'poll', 'thank']\n"
     ]
    }
   ],
   "source": [
    "print(data_lemmatized[1])"
   ]
  },
  {
   "cell_type": "markdown",
   "id": "69a4bd13",
   "metadata": {},
   "source": [
    "### 3. Preparar los datos de input de LDA\n",
    "\n",
    "los datos de input principales de LDA son: un diccionario (id2word) y nuestro dataset preprocesado (data_lemmatized)."
   ]
  },
  {
   "cell_type": "code",
   "execution_count": 103,
   "id": "ddc35014",
   "metadata": {},
   "outputs": [
    {
     "data": {
      "text/plain": [
       "<gensim.corpora.dictionary.Dictionary at 0x7f00ac22cac0>"
      ]
     },
     "execution_count": 103,
     "metadata": {},
     "output_type": "execute_result"
    }
   ],
   "source": [
    "# Create Dictionary\n",
    "id2word = corpora.Dictionary(data_lemmatized)\n",
    "id2word"
   ]
  },
  {
   "cell_type": "markdown",
   "id": "260587a3",
   "metadata": {},
   "source": [
    "- Se asigna una ID a cada palabra (o concepto) del vocabulario"
   ]
  },
  {
   "cell_type": "code",
   "execution_count": 107,
   "id": "5b094c83",
   "metadata": {},
   "outputs": [
    {
     "data": {
      "text/plain": [
       "'addition'"
      ]
     },
     "execution_count": 107,
     "metadata": {},
     "output_type": "execute_result"
    }
   ],
   "source": [
    "id2word[0]"
   ]
  },
  {
   "cell_type": "code",
   "execution_count": 108,
   "id": "af5334c9",
   "metadata": {},
   "outputs": [],
   "source": [
    "# Create Corpus\n",
    "texts = data_lemmatized"
   ]
  },
  {
   "cell_type": "markdown",
   "id": "ed87cbc2",
   "metadata": {},
   "source": [
    "- Se crea una representación \"Bag of words\" del dataset como input de LDA.\n",
    "\n",
    "Nota Bene: existen implementaciones de LDA que reciben como input representaciones con \"Word Embedding\". Ver por ejemplo: https://towardsdatascience.com/combing-lda-and-word-embeddings-for-topic-modeling-fe4a1315a5b4 "
   ]
  },
  {
   "cell_type": "code",
   "execution_count": 109,
   "id": "caa7c9ae",
   "metadata": {},
   "outputs": [
    {
     "name": "stdout",
     "output_type": "stream",
     "text": [
      "[[(0, 1), (1, 1), (2, 1), (3, 1), (4, 1), (5, 5), (6, 1), (7, 2), (8, 1), (9, 1), (10, 1), (11, 1), (12, 1), (13, 1), (14, 1), (15, 1), (16, 1), (17, 1), (18, 1), (19, 2), (20, 1), (21, 1), (22, 1), (23, 1), (24, 1), (25, 1), (26, 1), (27, 1), (28, 1), (29, 1), (30, 1), (31, 1), (32, 1), (33, 1), (34, 1), (35, 1), (36, 1), (37, 1), (38, 1), (39, 1), (40, 1), (41, 1), (42, 1), (43, 1), (44, 1), (45, 1)]]\n"
     ]
    }
   ],
   "source": [
    "# Term Document Frequency\n",
    "corpus = [id2word.doc2bow(text) for text in texts]\n",
    "\n",
    "# View\n",
    "print(corpus[:1])"
   ]
  },
  {
   "cell_type": "code",
   "execution_count": 112,
   "id": "0d4f28da",
   "metadata": {},
   "outputs": [
    {
     "data": {
      "text/plain": [
       "[[('addition', 1),\n",
       "  ('body', 1),\n",
       "  ('bricklin', 1),\n",
       "  ('bring', 1),\n",
       "  ('call', 1),\n",
       "  ('car', 5),\n",
       "  ('day', 1),\n",
       "  ('door', 2),\n",
       "  ('early', 1),\n",
       "  ('engine', 1),\n",
       "  ('enlighten', 1),\n",
       "  ('funky', 1),\n",
       "  ('history', 1),\n",
       "  ('host', 1),\n",
       "  ('info', 1),\n",
       "  ('know', 1),\n",
       "  ('late', 1),\n",
       "  ('lerxst', 1),\n",
       "  ('line', 1),\n",
       "  ('look', 2),\n",
       "  ('mail', 1),\n",
       "  ('make', 1),\n",
       "  ('model', 1),\n",
       "  ('name', 1),\n",
       "  ('neighborhood', 1),\n",
       "  ('nntp_poste', 1),\n",
       "  ('organization', 1),\n",
       "  ('park', 1),\n",
       "  ('production', 1),\n",
       "  ('rac_wam', 1),\n",
       "  ('really', 1),\n",
       "  ('rest', 1),\n",
       "  ('s', 1),\n",
       "  ('saw', 1),\n",
       "  ('separate', 1),\n",
       "  ('small', 1),\n",
       "  ('spec', 1),\n",
       "  ('sport', 1),\n",
       "  ('tellme', 1),\n",
       "  ('thank', 1),\n",
       "  ('thing', 1),\n",
       "  ('umd', 1),\n",
       "  ('university', 1),\n",
       "  ('where', 1),\n",
       "  ('wonder', 1),\n",
       "  ('year', 1)]]"
      ]
     },
     "execution_count": 112,
     "metadata": {},
     "output_type": "execute_result"
    }
   ],
   "source": [
    "# Human readable format of corpus (term-frequency)\n",
    "[[(id2word[id], freq) for id, freq in cp] for cp in corpus[:1]]"
   ]
  },
  {
   "cell_type": "markdown",
   "id": "7c9158ae",
   "metadata": {},
   "source": [
    "### 4. Entrenamiento del modelo de tópico con LDA\n",
    "\n",
    "- Entrenaremos un primer modelo de tópicos buscando un modelo con 20 tópicos. "
   ]
  },
  {
   "cell_type": "code",
   "execution_count": 113,
   "id": "396579da",
   "metadata": {},
   "outputs": [],
   "source": [
    "# Build LDA model\n",
    "lda_model = gensim.models.ldamodel.LdaModel(corpus=corpus,\n",
    "                                           id2word=id2word,\n",
    "                                           num_topics=20, \n",
    "                                           random_state=100,\n",
    "                                           update_every=1,\n",
    "                                           chunksize=100,\n",
    "                                           passes=10,\n",
    "                                           alpha='auto',\n",
    "                                           per_word_topics=True)"
   ]
  },
  {
   "cell_type": "markdown",
   "id": "4d0c8f8b",
   "metadata": {},
   "source": [
    "### 5. Visualizar los tópicos encontrados"
   ]
  },
  {
   "cell_type": "code",
   "execution_count": 121,
   "id": "83eabae9",
   "metadata": {},
   "outputs": [
    {
     "name": "stdout",
     "output_type": "stream",
     "text": [
      "[(0,\n",
      "  '0.587*\"ax\" + 0.097*\"_\" + 0.047*\"max\" + 0.020*\"screen\" + 0.013*\"mouse\" + '\n",
      "  '0.008*\"mr\" + 0.007*\"modem\" + 0.006*\"el\" + 0.005*\"cds\" + 0.005*\"honda\" + '\n",
      "  '0.005*\"ex\" + 0.004*\"default\" + 0.004*\"ron\" + 0.004*\"charle\" + 0.004*\"sam\" + '\n",
      "  '0.003*\"film\" + 0.003*\"m\" + 0.003*\"stable\" + 0.003*\"fancy\" + 0.003*\"plot\" + '\n",
      "  '0.002*\"buffer\" + 0.002*\"ins_cwru\" + 0.002*\"mailing_list\" + 0.002*\"bolt\" + '\n",
      "  '0.002*\"catalog\"'),\n",
      " (1,\n",
      "  '0.079*\"key\" + 0.041*\"chip\" + 0.022*\"encryption\" + 0.021*\"server\" + '\n",
      "  '0.019*\"technology\" + 0.019*\"security\" + 0.018*\"clipper\" + 0.016*\"algorithm\" '\n",
      "  '+ 0.016*\"controller\" + 0.015*\"system\" + 0.014*\"bit\" + 0.013*\"secure\" + '\n",
      "  '0.012*\"tap\" + 0.012*\"clipper_chip\" + 0.012*\"public\" + 0.012*\"secret\" + '\n",
      "  '0.012*\"agency\" + 0.012*\"communication\" + 0.012*\"trust\" + 0.011*\"block\" + '\n",
      "  '0.011*\"government\" + 0.011*\"information\" + 0.011*\"datum\" + 0.011*\"message\" '\n",
      "  '+ 0.010*\"use\"'),\n",
      " (2,\n",
      "  '0.033*\"self\" + 0.028*\"normal\" + 0.024*\"son\" + 0.023*\"proof\" + '\n",
      "  '0.023*\"father\" + 0.022*\"alone\" + 0.021*\"muslim\" + 0.020*\"islam\" + '\n",
      "  '0.019*\"iran\" + 0.019*\"vote\" + 0.015*\"concern\" + 0.015*\"helmet\" + '\n",
      "  '0.015*\"imply\" + 0.014*\"specify\" + 0.014*\"planet\" + 0.014*\"economic\" + '\n",
      "  '0.014*\"concerned\" + 0.013*\"observation\" + 0.013*\"devil\" + 0.012*\"task\" + '\n",
      "  '0.012*\"ban\" + 0.012*\"islamic\" + 0.011*\"strip\" + 0.011*\"soul\" + '\n",
      "  '0.011*\"relation\"'),\n",
      " (3,\n",
      "  '0.033*\"people\" + 0.018*\"state\" + 0.015*\"right\" + 0.012*\"israel\" + '\n",
      "  '0.011*\"group\" + 0.011*\"government\" + 0.010*\"issue\" + 0.008*\"death\" + '\n",
      "  '0.008*\"kill\" + 0.008*\"case\" + 0.007*\"american\" + 0.007*\"live\" + '\n",
      "  '0.007*\"force\" + 0.007*\"whole\" + 0.007*\"die\" + 0.007*\"rule\" + '\n",
      "  '0.007*\"israeli\" + 0.006*\"discussion\" + 0.006*\"many\" + 0.006*\"country\" + '\n",
      "  '0.006*\"fact\" + 0.006*\"year\" + 0.006*\"church\" + 0.006*\"world\" + '\n",
      "  '0.006*\"member\"'),\n",
      " (4,\n",
      "  '0.030*\"trivial\" + 0.021*\"allen\" + 0.018*\"click\" + 0.016*\"ms_window\" + '\n",
      "  '0.004*\"rude\" + 0.000*\"sphere\" + 0.000*\"steven\" + 0.000*\"hitachi\" + '\n",
      "  '0.000*\"central\" + 0.000*\"circle\" + 0.000*\"geometry\" + 0.000*\"loss\" + '\n",
      "  '0.000*\"straightforward\" + 0.000*\"embarasse\" + 0.000*\"farin\" + '\n",
      "  '0.000*\"exactly_fitting\" + 0.000*\"researcher\" + 0.000*\"hyper\" + '\n",
      "  '0.000*\"tokyo\" + 0.000*\"hcrlgw\" + 0.000*\"equi\" + 0.000*\"specifie\" + '\n",
      "  '0.000*\"phil\" + 0.000*\"infinitely\" + 0.000*\"familiar\"'),\n",
      " (5,\n",
      "  '0.070*\"gun\" + 0.025*\"crime\" + 0.023*\"police\" + 0.022*\"weapon\" + '\n",
      "  '0.022*\"firearm\" + 0.019*\"safety\" + 0.018*\"rsa\" + 0.016*\"fire\" + '\n",
      "  '0.016*\"weight\" + 0.016*\"rate\" + 0.015*\"arm\" + 0.015*\"cop\" + '\n",
      "  '0.015*\"terrorism\" + 0.015*\"criminal\" + 0.014*\"significant\" + '\n",
      "  '0.014*\"particularly\" + 0.014*\"carry\" + 0.013*\"license\" + 0.012*\"effective\" '\n",
      "  '+ 0.012*\"impact\" + 0.012*\"shoot\" + 0.012*\"united_state\" + 0.012*\"cub\" + '\n",
      "  '0.011*\"prior\" + 0.011*\"increase\"'),\n",
      " (6,\n",
      "  '0.089*\"law\" + 0.043*\"public\" + 0.032*\"suggest\" + 0.024*\"bill\" + '\n",
      "  '0.023*\"ride\" + 0.022*\"clinton\" + 0.020*\"legal\" + 0.020*\"private\" + '\n",
      "  '0.018*\"community\" + 0.017*\"pgp\" + 0.016*\"ignore\" + 0.014*\"tax\" + '\n",
      "  '0.014*\"federal\" + 0.014*\"congress\" + 0.013*\"rider\" + 0.013*\"cycle\" + '\n",
      "  '0.013*\"homosexual\" + 0.012*\"administration\" + 0.011*\"court\" + '\n",
      "  '0.011*\"obtain\" + 0.009*\"industry\" + 0.009*\"legitimate\" + 0.009*\"solid\" + '\n",
      "  '0.009*\"concern\" + 0.008*\"sentence\"'),\n",
      " (7,\n",
      "  '0.037*\"report\" + 0.030*\"test\" + 0.026*\"patient\" + 0.021*\"study\" + '\n",
      "  '0.020*\"section\" + 0.017*\"publish\" + 0.016*\"review\" + 0.015*\"research\" + '\n",
      "  '0.014*\"april\" + 0.014*\"information\" + 0.014*\"national\" + 0.014*\"paper\" + '\n",
      "  '0.014*\"disease\" + 0.013*\"college\" + 0.013*\"health\" + 0.013*\"effect\" + '\n",
      "  '0.012*\"headache\" + 0.012*\"scientific\" + 0.012*\"service\" + 0.012*\"univ\" + '\n",
      "  '0.012*\"page\" + 0.012*\"special\" + 0.011*\"treatment\" + 0.010*\"possibly\" + '\n",
      "  '0.010*\"doctor\"'),\n",
      " (8,\n",
      "  '0.036*\"team\" + 0.036*\"game\" + 0.030*\"year\" + 0.025*\"win\" + 0.023*\"play\" + '\n",
      "  '0.017*\"player\" + 0.016*\"internet\" + 0.011*\"season\" + 0.011*\"division\" + '\n",
      "  '0.011*\"master\" + 0.011*\"fan\" + 0.010*\"canada\" + 0.010*\"run\" + 0.010*\"last\" '\n",
      "  '+ 0.009*\"miss\" + 0.009*\"first\" + 0.009*\"series\" + 0.009*\"trade\" + '\n",
      "  '0.009*\"nhl\" + 0.009*\"goal\" + 0.009*\"cool\" + 0.008*\"score\" + 0.008*\"mike\" + '\n",
      "  '0.008*\"lose\" + 0.008*\"scott\"'),\n",
      " (9,\n",
      "  '0.023*\"god\" + 0.021*\"say\" + 0.018*\"believe\" + 0.016*\"evidence\" + '\n",
      "  '0.016*\"reason\" + 0.013*\"christian\" + 0.011*\"claim\" + 0.011*\"man\" + '\n",
      "  '0.011*\"point\" + 0.010*\"think\" + 0.009*\"sense\" + 0.009*\"people\" + '\n",
      "  '0.009*\"question\" + 0.009*\"exist\" + 0.008*\"mean\" + 0.008*\"true\" + '\n",
      "  '0.008*\"book\" + 0.008*\"faith\" + 0.007*\"life\" + 0.007*\"many\" + 0.007*\"know\" + '\n",
      "  '0.007*\"word\" + 0.007*\"make\" + 0.007*\"see\" + 0.007*\"thing\"'),\n",
      " (10,\n",
      "  '0.094*\"video\" + 0.049*\"route\" + 0.049*\"mhz\" + 0.039*\"md\" + 0.029*\"zone\" + '\n",
      "  '0.022*\"km\" + 0.017*\"radius\" + 0.017*\"rs\" + 0.017*\"pop\" + '\n",
      "  '0.014*\"recommendation\" + 0.012*\"suck\" + 0.012*\"paint\" + 0.010*\"variation\" + '\n",
      "  '0.007*\"axis\" + 0.007*\"n\" + 0.006*\"ducati\" + 0.006*\"smartdrv\" + '\n",
      "  '0.006*\"adjust\" + 0.005*\"minimal\" + 0.005*\"developer\" + 0.005*\"space_dig\" + '\n",
      "  '0.005*\"thick\" + 0.005*\"added_forwarde\" + 0.003*\"bk\" + 0.003*\"sez\"'),\n",
      " (11,\n",
      "  '0.100*\"apple\" + 0.043*\"multiple\" + 0.025*\"reflect\" + 0.010*\"fuzzy\" + '\n",
      "  '0.008*\"absurd\" + 0.005*\"judaism\" + 0.004*\"ibm_pc\" + 0.004*\"cart\" + '\n",
      "  '0.000*\"centris\" + 0.000*\"cd\" + 0.000*\"sleeve\" + 0.000*\"fpu\" + '\n",
      "  '0.000*\"promo_picture\" + 0.000*\"math_coprocessor\" + 0.000*\"keyboard\" + '\n",
      "  '0.000*\"ship\" + 0.000*\"ethernet\" + 0.000*\"christian_bauer\" + '\n",
      "  '0.000*\"doublespin\" + 0.000*\"chung\" + 0.000*\"bootable\" + 0.000*\"thompson\" + '\n",
      "  '0.000*\"lc\" + 0.000*\"sleeve_beach\" + 0.000*\"capitol_picture\"'),\n",
      " (12,\n",
      "  '0.053*\"armenian\" + 0.041*\"greek\" + 0.039*\"soldier\" + 0.039*\"village\" + '\n",
      "  '0.033*\"turk\" + 0.027*\"turkish\" + 0.023*\"occupy\" + 0.021*\"turkey\" + '\n",
      "  '0.013*\"escape\" + 0.012*\"armenia\" + 0.011*\"preach\" + 0.011*\"massacre\" + '\n",
      "  '0.011*\"genocide\" + 0.011*\"moslem\" + 0.010*\"russian\" + 0.010*\"soviet\" + '\n",
      "  '0.009*\"slaughter\" + 0.009*\"proceed\" + 0.009*\"kill\" + 0.008*\"netcom\" + '\n",
      "  '0.008*\"wwii\" + 0.008*\"close\" + 0.007*\"kurd\" + 0.007*\"woman\" + '\n",
      "  '0.007*\"occupation\"'),\n",
      " (13,\n",
      "  '0.060*\"car\" + 0.039*\"price\" + 0.039*\"sale\" + 0.036*\"sell\" + 0.027*\"model\" + '\n",
      "  '0.022*\"school\" + 0.022*\"buy\" + 0.021*\"distribution_na\" + '\n",
      "  '0.018*\"distribution\" + 0.017*\"corporation\" + 0.017*\"drive\" + 0.017*\"brain\" '\n",
      "  '+ 0.016*\"engine\" + 0.015*\"replace\" + 0.013*\"eat\" + 0.013*\"direct\" + '\n",
      "  '0.012*\"illinois\" + 0.012*\"corp\" + 0.011*\"mile\" + 0.011*\"steal\" + '\n",
      "  '0.011*\"dealer\" + 0.011*\"track\" + 0.010*\"unit\" + 0.010*\"radio\" + '\n",
      "  '0.010*\"hole\"'),\n",
      " (14,\n",
      "  '0.021*\"system\" + 0.019*\"use\" + 0.016*\"window\" + 0.015*\"mail\" + '\n",
      "  '0.015*\"program\" + 0.014*\"file\" + 0.014*\"thank\" + 0.012*\"computer\" + '\n",
      "  '0.011*\"card\" + 0.011*\"line\" + 0.010*\"run\" + 0.010*\"include\" + '\n",
      "  '0.009*\"software\" + 0.009*\"driver\" + 0.009*\"also\" + 0.008*\"available\" + '\n",
      "  '0.008*\"email\" + 0.008*\"machine\" + 0.008*\"send\" + 0.008*\"mac\" + 0.008*\"need\" '\n",
      "  '+ 0.008*\"set\" + 0.008*\"problem\" + 0.008*\"information\" + 0.008*\"info\"'),\n",
      " (15,\n",
      "  '0.030*\"line\" + 0.030*\"organization\" + 0.025*\"write\" + 0.024*\"do\" + '\n",
      "  '0.019*\"article\" + 0.018*\"get\" + 0.014*\"go\" + 0.013*\"know\" + '\n",
      "  '0.012*\"nntp_poste\" + 0.011*\"make\" + 0.011*\"time\" + 0.011*\"university\" + '\n",
      "  '0.010*\"good\" + 0.010*\"host\" + 0.010*\"m\" + 0.010*\"think\" + 0.010*\"well\" + '\n",
      "  '0.009*\"see\" + 0.008*\"want\" + 0.008*\"s\" + 0.007*\"say\" + 0.007*\"take\" + '\n",
      "  '0.007*\"look\" + 0.006*\"work\" + 0.006*\"much\"'),\n",
      " (16,\n",
      "  '0.082*\"space\" + 0.025*\"pa\" + 0.023*\"earth\" + 0.020*\"launch\" + 0.019*\"moon\" '\n",
      "  '+ 0.018*\"nasa\" + 0.018*\"mission\" + 0.017*\"orbit\" + 0.015*\"satellite\" + '\n",
      "  '0.013*\"resource\" + 0.013*\"plane\" + 0.013*\"mar\" + 0.012*\"flight\" + '\n",
      "  '0.011*\"research\" + 0.011*\"pub\" + 0.010*\"sci\" + 0.010*\"rocket\" + '\n",
      "  '0.010*\"project\" + 0.010*\"dan\" + 0.009*\"astronomy\" + 0.009*\"shuttle\" + '\n",
      "  '0.009*\"collin\" + 0.008*\"science\" + 0.008*\"sky\" + 0.008*\"image\"'),\n",
      " (17,\n",
      "  '0.079*\"physical\" + 0.062*\"pin\" + 0.041*\"character\" + 0.038*\"wing\" + '\n",
      "  '0.035*\"motif\" + 0.029*\"medium\" + 0.026*\"processor\" + 0.025*\"richard\" + '\n",
      "  '0.015*\"insert\" + 0.015*\"kevin\" + 0.015*\"adam\" + 0.015*\"roger\" + '\n",
      "  '0.014*\"related\" + 0.013*\"receiver\" + 0.013*\"uk\" + 0.011*\"human_being\" + '\n",
      "  '0.011*\"speaker\" + 0.011*\"obtain\" + 0.010*\"sys\" + 0.009*\"tel\" + 0.009*\"tip\" '\n",
      "  '+ 0.009*\"england\" + 0.009*\"kit\" + 0.008*\"qualified\" + 0.008*\"rom\"'),\n",
      " (18,\n",
      "  '0.077*\"david\" + 0.068*\"graphic\" + 0.060*\"display\" + 0.039*\"paul\" + '\n",
      "  '0.030*\"texas\" + 0.022*\"workstation\" + 0.019*\"wave\" + 0.017*\"russia\" + '\n",
      "  '0.016*\"bar\" + 0.015*\"consequence\" + 0.014*\"please_respond\" + '\n",
      "  '0.014*\"virginia\" + 0.014*\"amp\" + 0.013*\"expand\" + 0.012*\"saturday\" + '\n",
      "  '0.011*\"programmer\" + 0.009*\"soft\" + 0.009*\"fi\" + 0.009*\"austin\" + '\n",
      "  '0.009*\"ken\" + 0.009*\"impressive\" + 0.009*\"mix\" + 0.008*\"exposure\" + '\n",
      "  '0.008*\"scare\" + 0.007*\"scope\"'),\n",
      " (19,\n",
      "  '0.250*\"drive\" + 0.065*\"scsi\" + 0.042*\"ide\" + 0.029*\"circuit\" + 0.024*\"mb\" + '\n",
      "  '0.020*\"device\" + 0.017*\"quadra\" + 0.014*\"dale\" + 0.014*\"stream\" + '\n",
      "  '0.014*\"interface\" + 0.010*\"voltage\" + 0.010*\"speed\" + 0.010*\"suitable\" + '\n",
      "  '0.009*\"mac\" + 0.007*\"bell_lab\" + 0.007*\"fast\" + 0.006*\"converter\" + '\n",
      "  '0.006*\"chip\" + 0.005*\"esdi\" + 0.004*\"acquisition\" + 0.004*\"wide\" + '\n",
      "  '0.004*\"checking\" + 0.004*\"mode\" + 0.003*\"synchronous\" + 0.003*\"bit\"')]\n"
     ]
    }
   ],
   "source": [
    "# Print the Keyword in the 20 topics\n",
    "pprint(lda_model.print_topics(num_words=25))\n"
   ]
  },
  {
   "cell_type": "code",
   "execution_count": 26,
   "id": "cba8725c",
   "metadata": {},
   "outputs": [
    {
     "data": {
      "text/html": [
       "\n",
       "<link rel=\"stylesheet\" type=\"text/css\" href=\"https://cdn.jsdelivr.net/gh/bmabey/pyLDAvis@3.3.1/pyLDAvis/js/ldavis.v1.0.0.css\">\n",
       "\n",
       "\n",
       "<div id=\"ldavis_el45171396407091138882959276095\"></div>\n",
       "<script type=\"text/javascript\">\n",
       "\n",
       "var ldavis_el45171396407091138882959276095_data = {\"mdsDat\": {\"x\": [-0.38021027474726854, -0.27970938210911167, -0.3363513806690378, -0.29316604586376627, 0.013248397816653356, -0.11849823058300625, -0.018359208040150433, -0.039472961093764795, 0.024024513532112476, 0.023623422616848737, 0.07740546867223615, 0.08443845702408326, 0.12132548340254501, 0.10250558486993666, 0.15337958942584506, 0.14239618077838145, 0.14859711324899244, 0.1787936438709588, 0.19575946569120384, 0.20027016215630897], \"y\": [-0.05918535117551122, 0.2529367456119876, -0.09187844884446156, -0.10815865580044007, -0.08593057280603678, -0.16795591971174184, 0.011658315464374562, 0.2595235259715401, 0.06540597421858918, 0.0897293806631416, -0.0042688696426171485, 0.0392559697979865, -0.014353294974341683, -0.0692892731793863, -0.035469663444618084, -0.03496661200434954, 0.026361325743979, -0.027760627598064906, -0.02340161738278365, -0.02225233090724508], \"topics\": [1, 2, 3, 4, 5, 6, 7, 8, 9, 10, 11, 12, 13, 14, 15, 16, 17, 18, 19, 20], \"cluster\": [1, 1, 1, 1, 1, 1, 1, 1, 1, 1, 1, 1, 1, 1, 1, 1, 1, 1, 1, 1], \"Freq\": [37.33615970003874, 12.675935042514993, 12.189029365624155, 10.96135774249143, 5.634582127764388, 4.905025681563523, 2.559531103041147, 2.434722324524517, 2.319596225808684, 1.6096655374652906, 1.5120564614634844, 1.3931836588953395, 1.0715272447578554, 0.9682441049672964, 0.7296432690911001, 0.6947628649222448, 0.49145204677044735, 0.34141645388830716, 0.12048200663950345, 0.05162703776754721]}, \"tinfo\": {\"Term\": [\"ax\", \"_\", \"organization\", \"line\", \"drive\", \"people\", \"write\", \"max\", \"key\", \"article\", \"do\", \"year\", \"system\", \"god\", \"say\", \"use\", \"space\", \"get\", \"law\", \"team\", \"game\", \"car\", \"go\", \"believe\", \"state\", \"gun\", \"know\", \"right\", \"think\", \"evidence\", \"article\", \"go\", \"s\", \"ve\", \"back\", \"re\", \"bad\", \"hear\", \"lot\", \"probably\", \"maybe\", \"money\", \"ill\", \"remember\", \"turn\", \"sound\", \"face\", \"guess\", \"friend\", \"bike\", \"light\", \"pretty\", \"couple\", \"have\", \"cheap\", \"wonder\", \"stuff\", \"black\", \"tape\", \"nice\", \"write\", \"d\", \"put\", \"organization\", \"nntp_poste\", \"get\", \"want\", \"do\", \"m\", \"sure\", \"much\", \"really\", \"line\", \"host\", \"well\", \"time\", \"look\", \"know\", \"university\", \"good\", \"reply\", \"make\", \"see\", \"think\", \"take\", \"try\", \"come\", \"work\", \"say\", \"thing\", \"way\", \"window\", \"mail\", \"file\", \"card\", \"software\", \"email\", \"machine\", \"info\", \"copy\", \"version\", \"cpu\", \"entry\", \"memory\", \"color\", \"application\", \"hardware\", \"disk\", \"appreciate\", \"instal\", \"scan\", \"input\", \"package\", \"format\", \"unix\", \"motherboard\", \"library\", \"digital\", \"port\", \"feature\", \"ibm\", \"fax\", \"board\", \"pc\", \"program\", \"computer\", \"mac\", \"driver\", \"available\", \"system\", \"mode\", \"thank\", \"address\", \"include\", \"use\", \"user\", \"source\", \"send\", \"set\", \"run\", \"information\", \"support\", \"bit\", \"line\", \"also\", \"need\", \"problem\", \"work\", \"god\", \"believe\", \"evidence\", \"christian\", \"claim\", \"sense\", \"faith\", \"bible\", \"religion\", \"argument\", \"accept\", \"explain\", \"truth\", \"belief\", \"atheist\", \"certain\", \"conclusion\", \"christianity\", \"reality\", \"christ\", \"indeed\", \"lie\", \"logic\", \"family\", \"notice\", \"revelation\", \"nature\", \"knowledge\", \"associate\", \"therefore\", \"word\", \"exist\", \"true\", \"reason\", \"man\", \"human\", \"prove\", \"life\", \"science\", \"speak\", \"book\", \"say\", \"point\", \"mean\", \"question\", \"think\", \"many\", \"people\", \"fact\", \"thing\", \"come\", \"see\", \"know\", \"make\", \"way\", \"israel\", \"death\", \"american\", \"force\", \"whole\", \"die\", \"israeli\", \"discussion\", \"country\", \"church\", \"member\", \"president\", \"drug\", \"jew\", \"grant\", \"thus\", \"arab\", \"jewish\", \"choice\", \"flame\", \"lord\", \"clearly\", \"serve\", \"refer\", \"peace\", \"america\", \"trial\", \"germany\", \"bomb\", \"freedom\", \"military\", \"policy\", \"action\", \"individual\", \"certainly\", \"war\", \"state\", \"kill\", \"issue\", \"people\", \"rule\", \"government\", \"situation\", \"right\", \"city\", \"group\", \"attack\", \"live\", \"case\", \"white\", \"child\", \"fact\", \"world\", \"many\", \"year\", \"say\", \"ax\", \"_\", \"max\", \"screen\", \"mouse\", \"modem\", \"el\", \"cds\", \"honda\", \"ex\", \"default\", \"ron\", \"charle\", \"sam\", \"film\", \"stable\", \"fancy\", \"plot\", \"buffer\", \"ins_cwru\", \"mailing_list\", \"bolt\", \"catalog\", \"tight\", \"subscription\", \"parameter\", \"gt\", \"dirt\", \"log\", \"pp\", \"mr\", \"m\", \"team\", \"game\", \"win\", \"play\", \"player\", \"internet\", \"season\", \"division\", \"master\", \"fan\", \"canada\", \"series\", \"trade\", \"nhl\", \"cool\", \"score\", \"mike\", \"scott\", \"michael\", \"dave\", \"chicago\", \"star\", \"boston\", \"air\", \"pen\", \"peter\", \"baseball\", \"blue\", \"manager\", \"van\", \"miss\", \"goal\", \"year\", \"lose\", \"last\", \"run\", \"first\", \"next\", \"patient\", \"publish\", \"review\", \"paper\", \"disease\", \"college\", \"health\", \"headache\", \"scientific\", \"univ\", \"treatment\", \"doctor\", \"letter\", \"medical\", \"btw\", \"ice\", \"benefit\", \"statistic\", \"detroit\", \"percent\", \"conference\", \"australia\", \"exchange\", \"confirm\", \"primary\", \"publication\", \"medicine\", \"newspaper\", \"journal\", \"minnesota\", \"test\", \"report\", \"section\", \"study\", \"analysis\", \"possibly\", \"special\", \"april\", \"effect\", \"page\", \"national\", \"research\", \"service\", \"information\", \"office\", \"key\", \"encryption\", \"server\", \"clipper\", \"algorithm\", \"controller\", \"secure\", \"tap\", \"clipper_chip\", \"secret\", \"agency\", \"communication\", \"trust\", \"nsa\", \"announcement\", \"crypto\", \"data\", \"mu\", \"facility\", \"archive\", \"register\", \"privacy\", \"prize\", \"mo\", \"export\", \"unknown\", \"scheme\", \"motorola\", \"warrant\", \"daniel\", \"chip\", \"security\", \"block\", \"technology\", \"public\", \"bit\", \"datum\", \"system\", \"message\", \"government\", \"information\", \"use\", \"phone\", \"car\", \"price\", \"sale\", \"sell\", \"model\", \"school\", \"distribution_na\", \"distribution\", \"corporation\", \"brain\", \"engine\", \"eat\", \"illinois\", \"corp\", \"mile\", \"dealer\", \"track\", \"hole\", \"warranty\", \"chris\", \"channel\", \"joseph\", \"dual\", \"oil\", \"co\", \"frame\", \"expansion\", \"daughter\", \"probe\", \"heat\", \"direct\", \"replace\", \"radio\", \"hot\", \"steal\", \"buy\", \"unit\", \"owner\", \"drive\", \"space\", \"pa\", \"launch\", \"moon\", \"nasa\", \"mission\", \"orbit\", \"satellite\", \"resource\", \"plane\", \"mar\", \"flight\", \"pub\", \"sci\", \"dan\", \"astronomy\", \"shuttle\", \"collin\", \"sky\", \"lunar\", \"radiation\", \"environmental\", \"solar\", \"space_station\", \"variable\", \"ozone\", \"extension\", \"sgi\", \"apollo\", \"planetary\", \"rocket\", \"earth\", \"fuel\", \"project\", \"nuclear\", \"surface\", \"research\", \"science\", \"image\", \"sun\", \"gun\", \"crime\", \"police\", \"weapon\", \"firearm\", \"rsa\", \"weight\", \"arm\", \"cop\", \"terrorism\", \"significant\", \"particularly\", \"effective\", \"impact\", \"united_state\", \"cub\", \"prior\", \"meeting\", \"inhabitant\", \"role\", \"consideration\", \"officer\", \"informed\", \"director\", \"regularly\", \"handgun\", \"ammunition\", \"threat\", \"effectively\", \"invite\", \"criminal\", \"safety\", \"fire\", \"license\", \"rate\", \"shoot\", \"carry\", \"increase\", \"public\", \"ride\", \"clinton\", \"legal\", \"pgp\", \"tax\", \"federal\", \"congress\", \"rider\", \"cycle\", \"homosexual\", \"administration\", \"legitimate\", \"solid\", \"panel\", \"restriction\", \"prohibit\", \"cryptography\", \"meaning\", \"regulation\", \"previously\", \"partner\", \"law\", \"cbr\", \"flow\", \"assure\", \"investment\", \"hmmm\", \"introduce\", \"july\", \"dumb\", \"suggest\", \"bill\", \"ignore\", \"public\", \"private\", \"community\", \"sentence\", \"obtain\", \"court\", \"industry\", \"concern\", \"break\", \"self\", \"normal\", \"son\", \"proof\", \"father\", \"alone\", \"islam\", \"iran\", \"vote\", \"helmet\", \"imply\", \"specify\", \"planet\", \"economic\", \"concerned\", \"observation\", \"devil\", \"task\", \"ban\", \"islamic\", \"strip\", \"soul\", \"relation\", \"remind\", \"spacecraft\", \"immediate\", \"green\", \"penalty\", \"assist\", \"attention\", \"muslim\", \"concern\", \"armenian\", \"village\", \"turk\", \"turkish\", \"occupy\", \"turkey\", \"escape\", \"armenia\", \"preach\", \"massacre\", \"genocide\", \"moslem\", \"soviet\", \"slaughter\", \"netcom\", \"kurd\", \"occupation\", \"republic\", \"services_gu\", \"holocaust\", \"survivor\", \"television\", \"serdar_argic\", \"longer_exist\", \"homeland\", \"remainder\", \"might_serve\", \"mountain_passe\", \"appressian\", \"melkonian\", \"greek\", \"soldier\", \"wwii\", \"proceed\", \"russian\", \"nazi\", \"troop\", \"kill\", \"woman\", \"close\", \"murder\", \"road\", \"david\", \"graphic\", \"display\", \"paul\", \"texas\", \"workstation\", \"wave\", \"russia\", \"bar\", \"consequence\", \"please_respond\", \"virginia\", \"amp\", \"expand\", \"saturday\", \"programmer\", \"soft\", \"austin\", \"impressive\", \"mix\", \"exposure\", \"scare\", \"scope\", \"platform\", \"kenneth\", \"harry\", \"winter\", \"thumb\", \"lance\", \"peripheral\", \"fi\", \"ken\", \"cold\", \"physical\", \"pin\", \"character\", \"wing\", \"motif\", \"medium\", \"processor\", \"richard\", \"insert\", \"kevin\", \"adam\", \"roger\", \"related\", \"receiver\", \"uk\", \"human_being\", \"speaker\", \"sys\", \"tel\", \"tip\", \"england\", \"kit\", \"qualified\", \"rom\", \"conservative\", \"positively\", \"ho\", \"deficit\", \"responce\", \"download\", \"obtain\", \"scsi\", \"ide\", \"circuit\", \"mb\", \"quadra\", \"dale\", \"stream\", \"voltage\", \"suitable\", \"bell_lab\", \"converter\", \"esdi\", \"acquisition\", \"checking\", \"synchronous\", \"scsi_controller\", \"changing_oil\", \"seattle_wa\", \"bare\", \"carrying\", \"stall\", \"mb_burst\", \"cradle\", \"grubb\", \"las_cruce\", \"churchill\", \"drive\", \"fasst\", \"interface\", \"device\", \"speed\", \"mac\", \"fast\", \"wide\", \"chip\", \"mode\", \"bit\", \"video\", \"route\", \"mhz\", \"md\", \"zone\", \"km\", \"radius\", \"rs\", \"pop\", \"recommendation\", \"suck\", \"paint\", \"variation\", \"axis\", \"n\", \"ducati\", \"smartdrv\", \"adjust\", \"minimal\", \"developer\", \"space_dig\", \"thick\", \"added_forwarde\", \"bk\", \"sez\", \"mate\", \"richardson_tx\", \"ns_simms\", \"circumference\", \"tom_mcwilliam\", \"apple\", \"multiple\", \"reflect\", \"fuzzy\", \"absurd\", \"judaism\", \"ibm_pc\", \"cart\", \"centris\", \"sleeve\", \"fpu\", \"promo_picture\", \"math_coprocessor\", \"christian_bauer\", \"doublespin\", \"bootable\", \"chung\", \"cd\", \"rodney_jack\", \"thompson\", \"capitol_picture\", \"sleeve_beach\", \"lc\", \"duo_dock\", \"morrow_stanford\", \"cupertino\", \"donpaul\", \"inexpencive\", \"rolling_stone\", \"hsiung\", \"mccartney\", \"keyboard\", \"ship\", \"ethernet\", \"noah\", \"vram\", \"manufacturer\", \"install\", \"trivial\", \"allen\", \"click\", \"ms_window\", \"rude\", \"sphere\", \"hitachi\", \"exactly_fitting\", \"farin\", \"embarasse\", \"equi\", \"hyper\", \"specifie\", \"dietrijj\", \"keaggy\", \"hcrlgw\", \"straightforward\", \"mimic\", \"central\", \"sampler\", \"infinitely\", \"tokyo\", \"geometry\", \"computing_center\", \"researcher\", \"steven\", \"pentecostal\", \"krogh\", \"eigil\", \"timmer\", \"circle\", \"familiar\", \"p\", \"loss\", \"phil\", \"capable\"], \"Freq\": [50761.0, 8392.0, 17488.0, 19144.0, 2474.0, 8297.0, 14551.0, 4068.0, 2967.0, 11071.0, 14549.0, 5313.0, 5715.0, 4327.0, 9033.0, 6498.0, 2027.0, 10973.0, 1924.0, 2718.0, 2692.0, 2139.0, 7852.0, 3432.0, 3769.0, 1631.0, 9013.0, 4161.0, 7719.0, 2995.0, 11069.9829981352, 7851.494333215407, 4481.674364939639, 3044.208045381392, 2877.4029798605384, 2351.484395046636, 2295.740932162643, 2215.2064639394107, 2115.206862625475, 2057.947169444565, 1540.4687821760133, 1455.0576309295636, 1405.8380115584212, 1353.1610084527247, 1345.0893354009265, 1197.900732674171, 1096.8404234700556, 1027.67794913397, 976.5795081633726, 974.6846869476996, 963.4171572214424, 960.6468903383796, 946.419764937148, 899.6336205276815, 881.5331880352975, 881.0108005657829, 880.6196099492552, 879.018181695978, 801.5409068066497, 798.4428477863225, 14256.91028678301, 3124.059463322255, 2065.8729793285097, 16933.65461316723, 7123.6429921537, 10576.167643262525, 4791.968255266993, 13761.056580804174, 5869.226681782887, 2763.962767612616, 3707.934791263627, 3059.363681843803, 16998.295195969728, 5909.289187471981, 5856.075530572309, 6182.9124907484365, 3979.464278097699, 7649.516778042192, 6098.58118026656, 5940.293777099579, 3700.832828284769, 6402.61602072947, 5027.362075552385, 5865.762231551169, 4111.110186979706, 3489.0029761048377, 3661.835363715247, 3715.6223401960606, 4264.916364304322, 3437.746338928886, 3266.5219127483765, 3019.5889179255937, 2994.1825390224085, 2811.989025862021, 2229.9300892838346, 1836.3808167784807, 1609.3848750089744, 1600.3688380128926, 1473.823379280193, 1372.795021759051, 1323.602268029556, 1296.4484140681473, 1220.7657780940092, 1141.76020540155, 1119.1675130248661, 1031.6244627165847, 1006.1263735121883, 978.796432151119, 850.401286188362, 835.6877127795156, 826.6888771232464, 777.1206815190001, 774.4712225210251, 674.5452445484511, 639.7343499695221, 596.9016105689949, 596.5268024278155, 580.8100740411095, 560.3670512074776, 509.9018509986888, 508.9585838433872, 1069.5583963385393, 950.9398581916824, 820.7236335429775, 2853.7509818592152, 2418.6358486305307, 1576.89842463893, 1688.9917703279345, 1644.935155599742, 4125.736284179478, 886.3796990737281, 2662.384627910349, 1294.7275558199494, 1907.7138676475886, 3682.9734352701203, 987.4420971410256, 1443.9589562977908, 1595.9752536912893, 1559.0171792369126, 1990.567651656225, 1502.2315730474088, 1327.7206309141582, 1375.4354274202824, 2140.323964598452, 1654.0040640824056, 1572.3811717374108, 1520.3760894819259, 1347.1359642273555, 4326.587717553869, 3431.1155714116535, 2994.739585939056, 2376.1005832759906, 2086.021897325936, 1758.6472808327985, 1460.8981068964713, 1209.7192678515369, 1093.674038652518, 1049.7762302699277, 1029.2841616387993, 1015.8457034786702, 945.5818223066747, 944.2062533511521, 941.785753430935, 685.9372839202227, 672.344736965, 619.6651730993175, 590.6223515940126, 574.2676541669654, 573.0993215824712, 557.8249433095002, 527.592852295848, 518.4404566742749, 516.6666073585526, 503.7202322008342, 499.86109138608583, 498.01511632644537, 497.9881725512581, 492.4093311386113, 1341.789557628664, 1652.2267685874324, 1530.4680661556467, 2948.3350053221593, 1977.4469277353846, 780.5495887519692, 916.5154522030234, 1392.887056142235, 1054.0668632388465, 886.8235860582718, 1466.9524907064058, 3890.972948140197, 1974.775010617297, 1571.242921235189, 1669.7700826042035, 1852.1708220962744, 1381.3289165613307, 1682.0076928323992, 1148.4846418487643, 1299.2460765823855, 1249.4598998318065, 1299.2494717592267, 1363.2175633423076, 1336.9394169275038, 1137.4496206688307, 2057.4561029708475, 1388.0458582245967, 1246.9737814517684, 1166.5636402740515, 1148.8195974450202, 1115.1668864586297, 1093.351731461185, 1068.1162691769853, 994.404259127016, 981.5115427633564, 928.8421455994148, 797.1984019804343, 793.2223309676003, 713.5282082486409, 694.5296065084365, 672.2963173990056, 667.4000538468937, 647.7013651760705, 551.4995175266911, 535.1268778631186, 527.0632542842832, 502.89637869949433, 488.60626768466557, 475.57932721784175, 466.758036173026, 465.94952090593455, 463.3873240856614, 435.3172632506785, 428.1488193205051, 409.87289048570096, 621.7309779758872, 499.63581727596886, 844.9799906538806, 646.3548183260125, 840.669631556759, 895.6989303630346, 3077.8052666817853, 1361.8094888777232, 1735.8950784692615, 5533.597954863285, 1097.8604713558675, 1821.9610295676523, 916.7410735234172, 2488.311638035184, 854.4302443378455, 1853.867770330206, 878.7352584061765, 1228.697226316104, 1300.7251133522102, 770.35334648477, 920.0760473179299, 990.5779523074472, 948.2991212818919, 1041.1728844462239, 982.509631472158, 876.822848728664, 50760.090303293735, 8391.510298425395, 4067.4012174023105, 1719.932834772016, 1142.7086065623078, 581.7271385635411, 482.56576295454926, 435.6353787313993, 435.1433275316253, 423.08865666070807, 387.98544961154863, 375.65495319689614, 370.3104409177445, 318.5094862637899, 293.98379041114634, 240.85268377337474, 219.71428174065258, 216.9834519099611, 201.13394632600802, 195.70440058115568, 192.20637813800883, 190.6073626500052, 190.24113119964588, 181.54107683007499, 175.31210382722716, 175.0519328117255, 172.4005829122971, 169.42036719095384, 168.71839842588815, 167.289349261778, 684.5973898307952, 282.4783560475094, 2717.436764072552, 2691.6187222407193, 1909.5492836741614, 1757.0076818467628, 1262.162066909464, 1218.3705795408632, 859.4544100942521, 827.3727844126324, 821.5281180638563, 813.0645692342661, 739.8771804939219, 673.6637627153818, 672.7787740960024, 664.2907025827939, 642.9550569923354, 636.27935192814, 625.7327762872007, 613.945282790365, 588.1935222691121, 561.5891080384507, 547.847752208124, 536.0617651047105, 525.9372949136525, 522.7095842634062, 480.60620340268406, 449.25468807719153, 446.6323023558605, 436.1622024554051, 430.89000063949567, 419.27900039990135, 695.0614156629894, 655.849854751753, 2282.915129151211, 617.211283859461, 715.4926646816049, 730.4520622072527, 691.009707810763, 582.3053106407109, 1025.9583041414396, 665.0388986052401, 623.236343240037, 537.9021125516102, 537.1097972767285, 516.2294325347956, 512.9416403974225, 489.050031565701, 485.84358784264236, 474.1982241434694, 439.40154046338046, 393.0631437603351, 369.92611916368736, 358.57371943930224, 347.97275969667356, 316.7739061554804, 312.6055402838298, 295.46707463657106, 258.54505851939336, 243.1121674913599, 231.84894025349763, 218.24532827607538, 212.98274396945186, 200.35714101805917, 192.3027888154136, 187.777678156044, 184.25916729124057, 182.32064371839476, 172.38251816781852, 172.35851581546007, 1177.7724333063575, 1451.9487633014567, 774.5339373948708, 818.9577763163437, 332.27851175190847, 393.7990818420154, 458.0216258031751, 568.0435829510538, 504.4361426853678, 464.8601939629394, 559.1401178278467, 574.1886604489217, 480.48051539366213, 562.6076808205838, 372.1053792012768, 2965.915669031346, 833.5299303679734, 770.673544631954, 654.9198814985323, 603.1185372690533, 600.4256550276119, 479.4756647039478, 463.1725807044008, 458.90897221276634, 449.87187086243335, 440.9640403798705, 434.72325187650694, 430.535216587903, 376.57765375985605, 370.5621937343732, 300.51345096847496, 286.1456565420697, 259.54802769068436, 255.41010790395202, 247.73122012221168, 241.57849022449622, 231.89329562129925, 216.24472146732634, 215.9530186415471, 215.67034077949833, 208.77627705951033, 204.89486447892224, 189.26540098995866, 181.2253233784561, 157.40957438772753, 1541.4055167747645, 695.660341470385, 425.4587005731967, 712.7035768306754, 456.6852141939106, 516.6031134732098, 407.1902611772131, 569.1687799682209, 404.0594856088702, 419.1795864049738, 408.58754814369104, 391.98109320533354, 274.80075545860427, 2138.4763952203134, 1397.597790817638, 1371.481475884946, 1270.990945082741, 975.4595115028619, 787.0796924604564, 762.1543383197641, 651.5629066895277, 593.914161951511, 587.5604934796569, 569.7594333978523, 480.0256867109493, 433.94954615891703, 422.9350474587006, 382.0586912926834, 378.1569560939427, 376.8562893376007, 353.6844414019557, 326.3600023762882, 310.444619170555, 303.9091124829626, 265.5303313798146, 254.10485776908257, 235.76583754319518, 234.29951842541305, 227.17999563166134, 221.7637979245649, 207.58565223511667, 204.49052591464343, 192.20262956368853, 456.559610758585, 550.4555904671395, 365.3860685493259, 308.12522104010793, 379.29288166795044, 786.1621516677772, 365.9996068585142, 311.1079244258145, 590.7753984353149, 2026.197848955213, 610.5510817815366, 504.49260672106914, 462.66561650417503, 453.02003651624267, 442.792091605296, 431.66622680436365, 362.48323754645793, 313.734409791895, 312.4204098463635, 309.4181770317779, 284.90458695112443, 265.1751127567101, 257.20114174967097, 236.96862823964918, 231.89128352116106, 226.07759022957072, 225.10538018377892, 200.81560328066107, 167.2354871532152, 159.4496442968434, 150.91313976864163, 148.7899381523069, 143.07305659114735, 140.43093904125888, 130.7272214306227, 125.42370675930647, 121.98360808830014, 120.9360387154719, 120.61467803375564, 253.17954039051344, 557.8246611352297, 167.96761652372058, 251.66929579013643, 163.0743532002756, 184.7459137039106, 272.0940991710982, 201.3109629577544, 191.97315483009558, 178.3520053282313, 1630.6613483193698, 568.9045973382443, 525.1313842180962, 515.6754937971873, 500.0342674348024, 424.9505665378827, 373.8998599727782, 353.12193388596967, 352.15714364108254, 348.7391567541277, 334.4503948649645, 323.3536547517842, 288.31631934566633, 279.2207376593431, 275.21336672075336, 275.1340348671307, 263.4929654931286, 245.10119382850093, 197.7088023657771, 184.67554859510872, 181.0424175224922, 169.6463848703385, 155.7729866830586, 150.95072015358153, 149.1271350549462, 146.53757531517996, 145.1197749156831, 138.7098453777205, 120.25332095045715, 117.08566245541262, 339.8479631241157, 445.66354547417575, 376.8768023590593, 292.5628953697096, 367.74869310084506, 275.77545007459923, 321.13104533249765, 257.1112761943742, 244.18491415895724, 490.546788569901, 461.751438546698, 429.61520893130614, 358.1791960289163, 297.8057696320929, 292.67976285719675, 291.3602310409988, 285.42456673975494, 277.5822818504123, 267.6224892940301, 259.29134519036444, 192.11826821955816, 190.85843832247153, 169.16721866071904, 169.00232196013363, 168.94972456939658, 162.62618685000643, 161.73187200235887, 138.6023236556968, 134.92371030709532, 131.6659656372689, 1906.918301668716, 129.67145387391847, 125.78486889009274, 124.15620053673649, 123.59664429986584, 112.38946969653172, 111.05029594894617, 109.79281432734457, 98.43931032026866, 682.2287153633144, 515.805914321583, 348.3972753902064, 927.873137174902, 429.10857844572763, 377.0588135120413, 178.5694350938811, 226.5868926095109, 230.62926975125757, 198.57980692497406, 184.6906529597229, 163.66688085299504, 540.3104654925872, 459.4985795995709, 395.4291379056747, 385.2086747568562, 379.9796226568184, 365.0131037375686, 326.23218415644243, 320.0456801486151, 318.6937618507058, 249.57381261834038, 243.02215322214244, 238.2361793877102, 236.9798317921099, 233.46792990838264, 231.00070886141017, 219.62693815029445, 209.60193269982412, 197.90283282830194, 195.2399091868831, 192.0784689256365, 184.95251287323478, 176.15980928272614, 174.2174464921403, 172.14271736049614, 167.9118617565801, 167.6983429709922, 163.11371964727024, 158.3433426330899, 157.54856295850666, 155.55033324552687, 349.3321922879583, 253.80656616701722, 790.2620290891977, 573.9831694759653, 492.7305811858643, 402.55217006219124, 336.2536723613577, 315.0537021005408, 187.2430209012466, 173.77265797875327, 163.0696896066103, 160.52221669563963, 156.29459280348263, 156.03066194100336, 142.624473372747, 139.60211024042292, 123.75726854980284, 108.394460626649, 100.70752093548515, 90.17469758614884, 86.04567261023217, 81.10236636153525, 69.87875587928542, 67.97678154024791, 66.06324475290393, 59.710917254331854, 59.296819786006125, 57.49966471144562, 57.24724788989358, 57.20463556545305, 57.09740284735227, 57.09740284735227, 609.7341489941784, 574.3000580113697, 117.87813701430963, 138.27424050422994, 153.85369911099255, 85.63562061574574, 92.6012972710734, 133.08828880925435, 103.84955402471338, 113.04025512233062, 94.6287227911683, 93.59901484994089, 862.9317758995593, 766.1424462950837, 673.2446876115877, 438.1680980877646, 339.16131180060916, 249.799531359558, 213.39308620138658, 192.4421133853727, 183.67861634884414, 165.70304062140724, 157.51494544303392, 157.38726017705326, 154.1235055459176, 140.1303843831914, 136.9936688269915, 120.64145007352262, 102.86743383990661, 97.77026845547273, 97.28091423064835, 96.98700152959093, 90.39368500510412, 84.86911114544637, 82.70398030374727, 80.53193417562437, 73.20736910436844, 72.85916593310506, 69.53808269160889, 63.369657624001775, 59.256933029130906, 57.48698448990144, 99.67156053579176, 97.6122017879466, 74.62374170646946, 844.0430470099373, 664.3484379318159, 437.37127497078524, 402.01744395972463, 370.21393394716864, 303.72363772540336, 271.73271922595245, 265.3460039251014, 163.06240359202292, 158.13477312323937, 158.01059167881462, 155.21096651668987, 152.06695196078047, 141.287024059145, 139.86271360422646, 121.97614949216911, 116.3449531861724, 103.14040565589565, 98.04354782434291, 97.03729405817946, 94.33582910278415, 92.7749021878679, 90.34296842795982, 84.28561729058428, 83.09281844243793, 81.90086315081489, 81.18591426263431, 78.40705547727445, 75.70876626408452, 70.09061531161584, 114.50201043922402, 490.2895650858371, 312.91370067860043, 217.35185404197182, 184.26030890573978, 130.8689456327233, 107.65062858403796, 104.43300561170449, 77.28363259341654, 72.24122649165872, 54.7964355420064, 45.911794573077884, 37.85385500590285, 31.60367496227211, 27.5452876857195, 22.786670359014845, 21.777547857674772, 21.55477905714155, 20.330653678569202, 17.74965214076752, 15.589746167012546, 11.065134098227404, 7.574489342807174, 7.153278386792774, 6.783447569092373, 6.724939015192469, 4.995506945063739, 1882.6101494053803, 2.0352405283855526, 102.08089084248735, 147.37038662511458, 74.37272234871409, 65.24030542871783, 51.98505196632019, 27.573058978445882, 45.402434245059496, 27.164097559868726, 22.18420670193083, 493.5940725541206, 257.80566344354577, 254.03112482744365, 203.65802246706622, 153.67173564962718, 115.14249643770349, 91.22519534039911, 89.92532813135401, 88.48821543578194, 73.34252590786782, 64.74994991007486, 61.24455719371157, 54.06828907145216, 37.71489583404471, 35.14498604721224, 33.79568178689417, 33.23371267816035, 32.037872007753684, 28.389813139726822, 28.08777992073585, 27.994497174536424, 26.932324790586797, 23.574882338055783, 17.836907119162465, 14.189122576294334, 9.777723473512097, 8.159358659060162, 5.503799680778686, 5.39078990760884, 5.342624505849485, 184.38392797207996, 79.38087479095644, 45.434171462904466, 18.246008752788285, 15.32949037541674, 9.71976368996417, 7.652985595061693, 6.5805100572848305, 0.020854321074591932, 0.02085360847305084, 0.020853526120514256, 0.020853393348057307, 0.020853284104896525, 0.02085310259318323, 0.020853100912519216, 0.02085309250919916, 0.020853097551191194, 0.020854038723037916, 0.02085294965275814, 0.020853089147871134, 0.02085295973674221, 0.02085295973674221, 0.02085299503068646, 0.020852882426197657, 0.020852747973076697, 0.020852714359796458, 0.020852707637140408, 0.020852707637140408, 0.02085274293108466, 0.020852704275812383, 0.02085274293108466, 0.020853242088296225, 0.020853151332439576, 0.02085314629044754, 0.020852779905692925, 0.020852862258229514, 0.02085288578752568, 0.020852779905692925, 23.43712478779751, 16.88934214625935, 14.467213507212637, 12.720341979080493, 3.4581309570802943, 0.010149358591686917, 0.01014866578672805, 0.010148361874365635, 0.010148361874365635, 0.010148361874365635, 0.010148343149907287, 0.010148343149907287, 0.010148343149907287, 0.010148243046072274, 0.010148243046072274, 0.010148343149907287, 0.010148361874365635, 0.010148243046072274, 0.01014866578672805, 0.010148243046072274, 0.010148260330187673, 0.010148343149907287, 0.010148363314708586, 0.010148243046072274, 0.010148343870078763, 0.010148670827928374, 0.010148168148238884, 0.01014810909417794, 0.01014810909417794, 0.010148135020351038, 0.01014836691556596, 0.0101482452065867, 0.010148205597155579, 0.01014836259453711, 0.010148266091559471, 0.010148244486415225], \"Total\": [50761.0, 8392.0, 17488.0, 19144.0, 2474.0, 8297.0, 14551.0, 4068.0, 2967.0, 11071.0, 14549.0, 5313.0, 5715.0, 4327.0, 9033.0, 6498.0, 2027.0, 10973.0, 1924.0, 2718.0, 2692.0, 2139.0, 7852.0, 3432.0, 3769.0, 1631.0, 9013.0, 4161.0, 7719.0, 2995.0, 11071.174232953648, 7852.685568033854, 4482.865599758086, 3045.3992801998384, 2878.594214678985, 2352.6756298650826, 2296.9321669810893, 2216.397698757857, 2116.3980974439214, 2059.1384042630116, 1541.6600169944604, 1456.2488657480108, 1407.0292463768683, 1354.3522432711718, 1346.2805702193737, 1199.091967492618, 1098.031658298579, 1028.8691839524172, 977.7707429818197, 975.8759217661467, 964.6083920398895, 961.8381251568268, 947.6109997600581, 900.8248553461286, 882.7244228537446, 882.20203538423, 881.8108447677023, 880.2094165289395, 802.7321416387118, 799.6340826047697, 14551.23522741302, 3168.293467092606, 2086.438044030655, 17488.368791754496, 7309.056927738692, 10973.56111309411, 4929.576704262646, 14549.892575852398, 6152.759571883048, 2835.45708412942, 3905.078692845457, 3204.6327091172097, 19144.45747405573, 6587.11433486744, 6618.173263689908, 7068.142211046997, 4382.5564612758235, 9013.859884443906, 7112.89727201327, 6919.387957111207, 4229.104981650884, 8490.913842341564, 6327.737090375794, 7719.058596706846, 4937.849623605365, 4417.2960243518055, 4912.420806619962, 5101.199381900674, 9033.76307443956, 4738.117958570674, 4594.301438162441, 3020.7754256814133, 2995.369046778228, 2813.1755336178408, 2231.1165970564593, 1837.5673245343007, 1610.5713827647944, 1601.5553457687126, 1475.009887036013, 1373.981529514871, 1324.788775785376, 1297.634921850777, 1221.952285860751, 1142.94671315737, 1120.3540207806861, 1032.8109704776778, 1007.3128812680081, 979.9829399069389, 851.5877939441818, 836.8742205353354, 827.8753849498916, 778.3071892796657, 775.657730276845, 675.731752304271, 640.920857725342, 598.0881183248148, 597.7133101836354, 581.9965818148776, 561.5535589632975, 511.0883587545087, 510.1450915992071, 1079.62475382695, 966.2921134941308, 831.0394835185081, 3006.2809041995833, 2535.75758528825, 1643.2827183801144, 1769.8842207136715, 1732.2376346288322, 5715.79233788441, 914.6877849413006, 3626.397728253003, 1523.8061386060422, 2583.3809719063943, 6498.569956170449, 1065.7299126139173, 1938.4751767591802, 2286.2160595192495, 2229.1187652762046, 3479.128814273454, 2474.4784231346102, 2128.186638982425, 2481.1088769978887, 19144.45747405573, 6187.366132873245, 4941.519781459348, 4438.776637336106, 5101.199381900674, 4327.788637605662, 3432.3391145617384, 2995.9405059908495, 2377.3015033277843, 2087.2228759453083, 1759.8482008845926, 1462.0990269482654, 1210.920187903331, 1094.8749587043121, 1050.9771503217219, 1030.4850816973467, 1017.0466235304642, 946.7827423584687, 945.4071734029461, 942.986673482729, 687.1382039720168, 673.545657016794, 620.8660931511115, 591.8232716573381, 575.4685742187594, 574.3002416342653, 559.0258633680475, 528.793772383849, 519.6413767347773, 517.8675274240102, 504.92115225262813, 501.0620114378798, 499.2160363782393, 499.1890926536414, 493.6102511956784, 1376.284028004172, 1760.3362968837775, 1648.4529652617803, 3458.403489977617, 2243.1582419309743, 826.1048400341634, 992.5969499338845, 1649.4021796566299, 1256.5130290816421, 1010.7114700622742, 1973.232340908291, 9033.76307443956, 3937.8983147883932, 3178.3806090728904, 3596.813565491405, 7719.058596706846, 4108.270565996769, 8297.929691177433, 2350.0169724773477, 4738.117958570674, 4912.420806619962, 6327.737090375794, 9013.859884443906, 8490.913842341564, 4594.301438162441, 2058.648084988657, 1389.23784024916, 1248.1657634695785, 1167.7556222918615, 1150.0115794628302, 1116.3588684764397, 1094.543713478995, 1069.3082512001088, 995.596241144826, 982.7035247864799, 930.0341276172248, 798.3903883073208, 794.4143129854103, 714.7201902664509, 695.7215885262465, 673.4882994263342, 668.5920358647037, 648.8933471938805, 552.6914995585797, 536.3188598894815, 528.2552363074067, 504.08836071730434, 489.7982497024756, 476.7713092409652, 467.95001819083603, 467.14150292374455, 464.5793061034714, 436.5092452684885, 429.3408013503415, 411.06487250351097, 623.9473857234095, 502.28540965986315, 860.6983877894814, 655.4004878901294, 861.9515816830618, 954.0683147299927, 3769.0337181362684, 1538.0963585529616, 2070.1498196171665, 8297.929691177433, 1251.943711392867, 2278.752049250292, 1022.5410758546487, 4161.1822761030435, 975.6835143406054, 3074.032578529691, 1025.8958788715415, 1822.4835748125906, 3216.0045369058025, 914.6079387610984, 1630.7066918914732, 2350.0169724773477, 2044.6858442967105, 4108.270565996769, 5313.149319867351, 9033.76307443956, 50761.22021433876, 8392.640209546176, 4068.531128447353, 1721.0627458836057, 1143.8385176492511, 582.8570496497446, 483.6956740892765, 436.765289819661, 436.273238672648, 424.2185679231432, 389.1153608175559, 376.78486438021446, 371.44035222511235, 319.63939752110855, 295.11370155073206, 241.98259524206253, 220.84419302619207, 218.113363090903, 202.26385744781876, 196.83431170904947, 193.33628934557572, 191.73727394278075, 191.3710424976065, 182.67098811524343, 176.44201549756664, 176.18184404797074, 173.5304940055327, 170.55027860646115, 169.84830956444156, 168.41926050103476, 1290.7604890509276, 6152.759571883048, 2718.6265721160903, 2692.808530284258, 1910.7390917177006, 1758.1974899018335, 1263.3518749530033, 1219.5603875941736, 860.6442181377911, 828.5625924659075, 822.7179262012492, 814.254377277805, 741.0669885573637, 674.8535707589208, 673.9685821395414, 665.4805106263328, 644.144865072992, 637.469159971679, 626.9225843307397, 615.1350908475675, 589.3833303237903, 562.7789160819897, 549.037560251663, 537.251573153863, 527.1271029571915, 523.8993923259504, 481.79601145153646, 450.44449612073043, 447.8221103993994, 437.35201050703336, 432.07980868303457, 420.46880845019354, 721.2048781425709, 719.1579733631982, 5313.149319867351, 1387.4161423026549, 2408.979804415813, 3479.128814273454, 4151.8592918196255, 1818.4543836420976, 1027.1530545325718, 666.2336490031254, 624.4310936409402, 539.0968629427423, 538.304547673174, 517.4241829259277, 514.1363907885545, 490.2447819833642, 487.0383382337744, 475.3929745346015, 440.5962908545125, 394.25789415146716, 371.12086956013286, 359.7684698304343, 349.1675101093462, 317.9686565551653, 313.8002906802753, 296.6618250410342, 259.7398089239241, 244.3069178910448, 233.0436906446297, 219.44007869611931, 214.1774944015771, 201.55189143440745, 193.49753923034888, 188.97242855278958, 185.45391768237263, 183.51539410952682, 173.57726855895058, 173.55326621514496, 1190.7217350987285, 1503.339082934919, 794.1263059915136, 947.8235950030904, 362.828271805953, 451.35378299076655, 565.5371390046505, 776.3917461741494, 815.7533991069113, 768.1649678920458, 1146.357535386757, 1648.2113820595844, 1160.5367811015972, 2474.4784231346102, 797.7182036275026, 2967.1121061860126, 834.7263675226405, 771.8699817866211, 656.1163186531994, 604.3149744237204, 601.6220921912325, 480.6721018586149, 464.36901785906787, 460.1054093674334, 451.06830802237357, 442.16047753453756, 435.919689031174, 431.7316537672375, 377.77409091452313, 371.75863090503486, 301.70988812314204, 287.342093712339, 260.7444653242386, 256.6065450780989, 248.92765728240448, 242.7749273791633, 233.08973277596633, 217.4411586412705, 217.14945582062668, 216.8667779341654, 209.97271427236782, 206.09130163358932, 190.46183814462574, 182.42176053312318, 158.606011556561, 1587.961868726375, 866.2561867520922, 678.9380740943114, 1650.7731783290035, 1629.8095165751115, 2481.1088769978887, 1600.3737796922128, 5715.79233788441, 1946.0434034067716, 2278.752049250292, 2474.4784231346102, 6498.569956170449, 1216.896175998475, 2139.674998140245, 1398.7963937375703, 1372.6800788048781, 1272.1895480026733, 976.6581144284078, 788.2782954016967, 763.3529412439418, 652.7615096240897, 595.112764888248, 588.7590964322706, 570.9580363177846, 481.22428964433277, 435.14814907884926, 424.1336504088888, 383.25729421936893, 379.35555901387494, 378.0548922798884, 354.88304432188795, 327.5586053091365, 311.64322209904003, 305.1077154071402, 266.72893432617576, 255.30346072912377, 236.96444046312737, 235.49812134534525, 228.37859856749537, 222.96240085304993, 208.7842551807521, 205.68912884465217, 193.40123248923425, 466.47840589795084, 583.0488712327667, 449.7426449243124, 364.9253179268319, 504.79622820100576, 1739.777196882364, 508.1695944697413, 420.6757393226891, 2474.541631312511, 2027.3987435992983, 611.7519764585335, 505.6935013651545, 463.8665111482604, 454.220931160328, 443.9929862493813, 432.867121448449, 363.68413219054327, 314.93530444575686, 313.6213044972021, 310.6190716758632, 286.10548159520977, 266.37600741056656, 258.4020363937563, 238.16952288373454, 233.09217816524642, 227.27848487365608, 226.3062748921283, 202.01649794915892, 168.43638179730056, 160.65053902143578, 152.1140344804925, 149.99083279639225, 144.27395123523272, 141.63183371675888, 131.92811607470807, 126.62460141802148, 123.18450273985914, 122.13693335955725, 121.81557267784099, 291.81774790140014, 1029.9744012392093, 216.77114469172798, 514.5824069480645, 215.74469595665997, 304.2918955009362, 1648.2113820595844, 1256.5130290816421, 1284.5032942549938, 956.3312022708402, 1631.862982690956, 570.1062317098307, 526.3330185896825, 516.8771281687737, 501.23590180638865, 426.1522009368348, 375.1014943997645, 354.3235682643092, 353.3587780126688, 349.94079121671155, 335.65202926029076, 324.55528916562196, 289.517953722566, 280.4223720495587, 276.41500111922653, 276.3356692570947, 264.69459990571494, 246.302828214942, 198.91043675564816, 185.8771829933643, 182.2440519041702, 170.84801924867799, 156.9746211918341, 152.1523545352443, 150.3287694487488, 147.7392096867662, 146.32140930555417, 139.91147975606, 121.45495532628877, 118.28729685095762, 390.8855029491758, 607.0011432042886, 755.0282504504406, 496.5546056683037, 980.8548709489104, 576.7944139491098, 809.7430271473191, 897.4044019605016, 1629.8095165751115, 491.74819171266586, 462.95284168946284, 430.816612074071, 359.3805991759265, 299.0071727801308, 293.8811659999616, 292.56163418376366, 286.62596988251977, 278.78368499764014, 268.82389243679495, 260.49274833312927, 193.319671362323, 192.05984149001634, 170.36862180348388, 170.20372511275738, 170.1511277121614, 163.82758999701667, 162.93327515043717, 139.80372679846164, 136.12511347000816, 132.86736878003373, 1924.375912200641, 130.87285704630906, 126.98627203847107, 125.35760372174542, 124.79804744824418, 113.5908728559872, 112.25169910255018, 110.99421755348142, 99.64071349197609, 789.8263827650458, 631.5800063633952, 445.90034783748183, 1629.8095165751115, 627.4823020682106, 554.695762362299, 221.23601176905993, 342.2405485903914, 386.3991689991496, 316.0160480246232, 601.0040768072035, 728.066060401483, 541.5153725175256, 460.70348661881286, 396.6340449204536, 386.41358178550144, 381.1845296715973, 366.2180107624393, 327.43709117122137, 321.25058720857527, 319.89866886548475, 250.77871963311932, 244.22706024701316, 239.44108643170074, 238.18473881250236, 234.67283692316158, 232.2056158862809, 220.83184517038686, 210.8068397231559, 199.10773986407932, 196.44481620693514, 193.28337594041545, 186.15741988801372, 177.36471630281855, 175.4223535308176, 173.34762438058854, 169.11676877697255, 168.9032500619382, 164.31862667060201, 159.54824965642166, 158.7534700906469, 156.7552402696274, 419.37253724408595, 601.0040768072035, 791.4620248230221, 575.183165214568, 493.9305769196886, 403.7521657960155, 337.4536681318448, 316.2536978343651, 188.44301663507093, 174.9726537125776, 164.2696854009564, 161.72221242946395, 157.49458853730695, 157.23065770255232, 143.82446911218483, 140.80210597424724, 124.95726428787256, 109.59445636047333, 101.90751672870337, 91.37469332558666, 87.2456683440565, 82.30236209535957, 71.07875161310974, 69.17677729564092, 67.26324048672825, 60.91091298815617, 60.49681551983044, 58.69966088188883, 58.447243623717895, 58.40463129927737, 58.29739858117659, 58.29739858117659, 681.1558228884267, 679.8954704934429, 126.6997411459266, 169.72164584392067, 302.7327414531629, 148.48021097069764, 187.26502944869313, 1538.0963585529616, 696.1537906788953, 1215.8354361577233, 637.5741264597506, 697.6071074731492, 864.138889146783, 767.3495595423074, 674.4518008588113, 439.37521133498814, 340.3684250478327, 251.00664461655268, 214.60019945392364, 193.64922664676263, 184.88572960159345, 166.91015395172272, 158.72205871201035, 158.59437344811286, 155.33061879314118, 141.33749764524694, 138.2007820973227, 121.84856332074622, 104.07454709274371, 98.97738170269633, 98.4880274994084, 98.19411480517577, 91.6007983090161, 86.07622441089956, 83.91109355624398, 81.73904742709337, 74.41448235159204, 74.06627919186022, 70.74519595233902, 64.57677087977821, 60.46404631673671, 58.694097867825796, 122.87432692451611, 152.9921875191699, 205.57447539999106, 845.2599012471685, 665.5652921191903, 438.5881291581596, 403.2342981556518, 371.430788134543, 304.9404919127777, 272.9495734188525, 266.56285811808925, 164.27925779434753, 159.3516273272558, 159.22744588566871, 156.4278207182305, 153.2838062026868, 142.5038782465193, 141.07956779160074, 123.19300376693415, 117.56180737354671, 104.35725984879568, 99.26040201171722, 98.25414824555376, 95.55268329015846, 93.9917563752422, 91.5598229125025, 85.5024714779586, 84.30967262981224, 83.11771749325993, 82.40276854774791, 79.62390967428561, 76.92562080495438, 71.30746949899014, 342.2405485903914, 491.5136574485592, 314.1377930413225, 218.57594640469384, 185.48440141077373, 132.09303799544531, 108.87472098139467, 105.65709806364966, 78.50772495613859, 73.4653188879061, 56.02052791834345, 47.13588693579992, 39.077947368624876, 32.82776741703132, 28.769380154649372, 24.010762721736878, 23.001640220396805, 22.778871427952883, 21.554746041291235, 18.97374451510137, 16.813838597612833, 12.289226460949436, 8.798581705529205, 8.377370802654097, 8.007539931814406, 7.949031377914502, 6.2195993077857725, 2474.541631312511, 3.259332891107585, 380.65164108220307, 716.164486154128, 969.5765877431469, 1643.2827183801144, 1113.7065587049399, 329.61447694024486, 1587.961868726375, 914.6877849413006, 2481.1088769978887, 494.8204247666195, 259.0320157296515, 255.2574770399426, 204.8843746936355, 154.89808796805715, 116.36884873441555, 92.4515475700709, 91.15168034916641, 89.71456764828088, 74.56887816153295, 65.9763021225738, 62.47090941628703, 55.29464133511375, 38.94124810483306, 36.371338268264, 35.022033999393095, 34.460064896184996, 33.26422422471563, 29.616165515783223, 29.31413214178761, 29.220849392648855, 28.15867700308572, 24.801234550554707, 19.06325947903567, 15.415474788793261, 11.004075686011024, 9.38571087155909, 6.730151893277613, 6.617142120107767, 6.568976718348411, 185.62968747191772, 80.62663430617881, 46.679931031440596, 19.49176826632884, 16.57524991993845, 10.965523194580209, 8.898745100425154, 7.826269557122573, 1.2666381152909052, 1.2666243548317164, 1.266625006191293, 1.266620600200111, 1.266619313518074, 1.2666147400719863, 1.2666147383913222, 1.2666148297802455, 1.266618146622398, 1.2666798185484576, 1.266614529557083, 1.2666233949271397, 1.2666170909990042, 1.2666170909990042, 1.2666216784283892, 1.2666161326102725, 1.2666146725296865, 1.2666129855695614, 1.2666132725935082, 1.2666132725935082, 1.2666154487664298, 1.2666132562485566, 1.2666160865467788, 1.2666536363756362, 1.2666498435342288, 1.266654665452231, 1.266619765974617, 1.2666346804323296, 1.266639723023231, 1.2666667588835574, 24.693588612974175, 18.145805942918116, 15.723677298257899, 13.976805774971552, 4.714594813825956, 1.2666929605104187, 1.2666385034801184, 1.266625084522444, 1.266625084522444, 1.2666255334830314, 1.2666239544235067, 1.266624640977792, 1.2666246734504756, 1.266612592787637, 1.2666126164958986, 1.2666251512639204, 1.266628061421918, 1.2666132658133487, 1.2666665429587665, 1.2666140075114376, 1.266616821953173, 1.266627500718868, 1.2666319479430594, 1.2666171077985715, 1.2666339609243455, 1.2666802693098784, 1.2666198663275934, 1.2666125975297327, 1.2666125975297327, 1.2666159619161288, 1.2666480855577378, 1.2666316831741624, 1.2666263254664987, 1.2666649846868105, 1.2666490992812345, 1.2666669835465232], \"Category\": [\"Default\", \"Default\", \"Default\", \"Default\", \"Default\", \"Default\", \"Default\", \"Default\", \"Default\", \"Default\", \"Default\", \"Default\", \"Default\", \"Default\", \"Default\", \"Default\", \"Default\", \"Default\", \"Default\", \"Default\", \"Default\", \"Default\", \"Default\", \"Default\", \"Default\", \"Default\", \"Default\", \"Default\", \"Default\", \"Default\", \"Topic1\", \"Topic1\", \"Topic1\", \"Topic1\", \"Topic1\", \"Topic1\", \"Topic1\", \"Topic1\", \"Topic1\", \"Topic1\", \"Topic1\", \"Topic1\", \"Topic1\", \"Topic1\", \"Topic1\", \"Topic1\", \"Topic1\", \"Topic1\", \"Topic1\", \"Topic1\", \"Topic1\", \"Topic1\", \"Topic1\", \"Topic1\", \"Topic1\", \"Topic1\", \"Topic1\", \"Topic1\", \"Topic1\", \"Topic1\", \"Topic1\", \"Topic1\", \"Topic1\", \"Topic1\", \"Topic1\", \"Topic1\", \"Topic1\", \"Topic1\", \"Topic1\", \"Topic1\", \"Topic1\", \"Topic1\", \"Topic1\", \"Topic1\", \"Topic1\", \"Topic1\", \"Topic1\", \"Topic1\", \"Topic1\", \"Topic1\", \"Topic1\", \"Topic1\", \"Topic1\", \"Topic1\", \"Topic1\", \"Topic1\", \"Topic1\", \"Topic1\", \"Topic1\", \"Topic1\", \"Topic1\", \"Topic2\", \"Topic2\", \"Topic2\", \"Topic2\", \"Topic2\", \"Topic2\", \"Topic2\", \"Topic2\", \"Topic2\", \"Topic2\", \"Topic2\", \"Topic2\", \"Topic2\", \"Topic2\", \"Topic2\", \"Topic2\", \"Topic2\", \"Topic2\", \"Topic2\", \"Topic2\", \"Topic2\", \"Topic2\", \"Topic2\", \"Topic2\", \"Topic2\", \"Topic2\", \"Topic2\", \"Topic2\", \"Topic2\", \"Topic2\", \"Topic2\", \"Topic2\", \"Topic2\", \"Topic2\", \"Topic2\", \"Topic2\", \"Topic2\", \"Topic2\", \"Topic2\", \"Topic2\", \"Topic2\", \"Topic2\", \"Topic2\", \"Topic2\", \"Topic2\", \"Topic2\", \"Topic2\", \"Topic2\", \"Topic2\", \"Topic2\", \"Topic2\", \"Topic2\", \"Topic2\", \"Topic2\", \"Topic2\", \"Topic2\", \"Topic2\", \"Topic3\", \"Topic3\", \"Topic3\", \"Topic3\", \"Topic3\", \"Topic3\", \"Topic3\", \"Topic3\", \"Topic3\", \"Topic3\", \"Topic3\", \"Topic3\", \"Topic3\", \"Topic3\", \"Topic3\", \"Topic3\", \"Topic3\", \"Topic3\", \"Topic3\", \"Topic3\", \"Topic3\", \"Topic3\", \"Topic3\", \"Topic3\", \"Topic3\", \"Topic3\", \"Topic3\", \"Topic3\", \"Topic3\", \"Topic3\", \"Topic3\", \"Topic3\", \"Topic3\", \"Topic3\", \"Topic3\", \"Topic3\", \"Topic3\", \"Topic3\", \"Topic3\", \"Topic3\", \"Topic3\", \"Topic3\", \"Topic3\", \"Topic3\", \"Topic3\", \"Topic3\", \"Topic3\", \"Topic3\", \"Topic3\", \"Topic3\", \"Topic3\", \"Topic3\", \"Topic3\", \"Topic3\", \"Topic3\", \"Topic4\", \"Topic4\", \"Topic4\", \"Topic4\", \"Topic4\", \"Topic4\", \"Topic4\", \"Topic4\", \"Topic4\", \"Topic4\", \"Topic4\", \"Topic4\", \"Topic4\", \"Topic4\", \"Topic4\", \"Topic4\", \"Topic4\", \"Topic4\", \"Topic4\", \"Topic4\", \"Topic4\", \"Topic4\", \"Topic4\", \"Topic4\", \"Topic4\", \"Topic4\", \"Topic4\", \"Topic4\", \"Topic4\", \"Topic4\", \"Topic4\", \"Topic4\", \"Topic4\", \"Topic4\", \"Topic4\", \"Topic4\", \"Topic4\", \"Topic4\", \"Topic4\", \"Topic4\", \"Topic4\", \"Topic4\", \"Topic4\", \"Topic4\", \"Topic4\", \"Topic4\", \"Topic4\", \"Topic4\", \"Topic4\", \"Topic4\", \"Topic4\", \"Topic4\", \"Topic4\", \"Topic4\", \"Topic4\", \"Topic4\", \"Topic5\", \"Topic5\", \"Topic5\", \"Topic5\", \"Topic5\", \"Topic5\", \"Topic5\", \"Topic5\", \"Topic5\", \"Topic5\", \"Topic5\", \"Topic5\", \"Topic5\", \"Topic5\", \"Topic5\", \"Topic5\", \"Topic5\", \"Topic5\", \"Topic5\", \"Topic5\", \"Topic5\", \"Topic5\", \"Topic5\", \"Topic5\", \"Topic5\", \"Topic5\", \"Topic5\", \"Topic5\", \"Topic5\", \"Topic5\", \"Topic5\", \"Topic5\", \"Topic6\", \"Topic6\", \"Topic6\", \"Topic6\", \"Topic6\", \"Topic6\", \"Topic6\", \"Topic6\", \"Topic6\", \"Topic6\", \"Topic6\", \"Topic6\", \"Topic6\", \"Topic6\", \"Topic6\", \"Topic6\", \"Topic6\", \"Topic6\", \"Topic6\", \"Topic6\", \"Topic6\", \"Topic6\", \"Topic6\", \"Topic6\", \"Topic6\", \"Topic6\", \"Topic6\", \"Topic6\", \"Topic6\", \"Topic6\", \"Topic6\", \"Topic6\", \"Topic6\", \"Topic6\", \"Topic6\", \"Topic6\", \"Topic6\", \"Topic6\", \"Topic7\", \"Topic7\", \"Topic7\", \"Topic7\", \"Topic7\", \"Topic7\", \"Topic7\", \"Topic7\", \"Topic7\", \"Topic7\", \"Topic7\", \"Topic7\", \"Topic7\", \"Topic7\", \"Topic7\", \"Topic7\", \"Topic7\", \"Topic7\", \"Topic7\", \"Topic7\", \"Topic7\", \"Topic7\", \"Topic7\", \"Topic7\", \"Topic7\", \"Topic7\", \"Topic7\", \"Topic7\", \"Topic7\", \"Topic7\", \"Topic7\", \"Topic7\", \"Topic7\", \"Topic7\", \"Topic7\", \"Topic7\", \"Topic7\", \"Topic7\", \"Topic7\", \"Topic7\", \"Topic7\", \"Topic7\", \"Topic7\", \"Topic7\", \"Topic7\", \"Topic8\", \"Topic8\", \"Topic8\", \"Topic8\", \"Topic8\", \"Topic8\", \"Topic8\", \"Topic8\", \"Topic8\", \"Topic8\", \"Topic8\", \"Topic8\", \"Topic8\", \"Topic8\", \"Topic8\", \"Topic8\", \"Topic8\", \"Topic8\", \"Topic8\", \"Topic8\", \"Topic8\", \"Topic8\", \"Topic8\", \"Topic8\", \"Topic8\", \"Topic8\", \"Topic8\", \"Topic8\", \"Topic8\", \"Topic8\", \"Topic8\", \"Topic8\", \"Topic8\", \"Topic8\", \"Topic8\", \"Topic8\", \"Topic8\", \"Topic8\", \"Topic8\", \"Topic8\", \"Topic8\", \"Topic8\", \"Topic8\", \"Topic9\", \"Topic9\", \"Topic9\", \"Topic9\", \"Topic9\", \"Topic9\", \"Topic9\", \"Topic9\", \"Topic9\", \"Topic9\", \"Topic9\", \"Topic9\", \"Topic9\", \"Topic9\", \"Topic9\", \"Topic9\", \"Topic9\", \"Topic9\", \"Topic9\", \"Topic9\", \"Topic9\", \"Topic9\", \"Topic9\", \"Topic9\", \"Topic9\", \"Topic9\", \"Topic9\", \"Topic9\", \"Topic9\", \"Topic9\", \"Topic9\", \"Topic9\", \"Topic9\", \"Topic9\", \"Topic9\", \"Topic9\", \"Topic9\", \"Topic9\", \"Topic9\", \"Topic10\", \"Topic10\", \"Topic10\", \"Topic10\", \"Topic10\", \"Topic10\", \"Topic10\", \"Topic10\", \"Topic10\", \"Topic10\", \"Topic10\", \"Topic10\", \"Topic10\", \"Topic10\", \"Topic10\", \"Topic10\", \"Topic10\", \"Topic10\", \"Topic10\", \"Topic10\", \"Topic10\", \"Topic10\", \"Topic10\", \"Topic10\", \"Topic10\", \"Topic10\", \"Topic10\", \"Topic10\", \"Topic10\", \"Topic10\", \"Topic10\", \"Topic10\", \"Topic10\", \"Topic10\", \"Topic10\", \"Topic10\", \"Topic10\", \"Topic10\", \"Topic10\", \"Topic10\", \"Topic11\", \"Topic11\", \"Topic11\", \"Topic11\", \"Topic11\", \"Topic11\", \"Topic11\", \"Topic11\", \"Topic11\", \"Topic11\", \"Topic11\", \"Topic11\", \"Topic11\", \"Topic11\", \"Topic11\", \"Topic11\", \"Topic11\", \"Topic11\", \"Topic11\", \"Topic11\", \"Topic11\", \"Topic11\", \"Topic11\", \"Topic11\", \"Topic11\", \"Topic11\", \"Topic11\", \"Topic11\", \"Topic11\", \"Topic11\", \"Topic11\", \"Topic11\", \"Topic11\", \"Topic11\", \"Topic11\", \"Topic11\", \"Topic11\", \"Topic11\", \"Topic11\", \"Topic12\", \"Topic12\", \"Topic12\", \"Topic12\", \"Topic12\", \"Topic12\", \"Topic12\", \"Topic12\", \"Topic12\", \"Topic12\", \"Topic12\", \"Topic12\", \"Topic12\", \"Topic12\", \"Topic12\", \"Topic12\", \"Topic12\", \"Topic12\", \"Topic12\", \"Topic12\", \"Topic12\", \"Topic12\", \"Topic12\", \"Topic12\", \"Topic12\", \"Topic12\", \"Topic12\", \"Topic12\", \"Topic12\", \"Topic12\", \"Topic12\", \"Topic12\", \"Topic12\", \"Topic12\", \"Topic12\", \"Topic12\", \"Topic12\", \"Topic12\", \"Topic12\", \"Topic12\", \"Topic12\", \"Topic12\", \"Topic13\", \"Topic13\", \"Topic13\", \"Topic13\", \"Topic13\", \"Topic13\", \"Topic13\", \"Topic13\", \"Topic13\", \"Topic13\", \"Topic13\", \"Topic13\", \"Topic13\", \"Topic13\", \"Topic13\", \"Topic13\", \"Topic13\", \"Topic13\", \"Topic13\", \"Topic13\", \"Topic13\", \"Topic13\", \"Topic13\", \"Topic13\", \"Topic13\", \"Topic13\", \"Topic13\", \"Topic13\", \"Topic13\", \"Topic13\", \"Topic13\", \"Topic13\", \"Topic14\", \"Topic14\", \"Topic14\", \"Topic14\", \"Topic14\", \"Topic14\", \"Topic14\", \"Topic14\", \"Topic14\", \"Topic14\", \"Topic14\", \"Topic14\", \"Topic14\", \"Topic14\", \"Topic14\", \"Topic14\", \"Topic14\", \"Topic14\", \"Topic14\", \"Topic14\", \"Topic14\", \"Topic14\", \"Topic14\", \"Topic14\", \"Topic14\", \"Topic14\", \"Topic14\", \"Topic14\", \"Topic14\", \"Topic14\", \"Topic14\", \"Topic14\", \"Topic14\", \"Topic14\", \"Topic14\", \"Topic14\", \"Topic14\", \"Topic14\", \"Topic14\", \"Topic14\", \"Topic14\", \"Topic14\", \"Topic15\", \"Topic15\", \"Topic15\", \"Topic15\", \"Topic15\", \"Topic15\", \"Topic15\", \"Topic15\", \"Topic15\", \"Topic15\", \"Topic15\", \"Topic15\", \"Topic15\", \"Topic15\", \"Topic15\", \"Topic15\", \"Topic15\", \"Topic15\", \"Topic15\", \"Topic15\", \"Topic15\", \"Topic15\", \"Topic15\", \"Topic15\", \"Topic15\", \"Topic15\", \"Topic15\", \"Topic15\", \"Topic15\", \"Topic15\", \"Topic15\", \"Topic15\", \"Topic15\", \"Topic16\", \"Topic16\", \"Topic16\", \"Topic16\", \"Topic16\", \"Topic16\", \"Topic16\", \"Topic16\", \"Topic16\", \"Topic16\", \"Topic16\", \"Topic16\", \"Topic16\", \"Topic16\", \"Topic16\", \"Topic16\", \"Topic16\", \"Topic16\", \"Topic16\", \"Topic16\", \"Topic16\", \"Topic16\", \"Topic16\", \"Topic16\", \"Topic16\", \"Topic16\", \"Topic16\", \"Topic16\", \"Topic16\", \"Topic16\", \"Topic16\", \"Topic17\", \"Topic17\", \"Topic17\", \"Topic17\", \"Topic17\", \"Topic17\", \"Topic17\", \"Topic17\", \"Topic17\", \"Topic17\", \"Topic17\", \"Topic17\", \"Topic17\", \"Topic17\", \"Topic17\", \"Topic17\", \"Topic17\", \"Topic17\", \"Topic17\", \"Topic17\", \"Topic17\", \"Topic17\", \"Topic17\", \"Topic17\", \"Topic17\", \"Topic17\", \"Topic17\", \"Topic17\", \"Topic17\", \"Topic17\", \"Topic17\", \"Topic17\", \"Topic17\", \"Topic17\", \"Topic17\", \"Topic17\", \"Topic17\", \"Topic18\", \"Topic18\", \"Topic18\", \"Topic18\", \"Topic18\", \"Topic18\", \"Topic18\", \"Topic18\", \"Topic18\", \"Topic18\", \"Topic18\", \"Topic18\", \"Topic18\", \"Topic18\", \"Topic18\", \"Topic18\", \"Topic18\", \"Topic18\", \"Topic18\", \"Topic18\", \"Topic18\", \"Topic18\", \"Topic18\", \"Topic18\", \"Topic18\", \"Topic18\", \"Topic18\", \"Topic18\", \"Topic18\", \"Topic18\", \"Topic19\", \"Topic19\", \"Topic19\", \"Topic19\", \"Topic19\", \"Topic19\", \"Topic19\", \"Topic19\", \"Topic19\", \"Topic19\", \"Topic19\", \"Topic19\", \"Topic19\", \"Topic19\", \"Topic19\", \"Topic19\", \"Topic19\", \"Topic19\", \"Topic19\", \"Topic19\", \"Topic19\", \"Topic19\", \"Topic19\", \"Topic19\", \"Topic19\", \"Topic19\", \"Topic19\", \"Topic19\", \"Topic19\", \"Topic19\", \"Topic19\", \"Topic19\", \"Topic19\", \"Topic19\", \"Topic19\", \"Topic19\", \"Topic19\", \"Topic19\", \"Topic20\", \"Topic20\", \"Topic20\", \"Topic20\", \"Topic20\", \"Topic20\", \"Topic20\", \"Topic20\", \"Topic20\", \"Topic20\", \"Topic20\", \"Topic20\", \"Topic20\", \"Topic20\", \"Topic20\", \"Topic20\", \"Topic20\", \"Topic20\", \"Topic20\", \"Topic20\", \"Topic20\", \"Topic20\", \"Topic20\", \"Topic20\", \"Topic20\", \"Topic20\", \"Topic20\", \"Topic20\", \"Topic20\", \"Topic20\", \"Topic20\", \"Topic20\", \"Topic20\", \"Topic20\", \"Topic20\", \"Topic20\"], \"logprob\": [30.0, 29.0, 28.0, 27.0, 26.0, 25.0, 24.0, 23.0, 22.0, 21.0, 20.0, 19.0, 18.0, 17.0, 16.0, 15.0, 14.0, 13.0, 12.0, 11.0, 10.0, 9.0, 8.0, 7.0, 6.0, 5.0, 4.0, 3.0, 2.0, 1.0, -3.946, -4.2896, -4.8503, -5.237, -5.2934, -5.4952, -5.5192, -5.5549, -5.6011, -5.6286, -5.9182, -5.9752, -6.0096, -6.0478, -6.0538, -6.1697, -6.2578, -6.323, -6.374, -6.3759, -6.3875, -6.3904, -6.4053, -6.456, -6.4764, -6.477, -6.4774, -6.4792, -6.5715, -6.5754, -3.693, -5.2111, -5.6247, -3.521, -4.3869, -3.9917, -4.7833, -3.7284, -4.5805, -5.3336, -5.0398, -5.2321, -3.5172, -4.5737, -4.5828, -4.5285, -4.9691, -4.3156, -4.5422, -4.5685, -5.0417, -4.4936, -4.7354, -4.5811, -4.9366, -5.1007, -5.0523, -5.0377, -4.8998, -5.1155, -5.1665, -4.1649, -4.1733, -4.2361, -4.468, -4.6622, -4.7942, -4.7998, -4.8822, -4.9532, -4.9897, -5.0104, -5.0705, -5.1374, -5.1574, -5.2389, -5.2639, -5.2914, -5.4321, -5.4495, -5.4603, -5.5222, -5.5256, -5.6637, -5.7167, -5.786, -5.7866, -5.8133, -5.8492, -5.9436, -5.9454, -5.2028, -5.3203, -5.4676, -4.2214, -4.3868, -4.8146, -4.7459, -4.7723, -3.8528, -5.3906, -4.2908, -5.0117, -4.6241, -3.9663, -5.2827, -4.9026, -4.8025, -4.826, -4.5816, -4.8631, -4.9866, -4.9512, -4.5091, -4.7668, -4.8174, -4.8511, -4.972, -3.7661, -3.998, -4.134, -4.3654, -4.4956, -4.6663, -4.8518, -5.0405, -5.1413, -5.1823, -5.202, -5.2151, -5.2868, -5.2883, -5.2908, -5.6078, -5.6278, -5.7094, -5.7574, -5.7855, -5.7875, -5.8146, -5.8703, -5.8878, -5.8912, -5.9166, -5.9243, -5.928, -5.928, -5.9393, -4.9368, -4.7287, -4.8053, -4.1496, -4.549, -5.4786, -5.318, -4.8995, -5.1782, -5.351, -4.8477, -3.8722, -4.5504, -4.779, -4.7182, -4.6145, -4.9078, -4.7109, -5.0924, -4.9691, -5.0081, -4.9691, -4.921, -4.9405, -5.1021, -4.4032, -4.7968, -4.904, -4.9706, -4.986, -5.0157, -5.0354, -5.0588, -5.1303, -5.1433, -5.1985, -5.3513, -5.3563, -5.4622, -5.4892, -5.5217, -5.5291, -5.559, -5.7198, -5.7499, -5.7651, -5.8121, -5.8409, -5.8679, -5.8866, -5.8884, -5.8939, -5.9564, -5.973, -6.0166, -5.5999, -5.8186, -5.2931, -5.5611, -5.2982, -5.2348, -4.0005, -4.8159, -4.5732, -3.4138, -5.0313, -4.5248, -5.2116, -4.2131, -5.282, -4.5074, -5.254, -4.9187, -4.8618, -5.3856, -5.208, -5.1342, -5.1778, -5.0843, -5.1423, -5.2561, -0.5321, -2.332, -3.0562, -3.9169, -4.3258, -5.001, -5.1879, -5.2902, -5.2913, -5.3194, -5.406, -5.4383, -5.4526, -5.6033, -5.6835, -5.8828, -5.9747, -5.9872, -6.063, -6.0904, -6.1084, -6.1168, -6.1187, -6.1655, -6.2004, -6.2019, -6.2172, -6.2346, -6.2388, -6.2473, -4.8382, -5.7234, -3.3209, -3.3304, -3.6737, -3.757, -4.0877, -4.1231, -4.472, -4.5101, -4.5172, -4.5275, -4.6218, -4.7156, -4.7169, -4.7296, -4.7623, -4.7727, -4.7894, -4.8084, -4.8513, -4.8976, -4.9223, -4.9441, -4.9631, -4.9693, -5.0533, -5.1207, -5.1266, -5.1503, -5.1625, -5.1898, -4.6843, -4.7424, -3.4951, -4.8031, -4.6554, -4.6347, -4.6902, -4.8613, -3.6445, -4.078, -4.143, -4.2902, -4.2917, -4.3313, -4.3377, -4.3854, -4.392, -4.4163, -4.4925, -4.6039, -4.6646, -4.6958, -4.7258, -4.8197, -4.8329, -4.8893, -5.0228, -5.0844, -5.1318, -5.1923, -5.2167, -5.2778, -5.3188, -5.3426, -5.3615, -5.3721, -5.4282, -5.4283, -3.5065, -3.2972, -3.9256, -3.8699, -4.7719, -4.602, -4.451, -4.2357, -4.3544, -4.4362, -4.2515, -4.2249, -4.4031, -4.2453, -4.6587, -2.533, -3.8022, -3.8806, -4.0434, -4.1258, -4.1303, -4.3552, -4.3898, -4.399, -4.4189, -4.4389, -4.4532, -4.4629, -4.5968, -4.6129, -4.8224, -4.8714, -4.969, -4.985, -5.0156, -5.0407, -5.0816, -5.1515, -5.1528, -5.1541, -5.1866, -5.2054, -5.2847, -5.3282, -5.469, -3.1874, -3.983, -4.4747, -3.9588, -4.4039, -4.2806, -4.5186, -4.1837, -4.5263, -4.4896, -4.5152, -4.5567, -4.9119, -2.8116, -3.2369, -3.2558, -3.3319, -3.5965, -3.8111, -3.8433, -4.0001, -4.0927, -4.1035, -4.1342, -4.3056, -4.4065, -4.4322, -4.5339, -4.5441, -4.5476, -4.6111, -4.6915, -4.7415, -4.7627, -4.8977, -4.9417, -5.0166, -5.0229, -5.0537, -5.0778, -5.1439, -5.1589, -5.2209, -4.3557, -4.1687, -4.5785, -4.749, -4.5411, -3.8123, -4.5768, -4.7393, -4.098, -2.5002, -3.6997, -3.8905, -3.9771, -3.9982, -4.021, -4.0464, -4.2211, -4.3655, -4.3697, -4.3794, -4.4619, -4.5337, -4.5642, -4.6462, -4.6678, -4.6932, -4.6975, -4.8117, -4.9947, -5.0424, -5.0974, -5.1116, -5.1507, -5.1694, -5.241, -5.2824, -5.3102, -5.3188, -5.3215, -4.58, -3.79, -4.9903, -4.586, -5.0199, -4.8951, -4.5079, -4.8092, -4.8567, -4.9303, -2.6548, -3.7078, -3.7879, -3.8061, -3.8369, -3.9996, -4.1275, -4.1847, -4.1875, -4.1972, -4.239, -4.2728, -4.3875, -4.4195, -4.434, -4.4343, -4.4775, -4.5499, -4.7647, -4.8329, -4.8528, -4.9178, -5.0031, -5.0346, -5.0467, -5.0643, -5.074, -5.1192, -5.2619, -5.2886, -4.223, -3.952, -4.1196, -4.3729, -4.1441, -4.4319, -4.2797, -4.502, -4.5536, -3.7741, -3.8346, -3.9068, -4.0886, -4.2732, -4.2906, -4.2951, -4.3157, -4.3435, -4.3801, -4.4117, -4.7115, -4.7181, -4.8388, -4.8397, -4.8401, -4.8782, -4.8837, -5.038, -5.0649, -5.0894, -2.4164, -5.1047, -5.1351, -5.1481, -5.1526, -5.2477, -5.2597, -5.2711, -5.3802, -3.4443, -3.7239, -4.1163, -3.1368, -3.9079, -4.0373, -4.7847, -4.5465, -4.5288, -4.6785, -4.751, -4.8718, -3.415, -3.577, -3.7272, -3.7534, -3.767, -3.8072, -3.9195, -3.9387, -3.9429, -4.1874, -4.214, -4.2339, -4.2392, -4.2541, -4.2647, -4.3152, -4.3619, -4.4194, -4.4329, -4.4492, -4.4871, -4.5358, -4.5468, -4.5588, -4.5837, -4.585, -4.6127, -4.6424, -4.6474, -4.6602, -3.8511, -4.1706, -2.9334, -3.2532, -3.4058, -3.608, -3.7879, -3.8531, -4.3734, -4.448, -4.5116, -4.5274, -4.5541, -4.5557, -4.6456, -4.667, -4.7875, -4.92, -4.9936, -5.104, -5.1509, -5.2101, -5.359, -5.3866, -5.4152, -5.5163, -5.5232, -5.554, -5.5584, -5.5592, -5.561, -5.561, -3.1928, -3.2526, -4.8361, -4.6766, -4.5698, -5.1557, -5.0775, -4.7148, -4.9629, -4.8781, -5.0558, -5.0668, -2.5625, -2.6815, -2.8108, -3.2403, -3.4964, -3.8022, -3.9597, -4.0631, -4.1097, -4.2127, -4.2633, -4.2642, -4.2851, -4.3803, -4.4029, -4.53, -4.6894, -4.7402, -4.7453, -4.7483, -4.8187, -4.8818, -4.9076, -4.9342, -5.0296, -5.0343, -5.081, -5.1739, -5.241, -5.2713, -4.721, -4.7419, -5.0104, -2.5357, -2.7751, -3.1931, -3.2774, -3.3598, -3.5578, -3.6691, -3.6928, -4.1797, -4.2104, -4.2112, -4.2291, -4.2496, -4.3231, -4.3332, -4.4701, -4.5173, -4.6378, -4.6885, -4.6988, -4.727, -4.7437, -4.7703, -4.8397, -4.8539, -4.8684, -4.8771, -4.912, -4.947, -5.0241, -4.5333, -2.7327, -3.1817, -3.5462, -3.7113, -4.0535, -4.2488, -4.2791, -4.5802, -4.6477, -4.924, -5.101, -5.2939, -5.4744, -5.6118, -5.8015, -5.8468, -5.8571, -5.9155, -6.0513, -6.1811, -6.5239, -6.9029, -6.9601, -7.0132, -7.0219, -7.3191, -1.3873, -8.2171, -4.3019, -3.9347, -4.6186, -4.7496, -4.9767, -5.6108, -5.1121, -5.6258, -5.8283, -2.3617, -3.0112, -3.026, -3.247, -3.5286, -3.8172, -4.0501, -4.0644, -4.0805, -4.2683, -4.3929, -4.4485, -4.5732, -4.9334, -5.0039, -5.0431, -5.0598, -5.0965, -5.2174, -5.2281, -5.2314, -5.2701, -5.4032, -5.6821, -5.9109, -6.2833, -6.4642, -6.858, -6.8787, -6.8877, -2.3048, -3.1476, -3.7055, -4.6179, -4.792, -5.2476, -5.4867, -5.6377, -11.392, -11.392, -11.392, -11.392, -11.3921, -11.3921, -11.3921, -11.3921, -11.3921, -11.392, -11.3921, -11.3921, -11.3921, -11.3921, -11.3921, -11.3921, -11.3921, -11.3921, -11.3921, -11.3921, -11.3921, -11.3921, -11.3921, -11.3921, -11.3921, -11.3921, -11.3921, -11.3921, -11.3921, -11.3921, -3.52, -3.8477, -4.0025, -4.1312, -5.4336, -11.2647, -11.2648, -11.2648, -11.2648, -11.2648, -11.2648, -11.2648, -11.2648, -11.2648, -11.2648, -11.2648, -11.2648, -11.2648, -11.2648, -11.2648, -11.2648, -11.2648, -11.2648, -11.2648, -11.2648, -11.2648, -11.2648, -11.2648, -11.2648, -11.2648, -11.2648, -11.2648, -11.2648, -11.2648, -11.2648, -11.2648], \"loglift\": [30.0, 29.0, 28.0, 27.0, 26.0, 25.0, 24.0, 23.0, 22.0, 21.0, 20.0, 19.0, 18.0, 17.0, 16.0, 15.0, 14.0, 13.0, 12.0, 11.0, 10.0, 9.0, 8.0, 7.0, 6.0, 5.0, 4.0, 3.0, 2.0, 1.0, 0.9851, 0.9851, 0.9849, 0.9848, 0.9848, 0.9847, 0.9847, 0.9847, 0.9846, 0.9846, 0.9844, 0.9844, 0.9844, 0.9843, 0.9843, 0.9842, 0.9841, 0.984, 0.984, 0.984, 0.984, 0.984, 0.984, 0.9839, 0.9839, 0.9839, 0.9839, 0.9839, 0.9837, 0.9837, 0.9648, 0.9711, 0.9753, 0.953, 0.9595, 0.9483, 0.9569, 0.9295, 0.938, 0.9597, 0.9334, 0.9388, 0.8663, 0.8766, 0.8629, 0.8514, 0.8887, 0.8211, 0.8314, 0.8326, 0.8518, 0.7029, 0.7552, 0.7106, 0.802, 0.7493, 0.6914, 0.6683, 0.2347, 0.6644, 0.6441, 2.0651, 2.0651, 2.065, 2.0649, 2.0648, 2.0647, 2.0647, 2.0647, 2.0646, 2.0646, 2.0646, 2.0645, 2.0644, 2.0644, 2.0643, 2.0643, 2.0643, 2.0641, 2.064, 2.064, 2.0639, 2.0639, 2.0637, 2.0636, 2.0635, 2.0635, 2.0634, 2.0633, 2.0631, 2.0631, 2.0561, 2.0494, 2.053, 2.0134, 2.0182, 2.0242, 2.0187, 2.0138, 1.7395, 2.034, 1.7564, 1.9026, 1.7623, 1.4976, 1.9892, 1.771, 1.7061, 1.7079, 1.5071, 1.5664, 1.5937, 1.4755, -0.1256, 0.7462, 0.9204, 0.994, 0.734, 2.1044, 2.1043, 2.1042, 2.1041, 2.1041, 2.104, 2.1038, 2.1036, 2.1035, 2.1035, 2.1035, 2.1035, 2.1034, 2.1034, 2.1034, 2.1029, 2.1028, 2.1027, 2.1026, 2.1025, 2.1025, 2.1025, 2.1024, 2.1023, 2.1023, 2.1023, 2.1022, 2.1022, 2.1022, 2.1022, 2.0793, 2.0413, 2.0304, 1.9451, 1.9786, 2.0479, 2.0249, 1.9356, 1.9289, 1.9739, 1.8081, 1.2623, 1.4144, 1.4001, 1.3373, 0.6773, 1.0147, 0.5086, 1.3887, 0.8108, 0.7356, 0.5215, 0.2157, 0.256, 0.7086, 2.2102, 2.2099, 2.2098, 2.2098, 2.2098, 2.2097, 2.2097, 2.2097, 2.2096, 2.2096, 2.2095, 2.2093, 2.2093, 2.2091, 2.2091, 2.209, 2.209, 2.209, 2.2086, 2.2086, 2.2085, 2.2084, 2.2084, 2.2083, 2.2082, 2.2082, 2.2082, 2.2081, 2.208, 2.2079, 2.2072, 2.2055, 2.1924, 2.1969, 2.1858, 2.1477, 2.0082, 2.0891, 2.0347, 1.8056, 2.0795, 1.9871, 2.1016, 1.6966, 2.0781, 1.7051, 2.056, 1.8165, 1.3056, 2.0391, 1.6385, 1.3469, 1.4425, 0.8381, 0.523, -0.1216, 2.8762, 2.8761, 2.876, 2.8756, 2.8753, 2.8743, 2.8739, 2.8737, 2.8737, 2.8736, 2.8733, 2.8732, 2.8732, 2.8727, 2.8724, 2.8716, 2.8711, 2.8711, 2.8706, 2.8705, 2.8704, 2.8703, 2.8703, 2.87, 2.8698, 2.8698, 2.8697, 2.8696, 2.8696, 2.8695, 2.2421, -0.2048, 3.0145, 3.0145, 3.0143, 3.0142, 3.014, 3.0139, 3.0135, 3.0135, 3.0135, 3.0134, 3.0133, 3.0131, 3.0131, 3.0131, 3.0131, 3.013, 3.013, 3.013, 3.0129, 3.0128, 3.0127, 3.0127, 3.0127, 3.0126, 3.0124, 3.0123, 3.0122, 3.0122, 3.0122, 3.0121, 2.978, 2.9228, 2.1702, 2.2049, 1.8009, 1.454, 1.2218, 1.8762, 3.6642, 3.6636, 3.6634, 3.6631, 3.6631, 3.663, 3.663, 3.6629, 3.6629, 3.6628, 3.6626, 3.6623, 3.6621, 3.662, 3.6619, 3.6616, 3.6615, 3.6613, 3.6607, 3.6604, 3.6602, 3.6599, 3.6598, 3.6594, 3.6592, 3.659, 3.6589, 3.6588, 3.6584, 3.6584, 3.6544, 3.6306, 3.6404, 3.5192, 3.5774, 3.5289, 3.4545, 3.3529, 3.1847, 3.1631, 2.9474, 2.6109, 2.7835, 2.1841, 2.9028, 3.7149, 3.7139, 3.7138, 3.7135, 3.7134, 3.7133, 3.7128, 3.7128, 3.7127, 3.7127, 3.7126, 3.7126, 3.7126, 3.7122, 3.7121, 3.7114, 3.7112, 3.7107, 3.7107, 3.7105, 3.7104, 3.7102, 3.7098, 3.7098, 3.7098, 3.7096, 3.7095, 3.709, 3.7088, 3.7078, 3.6856, 3.496, 3.248, 2.8754, 2.4431, 2.1462, 2.3466, 1.4085, 2.1433, 2.0223, 1.9143, 0.9072, 2.2273, 3.7632, 3.7629, 3.7629, 3.7628, 3.7625, 3.7623, 3.7622, 3.7619, 3.7618, 3.7617, 3.7617, 3.7613, 3.761, 3.7609, 3.7606, 3.7606, 3.7606, 3.7604, 3.7601, 3.7599, 3.7598, 3.7593, 3.7591, 3.7587, 3.7587, 3.7585, 3.7584, 3.758, 3.7579, 3.7576, 3.7423, 3.7063, 3.5561, 3.5946, 3.4779, 2.9694, 3.4356, 3.4621, 2.3314, 4.1286, 4.1272, 4.1268, 4.1266, 4.1265, 4.1264, 4.1264, 4.1258, 4.1253, 4.1253, 4.1253, 4.1249, 4.1246, 4.1245, 4.1241, 4.124, 4.1238, 4.1238, 4.1232, 4.122, 4.1216, 4.1212, 4.1211, 4.1208, 4.1206, 4.12, 4.1196, 4.1193, 4.1193, 4.1192, 3.9871, 3.5159, 3.8741, 3.4139, 3.8493, 3.6301, 2.3278, 2.2979, 2.2284, 2.4498, 4.191, 4.1896, 4.1894, 4.1894, 4.1893, 4.1889, 4.1885, 4.1883, 4.1883, 4.1883, 4.1881, 4.188, 4.1875, 4.1874, 4.1873, 4.1873, 4.1871, 4.1868, 4.1856, 4.1852, 4.1851, 4.1846, 4.184, 4.1838, 4.1837, 4.1835, 4.1835, 4.1831, 4.1818, 4.1815, 4.0518, 3.8827, 3.4969, 3.6627, 3.2107, 3.4538, 3.2668, 2.9417, 2.2934, 4.2711, 4.271, 4.2708, 4.2702, 4.2696, 4.2695, 4.2695, 4.2694, 4.2693, 4.2691, 4.269, 4.2673, 4.2673, 4.2665, 4.2665, 4.2665, 4.2662, 4.2662, 4.2649, 4.2647, 4.2645, 4.2645, 4.2644, 4.2641, 4.2639, 4.2639, 4.2629, 4.2628, 4.2627, 4.2614, 4.1271, 4.0711, 4.0268, 3.7103, 3.8936, 3.8876, 4.0593, 3.8612, 3.7575, 3.809, 3.0937, 2.781, 4.5339, 4.5335, 4.533, 4.533, 4.5329, 4.5328, 4.5324, 4.5323, 4.5323, 4.5313, 4.5311, 4.531, 4.531, 4.5309, 4.5309, 4.5306, 4.5304, 4.53, 4.5299, 4.5298, 4.5296, 4.5293, 4.5292, 4.5291, 4.5289, 4.5289, 4.5287, 4.5285, 4.5285, 4.5284, 4.3533, 3.6741, 4.6359, 4.6354, 4.635, 4.6345, 4.6339, 4.6336, 4.6311, 4.6306, 4.6301, 4.63, 4.6298, 4.6298, 4.6291, 4.6289, 4.6278, 4.6264, 4.6256, 4.6242, 4.6236, 4.6228, 4.6204, 4.6199, 4.6194, 4.6175, 4.6174, 4.6168, 4.6167, 4.6167, 4.6166, 4.6166, 4.5267, 4.4687, 4.5653, 4.4325, 3.9606, 4.0871, 3.9332, 2.1902, 2.7348, 2.262, 2.7297, 2.6288, 4.919, 4.9188, 4.9186, 4.9176, 4.9168, 4.9155, 4.9147, 4.9141, 4.9138, 4.9131, 4.9127, 4.9127, 4.9126, 4.9118, 4.9116, 4.9104, 4.9087, 4.9081, 4.908, 4.908, 4.9071, 4.9062, 4.9059, 4.9055, 4.904, 4.9039, 4.9032, 4.9015, 4.9002, 4.8996, 4.7111, 4.471, 3.907, 4.9679, 4.9675, 4.9666, 4.9663, 4.9661, 4.9654, 4.9649, 4.9648, 4.9619, 4.9617, 4.9617, 4.9615, 4.9614, 4.9608, 4.9607, 4.9594, 4.959, 4.9576, 4.957, 4.9569, 4.9565, 4.9563, 4.956, 4.955, 4.9548, 4.9546, 4.9545, 4.954, 4.9534, 4.9521, 3.8744, 5.3131, 5.3117, 5.3099, 5.3089, 5.3063, 5.3043, 5.3039, 5.2998, 5.2988, 5.2935, 5.2892, 5.2837, 5.2776, 5.2721, 5.2632, 5.2609, 5.2603, 5.2571, 5.2489, 5.24, 5.2106, 5.1658, 5.1576, 5.1497, 5.1483, 5.0964, 5.0422, 4.8447, 3.9994, 3.7346, 2.7478, 2.0892, 2.2511, 2.8345, 1.7609, 1.7989, 0.5985, 5.6773, 5.6751, 5.675, 5.6738, 5.6719, 5.6692, 5.6665, 5.6663, 5.6661, 5.6632, 5.6611, 5.66, 5.6574, 5.6478, 5.6455, 5.6442, 5.6436, 5.6423, 5.6375, 5.6371, 5.6369, 5.6353, 5.6291, 5.6133, 5.5969, 5.5617, 5.5398, 5.4787, 5.4749, 5.4732, 6.7147, 6.7059, 6.6944, 6.6554, 6.6433, 6.6008, 6.5706, 6.5481, 2.6149, 2.6148, 2.6148, 2.6148, 2.6148, 2.6148, 2.6148, 2.6148, 2.6148, 2.6148, 2.6148, 2.6148, 2.6148, 2.6148, 2.6148, 2.6148, 2.6148, 2.6148, 2.6148, 2.6148, 2.6148, 2.6148, 2.6148, 2.6148, 2.6148, 2.6148, 2.6148, 2.6148, 2.6148, 2.6148, 7.5167, 7.4971, 7.4856, 7.4747, 7.2589, 2.7421, 2.7421, 2.7421, 2.7421, 2.7421, 2.7421, 2.7421, 2.7421, 2.7421, 2.7421, 2.7421, 2.7421, 2.7421, 2.7421, 2.7421, 2.7421, 2.7421, 2.7421, 2.7421, 2.7421, 2.7421, 2.7421, 2.7421, 2.7421, 2.7421, 2.7421, 2.7421, 2.7421, 2.742, 2.7421, 2.742]}, \"token.table\": {\"Topic\": [5, 19, 3, 17, 3, 4, 16, 18, 2, 3, 4, 18, 12, 8, 6, 8, 20, 13, 1, 2, 3, 4, 4, 4, 11, 15, 3, 7, 8, 8, 10, 19, 2, 2, 14, 6, 7, 4, 8, 3, 11, 14, 14, 1, 13, 3, 12, 10, 3, 4, 8, 14, 13, 15, 7, 2, 8, 10, 5, 18, 1, 1, 13, 15, 17, 6, 3, 3, 17, 7, 3, 1, 6, 12, 1, 2, 8, 17, 18, 1, 1, 8, 6, 2, 6, 5, 4, 2, 3, 7, 6, 9, 2, 8, 9, 12, 13, 7, 5, 1, 9, 6, 9, 2, 1, 4, 6, 10, 11, 17, 19, 1, 2, 3, 4, 5, 12, 5, 3, 4, 6, 17, 9, 16, 5, 1, 17, 6, 3, 4, 14, 8, 17, 4, 9, 3, 3, 3, 4, 17, 17, 18, 4, 6, 7, 3, 4, 20, 12, 8, 8, 1, 3, 6, 14, 9, 3, 14, 15, 7, 10, 2, 1, 3, 8, 11, 12, 1, 2, 8, 8, 12, 13, 13, 3, 7, 7, 12, 15, 16, 11, 8, 17, 6, 11, 2, 9, 9, 4, 1, 4, 12, 2, 17, 11, 8, 11, 8, 12, 11, 12, 1, 5, 17, 10, 8, 8, 2, 8, 10, 9, 6, 15, 9, 4, 5, 16, 7, 18, 2, 8, 17, 13, 4, 2, 9, 16, 11, 5, 4, 7, 2, 15, 9, 9, 6, 1, 3, 7, 16, 9, 17, 1, 2, 4, 9, 18, 12, 3, 10, 9, 13, 3, 4, 7, 11, 11, 5, 2, 8, 9, 16, 2, 10, 14, 17, 3, 5, 7, 2, 3, 15, 9, 3, 8, 15, 10, 1, 8, 1, 3, 4, 3, 3, 6, 5, 17, 1, 2, 17, 13, 2, 5, 2, 12, 5, 15, 2, 5, 1, 4, 11, 11, 1, 3, 4, 6, 10, 14, 4, 10, 12, 4, 2, 9, 4, 1, 1, 10, 19, 6, 14, 4, 1, 2, 1, 3, 6, 3, 1, 3, 6, 4, 8, 14, 4, 15, 3, 14, 13, 1, 2, 4, 17, 5, 1, 11, 11, 2, 15, 1, 7, 7, 1, 9, 13, 12, 16, 9, 14, 14, 12, 5, 1, 2, 6, 9, 3, 4, 16, 2, 19, 7, 17, 11, 12, 1, 9, 2, 10, 13, 11, 13, 15, 2, 3, 4, 7, 10, 1, 11, 3, 4, 8, 9, 10, 12, 2, 2, 7, 8, 11, 11, 2, 5, 16, 2, 2, 17, 6, 12, 12, 11, 13, 13, 13, 4, 4, 3, 4, 7, 8, 4, 4, 9, 7, 19, 12, 6, 15, 15, 16, 8, 4, 11, 14, 16, 18, 1, 3, 3, 14, 15, 17, 1, 4, 6, 14, 10, 3, 12, 12, 12, 7, 2, 2, 11, 3, 1, 3, 4, 1, 1, 2, 5, 1, 3, 4, 5, 3, 14, 1, 2, 4, 1, 3, 6, 1, 10, 1, 5, 2, 17, 2, 2, 5, 1, 3, 4, 1, 3, 4, 14, 6, 1, 2, 3, 4, 10, 14, 6, 18, 5, 1, 17, 17, 18, 1, 3, 4, 12, 7, 7, 16, 11, 14, 4, 2, 1, 2, 3, 8, 18, 6, 14, 6, 9, 4, 11, 18, 7, 6, 8, 10, 15, 8, 2, 17, 9, 5, 1, 10, 14, 2, 16, 8, 14, 5, 4, 5, 20, 8, 1, 3, 19, 4, 14, 13, 14, 18, 10, 4, 6, 7, 8, 12, 3, 4, 14, 1, 2, 8, 14, 7, 1, 6, 6, 1, 1, 2, 13, 3, 18, 8, 10, 12, 13, 12, 16, 14, 14, 1, 7, 11, 9, 10, 1, 2, 5, 6, 9, 10, 10, 2, 2, 7, 18, 12, 7, 5, 11, 12, 7, 15, 2, 17, 4, 6, 13, 1, 3, 4, 7, 15, 6, 12, 1, 2, 8, 16, 16, 10, 13, 10, 15, 6, 6, 15, 5, 1, 3, 6, 11, 4, 12, 18, 2, 16, 7, 12, 5, 14, 4, 1, 12, 9, 7, 11, 8, 8, 12, 8, 1, 9, 1, 2, 3, 11, 14, 16, 2, 10, 15, 12, 1, 2, 10, 13, 3, 4, 10, 8, 11, 12, 7, 7, 1, 3, 17, 16, 1, 2, 3, 10, 1, 6, 9, 10, 18, 1, 11, 1, 3, 1, 3, 1, 3, 4, 16, 18, 4, 19, 8, 11, 12, 16, 13, 3, 14, 1, 13, 6, 9, 1, 2, 5, 14, 4, 7, 14, 1, 2, 7, 10, 10, 16, 12, 3, 7, 16, 18, 12, 12, 1, 4, 1, 6, 9, 14, 4, 10, 16, 11, 16, 5, 18, 18, 11, 20, 3, 4, 1, 2, 6, 15, 6, 10, 14, 1, 1, 11, 9, 5, 10, 15, 1, 3, 4, 2, 15, 8, 9, 10, 3, 10, 7, 15, 6, 6, 5, 17, 17, 6, 17, 8, 4, 7, 8, 4, 8, 1, 3, 13, 9, 1, 2, 4, 6, 7, 3, 12, 13, 14, 6, 4, 8, 1, 7, 14, 1, 2, 3, 4, 18, 10, 1, 11, 10, 11, 1, 4, 10, 14, 18, 15, 2, 10, 4, 14, 12, 13, 13, 1, 2, 3, 4, 10, 14, 14, 10, 18, 10, 13, 3, 4, 16, 7, 8, 9, 13, 1, 2, 17, 18, 5, 17, 6, 1, 4, 7, 6, 9, 17, 13, 3, 7, 1, 5, 18, 11, 12, 17, 2, 10, 2, 4, 1, 4, 1, 7, 10, 14, 17, 16, 1, 2, 3, 8, 10, 1, 3, 4, 8, 1, 13, 12, 6, 2, 3, 8, 10, 16, 14, 11, 7, 9, 15, 1, 2, 3, 18, 1, 3, 1, 3, 11, 15, 4, 5, 1, 2, 3, 4, 16, 18, 9, 6, 7, 4, 20, 4, 14, 1, 2, 3, 4, 8, 3, 1, 2, 3, 14, 14, 14, 1, 16, 8, 9, 11, 7, 1, 2, 5, 6, 7, 2, 8, 1, 2, 3, 4, 8, 2, 8, 6, 10, 18, 1, 2, 18, 14, 15, 17, 13, 1, 2, 3, 4, 4, 14, 8, 9, 15, 1, 3, 4, 14, 11, 11, 1, 3, 4, 6, 2, 4, 9, 4, 1, 2, 17, 6, 2, 16, 15, 3, 14, 1, 2, 3, 1, 2, 14, 15, 1, 3, 4, 6, 1, 3, 4, 14, 1, 4, 6, 7, 18], \"Freq\": [0.9999237177419511, 0.9049637304084583, 0.99855885182258, 0.9747845351005544, 0.017427707792649957, 0.9817608723192809, 0.9922912417589738, 0.9676937634325632, 0.8498456379658957, 0.019031292278772954, 0.1305940401198558, 0.9619944774248995, 0.9942695205809711, 0.9973754381191907, 0.9982832728208418, 0.9978240247563378, 0.9368556047318859, 0.9966740828505308, 0.4845357355000762, 0.2673189147822302, 0.14610417107807502, 0.10182038471149032, 0.9975564086757436, 0.9990660187102569, 0.9909691321876571, 0.9914336348913074, 0.041341872079974695, 0.9150334353701066, 0.041341872079974695, 0.9979593455485135, 0.9906913222046418, 0.991220760568461, 0.9992147929283685, 0.9981354900158587, 0.9777451719501683, 0.26661798121894076, 0.7315894363882046, 0.9976188231697306, 0.9962733860410212, 0.9990702458931455, 0.996264520955259, 0.994441110128127, 0.998152754298794, 0.9998939378128335, 0.9952538354581056, 0.9976179514513822, 0.9891701525759947, 0.9953143937568246, 0.9989536718699482, 0.8568120977022317, 0.060434983000612466, 0.08187965438792658, 0.9951820413255191, 0.9901252014765136, 0.9934374855100488, 0.9496387603612337, 0.045605752017348004, 0.004041016001537165, 0.999975961682292, 0.9758290206236035, 0.999446182907318, 0.9995941686940131, 0.9926451802860852, 0.995209313322872, 0.9486793703622204, 0.9981642031951791, 0.9985115689381951, 0.9996098536545945, 0.9817829649904231, 0.9974496815202422, 0.9992400920287535, 0.9991024250659228, 0.18208302802706502, 0.8169986301040483, 0.22812380595117335, 0.554187691135801, 0.20837457186706118, 0.008867003058172816, 0.9442246757326594, 0.9986259900130258, 0.3711678717328712, 0.6259775614542471, 0.9969086445825047, 0.9841744403368519, 0.014488372412950501, 0.9961547698701465, 0.9968770698099867, 0.11808036751148558, 0.7434502108984951, 0.1378448925455969, 0.9978618004066412, 0.9987106841544012, 0.1758082225799895, 0.17031421562436483, 0.3804599816770085, 0.22525428518061152, 0.04807256086171588, 0.9966563037065488, 0.9937514419839203, 0.547196504073027, 0.4517819876065118, 0.9985601995854102, 0.9992171717005148, 0.9994995344223908, 0.27539601147986037, 0.2556366563961036, 0.034578871396574395, 0.037048790782044, 0.3964220613678708, 0.9515970970645348, 0.8944235754861527, 0.4042282854646599, 0.08737549862736109, 0.1038555748809203, 0.4045392302996327, 0.9928356846484564, 0.993330495979008, 0.9982478236309095, 0.998343558886062, 0.9756928554592923, 0.023203159463954633, 0.9658072863523389, 0.9963694283978954, 0.9963789964830834, 0.9961222516172948, 0.9991793329435673, 0.973256978408517, 0.9981102199070181, 0.4108648129866078, 0.5641725790263868, 0.024529242566364646, 0.970426324679924, 0.028338211947174938, 0.9969395231156428, 0.9947272329942802, 0.9974480375044752, 0.9994525291276843, 0.9986050242384541, 0.9992840925378458, 0.8039103087784026, 0.9927899367216922, 0.75561321024167, 0.8752838266178531, 0.09634271627878008, 0.02664798535370513, 0.9994141133851101, 0.9978409326576086, 0.8903769604551174, 0.9979418169548638, 0.9982985964203864, 0.9975974866955962, 0.6349543507628551, 0.05592862156978517, 0.21548968898946638, 0.09294020937331947, 0.9936384998029418, 0.5010349645771466, 0.13133926255905784, 0.36483128488627176, 0.9972475524474442, 0.994227845017771, 0.9987914348897122, 0.7454573099814864, 0.2542534626343191, 0.9978902328701463, 0.31909383847860123, 0.6796518480589416, 0.03549235168304518, 0.9539555413476254, 0.010253346041768608, 0.26788503807711656, 0.3078182114550718, 0.4226260849166932, 0.9948079813587656, 0.9977051934034584, 0.9955214807929677, 0.9923002884102802, 0.9946622044680583, 0.994547042644356, 0.9844659267559636, 0.9931737036618108, 0.9973038021504089, 0.9759018656560549, 0.9982226590087584, 0.9961546787649914, 0.999285631215714, 0.9973271387266823, 0.9981301612838754, 0.9983966983011201, 0.998299935563785, 0.4011395790562405, 0.59782737265801, 0.9987400756381887, 0.835584357538797, 0.9980596042486451, 0.12791469528226826, 0.8698199279194242, 0.9976471168129156, 0.9949484088911291, 0.9951664971059091, 0.997188913699714, 0.9860197713524145, 0.013571975085836692, 0.9919658027730408, 0.9950895359340101, 0.9898742075360223, 0.9953292826157152, 0.6598458518878584, 0.25431558874844545, 0.08498014759161814, 0.9962437053499406, 0.9986159465826965, 0.9986820531270066, 0.9964266794523885, 0.9991089788851865, 0.9971335985934545, 0.9796052507226978, 0.9971517306993138, 0.9551706959826963, 0.44263574378327586, 0.35047814413123735, 0.20526010831590394, 0.996172611267189, 0.9987827673387015, 0.9982876500549713, 0.97968093318338, 0.019293497590044683, 0.992426311516741, 0.9909101373558096, 0.9987765443700257, 0.9975765620431539, 0.998996982634175, 0.9978474357145126, 0.9988334029919621, 0.9982276334172013, 0.9981140924293275, 0.945780178668695, 0.05415847545897331, 0.9968094636274197, 0.9816643402412609, 0.23883211036806448, 0.7609490081608552, 0.04520069678215536, 0.954299710813255, 0.9982196783689667, 0.9948944650989016, 0.9708174002854658, 0.9835337038999805, 0.45729291857479015, 0.5417610372924265, 0.9974558856012077, 0.9928716209975792, 0.3224013535069949, 0.057615451006953464, 0.6178337725000967, 0.994756961690809, 0.9880206178300421, 0.9985617525098062, 0.9990243321211278, 0.9991298136120986, 0.9983220547626177, 0.9837505003868544, 0.9992206849058102, 0.9926763202074206, 0.992342424458926, 0.972415455743964, 0.9996860732084069, 0.9971274997954263, 0.9945022496183967, 0.0607838401045391, 0.9384570453523232, 0.9905368520914102, 0.9956835733317914, 0.9989709188288428, 0.9960031778844958, 0.9825241882323362, 0.9871699385441045, 0.9990604475829252, 0.9937392669481211, 0.08936105673254845, 0.48850711013793147, 0.42169908200931194, 0.9992483224952557, 0.9968413278690564, 0.9984594773908387, 0.9961774271053985, 0.6136225009285139, 0.46511353996365973, 0.48756110463372054, 0.04669093451372646, 0.9968925032906822, 0.991085093415251, 0.008336229757698373, 0.9978705076414557, 0.9970016247997271, 0.1790447243997112, 0.8138396563623236, 0.9995821328588306, 0.9962261950398105, 0.36819814335973333, 0.13112092155616403, 0.4993190649158974, 0.9975342911353025, 0.5554138129255712, 0.07032993641555368, 0.18810849431694324, 0.16643145912036847, 0.019509331676917287, 0.0002408559466286085, 0.9975409033914018, 0.9961361048063601, 0.992233238895522, 0.9993529277209743, 0.9989170964635364, 0.9939635387197284, 0.9974094782241412, 0.9992117344609134, 0.22143168579130396, 0.7750109002695639, 0.9234667555069489, 0.9996997446067313, 0.9905102229150373, 0.9965424666605626, 0.9637710029591283, 0.03608673573863605, 0.9997853513910304, 0.08621193436826151, 0.9121778862190251, 0.9998177735393985, 0.8584574295903342, 0.08223270663920879, 0.05910927419233109, 0.7995604438839393, 0.18387257189208045, 0.01623695742245102, 0.9989628199869792, 0.9982412714967709, 0.1027665001866482, 0.8955366444836486, 0.9919751844491411, 0.1633034091786062, 0.23324411231286982, 0.6031165749345336, 0.8741760964798447, 0.9911802590414807, 0.9991552046013487, 0.9994711671873745, 0.994996523344524, 0.9986966499759683, 0.9856037159758202, 0.9990843332738508, 0.9974608970271377, 0.9977897094838752, 0.9993693826885669, 0.9927547902813275, 0.9968947938076302, 0.9859947122863988, 0.9829766818218604, 0.9975117314393668, 0.984175884358573, 0.975257945282429, 0.9969351963870225, 0.9970815567864721, 0.8970544155764852, 0.10277641552636325, 0.15345605593533548, 0.8440083076443452, 0.9454005861625285, 0.05326200485422696, 0.990315977933364, 0.9977553609393409, 0.8990031638975461, 0.9969536099386034, 0.9963780447099123, 0.21529474122543027, 0.7804434369421848, 0.9992684968137524, 0.9973614754393884, 0.849355548467297, 0.14947412035354815, 0.9946522635792564, 0.9949277511663466, 0.9949757400110696, 0.9848912853959092, 0.7385670254403089, 0.006967613447550085, 0.2299312437691528, 0.019354481798750236, 0.005032165267675061, 0.712053560918598, 0.2863814791174956, 0.9977359549239171, 0.9856568799324646, 0.012206277150866435, 0.18669937925241967, 0.1803705867353885, 0.6297148554446019, 0.9993153354124004, 0.6069966041964117, 0.22752269518147789, 0.16528735760075391, 0.9937912180680274, 0.9954228809181763, 0.9983204712770601, 0.9957613502351017, 0.9922129073899947, 0.9989553740408251, 0.7276994766461046, 0.2679615401368327, 0.998720532734544, 0.9888491745554189, 0.9936052889883943, 0.9891172012107131, 0.9961071286454543, 0.995611092298429, 0.9933601328403375, 0.9991994333559608, 0.998589628299003, 0.08888245587656414, 0.838586648922366, 0.05506847809743647, 0.01690698888956383, 0.9989923465486789, 0.9986232757698261, 0.9972671344111308, 0.9909131617748962, 0.9119491904355803, 0.9910426184769278, 0.3529591992612943, 0.6405555838445712, 0.9809918404738889, 0.9915179571747955, 0.9996251890234635, 0.8855101908448487, 0.027306481656008554, 0.08647052524402708, 0.9894484749143018, 0.9882369830989768, 0.8486930236404439, 0.1512115805518856, 0.9975641079420013, 0.9854513046241233, 0.9757864978293479, 0.880610437574661, 0.6293120420607411, 0.06932395186289167, 0.2968061412093865, 0.004151134842089322, 0.9966511308518248, 0.008314383847022397, 0.990970624766982, 0.998104501889703, 0.9931736312553023, 0.9969797722195969, 0.9988066014735121, 0.4088170720454522, 0.5900660202429433, 0.9981649089330737, 0.021826089745737104, 0.844548417105883, 0.13338165955728232, 0.9983325958459803, 0.8878809975699455, 0.11178169989408657, 0.00026117219601422097, 0.23813657692066115, 0.08669488284208401, 0.6743545000817801, 0.9950054871513472, 0.9984988999014291, 0.9850451595047789, 0.9079175671000157, 0.09172728373315062, 0.9976238071652995, 0.48939894765321323, 0.06486878540322413, 0.44471156215321433, 0.9993393977032913, 0.9914722592472384, 0.9538809263440464, 0.04583309272942939, 0.9596644462704181, 0.039554970835495994, 0.9990288529379757, 0.999542945541318, 0.993088264235861, 0.7541002204109312, 0.1574624386521029, 0.0883297150254878, 0.028085401565681702, 0.881346649132583, 0.07400280412544702, 0.01604880089467526, 0.9975009045520414, 0.37071560296089756, 0.03943265113569626, 0.3361511803604724, 0.253391295260863, 0.9947875973386697, 0.9955342409764586, 0.9991273726044064, 0.9087542002925826, 0.999623665544391, 0.998923227575366, 0.9919971631065279, 0.9092374507328425, 0.9956835425104628, 0.3762922529120464, 0.49427686398396725, 0.12899650810530017, 0.9942720408119491, 0.9978639878286263, 0.992160221253116, 0.9969158182080761, 0.9947104618148962, 0.9777451719501683, 0.9988880756237685, 0.9991716909052089, 0.24048795580854593, 0.4619629749399205, 0.08889832554461206, 0.20760071398857383, 0.9950736916523475, 0.9976529191569935, 0.9752384623467409, 0.9985283919357849, 0.9967194512972549, 0.9968789263839102, 0.0016026992385593413, 0.9454296163045846, 0.9910502046488745, 0.9636651401886516, 0.03466421367585078, 0.9977635091541208, 0.9878392426313433, 0.9947066143164726, 0.9686365277709031, 0.029518268904982374, 0.9983022570499215, 0.9985295714442167, 0.9991424091188086, 0.9981319816640452, 0.9921729151265113, 0.9981806722262557, 0.9961479010888438, 0.9923247714142309, 0.9759500014291718, 0.999266926549235, 0.46871592765040815, 0.5306948932901315, 0.9301123739788435, 0.997144847069667, 0.9495327217844476, 0.05019105001881115, 0.979825099730671, 0.8500972318458972, 0.149002282334613, 0.8321956470813746, 0.1645315176178076, 0.9622961833807318, 0.9973120323688979, 0.16923166988608704, 0.16138071612848506, 0.4876314611666116, 0.11863663455931875, 0.0619353018655267, 0.9978804790352552, 0.41756406186839007, 0.5792017632367992, 0.6510142916092796, 0.31812075424612607, 0.030557400694125342, 0.992339266601842, 0.9917424142160935, 0.6791481882138148, 0.3200520206805184, 0.9977752757553494, 0.9979564620364271, 0.9746811483932516, 0.025174246393087914, 0.9963024229937675, 0.9983248082220458, 0.8915103396095826, 0.9979509158167803, 0.755522629547029, 0.24102562414997242, 0.9962331285610323, 0.6632761691592647, 0.33602096675469356, 0.9910947027477929, 0.9956922437978157, 0.5315160141412397, 0.46633008787863484, 0.9950364115872854, 0.9959300202965371, 0.9979967953085754, 0.9683007147003972, 0.03139229315994556, 0.0002859043092891216, 0.25672980375308996, 0.739286749696398, 0.9929649865220352, 0.9987707821348012, 0.9978628069931653, 0.39314471841736165, 0.6053387220664674, 0.9764544900973774, 0.9919667026181468, 0.9979653694574387, 0.9932919078333126, 0.9952079376995508, 0.9934719202465002, 0.9988774267598353, 0.9968700752807385, 0.9879193663867784, 0.010829810350159567, 0.9979698297811613, 0.9983478247378216, 0.9902960411050843, 0.13027345858923658, 0.20270116313329875, 0.6669133393458235, 0.9946505080481279, 0.9711368275624448, 0.9967931762222192, 0.9961583925813129, 0.20215364700127736, 0.571125140918243, 0.22598476798923284, 0.9985094510631469, 0.9976481764633394, 0.9948303751245426, 0.9950259667415763, 0.993304857007093, 0.990958453146245, 0.99931891047012, 0.998929929990365, 0.9954507979680349, 0.9948954842787924, 0.4106251281114888, 0.5015365664936243, 0.08761018503306349, 0.9974673475867915, 0.9954499780086967, 0.0039817999120347865, 0.980888637227761, 0.9972334625281948, 0.9865525964021983, 0.8729294288601546, 0.12407118785829609, 0.9915730511058382, 0.9922707260450563, 0.9982585107139521, 0.9991286214021823, 0.9917347105076533, 0.9994306578561857, 0.9922606807491948, 0.9935979052601808, 0.9953248357918291, 0.3139530778010454, 0.6836846212012613, 0.9933721902041182, 0.9994471453396941, 0.9917879527511252, 0.6531078801342457, 0.342436694654727, 0.004055171384069135, 0.1767600110806643, 0.8130960509710558, 0.9965210664850708, 0.9493457500971194, 0.05022817388390506, 0.993035918540028, 0.9932346747997537, 0.3672881106078609, 0.14186260356811556, 0.48971748081048116, 0.996341790630211, 0.9238392280583575, 0.07555936979757559, 0.9948343417864743, 0.28040086608424136, 0.1497107468808641, 0.5693916930550897, 0.9948541246983131, 0.9981483237825479, 0.9902043369612011, 0.009106429042721598, 0.9917252414507796, 0.9829638933007426, 0.41508962664180316, 0.12038433244199649, 0.4642998502959218, 0.9897259042422787, 0.1156216796135735, 0.05781083980678675, 0.8115752511337371, 0.011117469193612837, 0.9842993696890715, 0.6239455174524765, 0.37518292552697935, 0.9992877769277617, 0.9986089231418146, 0.9545555692847785, 0.04493494670709647, 0.11941926417691447, 0.8524164425993798, 0.027758473029016437, 0.9894467556600971, 0.97896068440061, 0.9983822238754401, 0.9640117070800919, 0.9968080419690415, 0.9911609104922408, 0.9942510345262807, 0.9916246455872239, 0.9918918341808263, 0.9992008596987664, 0.9710447921443913, 0.9990015571813831, 0.9922258849211005, 0.053168784864389314, 0.9433171508198104, 0.8751260647484018, 0.11751895546607827, 0.0016551965558602574, 0.0054385029692551315, 0.03325929630086292, 0.9658499645770592, 0.9849554261080982, 0.33794209047627116, 0.1480392640506466, 0.34825630149619324, 0.1650273763187536, 0.9970301695854554, 0.987967327461662, 0.9929277393196893, 0.9981756512902686, 0.9977081640304045, 0.994136999696346, 0.852359518578596, 0.9984785064281374, 0.994327206696636, 0.4018088824423793, 0.5979069973185643, 0.49311424197787507, 0.05877233697992116, 0.31249681613714175, 0.13474633356372168, 0.1302182621628603, 0.866979482294833, 0.9908723351659908, 0.9952808463134735, 0.9824277421226835, 0.9979169429177961, 0.9960158757721724, 0.9873652318338535, 0.9972962689520274, 0.6363219149188052, 0.12220996727542788, 0.877036235741306, 0.21758320556983582, 0.572269699193584, 0.20982264209508605, 0.9914834328268659, 0.042942167198691615, 0.4459378901402591, 0.5086995191229622, 0.9998069092773754, 0.26359093683972085, 0.7347597364407219, 0.9987760594541877, 0.9979996285624761, 0.9953692447883293, 0.991311321983134, 0.4721177614307307, 0.430717516934812, 0.09708025246770242, 0.9989426126615124, 0.9874968445901854, 0.994704766164612, 0.9983783704192372, 0.9945742053223611, 0.8388293440700297, 0.15996650679134342, 0.9978680564705852, 0.9891421560888931, 0.9976953238463422, 0.9981547291571294, 0.9993825060206855, 0.9969204162984676, 0.9564535306700174, 0.998089549545399, 0.9278698975013255, 0.9976316047849663, 0.02266641951562848, 0.9759152847006708, 0.9965213253439312, 0.19509240174507975, 0.803457465175003, 0.7944388219993911, 0.20528665800222975, 0.9972016075730582, 0.9990649600882661, 0.10410214686797675, 0.6980967495852559, 0.1876463067494203, 0.005686251719679403, 0.004374039784368771, 0.9995180261092029, 0.8090907016840073, 0.18984251100965535, 0.9812194524440507, 0.9987351763465356, 0.9983702479480879, 0.9988728907624994, 0.5850740890396288, 0.41360171242860355, 0.9857222900838566, 0.11708662816252419, 0.6993795145799816, 0.07895496764982474, 0.10407700281113261, 0.9081783202796788, 0.9903843201578646, 0.520115994095721, 0.47850671456806326, 0.9943748090613733, 0.9950781490464053, 0.10268536147776762, 0.8967854902391705, 0.9949682428936337, 0.9943033098212753, 0.9576302337043295, 0.989675217209582, 0.9991470655178863, 0.9933940443031123, 0.1529646901817432, 0.8442474246569287, 0.9944817121487033, 0.995880220214628, 0.992305593066839, 0.9990893379972334, 0.7449153939717384, 0.196030366834668, 0.008253910182512337, 0.027341077479572116, 0.02321412238831595, 0.9942675323797528, 0.9993100796753898, 0.9582199211171464, 0.9911699151210215, 0.9933964633723263, 0.8775996179654992, 0.12169645209668141, 0.9867150105256195, 0.809849554365401, 0.030059917956794358, 0.15914074212420543, 0.9939814571793977, 0.47030838591247026, 0.45174358120539904, 0.07632197490684824, 0.001031378039281733, 0.9959393970418425, 0.8950929527545028, 0.997670415097129, 0.18307079522260014, 0.8166549386886424, 0.9943982511372862, 0.2456436737689415, 0.750798002890555, 0.9843162637057153, 0.9937825745075862, 0.13504622661306787, 0.8640848405945514, 0.9990804776642139, 0.9918272555802531, 0.9852022303287022, 0.13420670961751405, 0.8634809052749489, 0.9800542771733981, 0.8124800259104666, 0.1861279853437105, 0.6240054211762989, 0.37543699662640273, 0.9747987424922145, 0.024687377704216723, 0.1643159109370567, 0.22675595709313826, 0.6079688704671098, 0.9848231491320849, 0.9579037645138262, 0.9869941022717325, 0.03971452890187044, 0.7218596751062442, 0.12911595739903253, 0.09954875306239772, 0.009622462949792398, 0.8325486422971217, 0.05873001855173079, 0.10854927566802657, 0.9970518751113508, 0.9990879378054837, 0.9944364801446919, 0.9966316099685294, 0.9994016934386012, 0.46765964587664166, 0.028471506938085697, 0.43191881801819365, 0.071481655716896, 0.9873020662200377, 0.9829888390057299, 0.9973115702989626, 0.9893159461831159, 0.010077921353308482, 0.9959795769903145, 0.2655527805175192, 0.7340617878895495, 0.9967378084393955, 0.9588518664083988, 0.7256045607267079, 0.27415948934962, 0.759937228939108, 0.23992563041173337, 0.9934853111578178, 0.9755830020873347, 0.997790162906168, 0.9963267942974058, 0.8747701751581083, 0.003395517419342487, 0.055743077634205836, 0.06592962989223329, 0.9872356712876953, 0.7611535577579445, 0.997209684885899, 0.9985628675205207, 0.9963769761851227, 0.99660056726005, 0.9314158569854706, 0.5019623806790585, 0.49662235535268556, 0.06308945550259265, 0.005459664418493595, 0.9281429511439112, 0.0024265175193304866, 0.99830530432306, 0.9991732608512499, 0.7898497136632305, 0.09123228277623442, 0.11862460589267206, 0.998115976286603, 0.9960357844257628, 0.998137060653204, 0.9990488088087277, 0.9923478090520135, 0.2774664236791439, 0.7202319933799055, 0.9948808815965231, 0.997069846192058, 0.8574565000393586, 0.09967808796981559, 0.000843538121042163, 0.03627213920481301, 0.00576417716045478, 0.9985632270907673, 0.9953674253545818, 0.3134535772852381, 0.566740071252593, 0.037085082045037986, 0.02215872122193141, 0.06032096332636884, 0.926125830116923, 0.0722509512857174, 0.9965067362413697, 0.9884783408225704, 0.9765864954748948, 0.9995405265217813, 0.9994046026054921, 0.9983419747335481, 0.9979429766270599, 0.9899468473348174, 0.9807952025487818, 0.9971907702252345, 0.9720915785439179, 0.0034485719606107273, 0.02008286024120365, 0.0042600006572250165, 0.9391361039524445, 0.059744149470188995, 0.9922061900457044, 0.9952417512961824, 0.9925433459148895, 0.7110983125449176, 0.24748049628514582, 0.033302124829927275, 0.008053455024230778, 0.9983030238310578, 0.997063476375835, 0.884836308551861, 0.0899039623613998, 0.003626378313737135, 0.021456071689611382, 0.07544216169112354, 0.8418907898864512, 0.08090898500207452, 0.9991203745415305, 0.4308063205177208, 0.48238172508674365, 0.08494772517250831, 0.9996131906648562, 0.9997433024398898, 0.9969390050367805, 0.9894664797756577, 0.8489503438940577, 0.1493922770981083, 0.998637460200705, 0.023977608784616345, 0.9750894239077313, 0.7284561378221297, 0.26405554834402817, 0.007253196205441011, 0.9959895698454897, 0.16530656821574385, 0.3403945901720643, 0.46364090730332896, 0.030322506595787335, 0.9797793642385279, 0.02013574761323481, 0.06314140761176448, 0.9313357622735262, 0.37341318313439253, 0.18501268095821968, 0.42968865781039217, 0.011669161972949767, 0.9942020719568704], \"Term\": [\"_\", \"absurd\", \"accept\", \"acquisition\", \"action\", \"action\", \"adam\", \"added_forwarde\", \"address\", \"address\", \"address\", \"adjust\", \"administration\", \"agency\", \"air\", \"algorithm\", \"allen\", \"alone\", \"also\", \"also\", \"also\", \"also\", \"america\", \"american\", \"ammunition\", \"amp\", \"analysis\", \"analysis\", \"analysis\", \"announcement\", \"apollo\", \"apple\", \"application\", \"appreciate\", \"appressian\", \"april\", \"april\", \"arab\", \"archive\", \"argument\", \"arm\", \"armenia\", \"armenian\", \"article\", \"assist\", \"associate\", \"assure\", \"astronomy\", \"atheist\", \"attack\", \"attack\", \"attack\", \"attention\", \"austin\", \"australia\", \"available\", \"available\", \"available\", \"ax\", \"axis\", \"back\", \"bad\", \"ban\", \"bar\", \"bare\", \"baseball\", \"belief\", \"believe\", \"bell_lab\", \"benefit\", \"bible\", \"bike\", \"bill\", \"bill\", \"bit\", \"bit\", \"bit\", \"bit\", \"bk\", \"black\", \"block\", \"block\", \"blue\", \"board\", \"board\", \"bolt\", \"bomb\", \"book\", \"book\", \"book\", \"boston\", \"brain\", \"break\", \"break\", \"break\", \"break\", \"break\", \"btw\", \"buffer\", \"buy\", \"buy\", \"canada\", \"car\", \"card\", \"carry\", \"carry\", \"carry\", \"carry\", \"carry\", \"carrying\", \"cart\", \"case\", \"case\", \"case\", \"case\", \"catalog\", \"cbr\", \"cds\", \"certain\", \"certainly\", \"certainly\", \"changing_oil\", \"channel\", \"character\", \"charle\", \"cheap\", \"checking\", \"chicago\", \"child\", \"child\", \"child\", \"chip\", \"chip\", \"choice\", \"chris\", \"christ\", \"christian\", \"christianity\", \"church\", \"churchill\", \"circuit\", \"circumference\", \"city\", \"city\", \"city\", \"claim\", \"clearly\", \"click\", \"clinton\", \"clipper\", \"clipper_chip\", \"close\", \"close\", \"close\", \"close\", \"co\", \"cold\", \"cold\", \"cold\", \"college\", \"collin\", \"color\", \"come\", \"come\", \"communication\", \"community\", \"community\", \"computer\", \"computer\", \"computer\", \"concern\", \"concern\", \"concern\", \"concerned\", \"conclusion\", \"conference\", \"confirm\", \"congress\", \"consequence\", \"conservative\", \"consideration\", \"controller\", \"converter\", \"cool\", \"cop\", \"copy\", \"corp\", \"corporation\", \"country\", \"couple\", \"court\", \"court\", \"cpu\", \"cradle\", \"crime\", \"criminal\", \"criminal\", \"crypto\", \"cryptography\", \"cub\", \"cycle\", \"d\", \"d\", \"dale\", \"dan\", \"daniel\", \"data\", \"datum\", \"datum\", \"datum\", \"daughter\", \"dave\", \"david\", \"dealer\", \"death\", \"default\", \"deficit\", \"detroit\", \"developer\", \"device\", \"device\", \"device\", \"devil\", \"die\", \"digital\", \"direct\", \"direct\", \"director\", \"dirt\", \"discussion\", \"disease\", \"disk\", \"display\", \"distribution\", \"distribution_na\", \"division\", \"do\", \"do\", \"doctor\", \"download\", \"drive\", \"drive\", \"driver\", \"driver\", \"drug\", \"dual\", \"ducati\", \"dumb\", \"earth\", \"earth\", \"eat\", \"economic\", \"effect\", \"effect\", \"effect\", \"effective\", \"effectively\", \"el\", \"email\", \"encryption\", \"engine\", \"england\", \"entry\", \"environmental\", \"escape\", \"esdi\", \"evidence\", \"ex\", \"exchange\", \"exist\", \"exist\", \"expand\", \"expansion\", \"explain\", \"export\", \"exposure\", \"extension\", \"face\", \"facility\", \"fact\", \"fact\", \"fact\", \"faith\", \"family\", \"fan\", \"fancy\", \"fasst\", \"fast\", \"fast\", \"fast\", \"father\", \"fax\", \"fax\", \"feature\", \"federal\", \"fi\", \"fi\", \"file\", \"film\", \"fire\", \"fire\", \"fire\", \"firearm\", \"first\", \"first\", \"first\", \"first\", \"first\", \"first\", \"flame\", \"flight\", \"flow\", \"force\", \"format\", \"frame\", \"freedom\", \"friend\", \"fuel\", \"fuel\", \"fuzzy\", \"game\", \"genocide\", \"germany\", \"get\", \"get\", \"go\", \"goal\", \"goal\", \"god\", \"good\", \"good\", \"good\", \"government\", \"government\", \"government\", \"grant\", \"graphic\", \"greek\", \"greek\", \"green\", \"group\", \"group\", \"group\", \"grubb\", \"gt\", \"guess\", \"gun\", \"handgun\", \"hardware\", \"harry\", \"have\", \"headache\", \"health\", \"hear\", \"heat\", \"helmet\", \"hmmm\", \"ho\", \"hole\", \"holocaust\", \"homeland\", \"homosexual\", \"honda\", \"host\", \"host\", \"hot\", \"hot\", \"human\", \"human\", \"human_being\", \"ibm\", \"ibm_pc\", \"ice\", \"ide\", \"ignore\", \"ignore\", \"ill\", \"illinois\", \"image\", \"image\", \"immediate\", \"impact\", \"imply\", \"impressive\", \"include\", \"include\", \"include\", \"include\", \"include\", \"increase\", \"increase\", \"indeed\", \"individual\", \"individual\", \"industry\", \"industry\", \"industry\", \"info\", \"information\", \"information\", \"information\", \"informed\", \"inhabitant\", \"input\", \"ins_cwru\", \"insert\", \"instal\", \"interface\", \"interface\", \"internet\", \"introduce\", \"investment\", \"invite\", \"iran\", \"islam\", \"islamic\", \"israel\", \"israeli\", \"issue\", \"issue\", \"issue\", \"issue\", \"jew\", \"jewish\", \"joseph\", \"journal\", \"judaism\", \"july\", \"ken\", \"ken\", \"kenneth\", \"kevin\", \"key\", \"kill\", \"kill\", \"kill\", \"kit\", \"km\", \"know\", \"know\", \"knowledge\", \"kurd\", \"lance\", \"las_cruce\", \"last\", \"last\", \"last\", \"last\", \"launch\", \"law\", \"law\", \"legal\", \"legitimate\", \"letter\", \"library\", \"license\", \"license\", \"lie\", \"life\", \"life\", \"life\", \"light\", \"line\", \"line\", \"line\", \"live\", \"live\", \"live\", \"log\", \"logic\", \"longer_exist\", \"look\", \"look\", \"lord\", \"lose\", \"lose\", \"lose\", \"lot\", \"lunar\", \"m\", \"m\", \"mac\", \"mac\", \"machine\", \"mail\", \"mailing_list\", \"make\", \"make\", \"make\", \"man\", \"man\", \"man\", \"man\", \"manager\", \"many\", \"many\", \"many\", \"many\", \"mar\", \"massacre\", \"master\", \"mate\", \"max\", \"maybe\", \"mb\", \"mb_burst\", \"md\", \"mean\", \"mean\", \"mean\", \"meaning\", \"medical\", \"medicine\", \"medium\", \"meeting\", \"melkonian\", \"member\", \"memory\", \"message\", \"message\", \"message\", \"message\", \"mhz\", \"michael\", \"might_serve\", \"mike\", \"mile\", \"military\", \"military\", \"minimal\", \"minnesota\", \"miss\", \"miss\", \"mission\", \"mix\", \"mo\", \"mode\", \"mode\", \"model\", \"modem\", \"money\", \"moon\", \"moslem\", \"motherboard\", \"motif\", \"motorola\", \"mountain_passe\", \"mouse\", \"mr\", \"mr\", \"ms_window\", \"mu\", \"much\", \"much\", \"multiple\", \"murder\", \"murder\", \"muslim\", \"muslim\", \"n\", \"nasa\", \"national\", \"national\", \"national\", \"national\", \"national\", \"nature\", \"nazi\", \"nazi\", \"need\", \"need\", \"need\", \"netcom\", \"newspaper\", \"next\", \"next\", \"nhl\", \"nice\", \"nntp_poste\", \"nntp_poste\", \"normal\", \"notice\", \"ns_simms\", \"nsa\", \"nuclear\", \"nuclear\", \"observation\", \"obtain\", \"obtain\", \"occupation\", \"occupy\", \"office\", \"office\", \"officer\", \"oil\", \"orbit\", \"organization\", \"organization\", \"organization\", \"owner\", \"owner\", \"ozone\", \"pa\", \"package\", \"page\", \"page\", \"paint\", \"panel\", \"paper\", \"parameter\", \"particularly\", \"partner\", \"patient\", \"paul\", \"pc\", \"pc\", \"peace\", \"pen\", \"penalty\", \"people\", \"people\", \"people\", \"percent\", \"peripheral\", \"peter\", \"pgp\", \"phone\", \"phone\", \"phone\", \"physical\", \"pin\", \"plane\", \"planet\", \"planetary\", \"platform\", \"play\", \"player\", \"please_respond\", \"plot\", \"point\", \"point\", \"point\", \"police\", \"policy\", \"policy\", \"pop\", \"port\", \"positively\", \"possibly\", \"possibly\", \"pp\", \"preach\", \"president\", \"pretty\", \"previously\", \"price\", \"primary\", \"prior\", \"privacy\", \"private\", \"private\", \"prize\", \"probably\", \"probe\", \"problem\", \"problem\", \"problem\", \"proceed\", \"proceed\", \"processor\", \"program\", \"program\", \"programmer\", \"prohibit\", \"project\", \"project\", \"project\", \"proof\", \"prove\", \"prove\", \"pub\", \"public\", \"public\", \"public\", \"publication\", \"publish\", \"put\", \"put\", \"quadra\", \"qualified\", \"question\", \"question\", \"question\", \"radiation\", \"radio\", \"radio\", \"radio\", \"radio\", \"radius\", \"rate\", \"rate\", \"re\", \"reality\", \"really\", \"really\", \"reason\", \"reason\", \"reason\", \"receiver\", \"recommendation\", \"refer\", \"reflect\", \"register\", \"regularly\", \"regulation\", \"related\", \"relation\", \"religion\", \"remainder\", \"remember\", \"remind\", \"replace\", \"replace\", \"reply\", \"reply\", \"reply\", \"reply\", \"report\", \"report\", \"republic\", \"research\", \"research\", \"research\", \"research\", \"resource\", \"responce\", \"restriction\", \"revelation\", \"review\", \"richard\", \"richardson_tx\", \"ride\", \"rider\", \"right\", \"right\", \"road\", \"road\", \"road\", \"road\", \"rocket\", \"rocket\", \"roger\", \"role\", \"rom\", \"ron\", \"route\", \"rs\", \"rsa\", \"rude\", \"rule\", \"rule\", \"run\", \"run\", \"run\", \"russia\", \"russian\", \"russian\", \"russian\", \"s\", \"safety\", \"safety\", \"sale\", \"sam\", \"satellite\", \"saturday\", \"say\", \"say\", \"say\", \"scan\", \"scare\", \"scheme\", \"school\", \"sci\", \"science\", \"science\", \"scientific\", \"scope\", \"score\", \"scott\", \"screen\", \"scsi\", \"scsi_controller\", \"season\", \"seattle_wa\", \"secret\", \"section\", \"section\", \"secure\", \"security\", \"security\", \"see\", \"see\", \"self\", \"sell\", \"send\", \"send\", \"send\", \"send\", \"send\", \"sense\", \"sentence\", \"sentence\", \"serdar_argic\", \"series\", \"serve\", \"server\", \"service\", \"service\", \"services_gu\", \"set\", \"set\", \"set\", \"set\", \"sez\", \"sgi\", \"shoot\", \"shoot\", \"shuttle\", \"significant\", \"situation\", \"situation\", \"sky\", \"slaughter\", \"smartdrv\", \"soft\", \"software\", \"solar\", \"soldier\", \"soldier\", \"solid\", \"son\", \"soul\", \"sound\", \"source\", \"source\", \"source\", \"source\", \"source\", \"soviet\", \"space\", \"space_dig\", \"space_station\", \"spacecraft\", \"speak\", \"speak\", \"speaker\", \"special\", \"special\", \"special\", \"specify\", \"speed\", \"speed\", \"speed\", \"speed\", \"stable\", \"stall\", \"star\", \"state\", \"state\", \"statistic\", \"steal\", \"steal\", \"stream\", \"strip\", \"study\", \"study\", \"stuff\", \"subscription\", \"suck\", \"suggest\", \"suggest\", \"suitable\", \"sun\", \"sun\", \"support\", \"support\", \"sure\", \"sure\", \"surface\", \"surface\", \"surface\", \"survivor\", \"synchronous\", \"sys\", \"system\", \"system\", \"system\", \"system\", \"system\", \"take\", \"take\", \"take\", \"tap\", \"tape\", \"task\", \"tax\", \"team\", \"technology\", \"technology\", \"technology\", \"technology\", \"tel\", \"television\", \"terrorism\", \"test\", \"test\", \"texas\", \"thank\", \"thank\", \"therefore\", \"thick\", \"thing\", \"thing\", \"think\", \"think\", \"threat\", \"thumb\", \"thus\", \"tight\", \"time\", \"time\", \"time\", \"time\", \"tip\", \"tom_mcwilliam\", \"track\", \"trade\", \"treatment\", \"trial\", \"trivial\", \"troop\", \"troop\", \"true\", \"true\", \"true\", \"true\", \"trust\", \"truth\", \"try\", \"try\", \"try\", \"turk\", \"turkey\", \"turkish\", \"turn\", \"uk\", \"unit\", \"unit\", \"united_state\", \"univ\", \"university\", \"university\", \"university\", \"university\", \"university\", \"unix\", \"unknown\", \"use\", \"use\", \"use\", \"use\", \"use\", \"user\", \"user\", \"van\", \"variable\", \"variation\", \"ve\", \"version\", \"video\", \"village\", \"virginia\", \"voltage\", \"vote\", \"want\", \"want\", \"want\", \"want\", \"war\", \"war\", \"warrant\", \"warranty\", \"wave\", \"way\", \"way\", \"way\", \"way\", \"weapon\", \"weight\", \"well\", \"well\", \"well\", \"well\", \"white\", \"white\", \"white\", \"whole\", \"wide\", \"wide\", \"wide\", \"win\", \"window\", \"wing\", \"winter\", \"woman\", \"woman\", \"wonder\", \"word\", \"word\", \"work\", \"work\", \"work\", \"workstation\", \"world\", \"world\", \"world\", \"world\", \"write\", \"write\", \"wwii\", \"wwii\", \"year\", \"year\", \"year\", \"year\", \"zone\"]}, \"R\": 30, \"lambda.step\": 0.01, \"plot.opts\": {\"xlab\": \"PC1\", \"ylab\": \"PC2\"}, \"topic.order\": [16, 15, 10, 4, 1, 9, 8, 2, 14, 17, 6, 7, 3, 13, 19, 18, 20, 11, 12, 5]};\n",
       "\n",
       "function LDAvis_load_lib(url, callback){\n",
       "  var s = document.createElement('script');\n",
       "  s.src = url;\n",
       "  s.async = true;\n",
       "  s.onreadystatechange = s.onload = callback;\n",
       "  s.onerror = function(){console.warn(\"failed to load library \" + url);};\n",
       "  document.getElementsByTagName(\"head\")[0].appendChild(s);\n",
       "}\n",
       "\n",
       "if(typeof(LDAvis) !== \"undefined\"){\n",
       "   // already loaded: just create the visualization\n",
       "   !function(LDAvis){\n",
       "       new LDAvis(\"#\" + \"ldavis_el45171396407091138882959276095\", ldavis_el45171396407091138882959276095_data);\n",
       "   }(LDAvis);\n",
       "}else if(typeof define === \"function\" && define.amd){\n",
       "   // require.js is available: use it to load d3/LDAvis\n",
       "   require.config({paths: {d3: \"https://d3js.org/d3.v5\"}});\n",
       "   require([\"d3\"], function(d3){\n",
       "      window.d3 = d3;\n",
       "      LDAvis_load_lib(\"https://cdn.jsdelivr.net/gh/bmabey/pyLDAvis@3.3.1/pyLDAvis/js/ldavis.v3.0.0.js\", function(){\n",
       "        new LDAvis(\"#\" + \"ldavis_el45171396407091138882959276095\", ldavis_el45171396407091138882959276095_data);\n",
       "      });\n",
       "    });\n",
       "}else{\n",
       "    // require.js not available: dynamically load d3 & LDAvis\n",
       "    LDAvis_load_lib(\"https://d3js.org/d3.v5.js\", function(){\n",
       "         LDAvis_load_lib(\"https://cdn.jsdelivr.net/gh/bmabey/pyLDAvis@3.3.1/pyLDAvis/js/ldavis.v3.0.0.js\", function(){\n",
       "                 new LDAvis(\"#\" + \"ldavis_el45171396407091138882959276095\", ldavis_el45171396407091138882959276095_data);\n",
       "            })\n",
       "         });\n",
       "}\n",
       "</script>"
      ],
      "text/plain": [
       "PreparedData(topic_coordinates=              x         y  topics  cluster       Freq\n",
       "topic                                                \n",
       "15    -0.380210 -0.059185       1        1  37.336160\n",
       "14    -0.279709  0.252937       2        1  12.675935\n",
       "9     -0.336351 -0.091878       3        1  12.189029\n",
       "3     -0.293166 -0.108159       4        1  10.961358\n",
       "0      0.013248 -0.085931       5        1   5.634582\n",
       "8     -0.118498 -0.167956       6        1   4.905026\n",
       "7     -0.018359  0.011658       7        1   2.559531\n",
       "1     -0.039473  0.259524       8        1   2.434722\n",
       "13     0.024025  0.065406       9        1   2.319596\n",
       "16     0.023623  0.089729      10        1   1.609666\n",
       "5      0.077405 -0.004269      11        1   1.512056\n",
       "6      0.084438  0.039256      12        1   1.393184\n",
       "2      0.121325 -0.014353      13        1   1.071527\n",
       "12     0.102506 -0.069289      14        1   0.968244\n",
       "18     0.153380 -0.035470      15        1   0.729643\n",
       "17     0.142396 -0.034967      16        1   0.694763\n",
       "19     0.148597  0.026361      17        1   0.491452\n",
       "10     0.178794 -0.027761      18        1   0.341416\n",
       "11     0.195759 -0.023402      19        1   0.120482\n",
       "4      0.200270 -0.022252      20        1   0.051627, topic_info=               Term          Freq         Total Category  logprob  loglift\n",
       "5421             ax  50761.000000  50761.000000  Default  30.0000  30.0000\n",
       "1086              _   8392.000000   8392.000000  Default  29.0000  29.0000\n",
       "26     organization  17488.000000  17488.000000  Default  28.0000  28.0000\n",
       "18             line  19144.000000  19144.000000  Default  27.0000  27.0000\n",
       "421           drive   2474.000000   2474.000000  Default  26.0000  26.0000\n",
       "...             ...           ...           ...      ...      ...      ...\n",
       "5208       familiar      0.010148      1.266632  Topic20 -11.2648   2.7421\n",
       "11901             p      0.010148      1.266626  Topic20 -11.2648   2.7421\n",
       "4497           loss      0.010148      1.266665  Topic20 -11.2648   2.7420\n",
       "9087           phil      0.010148      1.266649  Topic20 -11.2648   2.7421\n",
       "4711        capable      0.010148      1.266667  Topic20 -11.2648   2.7420\n",
       "\n",
       "[856 rows x 6 columns], token_table=      Topic      Freq         Term\n",
       "term                              \n",
       "1086      5  0.999924            _\n",
       "406      19  0.904964       absurd\n",
       "1588      3  0.998559       accept\n",
       "1308     17  0.974785  acquisition\n",
       "2073      3  0.017428       action\n",
       "...     ...       ...          ...\n",
       "45        1  0.373413         year\n",
       "45        4  0.185013         year\n",
       "45        6  0.429689         year\n",
       "45        7  0.011669         year\n",
       "2607     18  0.994202         zone\n",
       "\n",
       "[1036 rows x 3 columns], R=30, lambda_step=0.01, plot_opts={'xlab': 'PC1', 'ylab': 'PC2'}, topic_order=[16, 15, 10, 4, 1, 9, 8, 2, 14, 17, 6, 7, 3, 13, 19, 18, 20, 11, 12, 5])"
      ]
     },
     "execution_count": 26,
     "metadata": {},
     "output_type": "execute_result"
    }
   ],
   "source": [
    "# Visualize the topics\n",
    "pyLDAvis.enable_notebook()\n",
    "vis = pyLDAvis.gensim_models.prepare(lda_model, corpus, id2word)\n",
    "vis"
   ]
  },
  {
   "cell_type": "markdown",
   "id": "c12963f4",
   "metadata": {},
   "source": [
    "### 6. Calcular las metricas de Perplejidad (_Model Perplexity_) y Coherencia (_Coherence Score_)\n",
    "\n",
    "La perplejidad del modelo y la coherencia del tema proporcionan metricas estadisticas para evaluar que tan revante es un modelo para describir el dataset."
   ]
  },
  {
   "cell_type": "code",
   "execution_count": 122,
   "id": "26ca6679",
   "metadata": {},
   "outputs": [
    {
     "name": "stdout",
     "output_type": "stream",
     "text": [
      "\n",
      "Perplexity:  -14.272997192451127\n",
      "\n",
      "Coherence Score:  0.5060396843924693\n"
     ]
    }
   ],
   "source": [
    "# Compute Perplexity\n",
    "print('\\nPerplexity: ', lda_model.log_perplexity(corpus))  # a measure of how good the model is. lower the better.\n",
    "\n",
    "# Compute Coherence Score\n",
    "coherence_model_lda = CoherenceModel(model=lda_model, texts=data_lemmatized, dictionary=id2word, coherence='c_v')\n",
    "coherence_lda = coherence_model_lda.get_coherence()\n",
    "print('\\nCoherence Score: ', coherence_lda)"
   ]
  },
  {
   "cell_type": "markdown",
   "id": "fc189a4a",
   "metadata": {},
   "source": [
    "### 7. ¿Cómo encontrar cuál es el mejor número de tópicos para describir el dataset?\n",
    "\n",
    "Buscar el modelo que optimiza la métrica de coherencia (o minimiza la métrica de perplejidad)."
   ]
  },
  {
   "cell_type": "code",
   "execution_count": 123,
   "id": "ed55c1d5",
   "metadata": {},
   "outputs": [],
   "source": [
    "def compute_coherence_values(dictionary, corpus, texts, limit, start=2, step=3):\n",
    "    \"\"\"\n",
    "    Compute c_v coherence for various number of topics\n",
    "\n",
    "    Parameters:\n",
    "    ----------\n",
    "    dictionary : Gensim dictionary\n",
    "    corpus : Gensim corpus\n",
    "    texts : List of input texts\n",
    "    limit : Max num of topics\n",
    "\n",
    "    Returns:\n",
    "    -------\n",
    "    model_list : List of LDA topic models\n",
    "    coherence_values : Coherence values corresponding to the LDA model with respective number of topics\n",
    "    \"\"\"\n",
    "    coherence_values = []\n",
    "    model_list = []\n",
    "    for num_topics in range(start, limit, step):\n",
    "        print(num_topics)\n",
    "        \n",
    "        #model = gensim.models.wrappers.LdaMallet(mallet_path, corpus=corpus, num_topics=num_topics, id2word=id2word)\n",
    "        \n",
    "        model = gensim.models.ldamodel.LdaModel(corpus=corpus,\n",
    "                                           id2word=id2word,\n",
    "                                           num_topics=num_topics, \n",
    "                                           random_state=100,\n",
    "                                           update_every=1,\n",
    "                                           chunksize=100,\n",
    "                                           passes=10,\n",
    "                                           alpha='auto',\n",
    "                                           per_word_topics=True)\n",
    "        \n",
    "        model_list.append(model)\n",
    "        coherencemodel = CoherenceModel(model=model, texts=texts, dictionary=dictionary, coherence='c_v')\n",
    "        coherence_values.append(coherencemodel.get_coherence())\n",
    "\n",
    "    return model_list, coherence_values"
   ]
  },
  {
   "cell_type": "code",
   "execution_count": 40,
   "id": "db66ac6b",
   "metadata": {},
   "outputs": [
    {
     "name": "stdout",
     "output_type": "stream",
     "text": [
      "2\n",
      "7\n",
      "12\n",
      "17\n",
      "22\n",
      "27\n"
     ]
    }
   ],
   "source": [
    "# Can take a long time to run.\n",
    "model_list, coherence_values = compute_coherence_values(dictionary=id2word, corpus=corpus, texts=data_lemmatized, start=2, limit=30, step=5)"
   ]
  },
  {
   "cell_type": "code",
   "execution_count": 124,
   "id": "072e0f98",
   "metadata": {},
   "outputs": [
    {
     "data": {
      "image/png": "[encoded data removed]",
      "text/plain": [
       "<Figure size 432x288 with 1 Axes>"
      ]
     },
     "metadata": {
      "needs_background": "light"
     },
     "output_type": "display_data"
    }
   ],
   "source": [
    "# Show graph\n",
    "limit=30; start=2; step=5;\n",
    "x = range(start, limit, step)\n",
    "plt.plot(x, coherence_values)\n",
    "plt.xlabel(\"Num Topics\")\n",
    "plt.ylabel(\"Coherence score\")\n",
    "plt.legend((\"coherence_values\"), loc='best')\n",
    "plt.show()"
   ]
  },
  {
   "cell_type": "code",
   "execution_count": 42,
   "id": "c3fa243f",
   "metadata": {},
   "outputs": [
    {
     "name": "stdout",
     "output_type": "stream",
     "text": [
      "Num Topics = 2  has Coherence Value of 0.5441\n",
      "Num Topics = 7  has Coherence Value of 0.4912\n",
      "Num Topics = 12  has Coherence Value of 0.4817\n",
      "Num Topics = 17  has Coherence Value of 0.5293\n",
      "Num Topics = 22  has Coherence Value of 0.5051\n",
      "Num Topics = 27  has Coherence Value of 0.4991\n"
     ]
    }
   ],
   "source": [
    "# Print the coherence scores\n",
    "for m, cv in zip(x, coherence_values):\n",
    "    print(\"Num Topics =\", m, \" has Coherence Value of\", round(cv, 4))"
   ]
  },
  {
   "cell_type": "code",
   "execution_count": 125,
   "id": "44e45484",
   "metadata": {},
   "outputs": [
    {
     "name": "stdout",
     "output_type": "stream",
     "text": [
      "[(0,\n",
      "  '0.606*\"ax\" + 0.100*\"_\" + 0.049*\"max\" + 0.007*\"mr\" + 0.006*\"rob\" + '\n",
      "  '0.006*\"mu\" + 0.005*\"collin\" + 0.005*\"honda\" + 0.005*\"daughter\" + '\n",
      "  '0.004*\"ron\"'),\n",
      " (1,\n",
      "  '0.079*\"key\" + 0.034*\"public\" + 0.024*\"government\" + 0.023*\"security\" + '\n",
      "  '0.022*\"encryption\" + 0.018*\"chip\" + 0.018*\"private\" + 0.017*\"clipper\" + '\n",
      "  '0.016*\"self\" + 0.015*\"system\"'),\n",
      " (2,\n",
      "  '0.097*\"space\" + 0.030*\"earth\" + 0.025*\"launch\" + 0.023*\"moon\" + '\n",
      "  '0.023*\"nasa\" + 0.022*\"mission\" + 0.022*\"orbit\" + 0.021*\"rsa\" + '\n",
      "  '0.018*\"satellite\" + 0.017*\"iran\"'),\n",
      " (3,\n",
      "  '0.025*\"people\" + 0.024*\"god\" + 0.018*\"say\" + 0.017*\"evidence\" + '\n",
      "  '0.017*\"believe\" + 0.016*\"reason\" + 0.013*\"christian\" + 0.012*\"claim\" + '\n",
      "  '0.011*\"law\" + 0.010*\"sense\"'),\n",
      " (4,\n",
      "  '0.079*\"monitor\" + 0.067*\"character\" + 0.056*\"normal\" + 0.037*\"font\" + '\n",
      "  '0.034*\"excuse\" + 0.024*\"left\" + 0.018*\"trivial\" + 0.011*\"click\" + '\n",
      "  '0.010*\"upper\" + 0.010*\"ms_window\"'),\n",
      " (5,\n",
      "  '0.054*\"suggest\" + 0.046*\"wire\" + 0.029*\"clipper_chip\" + 0.026*\"weight\" + '\n",
      "  '0.023*\"significant\" + 0.022*\"particularly\" + 0.019*\"impact\" + '\n",
      "  '0.019*\"crypto\" + 0.019*\"cub\" + 0.019*\"battery\"'),\n",
      " (6,\n",
      "  '0.033*\"israel\" + 0.021*\"government\" + 0.020*\"american\" + 0.020*\"state\" + '\n",
      "  '0.018*\"israeli\" + 0.016*\"country\" + 0.015*\"war\" + 0.013*\"master\" + '\n",
      "  '0.013*\"president\" + 0.012*\"attack\"'),\n",
      " (7,\n",
      "  '0.047*\"trust\" + 0.041*\"announcement\" + 0.039*\"md\" + 0.029*\"zone\" + '\n",
      "  '0.029*\"ltd\" + 0.022*\"widget\" + 0.021*\"stephen\" + 0.017*\"rs\" + '\n",
      "  '0.016*\"backup\" + 0.012*\"exposure\"'),\n",
      " (8,\n",
      "  '0.063*\"line\" + 0.057*\"organization\" + 0.026*\"nntp_poste\" + 0.026*\"write\" + '\n",
      "  '0.025*\"university\" + 0.023*\"host\" + 0.020*\"article\" + 0.015*\"reply\" + '\n",
      "  '0.012*\"thank\" + 0.010*\"mail\"'),\n",
      " (9,\n",
      "  '0.016*\"also\" + 0.014*\"use\" + 0.009*\"number\" + 0.008*\"provide\" + '\n",
      "  '0.008*\"case\" + 0.008*\"source\" + 0.008*\"first\" + 0.008*\"new\" + 0.008*\"part\" '\n",
      "  '+ 0.008*\"follow\"'),\n",
      " (10,\n",
      "  '0.106*\"bike\" + 0.035*\"brown\" + 0.022*\"uunet\" + 0.019*\"radius\" + 0.018*\"pop\" '\n",
      "  '+ 0.013*\"suck\" + 0.013*\"dare\" + 0.012*\"paint\" + 0.008*\"axis\" + '\n",
      "  '0.007*\"ducati\"'),\n",
      " (11,\n",
      "  '0.034*\"pub\" + 0.023*\"reflect\" + 0.015*\"download\" + 0.015*\"thanx\" + '\n",
      "  '0.009*\"bmp\" + 0.009*\"wallpaper\" + 0.000*\"ei\" + 0.000*\"zip\" + 0.000*\"cx\" + '\n",
      "  '0.000*\"rlk\"'),\n",
      " (12,\n",
      "  '0.058*\"armenian\" + 0.050*\"greek\" + 0.036*\"turk\" + 0.030*\"turkish\" + '\n",
      "  '0.023*\"turkey\" + 0.016*\"cds\" + 0.013*\"charle\" + 0.013*\"immediate\" + '\n",
      "  '0.013*\"armenia\" + 0.012*\"proceed\"'),\n",
      " (13,\n",
      "  '0.058*\"team\" + 0.058*\"game\" + 0.041*\"win\" + 0.038*\"play\" + 0.024*\"year\" + '\n",
      "  '0.018*\"season\" + 0.017*\"fan\" + 0.014*\"nhl\" + 0.014*\"mouse\" + 0.014*\"score\"'),\n",
      " (14,\n",
      "  '0.030*\"drive\" + 0.025*\"window\" + 0.024*\"file\" + 0.023*\"program\" + '\n",
      "  '0.023*\"system\" + 0.019*\"card\" + 0.016*\"use\" + 0.016*\"run\" + 0.015*\"problem\" '\n",
      "  '+ 0.015*\"driver\"'),\n",
      " (15,\n",
      "  '0.030*\"do\" + 0.020*\"get\" + 0.017*\"go\" + 0.015*\"know\" + 0.015*\"think\" + '\n",
      "  '0.014*\"well\" + 0.014*\"write\" + 0.014*\"make\" + 0.013*\"say\" + 0.013*\"good\"'),\n",
      " (16,\n",
      "  '0.072*\"patient\" + 0.038*\"disease\" + 0.037*\"motif\" + 0.034*\"scientific\" + '\n",
      "  '0.025*\"medical\" + 0.023*\"treatment\" + 0.020*\"health\" + 0.014*\"km\" + '\n",
      "  '0.013*\"medicine\" + 0.013*\"lunar\"')]\n"
     ]
    }
   ],
   "source": [
    "# Select the model and print the topics\n",
    "optimal_model = model_list[3]\n",
    "#model_topics = optimal_model.show_topics(formatted=False)\n",
    "#pprint(optimal_model.print_topics(num_words=10))"
   ]
  },
  {
   "cell_type": "code",
   "execution_count": 126,
   "id": "7bbe249e",
   "metadata": {},
   "outputs": [
    {
     "data": {
      "text/html": [
       "\n",
       "<link rel=\"stylesheet\" type=\"text/css\" href=\"https://cdn.jsdelivr.net/gh/bmabey/pyLDAvis@3.3.1/pyLDAvis/js/ldavis.v1.0.0.css\">\n",
       "\n",
       "\n",
       "<div id=\"ldavis_el45171396403687748327132454225\"></div>\n",
       "<script type=\"text/javascript\">\n",
       "\n",
       "var ldavis_el45171396403687748327132454225_data = {\"mdsDat\": {\"x\": [-0.3530414957923473, -0.27884547328519677, -0.2879167393976051, -0.28369231294446884, -0.17158764337644172, 0.039498512711721154, -0.0709081323598652, -0.0018097617681283335, -0.0060564251493429875, 0.11341442426455381, 0.14869986685826297, 0.16500529617589266, 0.16850820098628994, 0.20102989616977082, 0.20023538998741133, 0.203666911660012, 0.21379948525948134], \"y\": [0.1343321154461239, -0.13288271284422334, 0.03657578183473505, 0.2161631114003379, -0.30845207314503764, -0.02085116039744589, 0.05738211496186989, 0.030467097697430025, -0.18353328038063738, -0.035793175173499885, 0.06030233469998692, 0.024240755235250492, 0.020581557046225822, 0.02563542362752566, 0.025650134069348723, 0.025541890090733533, 0.02464008583127636], \"topics\": [1, 2, 3, 4, 5, 6, 7, 8, 9, 10, 11, 12, 13, 14, 15, 16, 17], \"cluster\": [1, 1, 1, 1, 1, 1, 1, 1, 1, 1, 1, 1, 1, 1, 1, 1, 1], \"Freq\": [29.55130158382799, 18.2259829822943, 14.59111392151441, 11.447278928180648, 7.470126387904492, 5.4606789561738225, 3.7177465681458535, 2.8744372893525805, 2.410067852032953, 1.095466004920517, 0.8600580900908514, 0.7329844829996992, 0.6198074103594163, 0.3255312512419865, 0.2925749286451672, 0.2417907408697724, 0.083052621445542]}, \"tinfo\": {\"Term\": [\"ax\", \"line\", \"organization\", \"_\", \"do\", \"nntp_poste\", \"university\", \"max\", \"people\", \"host\", \"key\", \"year\", \"say\", \"drive\", \"write\", \"go\", \"god\", \"team\", \"game\", \"system\", \"get\", \"article\", \"space\", \"program\", \"window\", \"use\", \"reply\", \"file\", \"think\", \"state\", \"go\", \"s\", \"really\", \"back\", \"car\", \"re\", \"bad\", \"happen\", \"enough\", \"big\", \"maybe\", \"money\", \"remember\", \"turn\", \"hard\", \"player\", \"die\", \"face\", \"guess\", \"away\", \"pretty\", \"couple\", \"have\", \"guy\", \"fire\", \"spend\", \"anyway\", \"figure\", \"watch\", \"shoot\", \"hear\", \"let\", \"little\", \"talk\", \"much\", \"still\", \"do\", \"put\", \"well\", \"take\", \"be\", \"ve\", \"lot\", \"tell\", \"get\", \"think\", \"come\", \"good\", \"see\", \"know\", \"time\", \"thing\", \"make\", \"say\", \"even\", \"m\", \"way\", \"write\", \"want\", \"article\", \"seem\", \"year\", \"people\", \"try\", \"give\", \"nntp_poste\", \"host\", \"mail\", \"thank\", \"price\", \"sale\", \"email\", \"address\", \"university\", \"inc\", \"copy\", \"physical\", \"internet\", \"interested\", \"fax\", \"graphic\", \"summary\", \"section\", \"server\", \"engineering\", \"tape\", \"appreciate\", \"steve\", \"canada\", \"distribution\", \"dept\", \"pa\", \"california\", \"originator\", \"corporation\", \"reply\", \"david\", \"keyword\", \"line\", \"organization\", \"test\", \"department\", \"sell\", \"post\", \"news\", \"usa\", \"model\", \"research\", \"write\", \"send\", \"article\", \"computer\", \"new\", \"message\", \"need\", \"help\", \"question\", \"look\", \"m\", \"system\", \"want\", \"know\", \"state\", \"pin\", \"appear\", \"screen\", \"video\", \"contain\", \"event\", \"field\", \"draw\", \"process\", \"newsgroup\", \"christ\", \"algorithm\", \"ground\", \"level\", \"logic\", \"hour\", \"notice\", \"firearm\", \"revelation\", \"internal\", \"object\", \"headache\", \"appropriate\", \"indicate\", \"convince\", \"external\", \"proper\", \"addition\", \"operation\", \"wife\", \"compare\", \"note\", \"text\", \"approach\", \"source\", \"reference\", \"provide\", \"base\", \"result\", \"return\", \"report\", \"produce\", \"accept\", \"describe\", \"general\", \"also\", \"number\", \"require\", \"follow\", \"part\", \"use\", \"include\", \"large\", \"case\", \"order\", \"power\", \"first\", \"new\", \"call\", \"however\", \"point\", \"time\", \"group\", \"find\", \"give\", \"many\", \"make\", \"god\", \"evidence\", \"christian\", \"claim\", \"law\", \"sense\", \"gun\", \"faith\", \"death\", \"bible\", \"religion\", \"argument\", \"prove\", \"truth\", \"belief\", \"atheist\", \"church\", \"human\", \"distribution_na\", \"drug\", \"statement\", \"conclusion\", \"religious\", \"christianity\", \"reality\", \"indeed\", \"weapon\", \"nature\", \"therefore\", \"lord\", \"child\", \"certainly\", \"discussion\", \"believe\", \"reason\", \"exist\", \"act\", \"people\", \"person\", \"fact\", \"man\", \"true\", \"life\", \"say\", \"mean\", \"question\", \"many\", \"word\", \"right\", \"think\", \"make\", \"read\", \"write\", \"window\", \"file\", \"card\", \"driver\", \"mac\", \"machine\", \"image\", \"cpu\", \"entry\", \"memory\", \"color\", \"application\", \"hardware\", \"disk\", \"mode\", \"scsi\", \"display\", \"slow\", \"pc\", \"instal\", \"scan\", \"package\", \"apple\", \"brain\", \"controller\", \"format\", \"motherboard\", \"ide\", \"port\", \"recommend\", \"software\", \"program\", \"drive\", \"version\", \"board\", \"advance\", \"system\", \"bit\", \"run\", \"problem\", \"datum\", \"use\", \"chip\", \"support\", \"work\", \"get\", \"set\", \"ax\", \"_\", \"max\", \"rob\", \"mu\", \"collin\", \"honda\", \"daughter\", \"ron\", \"stream\", \"sam\", \"film\", \"eric\", \"suitable\", \"plot\", \"ins_cwru\", \"bolt\", \"tight\", \"repost\", \"gt\", \"dirt\", \"cmu\", \"leak\", \"po_andrew\", \"beauty\", \"allocate\", \"lib\", \"gretzky\", \"valve\", \"youve_got\", \"mo\", \"mr\", \"m\", \"israel\", \"american\", \"israeli\", \"country\", \"master\", \"president\", \"arab\", \"community\", \"land\", \"ride\", \"clinton\", \"bomb\", \"political\", \"terrorism\", \"withdraw\", \"occupy\", \"northern\", \"tax\", \"civilian\", \"federal\", \"congress\", \"dog\", \"rider\", \"cycle\", \"united_state\", \"administration\", \"canadian\", \"economic\", \"british\", \"western\", \"military\", \"war\", \"village\", \"america\", \"soldier\", \"government\", \"citizen\", \"attack\", \"germany\", \"policy\", \"jew\", \"force\", \"state\", \"kill\", \"city\", \"center\", \"jewish\", \"right\", \"team\", \"game\", \"win\", \"play\", \"season\", \"fan\", \"nhl\", \"mouse\", \"score\", \"scott\", \"boston\", \"mhz\", \"pen\", \"corp\", \"toronto\", \"stat\", \"hall\", \"ice\", \"helmet\", \"dual\", \"gary\", \"detroit\", \"devil\", \"frame\", \"ring\", \"tie\", \"expansion\", \"san_jose\", \"roger\", \"pitch\", \"wing\", \"goal\", \"van\", \"trade\", \"star\", \"division\", \"series\", \"year\", \"blue\", \"pick\", \"lose\", \"run\", \"final\", \"first\", \"key\", \"security\", \"encryption\", \"private\", \"clipper\", \"self\", \"secure\", \"secret\", \"agency\", \"criminal\", \"nsa\", \"fbi\", \"specify\", \"proposal\", \"agent\", \"el\", \"privacy\", \"somehow\", \"prize\", \"koresh\", \"exchange\", \"collect\", \"relation\", \"uk\", \"consideration\", \"approve\", \"warrant\", \"director\", \"va\", \"custom\", \"public\", \"block\", \"government\", \"chip\", \"protect\", \"technology\", \"message\", \"trial\", \"system\", \"bit\", \"datum\", \"communication\", \"device\", \"information\", \"access\", \"launch\", \"moon\", \"nasa\", \"mission\", \"orbit\", \"rsa\", \"satellite\", \"iran\", \"mar\", \"pat\", \"flight\", \"planet\", \"astronomy\", \"shuttle\", \"fuel\", \"sky\", \"soul\", \"spacecraft\", \"journal\", \"venus\", \"quran\", \"space_station\", \"magellan\", \"planetary\", \"telescope\", \"brief\", \"ron_baalke\", \"novel\", \"characteristic\", \"construction\", \"space\", \"rocket\", \"earth\", \"project\", \"program\", \"science\", \"research\", \"datum\", \"armenian\", \"greek\", \"turk\", \"turkish\", \"turkey\", \"cds\", \"charle\", \"immediate\", \"armenia\", \"proceed\", \"massacre\", \"genocide\", \"moslem\", \"soviet\", \"slaughter\", \"kurd\", \"cd_rom\", \"republic\", \"wound\", \"television\", \"serdar_argic\", \"ati_ultra\", \"longer_exist\", \"homeland\", \"remainder\", \"might_serve\", \"mountain_passe\", \"appressian\", \"melkonian\", \"soul_sahak\", \"escape\", \"russian\", \"destroy\", \"soldier\", \"road\", \"today\", \"page\", \"people\", \"muslim\", \"suggest\", \"wire\", \"clipper_chip\", \"weight\", \"significant\", \"particularly\", \"impact\", \"crypto\", \"cub\", \"battery\", \"homosexual\", \"deserve\", \"alan\", \"export\", \"role\", \"gov\", \"amp\", \"specification\", \"dale\", \"informed\", \"up\", \"power_supply\", \"useless\", \"percentage\", \"jet_propulsion\", \"reserve\", \"restore\", \"hmmm\", \"volt\", \"subsequent\", \"gain\", \"patient\", \"disease\", \"motif\", \"scientific\", \"medical\", \"km\", \"medicine\", \"lunar\", \"radiation\", \"environmental\", \"solar\", \"enable\", \"physician\", \"fee\", \"ozone\", \"apollo\", \"phase\", \"imaging\", \"tar\", \"revolver\", \"jpl\", \"sensor\", \"cure\", \"tour\", \"yale\", \"tiny\", \"contrib\", \"titan\", \"silicon_graphic\", \"booster\", \"treatment\", \"health\", \"pittsburgh\", \"research\", \"trust\", \"announcement\", \"md\", \"zone\", \"ltd\", \"widget\", \"stephen\", \"rs\", \"backup\", \"exposure\", \"galaxy\", \"hewlett_packard\", \"cherry\", \"fuzzy\", \"mask\", \"tricky\", \"colorado_boulder\", \"xview\", \"ist\", \"measurement\", \"infamous\", \"otto\", \"callback\", \"bee\", \"goalie_mask\", \"ists_ca\", \"solar_terresterial\", \"canberra\", \"c\", \"cx\", \"monitor\", \"character\", \"normal\", \"font\", \"excuse\", \"left\", \"trivial\", \"click\", \"upper\", \"ms_window\", \"poll\", \"functionality\", \"judaism\", \"erase\", \"kansa\", \"simplistic\", \"bold\", \"alavi\", \"eye\", \"deakin\", \"coreldraw\", \"ttf\", \"charmap\", \"russ\", \"hollow\", \"edge\", \"alter\", \"pegasus\", \"josh\", \"din\", \"xterm\", \"sphere\", \"print\", \"bike\", \"brown\", \"uunet\", \"radius\", \"pop\", \"suck\", \"dare\", \"paint\", \"axis\", \"ducati\", \"orange\", \"hull\", \"space_shuttle\", \"space_dig\", \"calif\", \"added_forwarde\", \"pov\", \"ssf\", \"tran\", \"convex\", \"sez\", \"cubic\", \"richardson_tx\", \"reston\", \"circumference\", \"tom_mcwilliam\", \"beemer\", \"irwin\", \"oddly_enough\", \"motorcycle\", \"reflect\", \"download\", \"thanx\", \"bmp\", \"wallpaper\", \"pub\", \"zip\", \"ghostscript\", \"wynapse\", \"keil\", \"upload\", \"bmp_file\", \"juergen\", \"adaptec\", \"cica\", \"novell\", \"zabolotzky\", \"gws\", \"signetic\", \"embe\", \"xfree\", \"gui\", \"bartok\", \"cdblksize\", \"suncd\", \"unido\", \"mcsun\", \"indiana\", \"sexy\", \"mont_pierce\", \"svr\", \"binary\", \"drum\", \"umu\", \"msdo\", \"sld\", \"lq\", \"rlk\", \"nei\", \"ei\", \"el_el\", \"em_um\", \"fij\", \"jrlk\", \"cx\", \"c\", \"ne\", \"mc\", \"vl\", \"mk\", \"tdo\"], \"Freq\": [50746.0, 19019.0, 17457.0, 8389.0, 14713.0, 7296.0, 7066.0, 4067.0, 7919.0, 6545.0, 2926.0, 5257.0, 9151.0, 4072.0, 14463.0, 7892.0, 4290.0, 2565.0, 2540.0, 5537.0, 11017.0, 11031.0, 1727.0, 2831.0, 2906.0, 6439.0, 4196.0, 2706.0, 7845.0, 3541.0, 7891.315728711153, 4504.411371891625, 3241.042484070397, 2891.989861961305, 2382.140994661376, 2363.4225330789627, 2307.398216397782, 1966.4289692677717, 1799.5478732806503, 1631.7076165427927, 1548.2869081598753, 1462.4497774125225, 1360.0370740919373, 1351.9170802570397, 1301.6521603337167, 1244.9243817134438, 1132.075621075025, 1102.4319713485418, 1032.8910756777555, 985.9606877603469, 965.5281049243075, 951.2196299864654, 904.2035518358522, 865.2662581161138, 819.2773019356749, 735.1752928808737, 698.4481634457696, 684.443772752976, 682.0526775510641, 622.9043609024458, 2223.4103906340247, 2297.231471241449, 2176.3309945771025, 1992.1208429316725, 3842.868419492453, 2781.882766666062, 13690.610365692384, 2055.4279851965034, 6319.243132456806, 4617.711167082651, 2819.0195629549844, 2884.355833057328, 2034.228939104595, 3220.3504033483355, 9128.649770875973, 6698.847066479319, 4428.833430443816, 5978.040664371891, 5486.659097626018, 6984.453880108765, 5685.116833489389, 3931.6401241375356, 6225.479021958954, 6002.24752207316, 3358.3663432670414, 4106.337604598803, 3440.260879048227, 6303.85434850749, 3454.0692480560724, 4920.775149600836, 2716.547973981532, 3273.383793195171, 3466.3117652408987, 2950.944953465837, 2874.3319753095657, 7295.348351569886, 6544.5179010267475, 2816.878686342671, 3466.299981678539, 1548.6448849379738, 1519.7077724242188, 1514.0936877788633, 1452.1412848192826, 7060.428953001868, 1393.4931835810362, 1291.499943839271, 1277.8103405252104, 1195.5826411895719, 1095.8132704443115, 1011.0810499489473, 970.3800427373685, 873.6071154731746, 830.7460238476415, 827.6321646656356, 823.0077824307475, 801.3803830772432, 800.1028039232865, 734.1414097778096, 726.0203306929972, 722.0795499586443, 707.0908239224392, 699.8972247369534, 677.3851071889545, 659.9967791226882, 658.0961287353102, 4162.401958667448, 1087.6550270772173, 1160.9838008524748, 17500.094275608393, 15968.17500994125, 1198.8390393876848, 995.5294575148912, 1320.3767864311471, 2617.4724605767133, 1417.7413482416482, 1180.810392216185, 1020.2963600560389, 1371.415386971157, 7135.2834149399405, 1738.843741126504, 5711.820329298305, 1722.1744865990277, 2533.571522416381, 1441.3512765589062, 2310.147147004844, 1717.9523377520582, 1810.3405305700883, 1772.1866760504497, 1814.2213668141055, 1744.5771940620605, 1459.008280907588, 1513.7716407232936, 1405.2342329844976, 1028.63395003858, 1013.7244641957614, 969.8388721482739, 944.5341495853621, 894.128230211805, 850.1674493111377, 797.0790125852541, 759.8515159357753, 742.4276585682196, 722.4286741646255, 673.4564493823675, 662.1634275338686, 626.3087136466055, 1032.621095600136, 618.9582867917701, 608.2984040666175, 606.0645708547845, 592.8131998324028, 590.57738659533, 571.35900108951, 565.307262368185, 523.4907445902196, 513.8568275747774, 513.3567148839801, 497.04344325216664, 474.2485068923842, 445.9318533043786, 442.86333524217224, 440.74382243496615, 436.4655871102159, 885.2999229392694, 1331.8674164515078, 652.3095192931141, 578.8135876931373, 1802.1997981613272, 1022.6225934109588, 1877.2971533327736, 1652.0282228501815, 1255.5842345852116, 1109.2863181258326, 1403.7389978719768, 792.3481070165674, 1064.516801126617, 820.3276352545565, 1034.7784894165325, 3546.2018607835985, 2105.1732559967304, 1177.8615743696791, 1688.1882774717717, 1743.5166438029894, 3114.2341354819537, 1643.214817872871, 1191.7288374534514, 1862.8508891841818, 1443.284999865248, 1363.9065174900825, 1761.7426719222462, 1761.6939007742376, 1372.4355283158645, 1182.3767613990972, 1351.1647424372775, 1504.5923129372693, 1232.339676178243, 1159.8139569457019, 1106.486979284366, 1096.6935660252761, 1078.009005745255, 4289.427463382091, 2969.0209320235863, 2355.695815095604, 2068.103421888586, 1920.6503477085014, 1743.5540653211574, 1634.35267622619, 1448.3535876979831, 1211.1941049161744, 1199.330673421999, 1084.2959236086647, 1040.7607829782276, 973.9827874808254, 937.4827703012292, 936.1027748483802, 933.7082427775799, 856.586944671293, 812.5494820986613, 729.6813233740794, 692.230213884335, 687.4978898839914, 666.5722238981592, 630.2793818164668, 614.3532662743479, 585.5589527164714, 568.1849824747552, 516.8102592869956, 495.57374889617904, 488.19912481627523, 460.0197959018213, 1459.0480414692584, 736.6158025685983, 901.6106555493762, 2924.643600910313, 2756.0151714196136, 1508.2420709716034, 994.1345310212125, 4349.823174085623, 1302.9760253708532, 1586.7131957812812, 1578.421613409925, 1265.7839256325528, 1200.6854056131067, 3147.754012145751, 1640.7239236726978, 1380.5618731639158, 1299.1397704601015, 983.1356099789848, 1086.5976602034898, 1145.6755933900465, 1122.8319634650957, 1021.8233929221205, 1023.4139155561464, 2905.0839725412184, 2705.3266655117413, 2145.338784548505, 1706.4590342184633, 1635.3149860082265, 1539.6659233236364, 1275.0278581832524, 1247.401922557474, 1174.4565795593132, 1098.4845363266008, 1076.731882361679, 992.4729867786926, 967.9594358679294, 941.6975160749829, 901.955389430947, 888.6511398753547, 871.9745711160687, 852.5031730762123, 806.1649420183195, 804.0302460358649, 795.4786040987044, 745.1060531935375, 681.4095655763082, 665.6888109312825, 659.5315860543449, 648.9745217936107, 574.3154891861815, 567.1335718237018, 539.13032570861, 478.30042679052104, 1690.5708053616227, 2598.504688032177, 3462.1816295470044, 1156.7714308382087, 858.8995248780797, 958.393291816191, 2593.6463886604465, 1530.4142402481443, 1803.5191698415942, 1765.0703133136437, 1055.0550959753493, 1880.515265327118, 1038.5281282641452, 1036.302785997564, 1151.1759034770364, 991.3515124453544, 917.7524918291128, 50744.961849384264, 8388.869836588843, 4066.1953865767155, 524.7083367529438, 508.8779242106844, 457.2571087056595, 434.8251593009911, 414.0291052544794, 375.766587303703, 331.3222608453747, 318.4889942438382, 293.7950280343605, 290.41674519084614, 226.79348108087868, 216.8754778999924, 195.61000827282095, 190.7722899244812, 181.24503738356088, 178.5317794464623, 172.28450782391067, 168.9249259417561, 162.5350863019976, 139.40599469856778, 138.6353551865998, 130.1473807850639, 129.13319976483487, 118.59576380230781, 111.67377553424157, 109.4858313068307, 108.33758447914757, 260.32916041876035, 565.2650473023185, 226.33601929512358, 1906.7383924076823, 1155.6244036323544, 1013.2754543926594, 921.5345437848424, 739.8075895819396, 738.8129790725906, 618.5318077883917, 587.7767875790714, 531.3963543433854, 520.2426330940614, 489.72828642995813, 396.79909002166085, 377.25320651718846, 371.5702679122592, 366.19690707252033, 349.26213504377705, 321.0172198929302, 315.8501734228224, 310.7834961055082, 310.35132458940575, 309.0266376413328, 305.8668680163517, 302.63633548338254, 294.2665836951542, 293.0893172593325, 274.98118203959837, 263.11006032197395, 261.72926754854313, 260.5695524381173, 253.45486645546865, 574.0623252992165, 848.7895840033216, 542.3605956259544, 407.496981311724, 603.0633812871271, 1219.5037933213841, 467.8303394536332, 670.3390719273508, 364.0646998401203, 394.0339995202572, 474.7119459592391, 628.2782897891044, 1155.3191539549696, 549.0766726875087, 397.80169288947314, 389.59529322505057, 372.1968847473847, 377.5351694890177, 2563.8911493087853, 2539.526890848583, 1801.6428709177233, 1657.7403813157805, 810.8876966366296, 767.0746345349988, 626.769760550191, 605.9737192503575, 600.3400141463691, 579.2426386646804, 496.21573057346825, 457.1152903626419, 453.3982743093665, 450.44602872498814, 389.2501025778174, 338.8025765928759, 322.6663754573479, 319.5045837499149, 293.0268800870105, 270.32673441104345, 265.4586004322467, 260.8315255870747, 246.18635176860485, 241.9434482373078, 239.79458939080513, 237.01935043648234, 236.34386340925914, 229.05618716743427, 226.0698213071162, 225.9314925349851, 538.3875704490305, 575.7314528680668, 357.7820929974175, 502.86146523384946, 394.47280411723693, 487.8732615172587, 392.7207217888373, 1058.2988677691576, 300.9607270178865, 350.11180569500976, 399.49328861814485, 468.72534040541643, 312.92413337201765, 360.0619104722111, 2925.4376745704026, 843.2895095631001, 822.1538752072939, 649.9906930819471, 645.9801890605347, 605.8205490371643, 472.9567328915206, 443.75375294985963, 434.9880393120685, 411.12812922807905, 371.4562038942374, 339.6858280041759, 267.3077562790535, 257.1600409121422, 247.32259085470918, 244.39731828775868, 228.7372254579594, 222.82082317709228, 213.26692376837136, 205.80459983926278, 205.27249268187575, 204.9198488319295, 195.3678772853257, 194.4869647891721, 192.85170738746646, 180.6964162474756, 178.78895160005075, 160.79962264553694, 148.45085677164676, 141.904189889437, 1245.1392171085547, 437.05728945984214, 902.1403924821718, 661.5423740356704, 399.4309635367298, 499.5825398697582, 449.14928819800485, 251.0240516935212, 554.6670687341104, 402.8809760736911, 345.74482322949336, 249.5073233859108, 279.88061891100733, 326.7807534181066, 249.06326100289166, 423.1163424414114, 388.0277445816256, 379.9370635398132, 371.3425496555653, 362.0364919794286, 360.4464094240855, 304.0046752994306, 285.77274265228846, 259.5151305667714, 252.92277247448675, 238.95418765183533, 211.63825745238424, 194.49133832973564, 189.61168016509438, 175.702416738358, 168.43062445703822, 157.20562681153814, 150.0390826729049, 132.0906440193775, 130.26256389843954, 121.96119879579874, 120.00555654890465, 106.35148778987624, 101.16933901472743, 98.11608663988119, 91.12314090965782, 86.24144851091765, 80.21088328493288, 80.03341200775779, 72.52180699810869, 1632.296230261789, 189.9682501067237, 496.8892503542121, 167.001121211872, 232.12603053157807, 156.90324573671282, 138.86368904350897, 130.68258629600012, 768.0253037628827, 661.7818600852916, 478.8695699648907, 391.2308913972564, 306.18652833474295, 206.7024674868709, 176.593581703808, 175.72874434706335, 168.89169372699624, 164.5151960525261, 156.00384065429057, 151.90313611894143, 151.62477534802943, 138.60513765225144, 135.56745724901776, 105.35377768998706, 104.55605503407621, 87.62947686327317, 66.25664497345777, 66.0113009989014, 64.2151872771549, 62.142752147545714, 58.04165448197019, 57.62623254322876, 56.836870047288144, 55.64811795465042, 55.60588716861414, 55.5015233788314, 55.5015233788314, 55.5015233788314, 139.43209936874885, 107.34555969659168, 83.33701691735028, 84.31712128499977, 80.45923609103447, 77.37730396669456, 68.24776971546517, 73.89272049331059, 63.50038438571004, 611.9622800306395, 518.7512746801444, 330.6763393052543, 291.08266308476135, 260.3082566623181, 251.69206615086475, 217.32871810639023, 216.53968660309576, 214.19020290781606, 209.43034104773494, 207.57548880519727, 167.269098101414, 162.49487117733975, 155.40204753960364, 143.77721373465658, 139.60135664090717, 131.02471193608787, 128.75523075827996, 128.15548933656802, 121.4931255209517, 117.64197960039327, 116.02002566941722, 110.73620542930203, 109.16030974650793, 107.213246776137, 91.02825900513531, 87.68091640033491, 87.15608376166863, 82.59981422618358, 75.30290616617816, 184.74682645999886, 682.0373673382023, 357.06237537284466, 355.43219645279765, 322.9628372495246, 238.37754473981943, 136.49173408426515, 122.48628838761617, 121.5402820888135, 116.34410448818194, 109.81735956830997, 108.13548500873965, 107.52160924959766, 105.93932781367833, 95.62397158089176, 95.03134424354391, 87.9245262622008, 85.81114052353676, 83.47620457363242, 80.23232311393802, 79.97717383573571, 78.49849616308101, 76.907494020717, 75.07966051043906, 68.62024652712729, 62.4100145568973, 60.05160352766496, 57.46362543471956, 55.41723419927065, 52.43845336198549, 38.252878596331165, 216.1933601568762, 187.82262674049434, 87.52227593061943, 88.27194681204419, 235.93596837801948, 203.0002879594113, 194.53795139240577, 146.80725282993748, 145.2986960621015, 111.6545721414901, 104.17245197984496, 85.88051645984463, 82.12042864880036, 58.403790472214354, 47.64137239004434, 43.828084124096236, 39.61979375669581, 33.627121257963374, 32.76840425704162, 31.323724304957224, 30.116718931275038, 26.990784169671162, 18.848319929633103, 18.294903371616666, 16.098831512529024, 14.423900679818317, 13.54741028157498, 12.18976987280006, 10.17994726820105, 8.822920657175217, 8.822920657175217, 5.20309609425899, 0.045582402371928225, 0.04552062208091015, 352.31771680201274, 299.20825589433207, 253.53368688032748, 168.12610325809885, 154.30766209482164, 106.52693071724839, 78.55224161268129, 48.531219933411414, 44.79234709864971, 42.6628437619869, 28.33336066470555, 21.69694319133804, 15.875400463017627, 10.523507576889738, 10.109989954011604, 3.968393796595997, 2.9989360391080133, 0.745268572883825, 0.040167252307553206, 0.04013363892936325, 0.04011718731116465, 0.04010651069662544, 0.04010646580260406, 0.04010737592685568, 0.04010659640339353, 0.04012723540940453, 0.040109351263796424, 0.040105335289520205, 0.04010536793971758, 0.04009680950673259, 0.04010577606718467, 0.04011404881094269, 0.04010908598094281, 391.9654258124859, 130.6329408521253, 83.20271199507411, 68.67138322810261, 66.62169945098108, 48.753110300657546, 46.71882015102421, 46.08723242881585, 28.386413786020366, 25.451102533616098, 23.976515975854188, 23.975120636947924, 22.23930867612528, 21.088996807894127, 18.354427852296794, 17.755366377983886, 17.72635783473208, 17.01184933497152, 16.41175344481102, 15.076132626066615, 10.696789802209869, 9.492479354448966, 6.149318138123278, 5.797602071253387, 4.0645674047327285, 4.028430199345939, 3.4312059356504863, 2.3196071668606493, 0.2560967392834093, 0.035810388693706785, 29.702214193254182, 19.20842246117568, 19.183924379756803, 12.002608991928966, 11.062953937479012, 43.27501496048757, 0.016064187997905363, 0.0160527381199798, 0.01605200476242371, 0.016046690526863194, 0.016046567721332474, 0.016047309188687766, 0.016046690526863194, 0.016046695161034165, 0.016045442776329365, 0.016046690526863194, 0.01604407801297853, 0.016044076854435787, 0.016044046732324478, 0.016044076854435787, 0.016046068389410393, 0.016044751126312005, 0.016043401424016824, 0.016043401424016824, 0.016043401424016824, 0.01604340374110231, 0.01604340258255957, 0.016049148954563087, 0.01604364471799278, 0.01604336319210632, 0.016045388324820463, 0.01604685040576168, 0.016047487604270133, 0.01605147183276209, 0.01604399459790106, 0.016049199930443764, 0.016051197258132085, 0.016056830092946825, 0.016049199930443764, 0.01606577172583456, 0.01604806340001323, 0.016047495714069333, 0.016047793459554194, 0.016046928028125438, 0.0160578102201071, 0.016056802287921, 0.01604722809069578, 0.01604762199522828, 0.01604693729646738, 0.016047057784912614, 0.016046928028125438], \"Total\": [50746.0, 19019.0, 17457.0, 8389.0, 14713.0, 7296.0, 7066.0, 4067.0, 7919.0, 6545.0, 2926.0, 5257.0, 9151.0, 4072.0, 14463.0, 7892.0, 4290.0, 2565.0, 2540.0, 5537.0, 11017.0, 11031.0, 1727.0, 2831.0, 2906.0, 6439.0, 4196.0, 2706.0, 7845.0, 3541.0, 7892.464840211756, 4505.560483385769, 3242.1915955974873, 2893.1389735973526, 2383.290106095973, 2364.5716445478706, 2308.547327970853, 1967.5780808594964, 1800.6969848824158, 1632.856728099108, 1549.4360197288163, 1463.598888992905, 1361.1861856058515, 1353.0661917897362, 1302.8012718330049, 1246.073493245461, 1133.2247326353004, 1103.5810830659805, 1034.0401872776442, 987.1097992992934, 966.6772164275106, 952.3691827333356, 905.3526633489505, 866.4153695681265, 820.4264134275488, 736.3244044316735, 699.5972749743092, 685.5928842576546, 683.2017890884096, 624.0534724101215, 2227.575416343641, 2302.9846770561517, 2183.845527817098, 2003.6950887635533, 3952.6238051671253, 2855.727281432274, 14713.31096260231, 2100.578915328015, 6713.454754432416, 4964.41269641607, 2960.3844036454566, 3062.251338798023, 2126.609616257723, 3530.137459132968, 11017.715978031007, 7845.595150767374, 5025.2421913641965, 7014.8432343330505, 6473.220761793521, 9147.641901139279, 7190.767614183089, 4811.21580717696, 8573.533856910988, 9151.07402511252, 4247.947768932686, 6147.794667280176, 4696.33914211569, 14463.535511416001, 4954.087156975736, 11031.9732636982, 3226.6428360223163, 5257.257555380732, 7919.531149129621, 4420.564869094643, 4407.086310800318, 7296.497933000662, 6545.6674824534975, 2818.0282678143676, 3468.5087682221974, 1549.7944664100964, 1520.8573537566967, 1515.2432691456675, 1453.2908664256324, 7066.028981014759, 1394.6427650233738, 1292.6495253208323, 1278.9599230052006, 1196.732222616748, 1096.9628518738332, 1012.2306320210137, 971.5296241097153, 874.7566970320308, 831.8956055741581, 828.7817460382486, 824.1573638887087, 802.5299646046815, 801.2523853507121, 735.2909912177786, 727.1699121611375, 723.2291314690002, 708.2404053929268, 701.0468080273452, 678.5346889752028, 661.1463605977488, 659.2457104603287, 4196.796734824757, 1094.2228040544146, 1170.6244140493347, 19019.645918726947, 17457.55841451457, 1231.2293830466288, 1030.199960809939, 1409.9649723026366, 3251.8460458893296, 1620.0147103345673, 1298.8146714143904, 1083.3376268012132, 1599.5795637574663, 14463.535511416001, 2206.300281416923, 11031.9732636982, 2409.6173091927894, 4467.808950278767, 1908.5314930712545, 4872.691409256529, 3079.4392008011378, 3608.4623279265666, 4371.50649007189, 6147.794667280176, 5537.237103218113, 4954.087156975736, 9147.641901139279, 3541.5950619360556, 1029.7815463154793, 1014.8720603503539, 970.9864684417984, 945.6817457874823, 895.2758263329783, 851.3150455517641, 798.2266088814918, 760.9991121218346, 743.5752547299999, 723.5762703428949, 674.6040455412494, 663.3110236874244, 627.4563097407948, 1034.5328053879807, 620.1058829922516, 609.446000339038, 607.2121670441956, 593.9607959472911, 591.7249829025341, 572.5065972977375, 566.4548585381209, 524.6383428794156, 515.0044238330428, 514.5043111378375, 498.1910395938533, 475.39610327006864, 447.07944958052684, 444.0109313731068, 441.8914185522026, 437.6131832863798, 893.5254856896698, 1395.5357128460346, 665.8548948966762, 587.9247616480058, 1963.0554335266215, 1080.4212691827458, 2089.5315031206214, 1819.8940487860452, 1354.2464504467807, 1195.2635562647524, 1588.7143880880317, 829.6646981575431, 1193.725815476402, 883.93890878279, 1205.5611288841903, 6318.5638326938615, 3277.188561807875, 1491.51155230084, 2473.361405791259, 2642.93421507557, 6439.573577432526, 2529.907065333805, 1568.9969296358897, 3185.353787844299, 2173.768202406618, 2043.3880162531236, 4236.179658992756, 4467.808950278767, 3357.8587451632616, 2263.1632230706364, 4111.63257221075, 7190.767614183089, 2985.166089530048, 4174.862410530638, 4407.086310800318, 4140.656306754444, 8573.533856910988, 4290.58908255035, 2970.1825512838273, 2356.8574342740235, 2069.265041254779, 1921.8119670019219, 1744.7156846648713, 1635.514295541859, 1449.5152068737036, 1212.3557246350872, 1200.4922925677529, 1085.4575428095252, 1041.9224022515273, 975.1444068734343, 938.6443895754123, 937.2643940716118, 934.8698619344793, 857.748563893397, 813.7111014355642, 730.8429431397633, 693.3918331152471, 688.6595092043393, 667.7338431183147, 631.4410010443561, 615.5148854132686, 586.7205721225105, 569.3466017930839, 517.971878638969, 496.7353681799059, 489.3607441168117, 461.1814151067389, 1506.605597471586, 753.4259610138904, 938.1941964060755, 3480.7119981607802, 3463.8432934373814, 1765.8310610148158, 1141.5279566708366, 7919.531149129621, 1630.2437435928998, 2275.907498784683, 2290.9212249720335, 1677.8605315155385, 1670.335624825992, 9151.07402511252, 3165.3363634973025, 3608.4623279265666, 4140.656306754444, 1424.0592878729135, 3988.4880514034753, 7845.595150767374, 8573.533856910988, 2719.478176829268, 14463.535511416001, 2906.2315463242776, 2706.4742394135865, 2146.4863585630005, 1707.6066079995423, 1636.4625598242262, 1540.8134972975981, 1276.175432193154, 1248.5494964807485, 1175.6041536573578, 1099.6321101977067, 1077.8794561812178, 993.6205607573258, 969.1070098304573, 942.845089865714, 903.102963241622, 889.7987135498496, 873.1221451493716, 853.6507472273266, 807.3125158151365, 805.1778198549546, 796.6261787243478, 746.2536270705472, 682.5571393715088, 666.8363854788705, 660.6791597816521, 650.1220956277929, 575.4630629237917, 568.2811455280112, 540.2778995140834, 479.4480010837295, 1766.2042545792765, 2831.713451828946, 4072.1918604538705, 1274.5028332035572, 927.8989122824607, 1082.487561354821, 5537.237103218113, 2455.637147551254, 3373.830611414402, 4392.564589587539, 1532.4838074528002, 6439.573577432526, 1701.1366449115383, 2003.9621090522287, 5076.399063885775, 11017.715978031007, 2209.4797166780986, 50746.039312603505, 8389.947301109974, 4067.2728498882557, 525.7858044161381, 509.95538791102604, 458.3345840246298, 435.90262410641617, 415.10657195626203, 376.84405263893484, 332.3997311056521, 319.56646139287926, 294.87249307663194, 291.49421040020695, 227.87095134826654, 217.95294370056996, 196.68747303884783, 191.8497554114418, 182.32250512886014, 179.60924521029662, 173.36197174009843, 170.00239558969085, 163.61255041281348, 140.4834633737279, 139.7128192036289, 131.2248487605449, 130.21066423083104, 119.67322804977243, 112.75124115890247, 110.56329550024878, 109.41505158903188, 351.38053626699656, 1197.8892464705507, 6147.794667280176, 1907.895265958139, 1156.7812773206397, 1014.4323279224737, 922.6914174616613, 740.9644640755479, 739.9698526963344, 619.6886813233937, 588.9336615670433, 532.553228042943, 521.3995068888905, 490.88516011525354, 397.95596381383024, 378.4100802453363, 372.727141687008, 367.3537808193691, 350.41900877433073, 322.174093633027, 317.00704709407034, 311.9403697777259, 311.5082158341649, 310.1835113848802, 307.02374175698304, 303.79320933351494, 295.42345785020325, 294.24619102002555, 276.13805586456726, 264.2669340287596, 262.88614119327826, 261.7264262880973, 254.61174023420375, 577.7872741066064, 888.0044308273528, 593.6541443993497, 431.54048165553945, 688.4612107088125, 2140.0999696194785, 567.9199023312515, 955.321979521446, 402.29790337866183, 465.7644697884811, 651.5296203460846, 1086.9893196955431, 3541.5950619360556, 1456.7472863080993, 948.1963281360964, 1436.5639770115176, 588.106717813613, 3988.4880514034753, 2565.044137707221, 2540.679879219559, 1802.795859437924, 1658.8933705741692, 812.0406850685933, 768.2276231043521, 627.9227488428613, 607.1267077817204, 601.4930024585436, 580.3956274197906, 497.3687190863611, 458.268278977016, 454.5512629423573, 451.5990180978008, 390.40309093094544, 339.95556507616135, 323.8193639974733, 320.65757214986013, 294.17986855485566, 271.47972435759715, 266.61158902332943, 261.9845138977924, 247.3393401921052, 243.09643713327856, 240.94757861184277, 238.17234095684287, 237.49685198628725, 230.20917560349218, 227.22280979189244, 227.08448087753357, 584.5088381862984, 677.1698991693187, 392.74042070584863, 635.747752247606, 480.26144464491847, 793.4576201971131, 652.1532513886658, 5257.257555380732, 419.6193631574519, 750.9981418337961, 1378.0633131832033, 3373.830611414402, 539.4076100016049, 4236.179658992756, 2926.5944831090937, 844.4463181023542, 823.3106836695589, 651.1475016922609, 647.1369975714913, 606.9773583130832, 474.11354141175366, 444.910561529338, 436.1448479447669, 412.2849379055887, 372.61301235227637, 340.8426364746292, 268.46456507765834, 258.3168494542451, 248.4793995066417, 245.554129204837, 229.8940339059185, 223.9776320246631, 214.42373291286913, 206.9614084932029, 206.42930139955692, 206.07665788002868, 196.5246864728152, 195.64377351803586, 194.00851623016422, 181.85322488622631, 179.9457600999069, 161.9564313374738, 149.6076657717765, 143.0609986726173, 1686.6703357208849, 672.7255954624221, 2140.0999696194785, 1701.1366449115383, 723.8276678712692, 1637.7134500623795, 1908.5314930712545, 420.4007004936117, 5537.237103218113, 2455.637147551254, 1532.4838074528002, 445.8841419247872, 816.749904357264, 2435.368292835655, 846.7068559148605, 424.2897415562163, 389.20114367173045, 381.1104626136628, 372.5159488322536, 363.209891020754, 361.61980910091995, 305.17807441014884, 286.94614269802287, 260.68852976745234, 254.09617161282998, 240.12758677886427, 212.8116567670839, 195.66473744194124, 190.7850792413206, 176.87581592029397, 169.6040241249282, 158.37902636307456, 151.2124816885488, 133.26404357511018, 131.4359631071831, 123.13459790191, 121.17895565278616, 107.52488685582298, 102.34273814730597, 99.28948589008895, 92.29654069883325, 87.41484755084278, 81.38428385906535, 81.2068117839462, 73.69520636702612, 1727.1499167763416, 253.9185562254132, 930.6254772822232, 485.77948956558527, 2831.713451828946, 1270.8464113311427, 1599.5795637574663, 1532.4838074528002, 769.1873779156765, 662.9439343463308, 480.03164413551764, 392.39296556140084, 307.3486025403058, 207.86454176703324, 177.75565653223714, 176.8908200561764, 170.05376788615055, 165.67727085010247, 157.16591490254459, 153.06521031699333, 152.78684996277713, 139.76721229159145, 136.7295317206961, 106.51585187550153, 105.71812952460357, 88.79155123027, 67.41871937253586, 67.17337582102469, 65.37726142350763, 63.304827184845685, 59.203728628322914, 58.78830677010554, 57.99894757346945, 56.81019210100314, 56.76796131496686, 56.66359752518412, 56.66359752518412, 56.66359752518412, 191.20163326090199, 285.5874449989565, 355.82555361376336, 688.4612107088125, 722.4532119638025, 959.821405288551, 762.8226562655681, 7919.531149129621, 436.7599177352658, 613.1410211264789, 519.9300154986747, 331.8550803154597, 292.26140439444634, 261.4869979732603, 252.87080741354788, 218.50745940268524, 217.718427523434, 215.36894384258866, 210.60908193340416, 208.7542296188945, 168.44783925218553, 163.67361217957182, 156.58078860799517, 144.95595476913093, 140.78009753293267, 132.20345268093595, 129.93397189426122, 129.33423033671878, 122.67186778943537, 118.82072080908986, 117.19876662246827, 111.91494659073828, 110.33905093799977, 108.39198771334283, 92.20700062801006, 88.85965747372863, 88.33482500291618, 83.77855498289165, 76.48164785108354, 194.65978274846336, 683.2194072294382, 358.24441532367405, 356.61423632778354, 324.14487724020455, 239.55958467551136, 137.6737782750887, 123.66832828120471, 122.72232201905608, 117.52614447390873, 110.99939989353425, 109.31752502410556, 108.7036499680256, 107.12136762725925, 96.80601167065797, 96.21338419564219, 89.10656624609958, 86.99318075599545, 84.65824454528142, 81.41436302732025, 81.15921383055675, 79.68053613871572, 78.08953393748347, 76.26170049321631, 69.80228657882692, 63.592055065724324, 61.233643811998306, 58.64566527178693, 56.59927436327177, 53.620493294956795, 39.43491899306981, 337.69542798406604, 431.75572352124306, 328.1711370636457, 1599.5795637574663, 237.12896694292297, 204.19328692626647, 195.73095000051757, 148.00025209590478, 146.49169466908594, 112.84757039627128, 105.36545036925355, 87.07351504369599, 83.31342735343848, 59.596789873736576, 48.83437103250277, 45.02108246391772, 40.81279223937158, 34.82011985707126, 33.96140257263057, 32.516724318438804, 31.30971726976311, 28.183782467735565, 20.04131824660961, 19.48790195305464, 17.291829968700696, 15.61690044338665, 14.740408527468432, 13.382768444308835, 11.372945856143946, 10.015918947973294, 10.015918947973294, 6.396094358279369, 1.242402140567282, 1.242007607286223, 353.51590456409406, 300.4064440286016, 254.73187483641058, 169.32429085360857, 155.50585016395976, 107.7251185730686, 79.75043007649222, 49.72940768555765, 45.99053587834144, 43.861031526447285, 29.53154873432749, 22.895131124974295, 17.07358815624921, 11.721695395129904, 11.308177788235746, 5.166581854338538, 4.1971236312097675, 1.9434561032400661, 1.2391763453421507, 1.238371929344798, 1.2383765157452198, 1.2383279774292908, 1.2383278408853737, 1.2383605010579135, 1.2383734722913624, 1.2390858072076878, 1.2386465899118997, 1.2385708433286804, 1.2386303391798004, 1.2383675698330894, 1.23886691672505, 1.2395883573834139, 1.2395125209448055, 393.16800706050464, 131.83552245318987, 84.40529376467737, 69.87396499756795, 67.82428091869879, 49.95569174491118, 47.92140200098294, 47.28981418736924, 29.58899600392983, 26.65368381305909, 25.179097710215366, 25.177701995466048, 23.441896821959062, 22.291578211685565, 19.557009419690427, 18.957947670172423, 18.928939131148198, 18.21443093635764, 17.614336697065422, 16.278714331671416, 11.899371206647043, 10.695060926529415, 7.351899369742539, 7.0001873551518, 5.267148687144388, 5.231011489702706, 4.633787164221217, 3.522188388948791, 1.458685326390674, 1.2389391829313205, 30.924414970841767, 20.43062218554638, 20.40612402722208, 13.224809354176205, 12.285154247107375, 91.95683975324079, 1.2387529989097226, 1.2383222916480863, 1.2383126945613931, 1.238290910480227, 1.2383169596868318, 1.238381484485098, 1.2383405419261404, 1.2383546472280913, 1.2383428947520012, 1.2384482837731126, 1.2382640472272903, 1.2382640269229503, 1.2382803932889501, 1.2382832853904722, 1.2384491016897328, 1.2383624365768358, 1.2382652868196573, 1.2382652868196573, 1.2382652868196573, 1.2382668839967328, 1.2382673462532512, 1.238712408327711, 1.2382912757287043, 1.238282388642996, 1.2384835626749273, 1.2386439257244977, 1.2387362759188145, 1.2393034306121893, 1.2383455205494764, 1.239090677223306, 1.2394135325409488, 1.2402558368177015, 1.2391315682472472, 1.2420545462313757, 1.2389842898082761, 1.2389310960258542, 1.23902345146466, 1.238877937211995, 1.242007607286223, 1.242402140567282, 1.2390941535015436, 1.240201671935509, 1.2388944497998606, 1.2391879794820861, 1.238877937211995], \"Category\": [\"Default\", \"Default\", \"Default\", \"Default\", \"Default\", \"Default\", \"Default\", \"Default\", \"Default\", \"Default\", \"Default\", \"Default\", \"Default\", \"Default\", \"Default\", \"Default\", \"Default\", \"Default\", \"Default\", \"Default\", \"Default\", \"Default\", \"Default\", \"Default\", \"Default\", \"Default\", \"Default\", \"Default\", \"Default\", \"Default\", \"Topic1\", \"Topic1\", \"Topic1\", \"Topic1\", \"Topic1\", \"Topic1\", \"Topic1\", \"Topic1\", \"Topic1\", \"Topic1\", \"Topic1\", \"Topic1\", \"Topic1\", \"Topic1\", \"Topic1\", \"Topic1\", \"Topic1\", \"Topic1\", \"Topic1\", \"Topic1\", \"Topic1\", \"Topic1\", \"Topic1\", \"Topic1\", \"Topic1\", \"Topic1\", \"Topic1\", \"Topic1\", \"Topic1\", \"Topic1\", \"Topic1\", \"Topic1\", \"Topic1\", \"Topic1\", \"Topic1\", \"Topic1\", \"Topic1\", \"Topic1\", \"Topic1\", \"Topic1\", \"Topic1\", \"Topic1\", \"Topic1\", \"Topic1\", \"Topic1\", \"Topic1\", \"Topic1\", \"Topic1\", \"Topic1\", \"Topic1\", \"Topic1\", \"Topic1\", \"Topic1\", \"Topic1\", \"Topic1\", \"Topic1\", \"Topic1\", \"Topic1\", \"Topic1\", \"Topic1\", \"Topic1\", \"Topic1\", \"Topic1\", \"Topic1\", \"Topic1\", \"Topic2\", \"Topic2\", \"Topic2\", \"Topic2\", \"Topic2\", \"Topic2\", \"Topic2\", \"Topic2\", \"Topic2\", \"Topic2\", \"Topic2\", \"Topic2\", \"Topic2\", \"Topic2\", \"Topic2\", \"Topic2\", \"Topic2\", \"Topic2\", \"Topic2\", \"Topic2\", \"Topic2\", \"Topic2\", \"Topic2\", \"Topic2\", \"Topic2\", \"Topic2\", \"Topic2\", \"Topic2\", \"Topic2\", \"Topic2\", \"Topic2\", \"Topic2\", \"Topic2\", \"Topic2\", \"Topic2\", \"Topic2\", \"Topic2\", \"Topic2\", \"Topic2\", \"Topic2\", \"Topic2\", \"Topic2\", \"Topic2\", \"Topic2\", \"Topic2\", \"Topic2\", \"Topic2\", \"Topic2\", \"Topic2\", \"Topic2\", \"Topic2\", \"Topic2\", \"Topic2\", \"Topic2\", \"Topic2\", \"Topic2\", \"Topic2\", \"Topic2\", \"Topic3\", \"Topic3\", \"Topic3\", \"Topic3\", \"Topic3\", \"Topic3\", \"Topic3\", \"Topic3\", \"Topic3\", \"Topic3\", \"Topic3\", \"Topic3\", \"Topic3\", \"Topic3\", \"Topic3\", \"Topic3\", \"Topic3\", \"Topic3\", \"Topic3\", \"Topic3\", \"Topic3\", \"Topic3\", \"Topic3\", \"Topic3\", \"Topic3\", \"Topic3\", \"Topic3\", \"Topic3\", \"Topic3\", \"Topic3\", \"Topic3\", \"Topic3\", \"Topic3\", \"Topic3\", \"Topic3\", \"Topic3\", \"Topic3\", \"Topic3\", \"Topic3\", \"Topic3\", \"Topic3\", \"Topic3\", \"Topic3\", \"Topic3\", \"Topic3\", \"Topic3\", \"Topic3\", \"Topic3\", \"Topic3\", \"Topic3\", \"Topic3\", \"Topic3\", \"Topic3\", \"Topic3\", \"Topic3\", \"Topic3\", \"Topic3\", \"Topic3\", \"Topic3\", \"Topic3\", \"Topic3\", \"Topic3\", \"Topic3\", \"Topic3\", \"Topic3\", \"Topic3\", \"Topic3\", \"Topic4\", \"Topic4\", \"Topic4\", \"Topic4\", \"Topic4\", \"Topic4\", \"Topic4\", \"Topic4\", \"Topic4\", \"Topic4\", \"Topic4\", \"Topic4\", \"Topic4\", \"Topic4\", \"Topic4\", \"Topic4\", \"Topic4\", \"Topic4\", \"Topic4\", \"Topic4\", \"Topic4\", \"Topic4\", \"Topic4\", \"Topic4\", \"Topic4\", \"Topic4\", \"Topic4\", \"Topic4\", \"Topic4\", \"Topic4\", \"Topic4\", \"Topic4\", \"Topic4\", \"Topic4\", \"Topic4\", \"Topic4\", \"Topic4\", \"Topic4\", \"Topic4\", \"Topic4\", \"Topic4\", \"Topic4\", \"Topic4\", \"Topic4\", \"Topic4\", \"Topic4\", \"Topic4\", \"Topic4\", \"Topic4\", \"Topic4\", \"Topic4\", \"Topic4\", \"Topic4\", \"Topic5\", \"Topic5\", \"Topic5\", \"Topic5\", \"Topic5\", \"Topic5\", \"Topic5\", \"Topic5\", \"Topic5\", \"Topic5\", \"Topic5\", \"Topic5\", \"Topic5\", \"Topic5\", \"Topic5\", \"Topic5\", \"Topic5\", \"Topic5\", \"Topic5\", \"Topic5\", \"Topic5\", \"Topic5\", \"Topic5\", \"Topic5\", \"Topic5\", \"Topic5\", \"Topic5\", \"Topic5\", \"Topic5\", \"Topic5\", \"Topic5\", \"Topic5\", \"Topic5\", \"Topic5\", \"Topic5\", \"Topic5\", \"Topic5\", \"Topic5\", \"Topic5\", \"Topic5\", \"Topic5\", \"Topic5\", \"Topic5\", \"Topic5\", \"Topic5\", \"Topic5\", \"Topic5\", \"Topic6\", \"Topic6\", \"Topic6\", \"Topic6\", \"Topic6\", \"Topic6\", \"Topic6\", \"Topic6\", \"Topic6\", \"Topic6\", \"Topic6\", \"Topic6\", \"Topic6\", \"Topic6\", \"Topic6\", \"Topic6\", \"Topic6\", \"Topic6\", \"Topic6\", \"Topic6\", \"Topic6\", \"Topic6\", \"Topic6\", \"Topic6\", \"Topic6\", \"Topic6\", \"Topic6\", \"Topic6\", \"Topic6\", \"Topic6\", \"Topic6\", \"Topic6\", \"Topic6\", \"Topic7\", \"Topic7\", \"Topic7\", \"Topic7\", \"Topic7\", \"Topic7\", \"Topic7\", \"Topic7\", \"Topic7\", \"Topic7\", \"Topic7\", \"Topic7\", \"Topic7\", \"Topic7\", \"Topic7\", \"Topic7\", \"Topic7\", \"Topic7\", \"Topic7\", \"Topic7\", \"Topic7\", \"Topic7\", \"Topic7\", \"Topic7\", \"Topic7\", \"Topic7\", \"Topic7\", \"Topic7\", \"Topic7\", \"Topic7\", \"Topic7\", \"Topic7\", \"Topic7\", \"Topic7\", \"Topic7\", \"Topic7\", \"Topic7\", \"Topic7\", \"Topic7\", \"Topic7\", \"Topic7\", \"Topic7\", \"Topic7\", \"Topic7\", \"Topic7\", \"Topic7\", \"Topic7\", \"Topic7\", \"Topic8\", \"Topic8\", \"Topic8\", \"Topic8\", \"Topic8\", \"Topic8\", \"Topic8\", \"Topic8\", \"Topic8\", \"Topic8\", \"Topic8\", \"Topic8\", \"Topic8\", \"Topic8\", \"Topic8\", \"Topic8\", \"Topic8\", \"Topic8\", \"Topic8\", \"Topic8\", \"Topic8\", \"Topic8\", \"Topic8\", \"Topic8\", \"Topic8\", \"Topic8\", \"Topic8\", \"Topic8\", \"Topic8\", \"Topic8\", \"Topic8\", \"Topic8\", \"Topic8\", \"Topic8\", \"Topic8\", \"Topic8\", \"Topic8\", \"Topic8\", \"Topic8\", \"Topic8\", \"Topic8\", \"Topic8\", \"Topic8\", \"Topic8\", \"Topic9\", \"Topic9\", \"Topic9\", \"Topic9\", \"Topic9\", \"Topic9\", \"Topic9\", \"Topic9\", \"Topic9\", \"Topic9\", \"Topic9\", \"Topic9\", \"Topic9\", \"Topic9\", \"Topic9\", \"Topic9\", \"Topic9\", \"Topic9\", \"Topic9\", \"Topic9\", \"Topic9\", \"Topic9\", \"Topic9\", \"Topic9\", \"Topic9\", \"Topic9\", \"Topic9\", \"Topic9\", \"Topic9\", \"Topic9\", \"Topic9\", \"Topic9\", \"Topic9\", \"Topic9\", \"Topic9\", \"Topic9\", \"Topic9\", \"Topic9\", \"Topic9\", \"Topic9\", \"Topic9\", \"Topic9\", \"Topic9\", \"Topic9\", \"Topic9\", \"Topic10\", \"Topic10\", \"Topic10\", \"Topic10\", \"Topic10\", \"Topic10\", \"Topic10\", \"Topic10\", \"Topic10\", \"Topic10\", \"Topic10\", \"Topic10\", \"Topic10\", \"Topic10\", \"Topic10\", \"Topic10\", \"Topic10\", \"Topic10\", \"Topic10\", \"Topic10\", \"Topic10\", \"Topic10\", \"Topic10\", \"Topic10\", \"Topic10\", \"Topic10\", \"Topic10\", \"Topic10\", \"Topic10\", \"Topic10\", \"Topic10\", \"Topic10\", \"Topic10\", \"Topic10\", \"Topic10\", \"Topic10\", \"Topic10\", \"Topic10\", \"Topic11\", \"Topic11\", \"Topic11\", \"Topic11\", \"Topic11\", \"Topic11\", \"Topic11\", \"Topic11\", \"Topic11\", \"Topic11\", \"Topic11\", \"Topic11\", \"Topic11\", \"Topic11\", \"Topic11\", \"Topic11\", \"Topic11\", \"Topic11\", \"Topic11\", \"Topic11\", \"Topic11\", \"Topic11\", \"Topic11\", \"Topic11\", \"Topic11\", \"Topic11\", \"Topic11\", \"Topic11\", \"Topic11\", \"Topic11\", \"Topic11\", \"Topic11\", \"Topic11\", \"Topic11\", \"Topic11\", \"Topic11\", \"Topic11\", \"Topic11\", \"Topic11\", \"Topic12\", \"Topic12\", \"Topic12\", \"Topic12\", \"Topic12\", \"Topic12\", \"Topic12\", \"Topic12\", \"Topic12\", \"Topic12\", \"Topic12\", \"Topic12\", \"Topic12\", \"Topic12\", \"Topic12\", \"Topic12\", \"Topic12\", \"Topic12\", \"Topic12\", \"Topic12\", \"Topic12\", \"Topic12\", \"Topic12\", \"Topic12\", \"Topic12\", \"Topic12\", \"Topic12\", \"Topic12\", \"Topic12\", \"Topic12\", \"Topic12\", \"Topic13\", \"Topic13\", \"Topic13\", \"Topic13\", \"Topic13\", \"Topic13\", \"Topic13\", \"Topic13\", \"Topic13\", \"Topic13\", \"Topic13\", \"Topic13\", \"Topic13\", \"Topic13\", \"Topic13\", \"Topic13\", \"Topic13\", \"Topic13\", \"Topic13\", \"Topic13\", \"Topic13\", \"Topic13\", \"Topic13\", \"Topic13\", \"Topic13\", \"Topic13\", \"Topic13\", \"Topic13\", \"Topic13\", \"Topic13\", \"Topic13\", \"Topic13\", \"Topic13\", \"Topic13\", \"Topic14\", \"Topic14\", \"Topic14\", \"Topic14\", \"Topic14\", \"Topic14\", \"Topic14\", \"Topic14\", \"Topic14\", \"Topic14\", \"Topic14\", \"Topic14\", \"Topic14\", \"Topic14\", \"Topic14\", \"Topic14\", \"Topic14\", \"Topic14\", \"Topic14\", \"Topic14\", \"Topic14\", \"Topic14\", \"Topic14\", \"Topic14\", \"Topic14\", \"Topic14\", \"Topic14\", \"Topic14\", \"Topic14\", \"Topic14\", \"Topic15\", \"Topic15\", \"Topic15\", \"Topic15\", \"Topic15\", \"Topic15\", \"Topic15\", \"Topic15\", \"Topic15\", \"Topic15\", \"Topic15\", \"Topic15\", \"Topic15\", \"Topic15\", \"Topic15\", \"Topic15\", \"Topic15\", \"Topic15\", \"Topic15\", \"Topic15\", \"Topic15\", \"Topic15\", \"Topic15\", \"Topic15\", \"Topic15\", \"Topic15\", \"Topic15\", \"Topic15\", \"Topic15\", \"Topic15\", \"Topic15\", \"Topic15\", \"Topic15\", \"Topic16\", \"Topic16\", \"Topic16\", \"Topic16\", \"Topic16\", \"Topic16\", \"Topic16\", \"Topic16\", \"Topic16\", \"Topic16\", \"Topic16\", \"Topic16\", \"Topic16\", \"Topic16\", \"Topic16\", \"Topic16\", \"Topic16\", \"Topic16\", \"Topic16\", \"Topic16\", \"Topic16\", \"Topic16\", \"Topic16\", \"Topic16\", \"Topic16\", \"Topic16\", \"Topic16\", \"Topic16\", \"Topic16\", \"Topic16\", \"Topic17\", \"Topic17\", \"Topic17\", \"Topic17\", \"Topic17\", \"Topic17\", \"Topic17\", \"Topic17\", \"Topic17\", \"Topic17\", \"Topic17\", \"Topic17\", \"Topic17\", \"Topic17\", \"Topic17\", \"Topic17\", \"Topic17\", \"Topic17\", \"Topic17\", \"Topic17\", \"Topic17\", \"Topic17\", \"Topic17\", \"Topic17\", \"Topic17\", \"Topic17\", \"Topic17\", \"Topic17\", \"Topic17\", \"Topic17\", \"Topic17\", \"Topic17\", \"Topic17\", \"Topic17\", \"Topic17\", \"Topic17\", \"Topic17\", \"Topic17\", \"Topic17\", \"Topic17\", \"Topic17\", \"Topic17\", \"Topic17\", \"Topic17\", \"Topic17\", \"Topic17\", \"Topic17\", \"Topic17\", \"Topic17\", \"Topic17\", \"Topic17\"], \"logprob\": [30.0, 29.0, 28.0, 27.0, 26.0, 25.0, 24.0, 23.0, 22.0, 21.0, 20.0, 19.0, 18.0, 17.0, 16.0, 15.0, 14.0, 13.0, 12.0, 11.0, 10.0, 9.0, 8.0, 7.0, 6.0, 5.0, 4.0, 3.0, 2.0, 1.0, -4.0507, -4.6114, -4.9405, -5.0545, -5.2484, -5.2563, -5.2803, -5.4402, -5.5289, -5.6268, -5.6793, -5.7363, -5.8089, -5.8149, -5.8528, -5.8974, -5.9924, -6.0189, -6.0841, -6.1306, -6.1515, -6.1664, -6.2171, -6.2612, -6.3158, -6.4241, -6.4753, -6.4956, -6.4991, -6.5898, -5.3174, -5.2847, -5.3388, -5.4272, -4.7702, -5.0933, -3.4997, -5.396, -4.2728, -4.5865, -5.08, -5.0571, -5.4063, -4.9469, -3.905, -4.2145, -4.6283, -4.3283, -4.4141, -4.1728, -4.3786, -4.7474, -4.2878, -4.3243, -4.905, -4.7039, -4.8809, -4.2753, -4.8769, -4.523, -5.1171, -4.9306, -4.8733, -5.0343, -5.0606, -3.6459, -3.7545, -4.5975, -4.3901, -5.1958, -5.2146, -5.2183, -5.2601, -3.6787, -5.3013, -5.3774, -5.388, -5.4545, -5.5417, -5.6221, -5.6632, -5.7683, -5.8186, -5.8223, -5.8279, -5.8546, -5.8562, -5.9422, -5.9533, -5.9588, -5.9798, -5.99, -6.0227, -6.0487, -6.0516, -4.2071, -5.5491, -5.4839, -2.771, -2.8626, -5.4518, -5.6376, -5.3552, -4.6709, -5.2841, -5.467, -5.6131, -5.3173, -3.6681, -5.0799, -3.8906, -5.0896, -4.7035, -5.2676, -4.7958, -5.092, -5.0396, -5.0609, -5.0375, -5.0766, -5.2554, -5.2186, -5.293, -5.3825, -5.3971, -5.4413, -5.4678, -5.5226, -5.573, -5.6375, -5.6854, -5.7086, -5.7359, -5.8061, -5.823, -5.8786, -5.3786, -5.8904, -5.9078, -5.9115, -5.9336, -5.9374, -5.9705, -5.9811, -6.058, -6.0765, -6.0775, -6.1098, -6.1567, -6.2183, -6.2252, -6.23, -6.2398, -5.5326, -5.1241, -5.838, -5.9575, -4.8217, -5.3884, -4.7809, -4.9087, -5.1831, -5.307, -5.0716, -5.6435, -5.3482, -5.6088, -5.3765, -4.1448, -4.6663, -5.247, -4.8871, -4.8548, -4.2747, -4.9141, -5.2353, -4.7886, -5.0438, -5.1004, -4.8444, -4.8444, -5.0941, -5.2432, -5.1098, -5.0022, -5.2018, -5.2625, -5.3095, -5.3184, -5.3356, -3.7119, -4.0798, -4.3112, -4.4414, -4.5154, -4.6121, -4.6768, -4.7976, -4.9765, -4.9863, -5.0871, -5.1281, -5.1944, -5.2326, -5.2341, -5.2367, -5.3229, -5.3756, -5.4832, -5.5359, -5.5428, -5.5737, -5.6297, -5.6552, -5.7033, -5.7334, -5.8281, -5.8701, -5.8851, -5.9445, -4.7903, -5.4738, -5.2716, -4.0949, -4.1543, -4.7571, -5.1739, -3.6979, -4.9034, -4.7064, -4.7116, -4.9324, -4.9852, -4.0214, -4.6729, -4.8456, -4.9064, -5.1851, -5.085, -5.0321, -5.0522, -5.1465, -5.1449, -3.6748, -3.746, -3.9779, -4.2068, -4.2494, -4.3097, -4.4983, -4.5202, -4.5804, -4.6473, -4.6673, -4.7488, -4.7738, -4.8013, -4.8444, -4.8593, -4.8782, -4.9008, -4.9567, -4.9593, -4.97, -5.0355, -5.1248, -5.1482, -5.1574, -5.1736, -5.2958, -5.3084, -5.359, -5.4787, -4.2162, -3.7863, -3.4993, -4.5956, -4.8933, -4.7837, -3.7882, -4.3157, -4.1515, -4.173, -4.6876, -4.1097, -4.7034, -4.7056, -4.6004, -4.7499, -4.827, -0.5011, -2.301, -3.0252, -5.0728, -5.1034, -5.2104, -5.2607, -5.3097, -5.4067, -5.5325, -5.5721, -5.6528, -5.6643, -5.9116, -5.9563, -6.0595, -6.0846, -6.1358, -6.1509, -6.1865, -6.2062, -6.2447, -6.3982, -6.4038, -6.467, -6.4748, -6.5599, -6.6201, -6.6398, -6.6504, -5.7737, -4.9983, -5.9136, -3.398, -3.8988, -4.0302, -4.1251, -4.3448, -4.3461, -4.5238, -4.5748, -4.6757, -4.6969, -4.7573, -4.9678, -5.0183, -5.0334, -5.048, -5.0954, -5.1797, -5.1959, -5.2121, -5.2135, -5.2178, -5.228, -5.2387, -5.2667, -5.2707, -5.3345, -5.3786, -5.3839, -5.3883, -5.416, -4.5984, -4.2074, -4.6553, -4.9411, -4.5492, -3.845, -4.8031, -4.4434, -5.0539, -4.9747, -4.7885, -4.5082, -3.8991, -4.6429, -4.9652, -4.9861, -5.0318, -5.0175, -2.8446, -2.8542, -3.1975, -3.2807, -3.9958, -4.0513, -4.2533, -4.2871, -4.2964, -4.3322, -4.4869, -4.569, -4.5772, -4.5837, -4.7297, -4.8685, -4.9173, -4.9272, -5.0137, -5.0943, -5.1125, -5.13, -5.1878, -5.2052, -5.2141, -5.2258, -5.2286, -5.26, -5.2731, -5.2737, -4.4053, -4.3383, -4.814, -4.4736, -4.7164, -4.5039, -4.7208, -3.7295, -4.9869, -4.8357, -4.7037, -4.5439, -4.948, -4.8076, -2.5365, -3.7804, -3.8058, -4.0408, -4.047, -4.1111, -4.3587, -4.4225, -4.4424, -4.4988, -4.6003, -4.6897, -4.9293, -4.968, -5.007, -5.0189, -5.0851, -5.1114, -5.1552, -5.1908, -5.1934, -5.1951, -5.2428, -5.2474, -5.2558, -5.3209, -5.3315, -5.4376, -5.5175, -5.5626, -3.3907, -4.4377, -3.7129, -4.0231, -4.5277, -4.3039, -4.4104, -4.9922, -4.1994, -4.5191, -4.672, -4.9982, -4.8834, -4.7284, -5.0, -3.6816, -3.7682, -3.7892, -3.8121, -3.8375, -3.8419, -4.0122, -4.074, -4.1704, -4.1962, -4.253, -4.3744, -4.4589, -4.4843, -4.5605, -4.6027, -4.6717, -4.7183, -4.8458, -4.8597, -4.9255, -4.9417, -5.0625, -5.1124, -5.1431, -5.217, -5.2721, -5.3446, -5.3468, -5.4454, -2.3315, -4.4824, -3.5209, -4.6112, -4.282, -4.6736, -4.7958, -4.8565, -2.8435, -2.9924, -3.3159, -3.518, -3.7631, -4.156, -4.3135, -4.3184, -4.3581, -4.3843, -4.4374, -4.4641, -4.4659, -4.5557, -4.5778, -4.83, -4.8376, -5.0142, -5.2938, -5.2975, -5.3251, -5.3579, -5.4261, -5.4333, -5.4471, -5.4683, -5.469, -5.4709, -5.4709, -5.4709, -4.5497, -4.8113, -5.0644, -5.0527, -5.0996, -5.1386, -5.2642, -5.1847, -5.3363, -2.9108, -3.076, -3.5263, -3.6538, -3.7656, -3.7992, -3.946, -3.9497, -3.9606, -3.983, -3.9919, -4.2078, -4.2368, -4.2814, -4.3592, -4.3886, -4.452, -4.4695, -4.4742, -4.5276, -4.5598, -4.5737, -4.6203, -4.6346, -4.6526, -4.8163, -4.8537, -4.8597, -4.9134, -5.0059, -4.1084, -2.6346, -3.2818, -3.2864, -3.3822, -3.6859, -4.2435, -4.3517, -4.3595, -4.4032, -4.4609, -4.4763, -4.482, -4.4969, -4.5993, -4.6055, -4.6832, -4.7076, -4.7352, -4.7748, -4.778, -4.7966, -4.8171, -4.8412, -4.9311, -5.026, -5.0645, -5.1086, -5.1448, -5.2001, -5.5155, -3.7835, -3.9242, -4.6878, -4.6793, -3.0522, -3.2026, -3.2451, -3.5266, -3.537, -3.8004, -3.8697, -4.0628, -4.1076, -4.4484, -4.6521, -4.7355, -4.8364, -5.0004, -5.0263, -5.0714, -5.1107, -5.2203, -5.5793, -5.6091, -5.737, -5.8469, -5.9096, -6.0152, -6.1953, -6.3384, -6.3384, -6.8665, -11.604, -11.6054, -2.5445, -2.7079, -2.8735, -3.2843, -3.3701, -3.7406, -4.0453, -4.5268, -4.607, -4.6557, -5.065, -5.3319, -5.6443, -6.0554, -6.0955, -7.0307, -7.3108, -8.703, -11.6237, -11.6246, -11.625, -11.6252, -11.6252, -11.6252, -11.6252, -11.6247, -11.6252, -11.6253, -11.6253, -11.6255, -11.6253, -11.6251, -11.6252, -2.2472, -3.346, -3.7971, -3.9891, -4.0194, -4.3316, -4.3742, -4.3878, -4.8725, -4.9816, -5.0413, -5.0414, -5.1165, -5.1696, -5.3085, -5.3417, -5.3433, -5.3845, -5.4204, -5.5053, -5.8484, -5.9679, -6.402, -6.4609, -6.8161, -6.825, -6.9855, -7.377, -9.5806, -11.5479, -3.7586, -4.1944, -4.1957, -4.6647, -4.7462, -3.3822, -11.2809, -11.2817, -11.2817, -11.282, -11.282, -11.282, -11.282, -11.282, -11.2821, -11.282, -11.2822, -11.2822, -11.2822, -11.2822, -11.2821, -11.2822, -11.2822, -11.2822, -11.2822, -11.2822, -11.2822, -11.2819, -11.2822, -11.2822, -11.2821, -11.282, -11.282, -11.2817, -11.2822, -11.2819, -11.2818, -11.2814, -11.2819, -11.2808, -11.282, -11.282, -11.282, -11.282, -11.2813, -11.2814, -11.282, -11.282, -11.282, -11.282, -11.282], \"loglift\": [30.0, 29.0, 28.0, 27.0, 26.0, 25.0, 24.0, 23.0, 22.0, 21.0, 20.0, 19.0, 18.0, 17.0, 16.0, 15.0, 14.0, 13.0, 12.0, 11.0, 10.0, 9.0, 8.0, 7.0, 6.0, 5.0, 4.0, 3.0, 2.0, 1.0, 1.2189, 1.2188, 1.2187, 1.2186, 1.2186, 1.2186, 1.2185, 1.2185, 1.2184, 1.2183, 1.2183, 1.2183, 1.2182, 1.2182, 1.2182, 1.2181, 1.218, 1.218, 1.2179, 1.2179, 1.2179, 1.2178, 1.2178, 1.2177, 1.2176, 1.2175, 1.2174, 1.2174, 1.2174, 1.2172, 1.2172, 1.2165, 1.2156, 1.2132, 1.1909, 1.1928, 1.147, 1.1973, 1.1585, 1.1466, 1.1701, 1.1592, 1.1746, 1.1272, 1.031, 1.061, 1.0927, 1.0591, 1.0537, 0.9492, 0.9841, 1.0171, 0.899, 0.7973, 0.9841, 0.8155, 0.9078, 0.3886, 0.8584, 0.4117, 1.047, 0.7453, 0.3928, 0.8149, 0.7916, 1.7022, 1.7021, 1.7019, 1.7017, 1.7016, 1.7016, 1.7016, 1.7015, 1.7015, 1.7015, 1.7014, 1.7014, 1.7014, 1.7013, 1.7012, 1.7011, 1.701, 1.7009, 1.7009, 1.7009, 1.7009, 1.7009, 1.7008, 1.7007, 1.7007, 1.7007, 1.7007, 1.7006, 1.7006, 1.7006, 1.6941, 1.6963, 1.6941, 1.6191, 1.6131, 1.6757, 1.6681, 1.6367, 1.4853, 1.569, 1.6071, 1.6424, 1.5484, 0.9957, 1.4642, 1.0441, 1.3664, 1.1351, 1.4216, 0.956, 1.1187, 1.0126, 0.7994, 0.4819, 0.5473, 0.4799, -0.0966, 0.7779, 1.9236, 1.9236, 1.9236, 1.9235, 1.9235, 1.9234, 1.9233, 1.9232, 1.9232, 1.9232, 1.9231, 1.923, 1.9229, 1.9229, 1.9229, 1.9229, 1.9229, 1.9228, 1.9228, 1.9228, 1.9227, 1.9226, 1.9225, 1.9225, 1.9225, 1.9223, 1.9222, 1.9222, 1.9222, 1.9221, 1.9155, 1.8781, 1.9042, 1.9091, 1.8393, 1.8698, 1.8177, 1.828, 1.8491, 1.8501, 1.801, 1.8787, 1.8102, 1.8501, 1.772, 1.3471, 1.4822, 1.6887, 1.5428, 1.5088, 1.1983, 1.4932, 1.6497, 1.3883, 1.5152, 1.5205, 1.0474, 0.9941, 1.03, 1.2755, 0.8119, 0.3605, 1.04, 0.6439, 0.5427, 0.5962, -0.1488, 2.1671, 2.167, 2.1669, 2.1669, 2.1668, 2.1668, 2.1667, 2.1666, 2.1665, 2.1664, 2.1663, 2.1663, 2.1662, 2.1662, 2.1662, 2.1662, 2.1661, 2.166, 2.1658, 2.1657, 2.1657, 2.1657, 2.1656, 2.1655, 2.1654, 2.1654, 2.1652, 2.1651, 2.165, 2.1649, 2.1353, 2.1449, 2.1276, 1.9934, 1.9388, 2.0097, 2.0292, 1.5682, 1.9433, 1.8067, 1.7949, 1.8856, 1.8373, 1.1002, 1.5103, 1.2066, 1.0083, 1.7969, 0.8671, 0.2435, 0.1346, 1.1886, -0.4811, 2.5939, 2.5938, 2.5937, 2.5936, 2.5936, 2.5935, 2.5934, 2.5933, 2.5933, 2.5932, 2.5932, 2.5931, 2.5931, 2.593, 2.593, 2.593, 2.5929, 2.5929, 2.5928, 2.5928, 2.5928, 2.5927, 2.5926, 2.5925, 2.5925, 2.5925, 2.5923, 2.5922, 2.5921, 2.5919, 2.5505, 2.5083, 2.432, 2.4973, 2.517, 2.4725, 1.8358, 2.1214, 1.9679, 1.6825, 2.221, 1.3633, 2.1008, 1.9348, 1.1104, 0.1861, 1.7157, 2.9076, 2.9075, 2.9073, 2.9055, 2.9055, 2.9052, 2.9051, 2.905, 2.9047, 2.9044, 2.9042, 2.9039, 2.9039, 2.9029, 2.9026, 2.9021, 2.902, 2.9017, 2.9016, 2.9014, 2.9012, 2.901, 2.8999, 2.8999, 2.8994, 2.8993, 2.8986, 2.898, 2.8978, 2.8977, 2.6077, 2.1566, -0.3942, 3.2914, 3.2911, 3.2909, 3.2908, 3.2905, 3.2905, 3.2902, 3.2901, 3.2899, 3.2898, 3.2897, 3.2891, 3.289, 3.2889, 3.2889, 3.2887, 3.2885, 3.2884, 3.2883, 3.2883, 3.2883, 3.2883, 3.2882, 3.2881, 3.2881, 3.2879, 3.2877, 3.2876, 3.2876, 3.2875, 3.2856, 3.2469, 3.2017, 3.2347, 3.1596, 2.7296, 3.0982, 2.9378, 3.1922, 3.1248, 2.9754, 2.7439, 2.1719, 2.3163, 2.4234, 1.9872, 2.8346, 0.9345, 3.5489, 3.5489, 3.5487, 3.5486, 3.5479, 3.5478, 3.5475, 3.5474, 3.5474, 3.5473, 3.547, 3.5468, 3.5468, 3.5468, 3.5464, 3.5459, 3.5457, 3.5457, 3.5454, 3.5451, 3.545, 3.5449, 3.5446, 3.5446, 3.5445, 3.5445, 3.5444, 3.5443, 3.5442, 3.5442, 3.4671, 3.387, 3.4561, 3.3148, 3.3525, 3.063, 3.0421, 1.9464, 3.2169, 2.7862, 2.3111, 1.5755, 3.0048, 1.0842, 3.7251, 3.7241, 3.7241, 3.7237, 3.7237, 3.7236, 3.7231, 3.7229, 3.7229, 3.7227, 3.7224, 3.7221, 3.7212, 3.721, 3.7208, 3.7208, 3.7205, 3.7203, 3.7201, 3.7199, 3.7199, 3.7199, 3.7196, 3.7196, 3.7195, 3.7191, 3.7191, 3.7183, 3.7178, 3.7174, 3.422, 3.2942, 2.8617, 2.781, 3.131, 2.5382, 2.2788, 3.2099, 1.4246, 1.918, 2.2366, 3.1449, 2.6545, 1.717, 2.5019, 4.5112, 4.511, 4.5109, 4.5108, 4.5108, 4.5107, 4.5101, 4.5099, 4.5095, 4.5094, 4.5091, 4.5085, 4.508, 4.5078, 4.5073, 4.507, 4.5066, 4.5062, 4.5051, 4.505, 4.5044, 4.5043, 4.503, 4.5025, 4.5021, 4.5012, 4.5005, 4.4995, 4.4994, 4.4979, 4.4575, 4.2238, 3.8865, 3.4462, 2.0126, 2.4222, 2.07, 2.0521, 4.7544, 4.7542, 4.7535, 4.753, 4.7521, 4.7503, 4.7494, 4.7493, 4.7491, 4.7489, 4.7485, 4.7483, 4.7483, 4.7476, 4.7474, 4.745, 4.7449, 4.7428, 4.7385, 4.7385, 4.738, 4.7374, 4.7361, 4.736, 4.7357, 4.7353, 4.7352, 4.7352, 4.7352, 4.7352, 4.4402, 3.7774, 3.3044, 2.6561, 2.561, 2.2379, 2.342, 0.0815, 2.8276, 4.9139, 4.9135, 4.9122, 4.9118, 4.9113, 4.9111, 4.9104, 4.9104, 4.9103, 4.9102, 4.9101, 4.9088, 4.9086, 4.9082, 4.9076, 4.9074, 4.9068, 4.9067, 4.9066, 4.9061, 4.9058, 4.9057, 4.9052, 4.9051, 4.9049, 4.9029, 4.9024, 4.9024, 4.9016, 4.9003, 4.8635, 5.0818, 5.0802, 5.0802, 5.0799, 5.0786, 5.0749, 5.0739, 5.0738, 5.0734, 5.0728, 5.0726, 5.0726, 5.0724, 5.0712, 5.0712, 5.0702, 5.0698, 5.0695, 5.0689, 5.0688, 5.0686, 5.0683, 5.0679, 5.0664, 5.0648, 5.064, 5.0632, 5.0624, 5.0612, 5.0531, 4.6375, 4.2512, 3.7619, 2.1864, 5.7224, 5.7216, 5.7214, 5.7194, 5.7193, 5.7168, 5.7161, 5.7137, 5.713, 5.7072, 5.7027, 5.7006, 5.6978, 5.6926, 5.6917, 5.6901, 5.6886, 5.6842, 5.6661, 5.6643, 5.656, 5.648, 5.6431, 5.6341, 5.6166, 5.6006, 5.6006, 5.521, 2.4222, 2.4211, 5.8308, 5.8302, 5.8295, 5.8271, 5.8265, 5.823, 5.8191, 5.8098, 5.8078, 5.8065, 5.7928, 5.7805, 5.7614, 5.7264, 5.7222, 5.5704, 5.4981, 4.8757, 2.4051, 2.4049, 2.4045, 2.4042, 2.4042, 2.4042, 2.4042, 2.4041, 2.404, 2.404, 2.404, 2.404, 2.4038, 2.4034, 2.4033, 6.0218, 6.0157, 6.0105, 6.0075, 6.007, 6.0005, 5.9994, 5.9991, 5.9834, 5.9787, 5.9759, 5.9759, 5.9722, 5.9694, 5.9614, 5.9593, 5.9592, 5.9565, 5.9541, 5.9481, 5.9183, 5.9056, 5.8462, 5.8364, 5.7657, 5.7636, 5.7244, 5.6072, 4.2851, 2.4811, 7.0531, 7.0318, 7.0317, 6.9965, 6.9887, 6.3397, 2.7482, 2.7478, 2.7478, 2.7475, 2.7474, 2.7474, 2.7474, 2.7474, 2.7473, 2.7473, 2.7473, 2.7473, 2.7473, 2.7473, 2.7473, 2.7473, 2.7473, 2.7473, 2.7473, 2.7473, 2.7473, 2.7473, 2.7473, 2.7473, 2.7472, 2.7472, 2.7472, 2.7469, 2.7473, 2.747, 2.7468, 2.7465, 2.7469, 2.7456, 2.747, 2.747, 2.7469, 2.747, 2.7452, 2.7448, 2.7469, 2.746, 2.747, 2.7468, 2.747]}, \"token.table\": {\"Topic\": [6, 3, 7, 2, 5, 9, 3, 4, 7, 16, 3, 2, 7, 4, 5, 9, 9, 12, 15, 3, 6, 1, 2, 3, 4, 5, 4, 7, 7, 12, 14, 1, 13, 3, 5, 5, 2, 11, 1, 3, 3, 9, 7, 4, 11, 11, 1, 2, 4, 10, 4, 11, 4, 7, 9, 11, 1, 6, 16, 1, 14, 1, 2, 3, 4, 5, 12, 1, 4, 6, 14, 16, 4, 1, 4, 4, 1, 16, 1, 5, 9, 1, 9, 3, 8, 17, 2, 5, 8, 15, 6, 7, 13, 8, 5, 10, 7, 16, 16, 2, 1, 2, 3, 4, 5, 7, 14, 2, 7, 14, 1, 5, 1, 2, 3, 4, 11, 11, 1, 2, 7, 4, 8, 15, 10, 11, 14, 4, 11, 5, 9, 3, 4, 4, 4, 16, 7, 9, 1, 7, 8, 7, 4, 15, 7, 9, 12, 6, 9, 6, 5, 14, 1, 4, 2, 9, 7, 3, 5, 2, 5, 4, 7, 9, 10, 3, 13, 5, 16, 3, 2, 8, 2, 7, 1, 5, 9, 12, 12, 16, 13, 9, 7, 12, 16, 5, 9, 10, 6, 2, 3, 4, 2, 4, 2, 3, 4, 12, 3, 4, 11, 8, 5, 9, 8, 1, 9, 6, 1, 4, 13, 5, 5, 2, 4, 2, 8, 1, 4, 5, 7, 17, 3, 1, 5, 5, 4, 8, 16, 4, 10, 7, 9, 2, 13, 9, 2, 1, 5, 13, 15, 6, 3, 11, 1, 4, 3, 4, 9, 15, 3, 4, 5, 8, 12, 14, 3, 1, 1, 4, 7, 4, 8, 2, 9, 7, 13, 3, 1, 5, 6, 3, 8, 1, 2, 3, 4, 1, 3, 1, 3, 8, 10, 2, 3, 4, 5, 15, 1, 4, 7, 5, 8, 10, 15, 14, 9, 12, 14, 8, 8, 2, 3, 4, 11, 4, 7, 1, 2, 5, 1, 2, 3, 4, 1, 4, 8, 14, 4, 1, 2, 4, 12, 7, 9, 11, 2, 11, 6, 3, 1, 2, 3, 4, 7, 6, 1, 4, 1, 8, 1, 1, 5, 1, 3, 1, 13, 1, 2, 8, 1, 2, 5, 7, 14, 12, 11, 12, 6, 2, 3, 1, 2, 3, 4, 5, 16, 4, 8, 5, 5, 13, 11, 12, 2, 2, 3, 5, 4, 3, 14, 2, 3, 9, 12, 6, 5, 2, 3, 2, 10, 16, 7, 7, 14, 14, 12, 4, 7, 4, 7, 10, 13, 15, 15, 9, 2, 8, 1, 4, 7, 11, 13, 1, 2, 4, 9, 11, 7, 1, 2, 3, 10, 4, 6, 15, 1, 3, 4, 2, 3, 6, 1, 4, 1, 2, 1, 4, 3, 11, 1, 2, 4, 1, 8, 1, 2, 14, 13, 1, 2, 6, 5, 5, 10, 2, 1, 2, 3, 4, 1, 4, 7, 1, 2, 3, 4, 10, 14, 11, 7, 6, 1, 14, 1, 3, 4, 14, 13, 13, 11, 5, 2, 5, 9, 8, 11, 7, 10, 10, 5, 6, 8, 5, 2, 5, 1, 15, 10, 11, 5, 13, 11, 8, 2, 4, 6, 7, 15, 6, 1, 2, 3, 4, 4, 11, 10, 4, 1, 2, 3, 5, 9, 1, 2, 3, 9, 1, 2, 3, 8, 2, 15, 7, 3, 5, 3, 10, 9, 1, 2, 3, 5, 7, 3, 7, 3, 16, 10, 1, 2, 3, 4, 1, 2, 2, 14, 13, 2, 5, 2, 5, 11, 16, 1, 2, 3, 4, 6, 12, 10, 13, 5, 8, 1, 4, 7, 11, 12, 1, 4, 13, 2, 13, 1, 8, 3, 8, 8, 13, 10, 10, 8, 1, 6, 6, 1, 3, 4, 8, 7, 9, 7, 15, 16, 5, 2, 4, 16, 1, 3, 7, 12, 7, 1, 2, 9, 9, 9, 1, 3, 4, 5, 11, 3, 3, 9, 5, 10, 2, 10, 3, 9, 4, 7, 9, 4, 3, 4, 9, 10, 17, 4, 7, 9, 1, 3, 1, 2, 3, 4, 10, 13, 16, 1, 1, 2, 3, 4, 5, 4, 1, 1, 4, 5, 2, 3, 17, 9, 4, 4, 11, 1, 2, 6, 11, 3, 7, 6, 11, 3, 4, 5, 2, 10, 13, 12, 16, 12, 3, 4, 8, 1, 2, 3, 11, 3, 13, 16, 7, 7, 1, 4, 7, 9, 8, 1, 2, 11, 6, 7, 10, 8, 12, 6, 10, 14, 10, 1, 2, 5, 8, 7, 10, 11, 1, 2, 6, 8, 10, 1, 4, 5, 2, 4, 10, 13, 8, 8, 3, 5, 8, 9, 2, 9, 9, 1, 3, 4, 1, 4, 5, 9, 1, 2, 2, 3, 4, 13, 11, 3, 8, 2, 1, 3, 5, 16, 1, 10, 12, 13, 15, 10, 11, 5, 2, 5, 13, 14, 7, 11, 9, 10, 11, 3, 5, 11, 11, 5, 10, 16, 16, 10, 10, 12, 9, 1, 16, 8, 10, 8, 1, 2, 4, 7, 4, 14, 2, 1, 3, 6, 12, 16, 12, 6, 2, 2, 3, 4, 5, 7, 2, 4, 5, 9, 1, 3, 4, 1, 3, 2, 13, 7, 8, 2, 9, 10, 11, 1, 4, 7, 2, 13, 3, 9, 2, 5, 17, 4, 1, 4, 1, 4, 8, 6, 1, 3, 13, 13, 1, 3, 4, 7, 9, 11, 16, 8, 13, 1, 7, 8, 16, 1, 13, 4, 9, 14, 15, 1, 4, 5, 14, 4, 1, 2, 4, 5, 11, 11, 11, 1, 9, 7, 2, 6, 12, 15, 2, 7, 1, 2, 3, 4, 5, 9, 12, 16, 9, 6, 8, 11, 1, 2, 5, 10, 3, 5, 3, 7, 11, 12, 17, 1, 2, 4, 7, 11, 9, 1, 1, 3, 4, 4, 12, 1, 3, 4, 7, 14, 3, 8, 5, 7, 8, 12, 7, 1, 3, 4, 1, 2, 3, 5, 11, 11, 1, 2, 4, 14, 13, 1, 3, 7, 8, 6, 14], \"Freq\": [0.9998870909344271, 0.8921646714785765, 0.1072273032387397, 0.020077787112791977, 0.6850068544364322, 0.29408052888736486, 0.008760188431270749, 0.8707627300683125, 0.1191385626652822, 0.9494698642047834, 0.9977231835937451, 0.9991117632020854, 0.9958786706851973, 0.11362717170260646, 0.8849986218788373, 0.9973750740146037, 0.9940461884986077, 0.9897746975991729, 0.5145472533868055, 0.998023515906405, 0.9907022651486914, 0.24388453465112955, 0.1443365967565413, 0.5612034781783941, 0.001899165746796596, 0.0484287265433132, 0.053297433213597936, 0.9431328399101896, 0.9993246110254747, 0.9908969648180036, 0.9941560912984502, 0.9977168650715972, 0.9875815409265868, 0.9991407189295832, 0.9977186681060246, 0.9983690345979851, 0.9984369652139458, 0.9882888211450184, 0.013607183302800998, 0.9848198915402222, 0.9980496792133025, 0.9953081674149022, 0.9988886656410717, 0.9991147111823933, 0.993803325270299, 0.9984563216327158, 0.44606707090136244, 0.5177677522838005, 0.03607695472845809, 0.991491888299826, 0.9990695368736356, 0.9793881881860971, 0.10677028497878312, 0.7013342248606342, 0.15596835746900672, 0.03454332749313572, 0.9988757083557663, 0.9999795193355465, 0.9462977383984644, 0.999606319085344, 0.9842351059707751, 0.9993297395500169, 0.01978137135181781, 0.9077451520334173, 0.03681533001588315, 0.03516688240323166, 0.9923598644529823, 0.9522412010172213, 0.04729115577950017, 0.99066603031275, 0.8966754561985362, 0.6474186003111774, 0.9986509739625132, 0.15945013557377452, 0.8403453091050278, 0.9987569328208172, 0.9994753194910705, 0.9970292418520084, 0.21216489599024754, 0.6230562204704007, 0.16411219401932775, 0.34932519527291706, 0.6495962141883607, 0.28120723293630134, 0.7173167552019212, 0.9073854812289277, 0.05172977289296398, 0.9257473940636679, 0.02155407203873499, 0.7147752278946542, 0.9955707245515147, 0.9975978150831848, 0.9636129848948852, 0.9972480796764313, 0.9987457410886932, 0.9859524453569294, 0.997224482455212, 0.9936623875140592, 0.9203861190493269, 0.9977382306311846, 0.3058496732417094, 0.26713452473010063, 0.40859372121482507, 0.00804083853702644, 0.006849603198207709, 0.00297808834704683, 0.9497701487656399, 0.9983911433331165, 0.9952058548928346, 0.7817270540306825, 0.9994586869249895, 0.9993075387797966, 0.1510036347722363, 0.026370697132781392, 0.5848643899806159, 0.23765021106566087, 0.9932071298666286, 0.9958408405797167, 0.0027844217619330783, 0.7253418689835669, 0.2714811217884751, 0.9781983076455371, 0.02123632689596824, 0.9953181962086417, 0.985139032583166, 0.9957489030336422, 0.9800848656812191, 0.9684020837626791, 0.030532211002798657, 0.6107681020850795, 0.3891515722621007, 0.9976222414439236, 0.999636195952477, 0.9975388322050871, 0.9991272921635692, 0.7594241662026482, 0.8240598684407946, 0.1743203567855527, 0.5209891510243174, 0.41974429576453104, 0.05905949890154206, 0.9969854181477186, 0.9993886518983512, 0.9853324678594656, 0.9981968081596809, 0.9982430342017871, 0.9974233321525563, 0.9962560915329054, 0.9947754496258597, 0.9970881882555952, 0.9991840867026693, 0.9581689844568495, 0.8813505561206921, 0.11840225353168024, 0.4373333376653101, 0.5606837662375771, 0.9984146574937507, 0.9904585981863859, 0.007834135804864069, 0.7146363007231475, 0.2846925100441807, 0.9989009945715981, 0.9961844800208878, 0.9948016909269707, 0.9905664642071322, 0.9985749349022367, 0.971938842126519, 0.9989720278419612, 0.9214486902578304, 0.9976092713453372, 0.9987239191377703, 0.9964592082052435, 0.9981104003551894, 0.9992506514652933, 0.9985623403632129, 0.9987589627122384, 0.9968833741244193, 0.9967001988228273, 0.9936437268151845, 0.8415099326526728, 0.9834556470016225, 0.9925835924363613, 0.995181635674561, 0.989683857604865, 0.9807726409806616, 0.6884248922365814, 0.2257772632358836, 0.08548214301705419, 0.9973342461164921, 0.9943130374989835, 0.005483343956795865, 0.9988817435282905, 0.9668025993875489, 0.033003301585518736, 0.9982486096762035, 0.9276659188236936, 0.07127189376328377, 0.9914048214651305, 0.2697951257997754, 0.4918140314058405, 0.23326036918105578, 0.9962420912475136, 0.6562596421995319, 0.34282220114900924, 0.9945850094406132, 0.9989192499951424, 0.9940945146199175, 0.9941036384445419, 0.03837158675453822, 0.9614214236831521, 0.9965263510875676, 0.9991036811085962, 0.9987147901864525, 0.998300495077537, 0.9988466152027932, 0.38439356083596626, 0.615029697337546, 0.9305179530833829, 0.016719554193156978, 0.05274135794264152, 0.9966655941617917, 0.9299765727859981, 0.9986871047470096, 0.14955091038665433, 0.8501564068285671, 0.9990591462975044, 0.9979927177552785, 0.9945494111536373, 0.9379566507707704, 0.4652784719203294, 0.5340494238900778, 0.9966291825455084, 0.99367093027566, 0.9991794920518813, 0.9935268965832097, 0.9984080327201427, 0.9985957003608537, 0.9996129360529465, 0.998635464452582, 0.9909963486785259, 0.938430801108366, 0.9948739619968593, 0.266734123188208, 0.7269812377090376, 0.790499361729137, 0.20927752608016761, 0.9984552774455997, 0.9996018590563344, 0.9930760730677938, 0.9903164404273406, 0.037376168908293005, 0.8539888289955432, 0.10816436759824187, 0.993697381780986, 0.9899043259262621, 0.9732067804806336, 0.9970632841530139, 0.9985673159043394, 0.26934310833253866, 0.6973042625183342, 0.03295388764264339, 0.9989546802499771, 0.9984020060364514, 0.9987842375224739, 0.9975277844246697, 0.9951583433196901, 0.9916739502356519, 0.9984633325075313, 0.9976766324531221, 0.9994552915405152, 0.9970411174418863, 0.41712425970284434, 0.5802661923866235, 0.3166571422007581, 0.32695688283209895, 0.27785346819431117, 0.0785654634204604, 0.9982613755430062, 0.9983823916429387, 0.49879848592219805, 0.4159408103146772, 0.08498223139232905, 0.9953042180867678, 0.114823494591218, 0.6824720382745634, 0.1694050853300012, 0.033153262522816467, 0.9921789670759436, 0.204233837423702, 0.21711344879276429, 0.5777425671265084, 0.998274023240651, 0.9954897029910914, 0.9950484133981966, 0.9609029919903854, 0.9764469547940194, 0.04623451168457161, 0.9503760735161941, 0.9829142668398977, 0.9997324026434342, 0.9939552926816381, 0.03400905936470234, 0.8585213766455347, 0.10700411361089274, 0.9930408071514925, 0.09197164511487362, 0.9048021303192971, 0.8285746354510273, 0.08141433322374537, 0.08994604707327944, 0.6521315439084485, 0.0020421655863521355, 0.2509594598339402, 0.0946203388343156, 0.9998144001599737, 0.1476734274849924, 0.8505989423135563, 0.8792796630257192, 0.9996296353438242, 0.8521929571770922, 0.1379931051434301, 0.009693730526604594, 0.9944587512965021, 0.5700668274000876, 0.42147563796301557, 0.007943554152296303, 0.9984255507276816, 0.9985761475481911, 0.9933371805828396, 0.997679026064147, 0.004354866566920764, 0.368153719772763, 0.4127073546497216, 0.16916981663807582, 0.04555860408470953, 0.9921437687491218, 0.9989940552693771, 0.9990741165968486, 0.9983664075940482, 0.9974696880774563, 0.9991979576948697, 0.999384962349724, 0.9988577011421567, 0.9985059265811989, 0.9968771956879404, 0.5628182482867399, 0.4354314019666959, 0.9979460105772082, 0.0013467557497668127, 0.99598929539043, 0.26823065699271165, 0.557893787788715, 0.16431563249190326, 0.009417299095385759, 0.9773199041863093, 0.9848890287282268, 0.9865907556550616, 0.9963869971867327, 0.9979292987550453, 0.9998980268314444, 0.9976273528118428, 0.1489066261613963, 0.01325578274433795, 0.5222778401269152, 0.29472023634911376, 0.02032553354131819, 0.9532244048452823, 0.9991261008553163, 0.997949301039575, 0.9977455779800317, 0.9990789415283337, 0.9804124860586441, 0.994964011948763, 0.9931011078211881, 0.9988220890219537, 0.15810857461170125, 0.6494309702175628, 0.192101918153217, 0.9976348294890266, 0.9970761933276893, 0.9252924663821591, 0.46645922234508624, 0.3991182782741407, 0.1342712726292634, 0.9863712208873748, 0.9965047441597257, 0.998537192871052, 0.9991222566268416, 0.9973684193250372, 0.9993881483234847, 0.9967027167916365, 0.5678287982196508, 0.9995307572831105, 0.99858804980574, 0.9480414295209464, 0.898569571773655, 0.9871578357154578, 0.27013353576543603, 0.7290535766396711, 0.3655799083528567, 0.6325382600337799, 0.9905147439534375, 0.9789090759154773, 0.9371199453551152, 0.8843157745895467, 0.9994551745661053, 0.9917783928527146, 0.007688204595757478, 0.3095938494198192, 0.27252496279305594, 0.37686701403876, 0.04050119094405617, 0.9878424323349049, 0.7634754481513086, 0.16550713466510328, 0.0708379281789874, 0.9953546484815575, 0.9857687672885226, 0.9970834313620613, 0.22370980680086802, 0.015933746923138748, 0.7597210532952555, 0.9969602339394636, 0.999577499247656, 0.9894402989640038, 0.993268806916404, 0.9974013387428171, 0.0013026573862553118, 0.0008684382575035412, 0.0009666199030053668, 0.998518359804544, 0.9943744473117042, 0.2807818937878777, 0.7190171736444373, 0.07981221135696122, 0.920101250821358, 0.9964074712624293, 0.002747447071495669, 0.9982166223179253, 0.9796680267237923, 0.594303132318414, 0.4053522519123286, 0.9974382855248721, 0.7096916307429354, 0.2895367695975779, 0.9564519902714014, 0.04279111657556417, 0.9898172065491114, 0.994114175749185, 0.6678817726058702, 0.2950651572106791, 0.036761149685564216, 0.9991062674697652, 0.9994720338970129, 0.9858182891383307, 0.9996351108943399, 0.7260716647175922, 0.017029150690565216, 0.12573578386595413, 0.13098449469523793, 0.286347689675802, 0.6888058754701456, 0.02444431497232456, 0.41128745634405395, 0.009901811926075286, 0.26493384592450214, 0.31371838273101943, 0.9973588029819856, 0.9716913172071002, 0.9925816300355739, 0.9986983666257853, 0.9996870507745035, 0.9990731984344422, 0.9962655369500039, 0.4479776671927803, 0.03348775227252095, 0.5184283158415743, 0.9236499672135605, 0.9934897838563885, 0.9865096560745031, 0.9882888211450184, 0.9985157670619375, 0.7550307685418952, 0.008907372009168784, 0.23525941365392847, 0.9972324530516335, 0.9857386136001319, 0.9934452102420178, 0.0051922223531812774, 0.9959305129431216, 0.23621114840843785, 0.7399385371830584, 0.01992142215492849, 0.9987786960219209, 0.941534730046965, 0.05723054241461944, 0.9989075634007859, 0.995711919762243, 0.9969138228618785, 0.994850015148759, 0.9974575902120317, 0.9954734383450138, 0.98647192364887, 0.9981441966441618, 0.22456166193375474, 0.1561079211212347, 0.4716629702326075, 0.14775990394897617, 0.9803690999394736, 0.9981265264890333, 0.9722655606577539, 0.015432786677107206, 0.009613867110329079, 0.0025299650290339683, 0.8517265089913336, 0.14653359294474558, 0.9970862447437229, 0.9985195977032996, 0.3088642135516707, 0.4740706533583783, 0.02975768170431379, 0.15494517025349594, 0.032220386397084584, 0.027754096332221877, 0.5671683879504051, 0.3943767559465721, 0.010743521160860081, 0.12407294743545214, 0.8753006938481152, 0.9978215560577355, 0.9985304739403664, 0.9997947052114019, 0.9971268816009752, 0.996355716812028, 0.9544721698906145, 0.044427383283196765, 0.9980037174648588, 0.982990771762979, 0.9956710788437216, 0.11625818680076795, 0.22244676687076073, 0.6423188535842954, 0.015256979895113905, 0.003661675174827337, 0.9974316425815898, 0.9959505371032981, 0.9979827203815743, 0.9531715662020329, 0.9966688929716265, 0.1605506969941026, 0.14996999203460587, 0.6638242285458167, 0.024841655122296677, 0.0852352868980147, 0.9146754443464373, 0.9982661016288249, 0.8964647018626949, 0.9873886132809249, 0.998506792962526, 0.9983201058928607, 0.8403001598537251, 0.06947879636856073, 0.08914260666154962, 0.9727253276517687, 0.13659061127621666, 0.0340530609829903, 0.659872648381501, 0.1558873458332445, 0.013242857048940673, 0.9965563149718435, 0.9956859971330059, 0.9982152040522633, 0.9983742159455917, 0.9965872651363549, 0.4376521709092493, 0.5492749404083191, 0.0036618329360554613, 0.00934398749200359, 0.9878642155554501, 0.19997009728221835, 0.7992669839224862, 0.9885832343711952, 0.9992494502853967, 0.9895318025516517, 0.5326244869571518, 0.46604642608750785, 0.9992410562043225, 0.9952243285259179, 0.731325741036922, 0.2681527717135381, 0.9961860323846253, 0.9868799860975646, 0.9994614659446978, 0.999138499252829, 0.9956277548520788, 0.9948979685064548, 0.40932645863710565, 0.32857994392081386, 0.2188911543513934, 0.042805381295383596, 0.8459211158354958, 0.15243756148304619, 0.996273671556471, 0.9481385569004305, 0.9878468166925816, 0.997634736650837, 0.8047736464363555, 0.194658661900731, 0.9509249237523514, 0.31075840464425025, 0.6675188408421375, 0.02153286583361734, 0.9897715082076772, 0.9986893348522234, 0.9992994389274908, 0.9994873730502234, 0.996111104360871, 0.9982377238808738, 0.9933601896882951, 0.57164782640926, 0.009789269827000471, 0.01639133552427986, 0.4018153777826938, 0.9959121076377746, 0.9978815127050297, 0.9546025059988861, 0.04339102299994937, 0.9178188556901331, 0.08192919373609499, 0.6546180043220344, 0.34377737962823823, 0.9975855531236346, 0.994902192957884, 0.2763088631140437, 0.1713114951307071, 0.5512361819125171, 0.99882642317859, 0.8982874855903272, 0.0177073185758349, 0.08327225492419656, 0.5219840104205882, 0.46761067600177697, 0.09071126512378462, 0.1707506167035946, 0.7381406867915807, 0.9783017362521239, 0.02094660651829365, 0.004988274329676279, 0.5015986964841147, 0.11057341430782419, 0.3827114916268301, 0.9907857099365864, 0.9870144257625372, 0.9874922655727585, 0.9993353364650657, 0.09818060033535712, 0.3905160957159149, 0.038978066050741035, 0.37580739154582393, 0.09597429470984349, 0.9987718649102353, 0.9996324721835979, 0.20410854074706167, 0.7956480032516293, 0.9969798579189892, 0.05275719909060661, 0.9468528889419398, 0.970107276994136, 0.9922417559840447, 0.9986572088248127, 0.997717916571821, 0.9827764534485036, 0.9991285647632961, 0.9917087395403223, 0.0014296618061609644, 0.006671755095417835, 0.8837334202591759, 0.11581691547556151, 0.9966079407015864, 0.9910852866145202, 0.7898027998393912, 0.06034147027635416, 0.14951275412918866, 0.8571002224981387, 0.08689783437435541, 0.055014456294555945, 0.9869098808139367, 0.8571199163097099, 0.9903256719846935, 0.927453049321733, 0.019198868855386193, 0.053166098368761766, 0.06274766732985491, 0.0058564489507864585, 0.9278288409174545, 0.002509906693194196, 0.9987747975436531, 0.9857167932531118, 0.8161156319268442, 0.9973158645714086, 0.9973889826726043, 0.6182794001682568, 0.2725343503580272, 0.09477275477031673, 0.014291129687587443, 0.9960672831106998, 0.8221985730887187, 0.06505611605247437, 0.11073381455740319, 0.9985054666566916, 0.2481110515769966, 0.748271425390942, 0.9946184549297125, 0.9934052052524958, 0.997760207085599, 0.9838145625087332, 0.9876711644963767, 0.9955206848182703, 0.2999557821830723, 0.026379510488432248, 0.5347037856306941, 0.1390111283042104, 0.3256445674645809, 0.2941305770647828, 0.37466633030871144, 0.9996536538813489, 0.9994362694472437, 0.9950981671041085, 0.9947474917091279, 0.9961397147798844, 0.6558792971763989, 0.34400333680628187, 0.9979586677317687, 0.311603350703262, 0.564190915288482, 0.12353971227376802, 0.9964680076083505, 0.9975178390231622, 0.9975953860541731, 0.9989840554180107, 0.9991023660321298, 0.9987184323547712, 0.9979533829761019, 0.9989234159092113, 0.9976513191155901, 0.9982872586790308, 0.84764604853052, 0.07028958485171981, 0.08203026276101806, 0.8420516735435817, 0.15743917930075063, 0.00030991964429281623, 0.9983897944466998, 0.06312213547734641, 0.9361934700010928, 0.7881973340832759, 0.21121331666636373, 0.9995897986868796, 0.9860476317049642, 0.9789336323743225, 0.3956125334813963, 0.602619091698406, 0.9990567528278881, 0.10952804779029217, 0.47477240550420036, 0.4154824292210257, 0.924418593972037, 0.9983118875918551, 0.9958850071271687, 0.9943133005281878, 0.9697784709655178, 0.7742062572067986, 0.9905425349828569, 0.9946644173243689, 0.9992376891492917, 0.04246394481586479, 0.9574204091150315, 0.9879477236260605, 0.898569571773655, 0.875866338757379, 0.12201123126968463, 0.9956351354560465, 0.9912928725807847, 0.9882888211450184, 0.9179567572183706, 0.0743738549133641, 0.007131739512240392, 0.9945107849043248, 0.05442492228783901, 0.9449092890824815, 0.9420598129293286, 0.9384906079524941, 0.9902709538431391, 0.9919816031387797, 0.9928119499416113, 0.994544661500356, 0.9982013302510382, 0.9333258919479319, 0.8203864882206068, 0.17698693273794816, 0.9971891471288394, 0.0002823586498489576, 0.3967139030377854, 0.2764291182021295, 0.326124240575546, 0.9975902326444941, 0.9870408149496033, 0.9982442444784473, 0.9741826602590369, 0.025562665060715202, 0.9957890125211708, 0.9806274068000151, 0.9808692120651391, 0.9981390559640217, 0.9961778746123044, 0.9991349628592747, 0.014471331503226631, 0.1576876122420557, 0.20359666390746434, 0.5169758426669928, 0.10628943483404388, 0.3151391149542516, 0.11612289450749787, 0.4684646786196726, 0.10023049214877343, 0.930220810073636, 0.01087741960675105, 0.05881863935502419, 0.9941632392926759, 0.005489857245090078, 0.998093573234446, 0.9826275981936304, 0.9968232659074878, 0.9995929357737467, 0.6942606473413846, 0.3053037147499493, 0.9870128656772744, 0.9825321296319689, 0.9121457839182442, 0.08753200224557064, 0.9980491313733771, 0.9738234130127089, 0.025178086574974126, 0.9791923210253998, 0.018021944558749687, 0.9992767012022047, 0.0002883083384888069, 0.9310930372986909, 0.9972193435350694, 0.8172570422084536, 0.18269810277243914, 0.853854917474906, 0.14606922457474883, 0.9950777619595413, 0.9927463418302341, 0.790597096864442, 0.20929615317167727, 0.9798534966204873, 0.9717439069446876, 0.5042604773483825, 0.00937674441350298, 0.14794418963526923, 0.1510697711064369, 0.10731163051008966, 0.08022325775996994, 0.764670467245969, 0.9964060455371917, 0.9885062994616816, 0.10538771039792112, 0.1022418085949981, 0.7911943034351392, 0.9083509799529168, 0.35534979172315634, 0.6396296251016813, 0.3996187442188929, 0.5970494333270364, 0.9533555623996622, 0.9905902692214644, 0.1948910495585918, 0.7545323203094105, 0.050063755849913495, 0.9952390171581411, 0.9982481229380638, 0.667561745475388, 0.07057921538065777, 0.11401257869183178, 0.14771867834477412, 0.9978508830654789, 0.9956121403215784, 0.9964500750939612, 0.9992120180104966, 0.991598130170576, 0.9957648015231547, 0.9991467653145837, 0.0007076110235938978, 0.9930927804216192, 0.9784621801111059, 0.9092906216665293, 0.09008213610074846, 0.005435142494940572, 0.19116172603633838, 0.4835723922641411, 0.0010870284989881144, 0.2921000866566633, 0.026554553332423934, 0.9918246255874638, 0.9833506442309728, 0.9892541216823143, 0.9858606285822471, 0.9115435568271486, 0.08657117578805322, 0.9417907548803656, 0.022858998904863242, 0.034941612611719526, 0.9890748081937657, 0.09180050208747817, 0.9078049650872841, 0.9992790959638175, 0.9129894992115105, 0.08422412354349729, 0.9907069895983449, 0.8953896531327661, 0.6972021061713664, 0.29450430599421645, 0.008074141356935337, 0.9560763105753736, 0.04279257927192485, 0.9947441934759574, 0.998240945636262, 0.7324854308648348, 0.12861081402394192, 0.13861860915494403, 0.9981236845492024, 0.9956839857214129, 0.9412441479296505, 0.03321687687740339, 0.02532228282133891, 0.993669811797676, 0.992489245507945, 0.9963136775856131, 0.9995585415654481, 0.9995762394342477, 0.0769877152578783, 0.9204309068608562, 0.9982112679188511, 0.9963147764088625, 0.12078148814780926, 0.18819441176519117, 0.6902802491238169, 0.5117800959507974, 0.13296826973317485, 0.12567963865150453, 0.2267355236487174, 0.00256087038004633, 0.9789565956496973, 0.43585470475211835, 0.49330953654923293, 0.07072959437839738, 0.957997743237951, 0.9749645602099368, 0.6225679388011205, 0.14113822505054427, 0.03461880991805803, 0.2012456093038758, 0.9870671213102665, 0.9932415514045434], \"Term\": [\"_\", \"accept\", \"accept\", \"access\", \"access\", \"access\", \"act\", \"act\", \"act\", \"added_forwarde\", \"addition\", \"address\", \"administration\", \"advance\", \"advance\", \"agency\", \"agent\", \"alan\", \"alavi\", \"algorithm\", \"allocate\", \"also\", \"also\", \"also\", \"also\", \"also\", \"america\", \"america\", \"american\", \"amp\", \"announcement\", \"anyway\", \"apollo\", \"appear\", \"apple\", \"application\", \"appreciate\", \"appressian\", \"approach\", \"approach\", \"appropriate\", \"approve\", \"arab\", \"argument\", \"armenia\", \"armenian\", \"article\", \"article\", \"article\", \"astronomy\", \"atheist\", \"ati_ultra\", \"attack\", \"attack\", \"attack\", \"attack\", \"away\", \"ax\", \"axis\", \"back\", \"backup\", \"bad\", \"base\", \"base\", \"base\", \"base\", \"battery\", \"be\", \"be\", \"beauty\", \"bee\", \"beemer\", \"belief\", \"believe\", \"believe\", \"bible\", \"big\", \"bike\", \"bit\", \"bit\", \"bit\", \"block\", \"block\", \"blue\", \"blue\", \"bmp\", \"board\", \"board\", \"board\", \"bold\", \"bolt\", \"bomb\", \"booster\", \"boston\", \"brain\", \"brief\", \"british\", \"brown\", \"calif\", \"california\", \"call\", \"call\", \"call\", \"call\", \"call\", \"call\", \"callback\", \"canada\", \"canadian\", \"canberra\", \"car\", \"card\", \"case\", \"case\", \"case\", \"case\", \"cd_rom\", \"cds\", \"center\", \"center\", \"center\", \"certainly\", \"certainly\", \"character\", \"characteristic\", \"charle\", \"cherry\", \"child\", \"child\", \"chip\", \"chip\", \"christ\", \"christian\", \"christianity\", \"church\", \"circumference\", \"citizen\", \"citizen\", \"city\", \"city\", \"city\", \"civilian\", \"claim\", \"click\", \"clinton\", \"clipper\", \"clipper_chip\", \"cmu\", \"collect\", \"collin\", \"color\", \"colorado_boulder\", \"come\", \"come\", \"communication\", \"communication\", \"community\", \"compare\", \"compare\", \"computer\", \"computer\", \"conclusion\", \"congress\", \"consideration\", \"construction\", \"contain\", \"contrib\", \"controller\", \"convex\", \"convince\", \"copy\", \"corp\", \"corporation\", \"country\", \"couple\", \"cpu\", \"criminal\", \"crypto\", \"cub\", \"cubic\", \"cure\", \"custom\", \"cycle\", \"dale\", \"dare\", \"datum\", \"datum\", \"datum\", \"daughter\", \"david\", \"david\", \"death\", \"department\", \"department\", \"dept\", \"describe\", \"describe\", \"deserve\", \"destroy\", \"destroy\", \"destroy\", \"detroit\", \"device\", \"device\", \"devil\", \"die\", \"director\", \"dirt\", \"discussion\", \"discussion\", \"disease\", \"disk\", \"display\", \"distribution\", \"distribution_na\", \"division\", \"division\", \"do\", \"do\", \"do\", \"dog\", \"download\", \"draw\", \"drive\", \"drive\", \"driver\", \"drug\", \"dual\", \"ducati\", \"earth\", \"earth\", \"economic\", \"el\", \"email\", \"enable\", \"encryption\", \"engineering\", \"enough\", \"entry\", \"environmental\", \"erase\", \"eric\", \"escape\", \"escape\", \"even\", \"even\", \"event\", \"evidence\", \"exchange\", \"excuse\", \"exist\", \"exist\", \"exist\", \"expansion\", \"export\", \"exposure\", \"external\", \"face\", \"fact\", \"fact\", \"fact\", \"faith\", \"fan\", \"fax\", \"fbi\", \"federal\", \"fee\", \"field\", \"figure\", \"file\", \"film\", \"final\", \"final\", \"find\", \"find\", \"find\", \"find\", \"fire\", \"firearm\", \"first\", \"first\", \"first\", \"flight\", \"follow\", \"follow\", \"follow\", \"follow\", \"font\", \"force\", \"force\", \"force\", \"format\", \"frame\", \"fuel\", \"functionality\", \"fuzzy\", \"gain\", \"gain\", \"galaxy\", \"game\", \"gary\", \"general\", \"general\", \"general\", \"genocide\", \"germany\", \"germany\", \"get\", \"get\", \"get\", \"give\", \"give\", \"give\", \"give\", \"go\", \"goal\", \"goal\", \"goalie_mask\", \"god\", \"good\", \"good\", \"good\", \"gov\", \"government\", \"government\", \"government\", \"graphic\", \"greek\", \"gretzky\", \"ground\", \"group\", \"group\", \"group\", \"group\", \"group\", \"gt\", \"guess\", \"gun\", \"guy\", \"hall\", \"happen\", \"hard\", \"hardware\", \"have\", \"headache\", \"health\", \"health\", \"hear\", \"hear\", \"helmet\", \"help\", \"help\", \"help\", \"help\", \"hewlett_packard\", \"hmmm\", \"homeland\", \"homosexual\", \"honda\", \"host\", \"hour\", \"however\", \"however\", \"however\", \"however\", \"however\", \"hull\", \"human\", \"ice\", \"ide\", \"image\", \"imaging\", \"immediate\", \"impact\", \"inc\", \"include\", \"include\", \"include\", \"indeed\", \"indicate\", \"infamous\", \"information\", \"information\", \"information\", \"informed\", \"ins_cwru\", \"instal\", \"interested\", \"internal\", \"internet\", \"iran\", \"irwin\", \"israel\", \"israeli\", \"ist\", \"ists_ca\", \"jet_propulsion\", \"jew\", \"jew\", \"jewish\", \"jewish\", \"journal\", \"jpl\", \"judaism\", \"kansa\", \"key\", \"keyword\", \"keyword\", \"kill\", \"kill\", \"kill\", \"kill\", \"km\", \"know\", \"know\", \"know\", \"koresh\", \"kurd\", \"land\", \"large\", \"large\", \"large\", \"launch\", \"law\", \"leak\", \"left\", \"let\", \"let\", \"let\", \"level\", \"level\", \"lib\", \"life\", \"life\", \"line\", \"line\", \"little\", \"little\", \"logic\", \"longer_exist\", \"look\", \"look\", \"lord\", \"lose\", \"lose\", \"lot\", \"lot\", \"ltd\", \"lunar\", \"m\", \"m\", \"m\", \"mac\", \"machine\", \"magellan\", \"mail\", \"make\", \"make\", \"make\", \"make\", \"man\", \"man\", \"man\", \"many\", \"many\", \"many\", \"many\", \"mar\", \"mask\", \"massacre\", \"master\", \"max\", \"maybe\", \"md\", \"mean\", \"mean\", \"mean\", \"measurement\", \"medical\", \"medicine\", \"melkonian\", \"memory\", \"message\", \"message\", \"message\", \"mhz\", \"might_serve\", \"military\", \"military\", \"mission\", \"mo\", \"mo\", \"mo\", \"mode\", \"model\", \"model\", \"money\", \"monitor\", \"moon\", \"moslem\", \"motherboard\", \"motif\", \"mountain_passe\", \"mouse\", \"mr\", \"mr\", \"mr\", \"mr\", \"ms_window\", \"mu\", \"much\", \"much\", \"much\", \"much\", \"muslim\", \"muslim\", \"nasa\", \"nature\", \"need\", \"need\", \"need\", \"need\", \"need\", \"new\", \"new\", \"new\", \"new\", \"news\", \"news\", \"newsgroup\", \"nhl\", \"nntp_poste\", \"normal\", \"northern\", \"note\", \"note\", \"notice\", \"novel\", \"nsa\", \"number\", \"number\", \"number\", \"number\", \"number\", \"object\", \"occupy\", \"operation\", \"orange\", \"orbit\", \"order\", \"order\", \"order\", \"order\", \"organization\", \"organization\", \"originator\", \"otto\", \"ozone\", \"pa\", \"package\", \"page\", \"page\", \"page\", \"paint\", \"part\", \"part\", \"part\", \"part\", \"part\", \"particularly\", \"pat\", \"patient\", \"pc\", \"pen\", \"people\", \"people\", \"people\", \"people\", \"percentage\", \"person\", \"person\", \"phase\", \"physical\", \"physician\", \"pick\", \"pick\", \"pin\", \"pitch\", \"pittsburgh\", \"pittsburgh\", \"planet\", \"planetary\", \"play\", \"player\", \"plot\", \"po_andrew\", \"point\", \"point\", \"point\", \"point\", \"policy\", \"policy\", \"political\", \"poll\", \"pop\", \"port\", \"post\", \"post\", \"pov\", \"power\", \"power\", \"power\", \"power_supply\", \"president\", \"pretty\", \"price\", \"privacy\", \"private\", \"prize\", \"problem\", \"problem\", \"problem\", \"problem\", \"proceed\", \"process\", \"produce\", \"produce\", \"program\", \"program\", \"project\", \"project\", \"proper\", \"proposal\", \"protect\", \"protect\", \"protect\", \"prove\", \"provide\", \"provide\", \"provide\", \"pub\", \"pub\", \"public\", \"public\", \"public\", \"put\", \"put\", \"question\", \"question\", \"question\", \"question\", \"quran\", \"radiation\", \"radius\", \"re\", \"read\", \"read\", \"read\", \"read\", \"read\", \"reality\", \"really\", \"reason\", \"reason\", \"recommend\", \"reference\", \"reference\", \"reflect\", \"relation\", \"religion\", \"religious\", \"remainder\", \"remember\", \"reply\", \"reply\", \"reply\", \"report\", \"report\", \"repost\", \"republic\", \"require\", \"require\", \"require\", \"research\", \"research\", \"research\", \"reserve\", \"reston\", \"restore\", \"result\", \"result\", \"result\", \"return\", \"return\", \"return\", \"return\", \"revelation\", \"revolver\", \"richardson_tx\", \"ride\", \"rider\", \"right\", \"right\", \"right\", \"right\", \"ring\", \"road\", \"road\", \"road\", \"rob\", \"rocket\", \"rocket\", \"roger\", \"role\", \"ron\", \"ron_baalke\", \"rs\", \"rsa\", \"run\", \"run\", \"run\", \"run\", \"russian\", \"russian\", \"russian\", \"s\", \"sale\", \"sam\", \"san_jose\", \"satellite\", \"say\", \"say\", \"scan\", \"science\", \"science\", \"science\", \"scientific\", \"score\", \"scott\", \"screen\", \"scsi\", \"season\", \"secret\", \"section\", \"secure\", \"security\", \"see\", \"see\", \"see\", \"seem\", \"seem\", \"seem\", \"self\", \"sell\", \"sell\", \"send\", \"send\", \"sense\", \"sensor\", \"serdar_argic\", \"series\", \"series\", \"server\", \"set\", \"set\", \"set\", \"sez\", \"shoot\", \"shuttle\", \"significant\", \"silicon_graphic\", \"simplistic\", \"sky\", \"slaughter\", \"slow\", \"software\", \"software\", \"solar\", \"solar_terresterial\", \"soldier\", \"soldier\", \"somehow\", \"soul\", \"soul_sahak\", \"source\", \"source\", \"source\", \"soviet\", \"space\", \"space\", \"space_dig\", \"space_shuttle\", \"space_station\", \"spacecraft\", \"specification\", \"specify\", \"spend\", \"ssf\", \"star\", \"star\", \"stat\", \"state\", \"state\", \"state\", \"state\", \"statement\", \"stephen\", \"steve\", \"still\", \"still\", \"stream\", \"subsequent\", \"suck\", \"suggest\", \"suitable\", \"summary\", \"support\", \"support\", \"support\", \"support\", \"support\", \"system\", \"system\", \"system\", \"system\", \"take\", \"take\", \"take\", \"talk\", \"talk\", \"tape\", \"tar\", \"tax\", \"team\", \"technology\", \"technology\", \"telescope\", \"television\", \"tell\", \"tell\", \"terrorism\", \"test\", \"test\", \"text\", \"text\", \"thank\", \"thank\", \"thanx\", \"therefore\", \"thing\", \"thing\", \"think\", \"think\", \"tie\", \"tight\", \"time\", \"time\", \"tiny\", \"titan\", \"today\", \"today\", \"today\", \"today\", \"today\", \"today\", \"tom_mcwilliam\", \"toronto\", \"tour\", \"trade\", \"trade\", \"trade\", \"tran\", \"treatment\", \"treatment\", \"trial\", \"trial\", \"tricky\", \"trivial\", \"true\", \"true\", \"true\", \"trust\", \"truth\", \"try\", \"try\", \"try\", \"try\", \"turk\", \"turkey\", \"turkish\", \"turn\", \"uk\", \"united_state\", \"university\", \"university\", \"up\", \"upper\", \"usa\", \"usa\", \"use\", \"use\", \"use\", \"use\", \"use\", \"use\", \"useless\", \"uunet\", \"va\", \"valve\", \"van\", \"van\", \"ve\", \"ve\", \"ve\", \"venus\", \"version\", \"version\", \"video\", \"village\", \"village\", \"volt\", \"wallpaper\", \"want\", \"want\", \"want\", \"war\", \"war\", \"warrant\", \"watch\", \"way\", \"way\", \"way\", \"weapon\", \"weight\", \"well\", \"well\", \"well\", \"western\", \"widget\", \"wife\", \"win\", \"window\", \"wing\", \"wing\", \"wire\", \"withdraw\", \"word\", \"word\", \"word\", \"work\", \"work\", \"work\", \"work\", \"work\", \"wound\", \"write\", \"write\", \"write\", \"xview\", \"yale\", \"year\", \"year\", \"year\", \"year\", \"youve_got\", \"zone\"]}, \"R\": 30, \"lambda.step\": 0.01, \"plot.opts\": {\"xlab\": \"PC1\", \"ylab\": \"PC2\"}, \"topic.order\": [16, 9, 10, 4, 15, 1, 7, 14, 2, 3, 13, 6, 17, 8, 5, 11, 12]};\n",
       "\n",
       "function LDAvis_load_lib(url, callback){\n",
       "  var s = document.createElement('script');\n",
       "  s.src = url;\n",
       "  s.async = true;\n",
       "  s.onreadystatechange = s.onload = callback;\n",
       "  s.onerror = function(){console.warn(\"failed to load library \" + url);};\n",
       "  document.getElementsByTagName(\"head\")[0].appendChild(s);\n",
       "}\n",
       "\n",
       "if(typeof(LDAvis) !== \"undefined\"){\n",
       "   // already loaded: just create the visualization\n",
       "   !function(LDAvis){\n",
       "       new LDAvis(\"#\" + \"ldavis_el45171396403687748327132454225\", ldavis_el45171396403687748327132454225_data);\n",
       "   }(LDAvis);\n",
       "}else if(typeof define === \"function\" && define.amd){\n",
       "   // require.js is available: use it to load d3/LDAvis\n",
       "   require.config({paths: {d3: \"https://d3js.org/d3.v5\"}});\n",
       "   require([\"d3\"], function(d3){\n",
       "      window.d3 = d3;\n",
       "      LDAvis_load_lib(\"https://cdn.jsdelivr.net/gh/bmabey/pyLDAvis@3.3.1/pyLDAvis/js/ldavis.v3.0.0.js\", function(){\n",
       "        new LDAvis(\"#\" + \"ldavis_el45171396403687748327132454225\", ldavis_el45171396403687748327132454225_data);\n",
       "      });\n",
       "    });\n",
       "}else{\n",
       "    // require.js not available: dynamically load d3 & LDAvis\n",
       "    LDAvis_load_lib(\"https://d3js.org/d3.v5.js\", function(){\n",
       "         LDAvis_load_lib(\"https://cdn.jsdelivr.net/gh/bmabey/pyLDAvis@3.3.1/pyLDAvis/js/ldavis.v3.0.0.js\", function(){\n",
       "                 new LDAvis(\"#\" + \"ldavis_el45171396403687748327132454225\", ldavis_el45171396403687748327132454225_data);\n",
       "            })\n",
       "         });\n",
       "}\n",
       "</script>"
      ],
      "text/plain": [
       "PreparedData(topic_coordinates=              x         y  topics  cluster       Freq\n",
       "topic                                                \n",
       "15    -0.353041  0.134332       1        1  29.551302\n",
       "8     -0.278845 -0.132883       2        1  18.225983\n",
       "9     -0.287917  0.036576       3        1  14.591114\n",
       "3     -0.283692  0.216163       4        1  11.447279\n",
       "14    -0.171588 -0.308452       5        1   7.470126\n",
       "0      0.039499 -0.020851       6        1   5.460679\n",
       "6     -0.070908  0.057382       7        1   3.717747\n",
       "13    -0.001810  0.030467       8        1   2.874437\n",
       "1     -0.006056 -0.183533       9        1   2.410068\n",
       "2      0.113414 -0.035793      10        1   1.095466\n",
       "12     0.148700  0.060302      11        1   0.860058\n",
       "5      0.165005  0.024241      12        1   0.732984\n",
       "16     0.168508  0.020582      13        1   0.619807\n",
       "7      0.201030  0.025635      14        1   0.325531\n",
       "4      0.200235  0.025650      15        1   0.292575\n",
       "10     0.203667  0.025542      16        1   0.241791\n",
       "11     0.213799  0.024640      17        1   0.083053, topic_info=               Term          Freq         Total Category  logprob  loglift\n",
       "5421             ax  50746.000000  50746.000000  Default   30.000  30.0000\n",
       "18             line  19019.000000  19019.000000  Default   29.000  29.0000\n",
       "26     organization  17457.000000  17457.000000  Default   28.000  28.0000\n",
       "1086              _   8389.000000   8389.000000  Default   27.000  27.0000\n",
       "59               do  14713.000000  14713.000000  Default   26.000  26.0000\n",
       "...             ...           ...           ...      ...      ...      ...\n",
       "10106            ne      0.016047      1.239094  Topic17  -11.282   2.7469\n",
       "5595             mc      0.016048      1.240202  Topic17  -11.282   2.7460\n",
       "5720             vl      0.016047      1.238894  Topic17  -11.282   2.7470\n",
       "5605             mk      0.016047      1.239188  Topic17  -11.282   2.7468\n",
       "70058           tdo      0.016047      1.238878  Topic17  -11.282   2.7470\n",
       "\n",
       "[776 rows x 6 columns], token_table=      Topic      Freq       Term\n",
       "term                            \n",
       "1086      6  0.999887          _\n",
       "1588      3  0.892165     accept\n",
       "1588      7  0.107227     accept\n",
       "95        2  0.020078     access\n",
       "95        5  0.685007     access\n",
       "...     ...       ...        ...\n",
       "45        3  0.141138       year\n",
       "45        7  0.034619       year\n",
       "45        8  0.201246       year\n",
       "2171      6  0.987067  youve_got\n",
       "2607     14  0.993242       zone\n",
       "\n",
       "[966 rows x 3 columns], R=30, lambda_step=0.01, plot_opts={'xlab': 'PC1', 'ylab': 'PC2'}, topic_order=[16, 9, 10, 4, 15, 1, 7, 14, 2, 3, 13, 6, 17, 8, 5, 11, 12])"
      ]
     },
     "execution_count": 126,
     "metadata": {},
     "output_type": "execute_result"
    }
   ],
   "source": [
    "# Visualize the topics\n",
    "pyLDAvis.enable_notebook()\n",
    "vis = pyLDAvis.gensim_models.prepare(optimal_model, corpus, id2word)\n",
    "vis"
   ]
  },
  {
   "cell_type": "markdown",
   "id": "c31a6780",
   "metadata": {},
   "source": [
    "### 8. ¿Cuál es el tópico principal de cada documento?"
   ]
  },
  {
   "cell_type": "code",
   "execution_count": 141,
   "id": "4c6f13e0",
   "metadata": {},
   "outputs": [
    {
     "data": {
      "text/html": [
       "<div>\n",
       "<style scoped>\n",
       "    .dataframe tbody tr th:only-of-type {\n",
       "        vertical-align: middle;\n",
       "    }\n",
       "\n",
       "    .dataframe tbody tr th {\n",
       "        vertical-align: top;\n",
       "    }\n",
       "\n",
       "    .dataframe thead th {\n",
       "        text-align: right;\n",
       "    }\n",
       "</style>\n",
       "<table border=\"1\" class=\"dataframe\">\n",
       "  <thead>\n",
       "    <tr style=\"text-align: right;\">\n",
       "      <th></th>\n",
       "      <th>Document_No</th>\n",
       "      <th>Dominant_Topic</th>\n",
       "      <th>Topic_Perc_Contrib</th>\n",
       "      <th>Keywords</th>\n",
       "      <th>Text</th>\n",
       "    </tr>\n",
       "  </thead>\n",
       "  <tbody>\n",
       "    <tr>\n",
       "      <th>0</th>\n",
       "      <td>0</td>\n",
       "      <td>15.0</td>\n",
       "      <td>0.5832</td>\n",
       "      <td>do, get, go, know, think, well, write, make, say, good</td>\n",
       "      <td>[where, s, thing, car, nntp_poste, host, rac_wam, umd, organization, university, park, line, wonder, enlighten, car, saw, day, door, sport, car, look, late, early, call, bricklin, door, really, small, addition, separate, rest, body, know, tellme, model, name, engine, spec, year, production, car, make, history, info, funky, look, car, mail, thank, bring, neighborhood, lerxst]</td>\n",
       "    </tr>\n",
       "    <tr>\n",
       "      <th>1</th>\n",
       "      <td>1</td>\n",
       "      <td>14.0</td>\n",
       "      <td>0.2785</td>\n",
       "      <td>drive, window, file, program, system, card, use, run, problem, driver</td>\n",
       "      <td>[si, clock, poll, final, call, summary, final, call, si, clock, report, keyword, acceleration, clock, upgrade, article, shelley, qvfo, innc, organization, university, washington, line, nntp_poste, host, fair, number, brave, soul, upgrade, clock, oscillator, share, experience, poll, send, brief, message, detail, experience, procedure, top, speed, attain, cpu, rate, speed, add, card, adapter, heat_sink, hour, usage, day, floppy_disk, functionality, floppy, especially, request, summarize, day, add, network, knowledge, base, do, clock, upgrade, have, answer, poll, thank]</td>\n",
       "    </tr>\n",
       "    <tr>\n",
       "      <th>2</th>\n",
       "      <td>2</td>\n",
       "      <td>15.0</td>\n",
       "      <td>0.5303</td>\n",
       "      <td>do, get, go, know, think, well, write, make, say, good</td>\n",
       "      <td>[thoma, willi, pb, question, organization, purdue_university, engineering, computer, network, line, folk, mac, finally, give, ghost, weekend, start, life, way, back, sooo, m, market, new, machine, bit, soon, intend, m, look, pick, powerbook, maybe, bunch, question, hopefully, answer, know, dirt, next, round, powerbook, introduction, expect, d, hear, suppose, make, appearence, summer, have, hear, anymore, do, access, macleak, wonder, info, hear, rumor, price, drop, powerbook, line, one, duo, go, recently, s, impression, display, probably, swing, get, disk, rather, do, really, feel, much, well, display, yea, look, great, store, really, good, solicit, opinion, people, day, day, worth, take, disk, size, money, hit, get, ...]</td>\n",
       "    </tr>\n",
       "    <tr>\n",
       "      <th>3</th>\n",
       "      <td>3</td>\n",
       "      <td>8.0</td>\n",
       "      <td>0.4440</td>\n",
       "      <td>line, organization, nntp_poste, write, university, host, article, reply, thank, mail</td>\n",
       "      <td>[joe, green, weitek, organization, harris, computer, system, division, line, nntp_poste, host, amber, ssd_csd, version_pl, write, write, article, know, weitek, graphic, chip, far, low_level, stuff, go, look, pretty, nice, get, quadrilateral, fill, command, require, point, weitek, address, phone, number, i, d, get, information, chip, joe, green, harris, corporation, computer, system, division, thing, really, scare, person, sense, humor, jonathan, winter]</td>\n",
       "    </tr>\n",
       "    <tr>\n",
       "      <th>4</th>\n",
       "      <td>4</td>\n",
       "      <td>8.0</td>\n",
       "      <td>0.4988</td>\n",
       "      <td>line, organization, nntp_poste, write, university, host, article, reply, thank, mail</td>\n",
       "      <td>[jonathan, mcdowell, shuttle_launch, question, organization, smithsonian_astrophysical, observatory, cambridge, usa, distribution, sci, line, article, tom, baker, article, pack, rat, write, clear, caution, warn, memory, verify, unexpected, error, wonder, expect, error, sorry, really, dumb, question, parity_error, memory, previously, know, condition, waivere, error, already, know, d, curious, real, meaning, tom, understanding, expect, error, basically, know, bug, warn, system, software, thing, check, do, right, value, yet, be, set, launch, suchlike, rather, fix, code, possibly, introduce, new, bug, tell, crew, see, warn, liftoff, ignore, jonathan]</td>\n",
       "    </tr>\n",
       "    <tr>\n",
       "      <th>5</th>\n",
       "      <td>5</td>\n",
       "      <td>3.0</td>\n",
       "      <td>0.3977</td>\n",
       "      <td>people, god, say, evidence, believe, reason, christian, claim, law, sense</td>\n",
       "      <td>[foxvog_dougla, reword, second_amendment, idea, organization, vtt, line, article, tavare, write, article, write, article, tavare, write, article, john, write, massive, destructive, power, many, modern, weapon, make, cost, accidental, crimial, usage, weapon, great, weapon, mass_destruction, need, control, government, individual, access, result, needless, death, million, make, right, people, keep, bear, many, modern, weapon, thank, state, re, come, needless, say, disagree, count, believe, individual, right, weapon, mass_destruction, find, hard, believe, support, neighbor, right, keep, nuclear_weapon, biological, weapon, nerve_ga, property, even, agree, keep, weapon, mass_destruction, hand, individual, hope, do, sign, blank, check, course, term, rigidly, define, bill, doug, foxvog, say, weapon, mass_destruction, mean, cbw, nuke, ...]</td>\n",
       "    </tr>\n",
       "    <tr>\n",
       "      <th>6</th>\n",
       "      <td>6</td>\n",
       "      <td>8.0</td>\n",
       "      <td>0.3844</td>\n",
       "      <td>line, organization, nntp_poste, write, university, host, article, reply, thank, mail</td>\n",
       "      <td>[brian, manning, delaney, brain, tumor, treatment, thank, reply, organization, university, chicago, line, people, respond, request, info, treatment, astrocytoma, email, thank, directly, mail, bounce, prob, sean, debra, sharon, think, d, publicly, thank, thank, m, sure, glad, accidentally, hit, instead, rm, try, delete, file, last, september, hmmm, news, s, brian]</td>\n",
       "    </tr>\n",
       "    <tr>\n",
       "      <th>7</th>\n",
       "      <td>7</td>\n",
       "      <td>14.0</td>\n",
       "      <td>0.5825</td>\n",
       "      <td>drive, window, file, program, system, card, use, run, problem, driver</td>\n",
       "      <td>[grubb, scsi, organization, state, university, las_cruce, line, nntp_poste, host, write, article, grubb, say, april, scsi, twice, fasst, esdi, fast, ide, support, device, acceptance, long, stall, incompatability, problem, installation, headache, love, magazine, writer, make, stupid, statement, performance, get, number, ill, list, actual, performance, range, convince, statement, absurd, scsi, range, scsi, ii, range, ide, range, esdi, always, mb, non, standard, version, show, do, know, much, scsi, scsi, scsi_controler, chip, range, indeed, right, scsi, scsi, scsi_controller, chip, mb, mb_burst, bit, note, increase, speed, mac, quadra, use, version, scsi, exist, pc, set, scsi, bit, scsi, mode, mb, mb_burst, scsi, bit, wide, fast, mode, mb, ...]</td>\n",
       "    </tr>\n",
       "    <tr>\n",
       "      <th>8</th>\n",
       "      <td>8</td>\n",
       "      <td>8.0</td>\n",
       "      <td>0.4071</td>\n",
       "      <td>line, organization, nntp_poste, write, university, host, article, reply, thank, mail</td>\n",
       "      <td>[win, icon, help, organization, university, line, win, download, several, icon, bmp, figure, change, wallpaper, icon, help, appreciate, thanx, brando, ps, mail]</td>\n",
       "    </tr>\n",
       "    <tr>\n",
       "      <th>9</th>\n",
       "      <td>9</td>\n",
       "      <td>8.0</td>\n",
       "      <td>0.3790</td>\n",
       "      <td>line, organization, nntp_poste, write, university, host, article, reply, thank, mail</td>\n",
       "      <td>[stan_kerr, sigma_design, double, article, organization, university, illinois, urbana, line, joseph, pellettiere, write, look, information, sigma_design, double, board, figure, hardware, compression, board, work, autodoubler, sure, also, much, cost, ve, board, year, work, diskdoubler, autodoubler, due, licensing, problem, stac, technology, owner, board, compression, technology, m, write, memory, ve, lose, reference, correct, m, wrong, use, board, ve, problem, file, icon, lose, hard, say, board, fault, else, however, decompress, troubled, file, recompress, board, icon, usually, reappear, mention, licensing, problem, freeware, expansion, utility, dd, expand, decompress, board, compress, file, board, instal, stac, product, seem, unlikely, hole, autodoubler, diskdoubler, relate, board, fix, sad, make, reluctant, buy, ...]</td>\n",
       "    </tr>\n",
       "  </tbody>\n",
       "</table>\n",
       "</div>"
      ],
      "text/plain": [
       "   Document_No  Dominant_Topic  Topic_Perc_Contrib  \\\n",
       "0            0            15.0              0.5832   \n",
       "1            1            14.0              0.2785   \n",
       "2            2            15.0              0.5303   \n",
       "3            3             8.0              0.4440   \n",
       "4            4             8.0              0.4988   \n",
       "5            5             3.0              0.3977   \n",
       "6            6             8.0              0.3844   \n",
       "7            7            14.0              0.5825   \n",
       "8            8             8.0              0.4071   \n",
       "9            9             8.0              0.3790   \n",
       "\n",
       "                                                                               Keywords  \\\n",
       "0                                do, get, go, know, think, well, write, make, say, good   \n",
       "1                 drive, window, file, program, system, card, use, run, problem, driver   \n",
       "2                                do, get, go, know, think, well, write, make, say, good   \n",
       "3  line, organization, nntp_poste, write, university, host, article, reply, thank, mail   \n",
       "4  line, organization, nntp_poste, write, university, host, article, reply, thank, mail   \n",
       "5             people, god, say, evidence, believe, reason, christian, claim, law, sense   \n",
       "6  line, organization, nntp_poste, write, university, host, article, reply, thank, mail   \n",
       "7                 drive, window, file, program, system, card, use, run, problem, driver   \n",
       "8  line, organization, nntp_poste, write, university, host, article, reply, thank, mail   \n",
       "9  line, organization, nntp_poste, write, university, host, article, reply, thank, mail   \n",
       "\n",
       "                                                                                                                                                                                                                                                                                                                                                                                                                                                                                                                                                                                                                                                                                                                                                                                                                                                                         Text  \n",
       "0                                                                                                                                                                                                                                                                                                                                                                                                                                                                                   [where, s, thing, car, nntp_poste, host, rac_wam, umd, organization, university, park, line, wonder, enlighten, car, saw, day, door, sport, car, look, late, early, call, bricklin, door, really, small, addition, separate, rest, body, know, tellme, model, name, engine, spec, year, production, car, make, history, info, funky, look, car, mail, thank, bring, neighborhood, lerxst]  \n",
       "1                                                                                                                                                                                                                                                                               [si, clock, poll, final, call, summary, final, call, si, clock, report, keyword, acceleration, clock, upgrade, article, shelley, qvfo, innc, organization, university, washington, line, nntp_poste, host, fair, number, brave, soul, upgrade, clock, oscillator, share, experience, poll, send, brief, message, detail, experience, procedure, top, speed, attain, cpu, rate, speed, add, card, adapter, heat_sink, hour, usage, day, floppy_disk, functionality, floppy, especially, request, summarize, day, add, network, knowledge, base, do, clock, upgrade, have, answer, poll, thank]  \n",
       "2                                                                                                                  [thoma, willi, pb, question, organization, purdue_university, engineering, computer, network, line, folk, mac, finally, give, ghost, weekend, start, life, way, back, sooo, m, market, new, machine, bit, soon, intend, m, look, pick, powerbook, maybe, bunch, question, hopefully, answer, know, dirt, next, round, powerbook, introduction, expect, d, hear, suppose, make, appearence, summer, have, hear, anymore, do, access, macleak, wonder, info, hear, rumor, price, drop, powerbook, line, one, duo, go, recently, s, impression, display, probably, swing, get, disk, rather, do, really, feel, much, well, display, yea, look, great, store, really, good, solicit, opinion, people, day, day, worth, take, disk, size, money, hit, get, ...]  \n",
       "3                                                                                                                                                                                                                                                                                                                                                                                                   [joe, green, weitek, organization, harris, computer, system, division, line, nntp_poste, host, amber, ssd_csd, version_pl, write, write, article, know, weitek, graphic, chip, far, low_level, stuff, go, look, pretty, nice, get, quadrilateral, fill, command, require, point, weitek, address, phone, number, i, d, get, information, chip, joe, green, harris, corporation, computer, system, division, thing, really, scare, person, sense, humor, jonathan, winter]  \n",
       "4                                                                                                                                                                                              [jonathan, mcdowell, shuttle_launch, question, organization, smithsonian_astrophysical, observatory, cambridge, usa, distribution, sci, line, article, tom, baker, article, pack, rat, write, clear, caution, warn, memory, verify, unexpected, error, wonder, expect, error, sorry, really, dumb, question, parity_error, memory, previously, know, condition, waivere, error, already, know, d, curious, real, meaning, tom, understanding, expect, error, basically, know, bug, warn, system, software, thing, check, do, right, value, yet, be, set, launch, suchlike, rather, fix, code, possibly, introduce, new, bug, tell, crew, see, warn, liftoff, ignore, jonathan]  \n",
       "5  [foxvog_dougla, reword, second_amendment, idea, organization, vtt, line, article, tavare, write, article, write, article, tavare, write, article, john, write, massive, destructive, power, many, modern, weapon, make, cost, accidental, crimial, usage, weapon, great, weapon, mass_destruction, need, control, government, individual, access, result, needless, death, million, make, right, people, keep, bear, many, modern, weapon, thank, state, re, come, needless, say, disagree, count, believe, individual, right, weapon, mass_destruction, find, hard, believe, support, neighbor, right, keep, nuclear_weapon, biological, weapon, nerve_ga, property, even, agree, keep, weapon, mass_destruction, hand, individual, hope, do, sign, blank, check, course, term, rigidly, define, bill, doug, foxvog, say, weapon, mass_destruction, mean, cbw, nuke, ...]  \n",
       "6                                                                                                                                                                                                                                                                                                                                                                                                                                                                                               [brian, manning, delaney, brain, tumor, treatment, thank, reply, organization, university, chicago, line, people, respond, request, info, treatment, astrocytoma, email, thank, directly, mail, bounce, prob, sean, debra, sharon, think, d, publicly, thank, thank, m, sure, glad, accidentally, hit, instead, rm, try, delete, file, last, september, hmmm, news, s, brian]  \n",
       "7                                                                                             [grubb, scsi, organization, state, university, las_cruce, line, nntp_poste, host, write, article, grubb, say, april, scsi, twice, fasst, esdi, fast, ide, support, device, acceptance, long, stall, incompatability, problem, installation, headache, love, magazine, writer, make, stupid, statement, performance, get, number, ill, list, actual, performance, range, convince, statement, absurd, scsi, range, scsi, ii, range, ide, range, esdi, always, mb, non, standard, version, show, do, know, much, scsi, scsi, scsi_controler, chip, range, indeed, right, scsi, scsi, scsi_controller, chip, mb, mb_burst, bit, note, increase, speed, mac, quadra, use, version, scsi, exist, pc, set, scsi, bit, scsi, mode, mb, mb_burst, scsi, bit, wide, fast, mode, mb, ...]  \n",
       "8                                                                                                                                                                                                                                                                                                                                                                                                                                                                                                                                                                                                                                                                                                            [win, icon, help, organization, university, line, win, download, several, icon, bmp, figure, change, wallpaper, icon, help, appreciate, thanx, brando, ps, mail]  \n",
       "9               [stan_kerr, sigma_design, double, article, organization, university, illinois, urbana, line, joseph, pellettiere, write, look, information, sigma_design, double, board, figure, hardware, compression, board, work, autodoubler, sure, also, much, cost, ve, board, year, work, diskdoubler, autodoubler, due, licensing, problem, stac, technology, owner, board, compression, technology, m, write, memory, ve, lose, reference, correct, m, wrong, use, board, ve, problem, file, icon, lose, hard, say, board, fault, else, however, decompress, troubled, file, recompress, board, icon, usually, reappear, mention, licensing, problem, freeware, expansion, utility, dd, expand, decompress, board, compress, file, board, instal, stac, product, seem, unlikely, hole, autodoubler, diskdoubler, relate, board, fix, sad, make, reluctant, buy, ...]  "
      ]
     },
     "execution_count": 141,
     "metadata": {},
     "output_type": "execute_result"
    }
   ],
   "source": [
    "def format_topics_documents(ldamodel=None, corpus=corpus, texts=data):\n",
    "    # Init output\n",
    "    sent_topics_df = pd.DataFrame()\n",
    "\n",
    "    # Get main topic in each document\n",
    "    for i, row_list in enumerate(ldamodel[corpus]):\n",
    "        row = row_list[0] if ldamodel.per_word_topics else row_list            \n",
    "        # print(row)\n",
    "        row = sorted(row, key=lambda x: (x[1]), reverse=True)\n",
    "        # Get the Dominant topic, Perc Contribution and Keywords for each document\n",
    "        for j, (topic_num, prop_topic) in enumerate(row):\n",
    "            if j == 0:  # => dominant topic\n",
    "                wp = ldamodel.show_topic(topic_num)\n",
    "                topic_keywords = \", \".join([word for word, prop in wp])\n",
    "                sent_topics_df = sent_topics_df.append(pd.Series([int(topic_num), round(prop_topic,4), topic_keywords]), ignore_index=True)\n",
    "            else:\n",
    "                break\n",
    "    sent_topics_df.columns = ['Dominant_Topic', 'Perc_Contribution', 'Topic_Keywords']\n",
    "\n",
    "    # Add original text to the end of the output\n",
    "    contents = pd.Series(texts)\n",
    "    sent_topics_df = pd.concat([sent_topics_df, contents], axis=1)\n",
    "    return(sent_topics_df)\n",
    "\n",
    "\n",
    "df_topic_sents_keywords = format_topics_documents(ldamodel=optimal_model, corpus=corpus, texts=texts)\n",
    "\n",
    "# Format\n",
    "df_dominant_topic = df_topic_sents_keywords.reset_index()\n",
    "df_dominant_topic.columns = ['Document_No', 'Dominant_Topic', 'Topic_Perc_Contrib', 'Keywords', 'Text']\n",
    "df_dominant_topic.head(10)"
   ]
  },
  {
   "cell_type": "code",
   "execution_count": 142,
   "id": "60e6f791",
   "metadata": {},
   "outputs": [
    {
     "name": "stdout",
     "output_type": "stream",
     "text": [
      "0                                                                                                                                                                                                                                                                                                                                                                                                                                                                                     [where, s, thing, car, nntp_poste, host, rac_wam, umd, organization, university, park, line, wonder, enlighten, car, saw, day, door, sport, car, look, late, early, call, bricklin, door, really, small, addition, separate, rest, body, know, tellme, model, name, engine, spec, year, production, car, make, history, info, funky, look, car, mail, thank, bring, neighborhood, lerxst]\n",
      "1                                                                                                                                                                                                                                                                                 [si, clock, poll, final, call, summary, final, call, si, clock, report, keyword, acceleration, clock, upgrade, article, shelley, qvfo, innc, organization, university, washington, line, nntp_poste, host, fair, number, brave, soul, upgrade, clock, oscillator, share, experience, poll, send, brief, message, detail, experience, procedure, top, speed, attain, cpu, rate, speed, add, card, adapter, heat_sink, hour, usage, day, floppy_disk, functionality, floppy, especially, request, summarize, day, add, network, knowledge, base, do, clock, upgrade, have, answer, poll, thank]\n",
      "2                                                                                                                    [thoma, willi, pb, question, organization, purdue_university, engineering, computer, network, line, folk, mac, finally, give, ghost, weekend, start, life, way, back, sooo, m, market, new, machine, bit, soon, intend, m, look, pick, powerbook, maybe, bunch, question, hopefully, answer, know, dirt, next, round, powerbook, introduction, expect, d, hear, suppose, make, appearence, summer, have, hear, anymore, do, access, macleak, wonder, info, hear, rumor, price, drop, powerbook, line, one, duo, go, recently, s, impression, display, probably, swing, get, disk, rather, do, really, feel, much, well, display, yea, look, great, store, really, good, solicit, opinion, people, day, day, worth, take, disk, size, money, hit, get, ...]\n",
      "3                                                                                                                                                                                                                                                                                                                                                                                                     [joe, green, weitek, organization, harris, computer, system, division, line, nntp_poste, host, amber, ssd_csd, version_pl, write, write, article, know, weitek, graphic, chip, far, low_level, stuff, go, look, pretty, nice, get, quadrilateral, fill, command, require, point, weitek, address, phone, number, i, d, get, information, chip, joe, green, harris, corporation, computer, system, division, thing, really, scare, person, sense, humor, jonathan, winter]\n",
      "4                                                                                                                                                                                                [jonathan, mcdowell, shuttle_launch, question, organization, smithsonian_astrophysical, observatory, cambridge, usa, distribution, sci, line, article, tom, baker, article, pack, rat, write, clear, caution, warn, memory, verify, unexpected, error, wonder, expect, error, sorry, really, dumb, question, parity_error, memory, previously, know, condition, waivere, error, already, know, d, curious, real, meaning, tom, understanding, expect, error, basically, know, bug, warn, system, software, thing, check, do, right, value, yet, be, set, launch, suchlike, rather, fix, code, possibly, introduce, new, bug, tell, crew, see, warn, liftoff, ignore, jonathan]\n",
      "5    [foxvog_dougla, reword, second_amendment, idea, organization, vtt, line, article, tavare, write, article, write, article, tavare, write, article, john, write, massive, destructive, power, many, modern, weapon, make, cost, accidental, crimial, usage, weapon, great, weapon, mass_destruction, need, control, government, individual, access, result, needless, death, million, make, right, people, keep, bear, many, modern, weapon, thank, state, re, come, needless, say, disagree, count, believe, individual, right, weapon, mass_destruction, find, hard, believe, support, neighbor, right, keep, nuclear_weapon, biological, weapon, nerve_ga, property, even, agree, keep, weapon, mass_destruction, hand, individual, hope, do, sign, blank, check, course, term, rigidly, define, bill, doug, foxvog, say, weapon, mass_destruction, mean, cbw, nuke, ...]\n",
      "6                                                                                                                                                                                                                                                                                                                                                                                                                                                                                                 [brian, manning, delaney, brain, tumor, treatment, thank, reply, organization, university, chicago, line, people, respond, request, info, treatment, astrocytoma, email, thank, directly, mail, bounce, prob, sean, debra, sharon, think, d, publicly, thank, thank, m, sure, glad, accidentally, hit, instead, rm, try, delete, file, last, september, hmmm, news, s, brian]\n",
      "7                                                                                               [grubb, scsi, organization, state, university, las_cruce, line, nntp_poste, host, write, article, grubb, say, april, scsi, twice, fasst, esdi, fast, ide, support, device, acceptance, long, stall, incompatability, problem, installation, headache, love, magazine, writer, make, stupid, statement, performance, get, number, ill, list, actual, performance, range, convince, statement, absurd, scsi, range, scsi, ii, range, ide, range, esdi, always, mb, non, standard, version, show, do, know, much, scsi, scsi, scsi_controler, chip, range, indeed, right, scsi, scsi, scsi_controller, chip, mb, mb_burst, bit, note, increase, speed, mac, quadra, use, version, scsi, exist, pc, set, scsi, bit, scsi, mode, mb, mb_burst, scsi, bit, wide, fast, mode, mb, ...]\n",
      "8                                                                                                                                                                                                                                                                                                                                                                                                                                                                                                                                                                                                                                                                                                              [win, icon, help, organization, university, line, win, download, several, icon, bmp, figure, change, wallpaper, icon, help, appreciate, thanx, brando, ps, mail]\n",
      "9                 [stan_kerr, sigma_design, double, article, organization, university, illinois, urbana, line, joseph, pellettiere, write, look, information, sigma_design, double, board, figure, hardware, compression, board, work, autodoubler, sure, also, much, cost, ve, board, year, work, diskdoubler, autodoubler, due, licensing, problem, stac, technology, owner, board, compression, technology, m, write, memory, ve, lose, reference, correct, m, wrong, use, board, ve, problem, file, icon, lose, hard, say, board, fault, else, however, decompress, troubled, file, recompress, board, icon, usually, reappear, mention, licensing, problem, freeware, expansion, utility, dd, expand, decompress, board, compress, file, board, instal, stac, product, seem, unlikely, hole, autodoubler, diskdoubler, relate, board, fix, sad, make, reluctant, buy, ...]\n",
      "Name: Text, dtype: object\n"
     ]
    }
   ],
   "source": [
    "pd.options.display.max_colwidth = 1000\n",
    "\n",
    "print(df_dominant_topic[:10][\"Text\"])"
   ]
  },
  {
   "cell_type": "code",
   "execution_count": null,
   "id": "4580c09d",
   "metadata": {},
   "outputs": [],
   "source": []
  }
 ],
 "metadata": {
  "kernelspec": {
   "display_name": "Python 3",
   "language": "python",
   "name": "python3"
  },
  "language_info": {
   "codemirror_mode": {
    "name": "ipython",
    "version": 3
   },
   "file_extension": ".py",
   "mimetype": "text/x-python",
   "name": "python",
   "nbconvert_exporter": "python",
   "pygments_lexer": "ipython3",
   "version": "3.8.10"
  }
 },
 "nbformat": 4,
 "nbformat_minor": 5
}

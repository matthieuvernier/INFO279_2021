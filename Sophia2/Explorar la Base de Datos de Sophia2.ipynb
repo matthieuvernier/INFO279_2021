{
 "cells": [
  {
   "cell_type": "markdown",
   "id": "c5a3927b",
   "metadata": {},
   "source": [
    "# 1. Conectarse a la base de datos de Sophia2"
   ]
  },
  {
   "cell_type": "code",
   "execution_count": null,
   "id": "9616d49d",
   "metadata": {},
   "outputs": [],
   "source": [
    "import mysql.connector"
   ]
  },
  {
   "cell_type": "code",
   "execution_count": null,
   "id": "5a23f073",
   "metadata": {},
   "outputs": [],
   "source": [
    "USER=\"sophia2api\"\n",
    "HOST=\"45.56.109.120\"\n",
    "PORT=\"14096\"\n",
    "PASSWORD=\"frmv9485\"\n",
    "DATABASE=\"Sun\""
   ]
  },
  {
   "cell_type": "code",
   "execution_count": null,
   "id": "96ae8a01",
   "metadata": {},
   "outputs": [],
   "source": [
    "db_connection = mysql.connector.connect(user=USER,host=HOST,password=PASSWORD,database=DATABASE, port=PORT)"
   ]
  },
  {
   "cell_type": "markdown",
   "id": "c24938fa",
   "metadata": {},
   "source": [
    "# 2. Explorar la base de datos de Sophia2"
   ]
  },
  {
   "cell_type": "code",
   "execution_count": null,
   "id": "424e0c09",
   "metadata": {},
   "outputs": [],
   "source": [
    "import pandas as pd\n",
    "#from pandasql import sqldf"
   ]
  },
  {
   "cell_type": "code",
   "execution_count": null,
   "id": "eeff1289",
   "metadata": {},
   "outputs": [],
   "source": [
    "QUERY = 'select * from news where country=\"chile\" and date >= \"2021-01-01\" and date <= \"2021-01-31\" ORDER BY RAND() limit 1000;'"
   ]
  },
  {
   "cell_type": "code",
   "execution_count": null,
   "id": "54b4ae98",
   "metadata": {},
   "outputs": [],
   "source": [
    "table_news=pd.read_sql(QUERY,con=db_connection)"
   ]
  },
  {
   "cell_type": "code",
   "execution_count": null,
   "id": "6d25dc8e",
   "metadata": {},
   "outputs": [],
   "source": [
    "table_news"
   ]
  },
  {
   "cell_type": "markdown",
   "id": "d613cb7e",
   "metadata": {},
   "source": [
    "# 3. Guardar el dataset en un CSV"
   ]
  },
  {
   "cell_type": "code",
   "execution_count": null,
   "id": "c14a9dd9",
   "metadata": {},
   "outputs": [],
   "source": [
    "DATASET_FILE = \"../datasets/chile_1000rand_01_2021.csv\""
   ]
  },
  {
   "cell_type": "code",
   "execution_count": null,
   "id": "2ffa8f83",
   "metadata": {},
   "outputs": [],
   "source": [
    "table_news.to_csv(DATASET_FILE, index=False, encoding=\"utf-8\")"
   ]
  },
  {
   "cell_type": "markdown",
   "id": "71f97241",
   "metadata": {},
   "source": [
    "# 4. Cargar un dataset en un dataframe Pandas"
   ]
  },
  {
   "cell_type": "code",
   "execution_count": null,
   "id": "2542d7b7",
   "metadata": {},
   "outputs": [],
   "source": [
    "df = pd.read_csv(DATASET_FILE)"
   ]
  },
  {
   "cell_type": "code",
   "execution_count": null,
   "id": "10f5563e",
   "metadata": {},
   "outputs": [],
   "source": [
    "df[:10]"
   ]
  },
  {
   "cell_type": "markdown",
   "id": "87b4310e",
   "metadata": {},
   "source": [
    "# 5. Explorar el dataset utilizando SQL"
   ]
  },
  {
   "cell_type": "code",
   "execution_count": null,
   "id": "485b2d46",
   "metadata": {},
   "outputs": [],
   "source": [
    "from pandasql import sqldf"
   ]
  },
  {
   "cell_type": "markdown",
   "id": "c520729e",
   "metadata": {},
   "source": [
    "- ¿Cuáles son los medios chilenos indexados?"
   ]
  },
  {
   "cell_type": "code",
   "execution_count": null,
   "id": "2bafb5bb",
   "metadata": {},
   "outputs": [],
   "source": [
    "query_sql=\"SELECT distinct media_outlet FROM df;\"\n",
    "df_result=sqldf(query_sql)\n",
    "df_result"
   ]
  },
  {
   "cell_type": "markdown",
   "id": "a7951ef2",
   "metadata": {},
   "source": [
    "- ¿Cuáles es la cantidad de noticias por medios de prensa?"
   ]
  },
  {
   "cell_type": "code",
   "execution_count": null,
   "id": "b14ee575",
   "metadata": {},
   "outputs": [],
   "source": [
    "query_sql=\"SELECT media_outlet, count(*) FROM df GROUP BY media_outlet ORDER BY count(*) DESC;\"\n",
    "df_result=sqldf(query_sql)\n",
    "df_result"
   ]
  },
  {
   "cell_type": "markdown",
   "id": "2edafb00",
   "metadata": {},
   "source": [
    "- ¿Cuáles es la cantidad de noticias por día?"
   ]
  },
  {
   "cell_type": "code",
   "execution_count": null,
   "id": "7674d8ca",
   "metadata": {},
   "outputs": [],
   "source": [
    "query_sql=\"SELECT date, count(*) FROM df GROUP BY media_outlet ORDER BY date ASC;\"\n",
    "df_result=sqldf(query_sql)\n",
    "df_result"
   ]
  },
  {
   "cell_type": "markdown",
   "id": "460613f6",
   "metadata": {},
   "source": [
    "- ¿Qué forma tienen las URLs de algún medio particular?"
   ]
  },
  {
   "cell_type": "code",
   "execution_count": null,
   "id": "60a52213",
   "metadata": {},
   "outputs": [],
   "source": [
    "#cambiar el número de caracteres en las columnas de un dataframe (-1 muestra todo, pero no es recomendado)\n",
    "pd.set_option('display.max_colwidth', 150)"
   ]
  },
  {
   "cell_type": "code",
   "execution_count": null,
   "id": "a1f7ba1b",
   "metadata": {},
   "outputs": [],
   "source": [
    "query_sql=\"SELECT url FROM df WHERE media_outlet='latercera' LIMIT 30;\"\n",
    "df_result=sqldf(query_sql)\n",
    "df_result"
   ]
  },
  {
   "cell_type": "code",
   "execution_count": null,
   "id": "892a7872",
   "metadata": {},
   "outputs": [],
   "source": [
    "pd.set_option('display.max_colwidth', 80)"
   ]
  },
  {
   "cell_type": "markdown",
   "id": "17016c9b",
   "metadata": {},
   "source": [
    "# 6. Preprocesar los títulos con spaCy"
   ]
  },
  {
   "cell_type": "code",
   "execution_count": null,
   "id": "b0328c93",
   "metadata": {},
   "outputs": [],
   "source": [
    "query_sql=\"SELECT title FROM df;\"\n",
    "df_result=sqldf(query_sql)\n",
    "df_result"
   ]
  },
  {
   "cell_type": "code",
   "execution_count": null,
   "id": "d6a99605",
   "metadata": {},
   "outputs": [],
   "source": [
    "df_result['title'][1]"
   ]
  },
  {
   "cell_type": "code",
   "execution_count": null,
   "id": "2615b851",
   "metadata": {},
   "outputs": [],
   "source": [
    "for index, row in df_result.iterrows():\n",
    "    print(df_result['title'][index])"
   ]
  },
  {
   "cell_type": "code",
   "execution_count": null,
   "id": "ba992250",
   "metadata": {},
   "outputs": [],
   "source": [
    "import spacy\n",
    "\n",
    "nlp = spacy.load(\"es_core_news_md\")\n",
    "print(spacy.__version__)"
   ]
  },
  {
   "cell_type": "markdown",
   "id": "0af6f37a",
   "metadata": {},
   "source": [
    "- Contar los sustantivos más frecuentes en los titulos"
   ]
  },
  {
   "cell_type": "code",
   "execution_count": null,
   "id": "2d976708",
   "metadata": {},
   "outputs": [],
   "source": [
    "wordfreq = {}\n",
    "\n",
    "for index, row in df_result.iterrows():\n",
    "    title = df_result['title'][index]\n",
    "    doc = nlp(title)\n",
    "    \n",
    "    for token in doc:\n",
    "        word=token.text\n",
    "        if token.pos_ == \"NOUN\":\n",
    "            if word not in wordfreq:\n",
    "                wordfreq[word] = 0 \n",
    "            wordfreq[word] += 1"
   ]
  },
  {
   "cell_type": "code",
   "execution_count": null,
   "id": "dc13d8ca",
   "metadata": {},
   "outputs": [],
   "source": [
    "wordfreq"
   ]
  },
  {
   "cell_type": "code",
   "execution_count": null,
   "id": "915d8ab3",
   "metadata": {},
   "outputs": [],
   "source": [
    "import operator\n",
    "sorted_wordfreq = dict( sorted(wordfreq.items(), key=operator.itemgetter(1),reverse=True))"
   ]
  },
  {
   "cell_type": "code",
   "execution_count": null,
   "id": "c50c9a55",
   "metadata": {},
   "outputs": [],
   "source": [
    "sorted_wordfreq"
   ]
  },
  {
   "cell_type": "markdown",
   "id": "8ce4b0b6",
   "metadata": {},
   "source": [
    "- Contar los verbos más frecuentes en los titulos"
   ]
  },
  {
   "cell_type": "code",
   "execution_count": null,
   "id": "2404650e",
   "metadata": {},
   "outputs": [],
   "source": [
    "wordfreq = {}\n",
    "\n",
    "for index, row in df_result.iterrows():\n",
    "    title = df_result['title'][index]\n",
    "    doc = nlp(title)\n",
    "    \n",
    "    for token in doc:\n",
    "        word=token.text\n",
    "        if token.pos_ == \"VER\":\n",
    "            if word not in wordfreq:\n",
    "                wordfreq[word] = 0 \n",
    "            wordfreq[word] += 1\n",
    "\n",
    "\n",
    "sorted_wordfreq = dict( sorted(wordfreq.items(), key=operator.itemgetter(1),reverse=True))\n",
    "\n",
    "sorted_wordfreq"
   ]
  },
  {
   "cell_type": "markdown",
   "id": "6eb2b77b",
   "metadata": {},
   "source": [
    "- Contar las palabras más frecuentes en los titulos"
   ]
  },
  {
   "cell_type": "code",
   "execution_count": null,
   "id": "8a1b563c",
   "metadata": {},
   "outputs": [],
   "source": [
    "wordfreq = {}\n",
    "\n",
    "for index, row in df_result.iterrows():\n",
    "    title = df_result['title'][index]\n",
    "    doc = nlp(title)\n",
    "    \n",
    "    for token in doc:\n",
    "        word=token.text\n",
    "\n",
    "        if word not in wordfreq:\n",
    "            wordfreq[word] = 0 \n",
    "        wordfreq[word] += 1\n",
    "\n",
    "\n",
    "sorted_wordfreq = dict( sorted(wordfreq.items(), key=operator.itemgetter(1),reverse=True))\n",
    "\n",
    "sorted_wordfreq"
   ]
  },
  {
   "cell_type": "code",
   "execution_count": null,
   "id": "7a94c294",
   "metadata": {},
   "outputs": [],
   "source": [
    "# TOP - 100\n",
    "sorted_wordfreq_top100 = {k: sorted_wordfreq[k] for k in list(sorted_wordfreq)[:100]}"
   ]
  },
  {
   "cell_type": "code",
   "execution_count": null,
   "id": "0f709ac5",
   "metadata": {},
   "outputs": [],
   "source": [
    "import matplotlib.pyplot as plt\n",
    "import numpy as np\n",
    "from matplotlib.pyplot import figure\n",
    "\n",
    "figure(figsize=(16, 12), dpi=80)\n",
    "\n",
    "pos = np.arange(len(sorted_wordfreq_top100.keys()))\n",
    "width = 1.0     # gives histogram aspect to the bar diagram\n",
    "\n",
    "ax = plt.axes()\n",
    "ax.set_xticks(pos + (width / 2))\n",
    "ax.set_xticklabels(sorted_wordfreq_top100.keys(),rotation='vertical')\n",
    "\n",
    "plt.bar(sorted_wordfreq_top100.keys(), sorted_wordfreq_top100.values(), width, color='g')\n",
    "\n",
    "plt.show()"
   ]
  },
  {
   "cell_type": "code",
   "execution_count": null,
   "id": "f8530444",
   "metadata": {},
   "outputs": [],
   "source": []
  }
 ],
 "metadata": {
  "kernelspec": {
   "display_name": "Python 3",
   "language": "python",
   "name": "python3"
  },
  "language_info": {
   "codemirror_mode": {
    "name": "ipython",
    "version": 3
   },
   "file_extension": ".py",
   "mimetype": "text/x-python",
   "name": "python",
   "nbconvert_exporter": "python",
   "pygments_lexer": "ipython3",
   "version": "3.8.10"
  }
 },
 "nbformat": 4,
 "nbformat_minor": 5
}

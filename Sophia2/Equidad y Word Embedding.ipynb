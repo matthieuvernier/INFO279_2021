{
 "cells": [
  {
   "cell_type": "markdown",
   "id": "276d52d1",
   "metadata": {},
   "source": [
    "# Análisis del lenguaje humano: Equidad & Word Embedding\n",
    "\n",
    "## 1. Introducción\n",
    "\n",
    "- __Los humanos tienden a querer diferenciarse entre distintos grupos (por ciertos motivos de percepción del mundo)__ ...\n",
    "\n",
    "...por nacionalidad o origen etnico\n",
    "\n",
    "...por religión\n",
    "\n",
    "...por color de piel\n",
    "\n",
    "...por ideología política\n",
    "\n",
    "...por genero u orientación sexual\n",
    "\n",
    "...por nivel socioeconómico\n",
    "\n",
    "...por el aspecto físico\n",
    "\n",
    "...por ciertas preferencias o decisiones (\"antivacunas\" vs. \"provacunas\", \"carnivoros\" vs. \"vegetarianos\")\n",
    "\n",
    "...etc."
   ]
  },
  {
   "cell_type": "markdown",
   "id": "00a15269",
   "metadata": {},
   "source": [
    "- __Los humanos tienden a asociar estereotipos positivos o negativos a ciertos grupos (por ciertos motivos)__\n",
    "\n",
    "\n",
    "Por ejemplo: \n",
    "\n",
    "\"los franceses son ladrones\"\n",
    "\n",
    "\"los cristianos son violentos\"\n",
    "\n",
    "\"las mujeres son fragiles\"\n",
    "\n",
    "\"los ricos son corruptos\"\n",
    "     \n",
    "\n",
    "- __Los estereotipos pueden derivar hacia discurso de odio, situaciones injustas y violencia__\n",
    "\n",
    "Podemos pensar por ejemplo a los estereotipos sobre los judios al siglo XX que llevaron a la violenca que conocemos."
   ]
  },
  {
   "cell_type": "markdown",
   "id": "0cfd014b",
   "metadata": {},
   "source": [
    "- __Los \"discursos\" humanos reflejan nuestros estereotipos / nuestra cultura.__\n",
    "\n",
    "¿El discurso de los medios de prensa es un espejo de nuestros estereotipos/nuestra cultura?\n",
    "\n",
    "- __Todos las técnicas de NLP \"modernas\" se basan sobre modelos de Word Embedding que capturan el sentido de cada palabra a través de un vector__\n",
    "\n",
    "Hemos visto que estos vectores capturan tambien nuestros estereotipos. Por ejemplo, vimos que el vector de la palabra \"ingenieria\" es más similar al vector de \"hombre\" que al vector de \"mujer\".\n",
    "\n"
   ]
  },
  {
   "cell_type": "markdown",
   "id": "eb380d76",
   "metadata": {},
   "source": [
    "- __Preguntas__:\n",
    "\n",
    "¿Es razonable que las técnicas de IA/NLP se basen sobre modelos que reflejan nuestros estereotipos culturales?\n",
    "\n",
    "Las técnicas de IA/NLP no tienen capacidades de pensamiento crítico sobre su propio conocimiento, ¿pero pueden ayudarnos como humanos a mejorar nuestro pensamiento crítico?\n",
    "\n",
    "¿Cuáles son los estereotipos culturales capturados por las técnicas de Word Embedding? ¿Se puede observar evoluciones?\n"
   ]
  },
  {
   "cell_type": "markdown",
   "id": "816f525d",
   "metadata": {},
   "source": [
    "## 2. El framework WEFE: Word Embedding Fairness Evaluation\n",
    "\n",
    "El framework WEFE es una librería abierta desarrollada en el DCC de la U. de Chile. Encapsula distintos métodos y métricas para medir qué tan sesgado es un modelo de Word Embedding (o diciendo de otra manera: medir si el modelo contiene estereotipos sobre grupos de humanos)\n",
    "\n",
    "Documentación: https://wefe.readthedocs.io/en/latest/\n",
    "\n",
    "Referencia: P. Badilla, F. Bravo-Marquez, and J. Pérez WEFE: The Word Embeddings Fairness Evaluation Framework In Proceedings of the 29th International Joint Conference on Artificial Intelligence and the 17th Pacific Rim International Conference on Artificial Intelligence (IJCAI-PRICAI 2020), Yokohama, Japan.\n",
    "\n",
    "Enlace: https://felipebravom.com/publications/ijcai2020.pdf\n"
   ]
  },
  {
   "cell_type": "code",
   "execution_count": 4,
   "id": "46f373a6",
   "metadata": {},
   "outputs": [
    {
     "name": "stdout",
     "output_type": "stream",
     "text": [
      "Requirement already satisfied: wefe in /home/mvernier/.local/lib/python3.8/site-packages (0.3.1)\n",
      "Requirement already satisfied: six in /usr/lib/python3/dist-packages (from wefe) (1.14.0)\n",
      "Requirement already satisfied: tqdm in /home/mvernier/.local/lib/python3.8/site-packages (from wefe) (4.62.3)\n",
      "Requirement already satisfied: scikit-learn in /home/mvernier/.local/lib/python3.8/site-packages (from wefe) (0.24.2)\n",
      "Requirement already satisfied: scipy in /home/mvernier/.local/lib/python3.8/site-packages (from wefe) (1.6.2)\n",
      "Requirement already satisfied: semantic-version in /home/mvernier/.local/lib/python3.8/site-packages (from wefe) (2.8.5)\n",
      "Requirement already satisfied: pandas in /home/mvernier/.local/lib/python3.8/site-packages (from wefe) (1.2.4)\n",
      "Requirement already satisfied: plotly in /home/mvernier/.local/lib/python3.8/site-packages (from wefe) (5.4.0)\n",
      "Requirement already satisfied: numpy in /home/mvernier/.local/lib/python3.8/site-packages (from wefe) (1.20.2)\n",
      "Requirement already satisfied: requests in /home/mvernier/.local/lib/python3.8/site-packages (from wefe) (2.26.0)\n",
      "Requirement already satisfied: gensim in /home/mvernier/.local/lib/python3.8/site-packages (from wefe) (4.1.0)\n",
      "Requirement already satisfied: threadpoolctl>=2.0.0 in /home/mvernier/.local/lib/python3.8/site-packages (from scikit-learn->wefe) (2.2.0)\n",
      "Requirement already satisfied: joblib>=0.11 in /home/mvernier/.local/lib/python3.8/site-packages (from scikit-learn->wefe) (1.0.1)\n",
      "Requirement already satisfied: python-dateutil>=2.7.3 in /usr/lib/python3/dist-packages (from pandas->wefe) (2.7.3)\n",
      "Requirement already satisfied: pytz>=2017.3 in /usr/lib/python3/dist-packages (from pandas->wefe) (2019.3)\n",
      "Requirement already satisfied: tenacity>=6.2.0 in /home/mvernier/.local/lib/python3.8/site-packages (from plotly->wefe) (8.0.1)\n",
      "Requirement already satisfied: urllib3<1.27,>=1.21.1 in /usr/lib/python3/dist-packages (from requests->wefe) (1.25.8)\n",
      "Requirement already satisfied: charset-normalizer~=2.0.0; python_version >= \"3\" in /home/mvernier/.local/lib/python3.8/site-packages (from requests->wefe) (2.0.7)\n",
      "Requirement already satisfied: certifi>=2017.4.17 in /usr/lib/python3/dist-packages (from requests->wefe) (2019.11.28)\n",
      "Requirement already satisfied: idna<4,>=2.5; python_version >= \"3\" in /usr/lib/python3/dist-packages (from requests->wefe) (2.8)\n",
      "Requirement already satisfied: smart-open>=1.8.1 in /home/mvernier/.local/lib/python3.8/site-packages (from gensim->wefe) (3.0.0)\n"
     ]
    }
   ],
   "source": [
    "!pip install wefe"
   ]
  },
  {
   "cell_type": "markdown",
   "id": "8243c4d3",
   "metadata": {},
   "source": [
    "Una de las principales métricas propuestas para medir la (in)equidad en el lenguaje humano se llama Relative Norm Distance (RND). Se basa en los conceptos siguientes:\n",
    "\n",
    "- Los __targets__ : un target es un grupo humano y las distintas palabras existentes para referise a ese grupo humano.\n",
    "\n",
    "Por ejemplo, para hablar de los \"chilenos\" como grupo humano, puedo utilizar las palabras \"chilenos\" y \"chilenas\".\n",
    "Por ejemplo, para hablar de los \"brasileños\" como grupo humano, puedo utilizar las palabras \"brasileños\" y \"brasileñas\".\n",
    "\n",
    "\n",
    "- Los __atributos__ : un atributo corresponde a un concepto semántico las distintas palabras existentes para referirse a ella.\n",
    "\n",
    "Por ejemplo, la \"violencia\" es un concepto semántico y se referise a ella con distintas palabras como \"agresión\", \"crueldad\", \"violación\", etc.\n",
    "\n",
    "A partir de distintos _targets_, la métrica RND calcula una distancia promedia de los _targets_ con un atributo. Permite identificar si el discurso humano tiende a asociar el concepto semántico hacia cierto grupo humano.\n"
   ]
  },
  {
   "cell_type": "markdown",
   "id": "34b32887",
   "metadata": {},
   "source": [
    "Veamos un ejemplo..."
   ]
  },
  {
   "cell_type": "code",
   "execution_count": 13,
   "id": "b1a4767e",
   "metadata": {},
   "outputs": [],
   "source": [
    "from wefe.query import Query\n",
    "from wefe.word_embedding_model import WordEmbeddingModel\n",
    "from wefe.metrics.RND import RND\n",
    "from gensim.models import Word2Vec\n",
    "from gensim.models import KeyedVectors"
   ]
  },
  {
   "cell_type": "markdown",
   "id": "f04c806a",
   "metadata": {},
   "source": [
    "Cargamos un modelo de Word Embedding entrenado a partir de 1 año de noticias de prensa chilena (2020).\n",
    "\n",
    "Este modelo fue entrenado por Nicolas Treimun (estudiante de la carrera ICI)."
   ]
  },
  {
   "cell_type": "code",
   "execution_count": 70,
   "id": "ce37eec5",
   "metadata": {},
   "outputs": [],
   "source": [
    "name_model = \"Chile/CHILE_2020_dev210721_113361_lg.model\"\n",
    "\n",
    "model = KeyedVectors.load(name_model)                                "
   ]
  },
  {
   "cell_type": "markdown",
   "id": "93d10ad7",
   "metadata": {},
   "source": [
    "Definemos los grupos humanos (__targets__) y el concepto semántico (__atributo__) que queremos evaluar."
   ]
  },
  {
   "cell_type": "code",
   "execution_count": 22,
   "id": "eb898aac",
   "metadata": {},
   "outputs": [],
   "source": [
    "target_sets = [['chilenos', 'chilenas'],['brasileños','brasileñas']]\n",
    "target_sets_names = ['chilenxs', 'brasileñxs']"
   ]
  },
  {
   "cell_type": "code",
   "execution_count": 26,
   "id": "3e54e2d7",
   "metadata": {},
   "outputs": [],
   "source": [
    "attribute_sets = [['violencia', 'terrorismo', 'crueldad', 'violación']]\n",
    "attribute_sets_names = ['violencia']"
   ]
  },
  {
   "cell_type": "markdown",
   "id": "44ae52b4",
   "metadata": {},
   "source": [
    "Se agrupa estas variables para definir una consulta y evaluar el modelo de Word Embedding con la métrica de RND."
   ]
  },
  {
   "cell_type": "code",
   "execution_count": 45,
   "id": "d7f712df",
   "metadata": {},
   "outputs": [],
   "source": [
    "query = Query(target_sets, attribute_sets, target_sets_names, attribute_sets_names)"
   ]
  },
  {
   "cell_type": "code",
   "execution_count": 46,
   "id": "e6edd14f",
   "metadata": {},
   "outputs": [
    {
     "name": "stdout",
     "output_type": "stream",
     "text": [
      "{'query_name': 'hombres and mujeres wrt dulzura', 'result': -1.1469440460205078, 'rnd': -1.1469440460205078, 'distances_by_word': {'dulzura': -1.146944}}\n"
     ]
    }
   ],
   "source": [
    "word_vectors = model.wv\n",
    "mdl = WordEmbeddingModel(word_vectors)\n",
    "rnd = RND()\n",
    "result_rnd = rnd.run_query(query, mdl)\n",
    "print(result_rnd)"
   ]
  },
  {
   "cell_type": "markdown",
   "id": "0ef09818",
   "metadata": {},
   "source": [
    "- un resultado de 0 es ideal. Significa que el concepto semantico se encuentra a equidistancia entre los grupos humanos\n",
    "\n",
    "- un resultado positivo significa que el concepto semántico se encuentra más vinculado al primer grupo definido.\n",
    "\n",
    "- un resultado negativo significa que el concepto semántico se encuentra más vinculado al segundo grupo definido"
   ]
  },
  {
   "cell_type": "markdown",
   "id": "26a93270",
   "metadata": {},
   "source": [
    "Veamos un segundo ejemplo..."
   ]
  },
  {
   "cell_type": "code",
   "execution_count": 71,
   "id": "3b786f2c",
   "metadata": {},
   "outputs": [],
   "source": [
    "target_sets = [['hombres','hombre'],['mujeres','mujer']]\n",
    "target_sets_names = ['hombres', 'mujeres']"
   ]
  },
  {
   "cell_type": "code",
   "execution_count": 72,
   "id": "b2b5269e",
   "metadata": {},
   "outputs": [],
   "source": [
    "attribute_sets = [['dulzura','bondad','ternura','generosidad','inteligencia','empatía','fuerza']]\n",
    "attribute_sets_names = ['características humanas']"
   ]
  },
  {
   "cell_type": "code",
   "execution_count": 73,
   "id": "75a7b55c",
   "metadata": {},
   "outputs": [
    {
     "name": "stdout",
     "output_type": "stream",
     "text": [
      "{'query_name': 'hombres and mujeres wrt características humanas', 'result': 0.11398083823067802, 'rnd': 0.11398083823067802, 'distances_by_word': {'dulzura': -1.146944, 'empatía': -0.20008087, 'ternura': -0.04829979, 'generosidad': 0.16884995, 'bondad': 0.32925415, 'inteligencia': 0.5942173, 'fuerza': 1.1008692}}\n"
     ]
    }
   ],
   "source": [
    "query = Query(target_sets, attribute_sets, target_sets_names, attribute_sets_names)\n",
    "word_vectors = model.wv\n",
    "mdl = WordEmbeddingModel(word_vectors)\n",
    "rnd = RND()\n",
    "result_rnd = rnd.run_query(query, mdl)\n",
    "print(result_rnd)"
   ]
  },
  {
   "cell_type": "markdown",
   "id": "9ad47a93",
   "metadata": {},
   "source": [
    "Comparemos el año 2020 con el año 2018..."
   ]
  },
  {
   "cell_type": "code",
   "execution_count": 74,
   "id": "dad749ec",
   "metadata": {},
   "outputs": [],
   "source": [
    "name_model = \"Chile/CHILE_2018_dev210721_110981_lg.model\"\n",
    "\n",
    "model = KeyedVectors.load(name_model)  "
   ]
  },
  {
   "cell_type": "code",
   "execution_count": 77,
   "id": "96f85b61",
   "metadata": {},
   "outputs": [
    {
     "name": "stdout",
     "output_type": "stream",
     "text": [
      "{'query_name': 'hombres and mujeres wrt características humanas', 'result': -0.7215265546526227, 'rnd': -0.7215265546526227, 'distances_by_word': {'dulzura': -1.7727661, 'bondad': -1.2733221, 'empatía': -0.8307848, 'ternura': -0.59896374, 'generosidad': -0.57681847, 'inteligencia': -0.454628, 'fuerza': 0.45659733}}\n"
     ]
    }
   ],
   "source": [
    "target_sets = [['hombres','hombre'],['mujeres','mujer']]\n",
    "target_sets_names = ['hombres', 'mujeres']\n",
    "\n",
    "attribute_sets = [['dulzura','bondad','ternura','generosidad','inteligencia','empatía','fuerza']]\n",
    "attribute_sets_names = ['características humanas']\n",
    "\n",
    "query = Query(target_sets, attribute_sets, target_sets_names, attribute_sets_names)\n",
    "word_vectors = model.wv\n",
    "mdl = WordEmbeddingModel(word_vectors)\n",
    "rnd = RND()\n",
    "result_rnd = rnd.run_query(query, mdl)\n",
    "print(result_rnd)"
   ]
  },
  {
   "cell_type": "markdown",
   "id": "c778a413",
   "metadata": {},
   "source": [
    "Comparemos Chile con España..."
   ]
  },
  {
   "cell_type": "code",
   "execution_count": 78,
   "id": "6d8c8fcb",
   "metadata": {},
   "outputs": [],
   "source": [
    "name_model = \"España/ESPANA_2020_dev300721_NON_lg.model\"\n",
    "\n",
    "model = KeyedVectors.load(name_model) "
   ]
  },
  {
   "cell_type": "code",
   "execution_count": 80,
   "id": "aaaf714f",
   "metadata": {},
   "outputs": [],
   "source": [
    "name_model = \"España/ESPANA_2017_dev300721_NON_lg.model\"\n",
    "\n",
    "model = KeyedVectors.load(name_model) "
   ]
  },
  {
   "cell_type": "code",
   "execution_count": 81,
   "id": "d8193949",
   "metadata": {},
   "outputs": [
    {
     "name": "stdout",
     "output_type": "stream",
     "text": [
      "{'query_name': 'hombres and mujeres wrt características humanas', 'result': -0.156604494367327, 'rnd': -0.156604494367327, 'distances_by_word': {'dulzura': -0.7331772, 'bondad': -0.41804314, 'generosidad': -0.24637985, 'ternura': -0.2076807, 'empatía': -0.16707897, 'fuerza': 0.14738083, 'inteligencia': 0.52874756}}\n"
     ]
    }
   ],
   "source": [
    "target_sets = [['hombres','hombre'],['mujeres','mujer']]\n",
    "target_sets_names = ['hombres', 'mujeres']\n",
    "\n",
    "attribute_sets = [['dulzura','bondad','ternura','generosidad','inteligencia','empatía','fuerza']]\n",
    "attribute_sets_names = ['características humanas']\n",
    "\n",
    "query = Query(target_sets, attribute_sets, target_sets_names, attribute_sets_names)\n",
    "word_vectors = model.wv\n",
    "mdl = WordEmbeddingModel(word_vectors)\n",
    "rnd = RND()\n",
    "result_rnd = rnd.run_query(query, mdl)\n",
    "print(result_rnd)"
   ]
  },
  {
   "cell_type": "markdown",
   "id": "086af9dc",
   "metadata": {},
   "source": [
    "## 3. Experimento en grupo\n",
    "\n",
    "¿Cómo evaluar la equidad en el lenguaje humano?\n",
    "\n",
    "1) Elegir un problema de (in)equidad, identificando grupos humanos y concepto semántico\n",
    "\n",
    "2) Identificar palabras para referise a los grupos humanos y concepto semántico\n",
    "\n",
    "3) Evaluar el nivel de (in)equidad) en distintos paises y años\n"
   ]
  },
  {
   "cell_type": "code",
   "execution_count": null,
   "id": "12c801dd",
   "metadata": {},
   "outputs": [],
   "source": []
  }
 ],
 "metadata": {
  "kernelspec": {
   "display_name": "Python 3 (ipykernel)",
   "language": "python",
   "name": "python3"
  },
  "language_info": {
   "codemirror_mode": {
    "name": "ipython",
    "version": 3
   },
   "file_extension": ".py",
   "mimetype": "text/x-python",
   "name": "python",
   "nbconvert_exporter": "python",
   "pygments_lexer": "ipython3",
   "version": "3.8.10"
  }
 },
 "nbformat": 4,
 "nbformat_minor": 5
}

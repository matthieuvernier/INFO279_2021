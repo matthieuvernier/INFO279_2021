{
 "cells": [
  {
   "cell_type": "markdown",
   "metadata": {},
   "source": [
    "# Tutorial Web scraping - Extracción de noticias en medios de prensa internacionales\n",
    "\n",
    "Ejemplo aplicado al medio: https://7news.com.au/news\n",
    "\n",
    "sintáxis del lenguaje XPath: https://www.w3schools.com/xml/xpath_syntax.asp"
   ]
  },
  {
   "cell_type": "markdown",
   "metadata": {},
   "source": [
    "## Parte 1: Crawling\n",
    "\n",
    "Recopilación de las URLs que contienen noticias de prensa\n",
    "\n",
    "### 1. URL _seed_"
   ]
  },
  {
   "cell_type": "code",
   "execution_count": 1,
   "metadata": {},
   "outputs": [],
   "source": [
    "SEED_CRAWL = 'https://content.7news.com.au/v4/publication?excludeRegional=false&page=1&page_offset=4&page_size=8&profiles=true&topics=politics%2Ffederal-politics'"
   ]
  },
  {
   "cell_type": "code",
   "execution_count": 2,
   "metadata": {},
   "outputs": [],
   "source": [
    "HEADER = {\"authority\": \"content.7news.com.au\", \"dnt\": \"1\", \"caller\": \"sevennews\", \"user-agent\": \"Mozilla/5.0\", \"referer\": \"https://7news.com.au/politics/federal-politics\"}"
   ]
  },
  {
   "cell_type": "markdown",
   "metadata": {},
   "source": [
    "Para iniciar el proceso de crawling, necesitamos una página inicial que llamamos 'SEED'. Es la página que contiene una lista de enlaces hacia noticias."
   ]
  },
  {
   "cell_type": "markdown",
   "metadata": {},
   "source": [
    "### 2. Class _Crawler_\n",
    "\n",
    "La clase _Crawler_ se encarga de enviar una consulta HTTP (GET) a la pagina SEED.  Luego analiza la respuesta HTML para obtener los enlaces HTML.\n",
    "\n",
    "Se requiere definir la ruta HTML para obtener los enlaces que corresponden a las noticias de prensa."
   ]
  },
  {
   "cell_type": "code",
   "execution_count": 3,
   "metadata": {},
   "outputs": [],
   "source": [
    "QUERY_URL = \"\""
   ]
  },
  {
   "cell_type": "markdown",
   "metadata": {},
   "source": [
    "Para consultar y analizar la pagina SEED, se utiliza una serie de librerias y se selecciona al azar un navegador web."
   ]
  },
  {
   "cell_type": "code",
   "execution_count": 4,
   "metadata": {},
   "outputs": [
    {
     "name": "stderr",
     "output_type": "stream",
     "text": [
      "/home/mvernier/miniconda3/lib/python3.7/site-packages/requests/__init__.py:91: RequestsDependencyWarning: urllib3 (1.25.10) or chardet (3.0.4) doesn't match a supported version!\n",
      "  RequestsDependencyWarning)\n"
     ]
    }
   ],
   "source": [
    "import random\n",
    "import requests\n",
    "from requests_html import HTMLSession\n",
    "from requests_html import HTML\n",
    "import os\n",
    "import json\n",
    "import validators"
   ]
  },
  {
   "cell_type": "code",
   "execution_count": 5,
   "metadata": {},
   "outputs": [],
   "source": [
    "class Crawler:\n",
    "    \n",
    "    USER_AGENT_LIST = [\n",
    "        \"Mozilla/5.0 (Windows NT 6.1; WOW64) AppleWebKit/537.1 (KHTML, like Gecko) Chrome/22.0.1207.1 Safari/537.1\",\n",
    "        \"Mozilla/5.0 (X11; CrOS i686 2268.111.0) AppleWebKit/536.11 (KHTML, like Gecko) Chrome/20.0.1132.57 Safari/536.11\",\n",
    "        \"Mozilla/5.0 (Windows NT 6.1; WOW64) AppleWebKit/536.6 (KHTML, like Gecko) Chrome/20.0.1092.0 Safari/536.6\",\n",
    "        \"Mozilla/5.0 (Windows NT 6.2) AppleWebKit/536.6 (KHTML, like Gecko) Chrome/20.0.1090.0 Safari/536.6\",\n",
    "        \"Mozilla/5.0 (Windows NT 6.2; WOW64) AppleWebKit/537.1 (KHTML, like Gecko) Chrome/19.77.34.5 Safari/537.1\",\n",
    "        \"Mozilla/5.0 (X11; Linux x86_64) AppleWebKit/536.5 (KHTML, like Gecko) Chrome/19.0.1084.9 Safari/536.5\",\n",
    "        \"Mozilla/5.0 (Windows NT 6.0) AppleWebKit/536.5 (KHTML, like Gecko) Chrome/19.0.1084.36 Safari/536.5\",\n",
    "        \"Mozilla/5.0 (Windows NT 6.1; WOW64) AppleWebKit/536.3 (KHTML, like Gecko) Chrome/19.0.1063.0 Safari/536.3\",\n",
    "        \"Mozilla/5.0 (Windows NT 5.1) AppleWebKit/536.3 (KHTML, like Gecko) Chrome/19.0.1063.0 Safari/536.3\",\n",
    "        \"Mozilla/5.0 (Macintosh; Intel Mac OS X 10_8_0) AppleWebKit/536.3 (KHTML, like Gecko) Chrome/19.0.1063.0 Safari/536.3\",\n",
    "        \"Mozilla/5.0 (Windows NT 6.2) AppleWebKit/536.3 (KHTML, like Gecko) Chrome/19.0.1062.0 Safari/536.3\",\n",
    "        \"Mozilla/5.0 (Windows NT 6.1; WOW64) AppleWebKit/536.3 (KHTML, like Gecko) Chrome/19.0.1062.0 Safari/536.3\",\n",
    "        \"Mozilla/5.0 (Windows NT 6.2) AppleWebKit/536.3 (KHTML, like Gecko) Chrome/19.0.1061.1 Safari/536.3\",\n",
    "        \"Mozilla/5.0 (Windows NT 6.1; WOW64) AppleWebKit/536.3 (KHTML, like Gecko) Chrome/19.0.1061.1 Safari/536.3\",\n",
    "        \"Mozilla/5.0 (Windows NT 6.1) AppleWebKit/536.3 (KHTML, like Gecko) Chrome/19.0.1061.1 Safari/536.3\",\n",
    "        \"Mozilla/5.0 (Windows NT 6.2) AppleWebKit/536.3 (KHTML, like Gecko) Chrome/19.0.1061.0 Safari/536.3\",\n",
    "        \"Mozilla/5.0 (X11; Linux x86_64) AppleWebKit/535.24 (KHTML, like Gecko) Chrome/19.0.1055.1 Safari/535.24\",\n",
    "        \"Mozilla/5.0 (Windows NT 6.2; WOW64) AppleWebKit/535.24 (KHTML, like Gecko) Chrome/19.0.1055.1 Safari/535.24\"\n",
    "]\n",
    "\n",
    "    query_extract_all_href=QUERY_URL\n",
    "\n",
    "    all_json_to_send = []\n",
    "    \n",
    "    def _init_(self):\n",
    "        pass\n",
    "    \n",
    "    def parse(self, response):\n",
    "        ''' do something with this parser '''\n",
    "        self.all_extracted_href = []\n",
    "        json_data = json.loads(response.html.html)\n",
    "        for url_data in json_data['documents']:\n",
    "            json_to_send = {}\n",
    "            json_to_send[\"url\"] = url_data[\"_self\"]\n",
    "            json_to_send[\"title\"] = url_data[\"heading\"]\n",
    "            json_to_send[\"date\"] = url_data[\"publicationDate\"]\n",
    "            self.all_json_to_send.append(json_to_send)      \n",
    "\n",
    "    def start_request(self,url,header=dict()):\n",
    "        session = HTMLSession()\n",
    "        header['user-agent'] = random.choice(self.USER_AGENT_LIST)\n",
    "        response = session.get(url,headers=header)        \n",
    "        return response"
   ]
  },
  {
   "cell_type": "markdown",
   "metadata": {},
   "source": [
    "### 3. Crawling y parsing"
   ]
  },
  {
   "cell_type": "code",
   "execution_count": 8,
   "metadata": {},
   "outputs": [],
   "source": [
    "crawler = Crawler()\n",
    "\n",
    "response = crawler.start_request(SEED_CRAWL, HEADER)"
   ]
  },
  {
   "cell_type": "code",
   "execution_count": 9,
   "metadata": {},
   "outputs": [
    {
     "data": {
      "text/plain": [
       "'{\"page\":1,\"page_size\":8,\"total\":0,\"morePublicationsAvailable\":true,\"documents\":[{\"_self\":\"https://7news.com.au/lifestyle/personal-finance/temporary-changes-to-parental-leave-access-c-1368278\",\"id\":\"C-1368278\",\"kind\":\"article\",\"status\":\"live\",\"isLiveContent\":false,\"isPremium\":false,\"requiredAccess\":{\"level\":\"anonymous\"},\"source\":\"AAP\",\"publicationDate\":\"2020-10-06T10:38:15.000Z\",\"created\":\"2020-10-06T10:38:15.000Z\",\"lastUpdated\":\"2020-10-06T11:04:43.527Z\",\"expiryDate\":null,\"topics\":{\"primary\":{\"id\":\"lifestyle/personal-finance\",\"guid\":\"cke86eglv00kc07lmcz774jfy\",\"title\":\"Personal Finance\",\"metadata\":{},\"seoTitle\":\"Personal Finance\",\"parent\":{\"id\":\"lifestyle\",\"guid\":\"cke86aefd000s07lmhwrg2huw\",\"title\":\"Lifestyle\",\"metadata\":{},\"seoTitle\":\"Lifestyle\",\"seoDescription\":\"The latest lifestyle content featuring recipes, Perth\\'s best food, health and wellbeing advice and tips for your garden and home.\"}},\"secondary\":[{\"id\":\"politics/budget\",\"guid\":\"cke86binq005w07lma77i1z8n\",\"title\":\"Budget\",\"metadata\":{},\"seoTitle\":\"Budget\",\"parent\":{\"id\":\"politics\",\"guid\":\"cke86ac5n000h07lmbvw45om2\",\"title\":\"Politics\",\"metadata\":{},\"seoTitle\":\"Politics\",\"seoDescription\":\"The latest local, national and international politics news. Find out the decisions politicians are making which could affect you.\"}},{\"id\":\"politics/federal-politics\",\"guid\":\"cke86ea5k00jg07lm2bama4o2\",\"title\":\"Federal Politics\",\"metadata\":{},\"seoTitle\":\"Federal Politics\",\"parent\":{\"id\":\"politics\",\"guid\":\"cke86ac5n000h07lmbvw45om2\",\"title\":\"Politics\",\"metadata\":{},\"seoTitle\":\"Politics\",\"seoDescription\":\"The latest local, national and international politics news. Find out the decisions politicians are making which could affect you.\"}},{\"id\":\"lifestyle/parenting\",\"guid\":\"cke86cx7s00cs07lm281qb2db\",\"title\":\"Parenting\",\"metadata\":{},\"seoTitle\":\"Parenting\",\"parent\":{\"id\":\"lifestyle\",\"guid\":\"cke86aefd000s07lmhwrg2huw\",\"title\":\"Lifestyle\",\"metadata\":{},\"seoTitle\":\"Lifestyle\",\"seoDescription\":\"The latest lifestyle content featuring recipes, Perth\\'s best food, health and wellbeing advice and tips for your garden and home.\"}},{\"id\":\"politics\",\"guid\":\"cke86ac5n000h07lmbvw45om2\",\"title\":\"Politics\",\"metadata\":{},\"seoTitle\":\"Politics\",\"seoDescription\":\"The latest local, national and international politics news. Find out the decisions politicians are making which could affect you.\"}]},\"heading\":\"Federal Budget 2020: Thousands of new mothers to qualify for paid parental leave\",\"byline\":{\"text\":\"Rebecca Gredley\"},\"headKicker\":\"FEDERAL BUDGET 2020\",\"homepageHead\":\"Paid parental leave changes announced for babies born during COVID pandemic\",\"homepageTeaser\":\"The changes are expected to help 9000 mothers, as well as 3500 fathers and partners.\",\"cardImages\":[],\"mainImages\":[{\"format\":\"image/jpeg\",\"src\":\"https://images.s.7news.com.au/publication/C-1368278/8f5bbf8e1f2accb3e0c92cd2802f7e8e5b2a35bd-16x9-x0y0w1280h720.jpg\",\"reference\":\"https://images.s.7news.com.au/publication/C-1368278/8f5bbf8e1f2accb3e0c92cd2802f7e8e5b2a35bd-16x9-x0y0w1280h720.jpg\",\"width\":1280,\"height\":720,\"dimensions\":\"1280x720\",\"ratio\":\"16:9\",\"credit\":\"AAP\",\"captionText\":\"Paid parental leave eligibility criteria have been eased as part of the federal budget.\",\"copyrightByline\":\"AAP\"},{\"format\":\"image/jpeg\",\"src\":\"https://images.s.7news.com.au/publication/C-1368278/8f5bbf8e1f2accb3e0c92cd2802f7e8e5b2a35bd-4x3-x160y0w960h720.jpg\",\"reference\":\"https://images.s.7news.com.au/publication/C-1368278/8f5bbf8e1f2accb3e0c92cd2802f7e8e5b2a35bd-4x3-x160y0w960h720.jpg\",\"width\":960,\"height\":720,\"dimensions\":\"960x720\",\"ratio\":\"4:3\",\"credit\":\"AAP\",\"captionText\":\"Paid parental leave eligibility criteria have been eased as part of the federal budget.\",\"copyrightByline\":\"AAP\"},{\"format\":\"image/jpeg\",\"src\":\"https://images.s.7news.com.au/publication/C-1368278/8f5bbf8e1f2accb3e0c92cd2802f7e8e5b2a35bd-161x229-x387y0w506h720.jpg\",\"reference\":\"https://images.s.7news.com.au/publication/C-1368278/8f5bbf8e1f2accb3e0c92cd2802f7e8e5b2a35bd-161x229-x387y0w506h720.jpg\",\"width\":506,\"height\":720,\"dimensions\":\"506x720\",\"ratio\":\"161:229\",\"credit\":\"AAP\",\"captionText\":\"Paid parental leave eligibility criteria have been eased as part of the federal budget.\",\"copyrightByline\":\"AAP\"}],\"mainVideo\":null,\"socialImage\":null,\"slug\":\"temporary-changes-to-parental-leave-access-c-1368278\",\"socialHead\":\"\",\"socialTeaser\":\"\",\"seoHead\":\"\",\"isSponsored\":false,\"layoutView\":\"default\",\"redirectUrl\":null,\"promotionType\":null,\"canonicalUrl\":null,\"canonicalTitle\":null,\"blogState\":null,\"profiles\":[],\"allowCommenting\":false},{\"_self\":\"https://7news.com.au/lifestyle/personal-finance/federal-budget-2020-superannuation-accounts-to-follow-workers-when-they-change-jobs-c-1368157\",\"id\":\"C-1368157\",\"kind\":\"article\",\"status\":\"live\",\"isLiveContent\":false,\"isPremium\":false,\"requiredAccess\":{\"level\":\"anonymous\"},\"source\":\"AAP\",\"publicationDate\":\"2020-10-06T10:29:32.000Z\",\"created\":\"2020-10-06T10:15:37.000Z\",\"lastUpdated\":\"2020-10-06T10:29:35.444Z\",\"expiryDate\":null,\"topics\":{\"primary\":{\"id\":\"lifestyle/personal-finance\",\"guid\":\"cke86eglv00kc07lmcz774jfy\",\"title\":\"Personal Finance\",\"metadata\":{},\"seoTitle\":\"Personal Finance\",\"parent\":{\"id\":\"lifestyle\",\"guid\":\"cke86aefd000s07lmhwrg2huw\",\"title\":\"Lifestyle\",\"metadata\":{},\"seoTitle\":\"Lifestyle\",\"seoDescription\":\"The latest lifestyle content featuring recipes, Perth\\'s best food, health and wellbeing advice and tips for your garden and home.\"}},\"secondary\":[{\"id\":\"politics/budget\",\"guid\":\"cke86binq005w07lma77i1z8n\",\"title\":\"Budget\",\"metadata\":{},\"seoTitle\":\"Budget\",\"parent\":{\"id\":\"politics\",\"guid\":\"cke86ac5n000h07lmbvw45om2\",\"title\":\"Politics\",\"metadata\":{},\"seoTitle\":\"Politics\",\"seoDescription\":\"The latest local, national and international politics news. Find out the decisions politicians are making which could affect you.\"}},{\"id\":\"politics/federal-politics\",\"guid\":\"cke86ea5k00jg07lm2bama4o2\",\"title\":\"Federal Politics\",\"metadata\":{},\"seoTitle\":\"Federal Politics\",\"parent\":{\"id\":\"politics\",\"guid\":\"cke86ac5n000h07lmbvw45om2\",\"title\":\"Politics\",\"metadata\":{},\"seoTitle\":\"Politics\",\"seoDescription\":\"The latest local, national and international politics news. Find out the decisions politicians are making which could affect you.\"}},{\"id\":\"lifestyle/superannuation\",\"guid\":\"cke86e62d00iv07lm1b3ca62w\",\"title\":\"Superannuation\",\"metadata\":{},\"seoTitle\":\"Superannuation\",\"parent\":{\"id\":\"lifestyle\",\"guid\":\"cke86aefd000s07lmhwrg2huw\",\"title\":\"Lifestyle\",\"metadata\":{},\"seoTitle\":\"Lifestyle\",\"seoDescription\":\"The latest lifestyle content featuring recipes, Perth\\'s best food, health and wellbeing advice and tips for your garden and home.\"}}]},\"heading\":\"Federal Budget 2020: Superannuation accounts to follow workers when they change jobs\",\"byline\":{\"text\":\"Rebecca Gredley\"},\"headKicker\":\"FEDERAL BUDGET 2020\",\"homepageHead\":\"Federal Budget 2020 reveals new changes to superannuation accounts\",\"homepageTeaser\":\"The plan is aimed at preventing Australians from paying unnecessary fees for multiple accounts. \",\"cardImages\":[],\"mainImages\":[{\"format\":\"image/jpeg\",\"src\":\"https://images.s.7news.com.au/publication/C-1368157/b843af106386b278280d9bd549a67a95d0862ad7.jpg\",\"reference\":\"https://images.s.7news.com.au/publication/C-1368157/b843af106386b278280d9bd549a67a95d0862ad7.jpg\",\"width\":3008,\"height\":2000,\"dimensions\":\"3008x2000\",\"ratio\":{\"width\":3008,\"height\":2000},\"credit\":\"Getty Images\",\"captionText\":\"The Federal government has announced new superannuation changes to prevent fees from multiple accounts. File image. \",\"copyrightByline\":\"pamspix\",\"byline\":\"pamspix\"},{\"format\":\"image/jpeg\",\"src\":\"https://images.s.7news.com.au/publication/C-1368157/b843af106386b278280d9bd549a67a95d0862ad7-16x9-x0y154w3008h1692.jpg\",\"reference\":\"https://images.s.7news.com.au/publication/C-1368157/b843af106386b278280d9bd549a67a95d0862ad7-16x9-x0y154w3008h1692.jpg\",\"width\":3008,\"height\":1692,\"dimensions\":\"3008x1692\",\"ratio\":\"16:9\",\"credit\":\"Getty Images\",\"captionText\":\"The Federal government has announced new superannuation changes to prevent fees from multiple accounts. File image. \",\"copyrightByline\":\"pamspix\",\"byline\":\"pamspix\"},{\"format\":\"image/jpeg\",\"src\":\"https://images.s.7news.com.au/publication/C-1368157/b843af106386b278280d9bd549a67a95d0862ad7-4x3-x171y0w2667h2000.jpg\",\"reference\":\"https://images.s.7news.com.au/publication/C-1368157/b843af106386b278280d9bd549a67a95d0862ad7-4x3-x171y0w2667h2000.jpg\",\"width\":2667,\"height\":2000,\"dimensions\":\"2667x2000\",\"ratio\":\"4:3\",\"credit\":\"Getty Images\",\"captionText\":\"The Federal government has announced new superannuation changes to prevent fees from multiple accounts. File image. \",\"copyrightByline\":\"pamspix\",\"byline\":\"pamspix\"},{\"format\":\"image/jpeg\",\"src\":\"https://images.s.7news.com.au/publication/C-1368157/b843af106386b278280d9bd549a67a95d0862ad7-161x229-x801y0w1406h2000.jpg\",\"reference\":\"https://images.s.7news.com.au/publication/C-1368157/b843af106386b278280d9bd549a67a95d0862ad7-161x229-x801y0w1406h2000.jpg\",\"width\":1406,\"height\":2000,\"dimensions\":\"1406x2000\",\"ratio\":\"161:229\",\"credit\":\"Getty Images\",\"captionText\":\"The Federal government has announced new superannuation changes to prevent fees from multiple accounts. File image. \",\"copyrightByline\":\"pamspix\",\"byline\":\"pamspix\"}],\"mainVideo\":{\"accountId\":\"4761797480001\",\"heading\":\"7NEWS Evening Update: October 6\",\"kind\":\"video\",\"posterImage\":{\"height\":360,\"width\":640,\"reference\":\"https://images.s.7news.com.au/publication/6197880827001/220800907a5072e888964d161c09b92845569ee5.jpg\",\"src\":\"https://images.s.7news.com.au/publication/6197880827001/220800907a5072e888964d161c09b92845569ee5.jpg\",\"dimensions\":\"640x360\",\"format\":\"\",\"ratio\":\"16:9\"},\"videoDescription\":\"7NEWS Evening Update: October 6\",\"videoId\":\"6197880827001\",\"videoType\":\"vod\",\"ingestChannel\":\"vizstory\"},\"socialImage\":null,\"slug\":\"federal-budget-2020-superannuation-accounts-to-follow-workers-when-they-change-jobs-c-1368157\",\"socialHead\":\"\",\"socialTeaser\":\"\",\"seoHead\":\"\",\"isSponsored\":false,\"layoutView\":\"default\",\"redirectUrl\":null,\"promotionType\":null,\"canonicalUrl\":null,\"canonicalTitle\":null,\"blogState\":null,\"profiles\":[],\"allowCommenting\":false},{\"_self\":\"https://7news.com.au/politics/budget/federal-budget-2020-assumes-west-australian-border-will-be-open-by-april-2021-c-1368154\",\"id\":\"C-1368154\",\"kind\":\"article\",\"status\":\"live\",\"isLiveContent\":false,\"isPremium\":false,\"requiredAccess\":{\"level\":\"anonymous\"},\"source\":\"7NEWS\",\"publicationDate\":\"2020-10-06T10:10:39.000Z\",\"created\":\"2020-10-06T10:01:49.000Z\",\"lastUpdated\":\"2020-10-06T10:10:42.703Z\",\"expiryDate\":null,\"topics\":{\"primary\":{\"id\":\"politics/budget\",\"guid\":\"cke86binq005w07lma77i1z8n\",\"title\":\"Budget\",\"metadata\":{},\"seoTitle\":\"Budget\",\"parent\":{\"id\":\"politics\",\"guid\":\"cke86ac5n000h07lmbvw45om2\",\"title\":\"Politics\",\"metadata\":{},\"seoTitle\":\"Politics\",\"seoDescription\":\"The latest local, national and international politics news. Find out the decisions politicians are making which could affect you.\"}},\"secondary\":[{\"id\":\"travel/coronavirus\",\"guid\":\"cke86co9s00bj07lmgfbo562y\",\"title\":\"Coronavirus\",\"metadata\":{},\"seoTitle\":\"Latest Coronavirus cases and news\",\"seoDescription\":\"Coronavirus live updates, latest information and cases from Australia and the World. \",\"parent\":{\"id\":\"travel\",\"guid\":\"cke86a8pa000207lm4i8sdlw2\",\"title\":\"Travel\",\"metadata\":{},\"seoTitle\":\"Travel\"}},{\"id\":\"politics/federal-politics\",\"guid\":\"cke86ea5k00jg07lm2bama4o2\",\"title\":\"Federal Politics\",\"metadata\":{},\"seoTitle\":\"Federal Politics\",\"parent\":{\"id\":\"politics\",\"guid\":\"cke86ac5n000h07lmbvw45om2\",\"title\":\"Politics\",\"metadata\":{},\"seoTitle\":\"Politics\",\"seoDescription\":\"The latest local, national and international politics news. Find out the decisions politicians are making which could affect you.\"}},{\"id\":\"politics/mark-mcgowan\",\"guid\":\"cke86dk3800fv07lm3dwfhkrh\",\"title\":\"Mark McGowan\",\"metadata\":{},\"seoTitle\":\"Mark McGowan\",\"parent\":{\"id\":\"politics\",\"guid\":\"cke86ac5n000h07lmbvw45om2\",\"title\":\"Politics\",\"metadata\":{},\"seoTitle\":\"Politics\",\"seoDescription\":\"The latest local, national and international politics news. Find out the decisions politicians are making which could affect you.\"}},{\"id\":\"news/public-health\",\"guid\":\"cke86cba4009u07lm3nw83gjr\",\"title\":\"Public Health\",\"metadata\":{},\"seoTitle\":\"Public Health\",\"parent\":{\"id\":\"news\",\"guid\":\"cke86a86z000007lmf10g7p14\",\"title\":\"News\",\"metadata\":{},\"seoTitle\":\"News\",\"seoDescription\":\"The latest news at home and across the world featuring news on Western Australia, Australia, the world and other topics you are interested in.\"}},{\"id\":\"politics/state-politics\",\"guid\":\"cke86dz2200hx07lm41cy4smo\",\"title\":\"State Politics\",\"metadata\":{},\"seoTitle\":\"State Politics\",\"parent\":{\"id\":\"politics\",\"guid\":\"cke86ac5n000h07lmbvw45om2\",\"title\":\"Politics\",\"metadata\":{},\"seoTitle\":\"Politics\",\"seoDescription\":\"The latest local, national and international politics news. Find out the decisions politicians are making which could affect you.\"}},{\"id\":\"news/wa\",\"guid\":\"cke86a96g000407lm3y5m366n\",\"title\":\"WA News\",\"metadata\":{},\"seoTitle\":\"WA News\",\"parent\":{\"id\":\"news\",\"guid\":\"cke86a86z000007lmf10g7p14\",\"title\":\"News\",\"metadata\":{},\"seoTitle\":\"News\",\"seoDescription\":\"The latest news at home and across the world featuring news on Western Australia, Australia, the world and other topics you are interested in.\"}}]},\"heading\":\"Federal Budget 2020 assumes West Australian border will be open by April 2021\",\"byline\":{\"text\":\"Pip Christmass\"},\"headKicker\":\"the fine print\",\"homepageHead\":\"Federal Budget detail reveals when WA border could reopen\",\"homepageTeaser\":\"Federal Treasurer Josh Frydenberg has based WA revenue figures on the border staying in place until a certain date. \",\"cardImages\":[],\"mainImages\":[{\"format\":\"image/jpeg\",\"src\":\"https://images.s.7news.com.au/publication/C-1368154/7dbbe0a77e63aa3ae6424535b0e35044ee45fb7f-16x9-x0y75w800h450.jpg\",\"reference\":\"https://images.s.7news.com.au/publication/C-1368154/7dbbe0a77e63aa3ae6424535b0e35044ee45fb7f-16x9-x0y75w800h450.jpg\",\"width\":800,\"height\":450,\"dimensions\":\"800x450\",\"ratio\":\"16:9\",\"credit\":\"AAP\",\"captionText\":\"Increasing movement between other states is hardening WA\\'s resistance to opening its borders.\",\"copyrightByline\":\"AAP\"},{\"format\":\"image/jpeg\",\"src\":\"https://images.s.7news.com.au/publication/C-1368154/7dbbe0a77e63aa3ae6424535b0e35044ee45fb7f-4x3-x0y0w800h600.jpg\",\"reference\":\"https://images.s.7news.com.au/publication/C-1368154/7dbbe0a77e63aa3ae6424535b0e35044ee45fb7f-4x3-x0y0w800h600.jpg\",\"width\":800,\"height\":600,\"dimensions\":\"800x600\",\"ratio\":\"4:3\",\"credit\":\"AAP\",\"captionText\":\"Increasing movement between other states is hardening WA\\'s resistance to opening its borders.\",\"copyrightByline\":\"AAP\"},{\"format\":\"image/jpeg\",\"src\":\"https://images.s.7news.com.au/publication/C-1368154/7dbbe0a77e63aa3ae6424535b0e35044ee45fb7f-161x229-x189y0w422h600.jpg\",\"reference\":\"https://images.s.7news.com.au/publication/C-1368154/7dbbe0a77e63aa3ae6424535b0e35044ee45fb7f-161x229-x189y0w422h600.jpg\",\"width\":422,\"height\":600,\"dimensions\":\"422x600\",\"ratio\":\"161:229\",\"credit\":\"AAP\",\"captionText\":\"Increasing movement between other states is hardening WA\\'s resistance to opening its borders.\",\"copyrightByline\":\"AAP\"}],\"mainVideo\":{\"accountId\":\"4761797480001\",\"heading\":\"7NEWS Evening Update: October 6\",\"kind\":\"video\",\"posterImage\":{\"height\":360,\"width\":640,\"reference\":\"https://images.s.7news.com.au/publication/6197880827001/220800907a5072e888964d161c09b92845569ee5.jpg\",\"src\":\"https://images.s.7news.com.au/publication/6197880827001/220800907a5072e888964d161c09b92845569ee5.jpg\",\"dimensions\":\"640x360\",\"format\":\"\",\"ratio\":\"16:9\"},\"videoDescription\":\"7NEWS Evening Update: October 6\",\"videoId\":\"6197880827001\",\"videoType\":\"vod\",\"ingestChannel\":\"vizstory\"},\"socialImage\":null,\"slug\":\"federal-budget-2020-assumes-west-australian-border-will-be-open-by-april-2021-c-1368154\",\"socialHead\":\"\",\"socialTeaser\":\"\",\"seoHead\":\"\",\"isSponsored\":false,\"layoutView\":\"default\",\"redirectUrl\":null,\"promotionType\":null,\"canonicalUrl\":null,\"canonicalTitle\":null,\"blogState\":null,\"profiles\":[{\"name\":\"Pip Christmass\",\"slug\":\"pip-christmass\",\"email\":\"pchristmass@seven.com.au\",\"position\":\"Perth News Journalist\",\"biography\":\"Pip Christmass is Perth News Journalist for 7NEWS.com.au. Prior to joining the team, Pip was Perth News Producer for Yahoo7. Before a brief stint in Melbourne as a freelance arts and fashion writer for Broadsheet, Pip spent seven years as a features journalist for The West Australian newspaper, writing about art, movies, fashion and entertainment.\",\"twitter\":\"pipchristmasssev1\"}],\"allowCommenting\":false},{\"_self\":\"https://7news.com.au/lifestyle/personal-finance/federal-budget-2020-budget-relies-on-available-covid-vaccine-by-end-of-2021-c-1368047\",\"id\":\"C-1368047\",\"kind\":\"article\",\"status\":\"live\",\"isLiveContent\":false,\"isPremium\":false,\"requiredAccess\":{\"level\":\"anonymous\"},\"source\":\"AAP\",\"publicationDate\":\"2020-10-06T09:06:21.000Z\",\"created\":\"2020-10-06T08:57:39.000Z\",\"lastUpdated\":\"2020-10-06T09:17:48.808Z\",\"expiryDate\":null,\"topics\":{\"primary\":{\"id\":\"lifestyle/personal-finance\",\"guid\":\"cke86eglv00kc07lmcz774jfy\",\"title\":\"Personal Finance\",\"metadata\":{},\"seoTitle\":\"Personal Finance\",\"parent\":{\"id\":\"lifestyle\",\"guid\":\"cke86aefd000s07lmhwrg2huw\",\"title\":\"Lifestyle\",\"metadata\":{},\"seoTitle\":\"Lifestyle\",\"seoDescription\":\"The latest lifestyle content featuring recipes, Perth\\'s best food, health and wellbeing advice and tips for your garden and home.\"}},\"secondary\":[{\"id\":\"politics/budget\",\"guid\":\"cke86binq005w07lma77i1z8n\",\"title\":\"Budget\",\"metadata\":{},\"seoTitle\":\"Budget\",\"parent\":{\"id\":\"politics\",\"guid\":\"cke86ac5n000h07lmbvw45om2\",\"title\":\"Politics\",\"metadata\":{},\"seoTitle\":\"Politics\",\"seoDescription\":\"The latest local, national and international politics news. Find out the decisions politicians are making which could affect you.\"}},{\"id\":\"travel/coronavirus\",\"guid\":\"cke86co9s00bj07lmgfbo562y\",\"title\":\"Coronavirus\",\"metadata\":{},\"seoTitle\":\"Latest Coronavirus cases and news\",\"seoDescription\":\"Coronavirus live updates, latest information and cases from Australia and the World. \",\"parent\":{\"id\":\"travel\",\"guid\":\"cke86a8pa000207lm4i8sdlw2\",\"title\":\"Travel\",\"metadata\":{},\"seoTitle\":\"Travel\"}},{\"id\":\"politics/federal-politics\",\"guid\":\"cke86ea5k00jg07lm2bama4o2\",\"title\":\"Federal Politics\",\"metadata\":{},\"seoTitle\":\"Federal Politics\",\"parent\":{\"id\":\"politics\",\"guid\":\"cke86ac5n000h07lmbvw45om2\",\"title\":\"Politics\",\"metadata\":{},\"seoTitle\":\"Politics\",\"seoDescription\":\"The latest local, national and international politics news. Find out the decisions politicians are making which could affect you.\"}},{\"id\":\"business/finance\",\"guid\":\"cke86br96007307lmgvj7gp9a\",\"title\":\"Finance\",\"metadata\":{},\"seoTitle\":\"Finance\",\"parent\":{\"id\":\"business\",\"guid\":\"cke86aal5000a07lm1zxv4n8t\",\"title\":\"Business\",\"metadata\":{},\"seoTitle\":\"Business\",\"seoDescription\":\"The latest business news including market updates, mining news, property development and the start-ups you should know about.\"}},{\"id\":\"politics/josh-frydenberg\",\"guid\":\"cke86e8c100j707lm1m2c6krn\",\"title\":\"Josh Frydenberg\",\"metadata\":{},\"seoTitle\":\"Josh Frydenberg\",\"seoDescription\":\"The latest news and headlines on the Treasurer of Australia and Deputy Leader of the Liberal Party.\",\"parent\":{\"id\":\"politics\",\"guid\":\"cke86ac5n000h07lmbvw45om2\",\"title\":\"Politics\",\"metadata\":{},\"seoTitle\":\"Politics\",\"seoDescription\":\"The latest local, national and international politics news. Find out the decisions politicians are making which could affect you.\"}}]},\"heading\":\"Federal Budget 2020: Budget relies on available COVID vaccine by end of 2021\",\"byline\":{\"text\":\"Matt Coughlan \"},\"headKicker\":\"BUDGET 2020\",\"homepageHead\":\"Federal Budget relying on COVID vaccine by the end of 2021\",\"homepageTeaser\":\"The forecast assumes a population-wide vaccination program would be in place across the country in late 2021.\",\"cardImages\":[],\"mainImages\":[{\"format\":\"image/jpeg\",\"src\":\"https://images.s.7news.com.au/publication/C-1368047/2f988d77a1c67d0fe24ed69fabbc347a33a895af.jpg\",\"reference\":\"https://images.s.7news.com.au/publication/C-1368047/2f988d77a1c67d0fe24ed69fabbc347a33a895af.jpg\",\"width\":2500,\"height\":1667,\"dimensions\":\"2500x1667\",\"ratio\":{\"width\":2500,\"height\":1667},\"credit\":\"Getty\",\"captionText\":\"A coronavirus vaccine is expected to be rolled out across Australia by late next year, according to one of the federal budget’s key assumptions.\",\"copyrightByline\":\"AFP or licensors\"},{\"format\":\"image/jpeg\",\"src\":\"https://images.s.7news.com.au/publication/C-1368047/2f988d77a1c67d0fe24ed69fabbc347a33a895af-16x9-x0y301w2021h1137.jpg\",\"reference\":\"https://images.s.7news.com.au/publication/C-1368047/2f988d77a1c67d0fe24ed69fabbc347a33a895af-16x9-x0y301w2021h1137.jpg\",\"width\":2021,\"height\":1137,\"dimensions\":\"2021x1137\",\"ratio\":\"16:9\",\"credit\":\"Getty\",\"captionText\":\"A coronavirus vaccine is expected to be rolled out across Australia by late next year, according to one of the federal budget’s key assumptions.\",\"copyrightByline\":\"AFP or licensors\"},{\"format\":\"image/jpeg\",\"src\":\"https://images.s.7news.com.au/publication/C-1368047/2f988d77a1c67d0fe24ed69fabbc347a33a895af-4x3-x0y160w2010h1507.jpg\",\"reference\":\"https://images.s.7news.com.au/publication/C-1368047/2f988d77a1c67d0fe24ed69fabbc347a33a895af-4x3-x0y160w2010h1507.jpg\",\"width\":2010,\"height\":1507,\"dimensions\":\"2010x1507\",\"ratio\":\"4:3\",\"credit\":\"Getty\",\"captionText\":\"A coronavirus vaccine is expected to be rolled out across Australia by late next year, according to one of the federal budget’s key assumptions.\",\"copyrightByline\":\"AFP or licensors\"},{\"format\":\"image/jpeg\",\"src\":\"https://images.s.7news.com.au/publication/C-1368047/2f988d77a1c67d0fe24ed69fabbc347a33a895af-161x229-x574y0w1172h1667.jpg\",\"reference\":\"https://images.s.7news.com.au/publication/C-1368047/2f988d77a1c67d0fe24ed69fabbc347a33a895af-161x229-x574y0w1172h1667.jpg\",\"width\":1172,\"height\":1667,\"dimensions\":\"1172x1667\",\"ratio\":\"161:229\",\"credit\":\"Getty\",\"captionText\":\"A coronavirus vaccine is expected to be rolled out across Australia by late next year, according to one of the federal budget’s key assumptions.\",\"copyrightByline\":\"AFP or licensors\"}],\"mainVideo\":{\"accountId\":\"4761797480001\",\"heading\":\"7NEWS Evening Update: October 6\",\"kind\":\"video\",\"posterImage\":{\"height\":360,\"width\":640,\"reference\":\"https://images.s.7news.com.au/publication/6197880827001/220800907a5072e888964d161c09b92845569ee5.jpg\",\"src\":\"https://images.s.7news.com.au/publication/6197880827001/220800907a5072e888964d161c09b92845569ee5.jpg\",\"dimensions\":\"640x360\",\"format\":\"\",\"ratio\":\"16:9\"},\"videoDescription\":\"7NEWS Evening Update: October 6\",\"videoId\":\"6197880827001\",\"videoType\":\"vod\",\"ingestChannel\":\"vizstory\"},\"socialImage\":null,\"slug\":\"federal-budget-2020-budget-relies-on-available-covid-vaccine-by-end-of-2021-c-1368047\",\"socialHead\":\"\",\"socialTeaser\":\"\",\"seoHead\":\"\",\"isSponsored\":false,\"layoutView\":\"default\",\"redirectUrl\":null,\"promotionType\":null,\"canonicalUrl\":null,\"canonicalTitle\":null,\"blogState\":null,\"profiles\":[],\"allowCommenting\":false},{\"_self\":\"https://7news.com.au/business/finance/federal-budget-2020-tax-cuts-spear-federal-budget-cash-splash-c-1368007\",\"id\":\"C-1368007\",\"kind\":\"article\",\"status\":\"live\",\"isLiveContent\":false,\"isPremium\":false,\"requiredAccess\":{\"level\":\"anonymous\"},\"source\":\"7NEWS\",\"publicationDate\":\"2020-10-06T09:00:33.000Z\",\"created\":\"2020-10-06T08:49:50.000Z\",\"lastUpdated\":\"2020-10-06T09:17:57.459Z\",\"expiryDate\":null,\"topics\":{\"primary\":{\"id\":\"business/finance\",\"guid\":\"cke86br96007307lmgvj7gp9a\",\"title\":\"Finance\",\"metadata\":{},\"seoTitle\":\"Finance\",\"parent\":{\"id\":\"business\",\"guid\":\"cke86aal5000a07lm1zxv4n8t\",\"title\":\"Business\",\"metadata\":{},\"seoTitle\":\"Business\",\"seoDescription\":\"The latest business news including market updates, mining news, property development and the start-ups you should know about.\"}},\"secondary\":[{\"id\":\"politics/budget\",\"guid\":\"cke86binq005w07lma77i1z8n\",\"title\":\"Budget\",\"metadata\":{},\"seoTitle\":\"Budget\",\"parent\":{\"id\":\"politics\",\"guid\":\"cke86ac5n000h07lmbvw45om2\",\"title\":\"Politics\",\"metadata\":{},\"seoTitle\":\"Politics\",\"seoDescription\":\"The latest local, national and international politics news. Find out the decisions politicians are making which could affect you.\"}},{\"id\":\"travel/coronavirus\",\"guid\":\"cke86co9s00bj07lmgfbo562y\",\"title\":\"Coronavirus\",\"metadata\":{},\"seoTitle\":\"Latest Coronavirus cases and news\",\"seoDescription\":\"Coronavirus live updates, latest information and cases from Australia and the World. \",\"parent\":{\"id\":\"travel\",\"guid\":\"cke86a8pa000207lm4i8sdlw2\",\"title\":\"Travel\",\"metadata\":{},\"seoTitle\":\"Travel\"}},{\"id\":\"politics/federal-politics\",\"guid\":\"cke86ea5k00jg07lm2bama4o2\",\"title\":\"Federal Politics\",\"metadata\":{},\"seoTitle\":\"Federal Politics\",\"parent\":{\"id\":\"politics\",\"guid\":\"cke86ac5n000h07lmbvw45om2\",\"title\":\"Politics\",\"metadata\":{},\"seoTitle\":\"Politics\",\"seoDescription\":\"The latest local, national and international politics news. Find out the decisions politicians are making which could affect you.\"}},{\"id\":\"politics/josh-frydenberg\",\"guid\":\"cke86e8c100j707lm1m2c6krn\",\"title\":\"Josh Frydenberg\",\"metadata\":{},\"seoTitle\":\"Josh Frydenberg\",\"seoDescription\":\"The latest news and headlines on the Treasurer of Australia and Deputy Leader of the Liberal Party.\",\"parent\":{\"id\":\"politics\",\"guid\":\"cke86ac5n000h07lmbvw45om2\",\"title\":\"Politics\",\"metadata\":{},\"seoTitle\":\"Politics\",\"seoDescription\":\"The latest local, national and international politics news. Find out the decisions politicians are making which could affect you.\"}},{\"id\":\"business/personal-finance\",\"guid\":\"cke86e9y900jf07lm7kkc4o9y\",\"title\":\"Personal Finance\",\"metadata\":{},\"seoTitle\":\"Personal Finance\",\"parent\":{\"id\":\"business\",\"guid\":\"cke86aal5000a07lm1zxv4n8t\",\"title\":\"Business\",\"metadata\":{},\"seoTitle\":\"Business\",\"seoDescription\":\"The latest business news including market updates, mining news, property development and the start-ups you should know about.\"}}]},\"heading\":\"Federal Budget 2020: Tax cuts spear federal budget cash splash\",\"byline\":{\"text\":\"Matt Coughlan\"},\"headKicker\":\"BUDGET 2020\",\"homepageHead\":\"Over 11 million Aussies to receive tax cuts as Federal Budget unveiled\",\"homepageTeaser\":\"Here\\'s who the cuts will benefit and how much people will save.\",\"cardImages\":[],\"mainImages\":[{\"format\":\"image/jpeg\",\"src\":\"https://images.s.7news.com.au/publication/C-1368007/0f14b510032e363ee0f8dd23881317ae7d19c015.jpg\",\"reference\":\"https://images.s.7news.com.au/publication/C-1368007/0f14b510032e363ee0f8dd23881317ae7d19c015.jpg\",\"width\":3106,\"height\":2071,\"dimensions\":\"3106x2071\",\"ratio\":{\"width\":3106,\"height\":2071},\"credit\":\"AAPIMAGE\",\"captionText\":\"Treasurer Josh Frydenberg has handed down the Federal Budget in the House of Representatives at Parliament House in Canberra, Tuesday, October 6, 2020.\",\"copyrightByline\":\"AAP IMAGE\",\"byline\":\"MICK TSIKAS\"},{\"format\":\"image/jpeg\",\"src\":\"https://images.s.7news.com.au/publication/C-1368007/0f14b510032e363ee0f8dd23881317ae7d19c015-16x9-x0y91w3106h1747.jpg\",\"reference\":\"https://images.s.7news.com.au/publication/C-1368007/0f14b510032e363ee0f8dd23881317ae7d19c015-16x9-x0y91w3106h1747.jpg\",\"width\":3106,\"height\":1747,\"dimensions\":\"3106x1747\",\"ratio\":\"16:9\",\"credit\":\"AAPIMAGE\",\"captionText\":\"Treasurer Josh Frydenberg has handed down the Federal Budget in the House of Representatives at Parliament House in Canberra, Tuesday, October 6, 2020.\",\"copyrightByline\":\"AAP IMAGE\",\"byline\":\"MICK TSIKAS\"},{\"format\":\"image/jpeg\",\"src\":\"https://images.s.7news.com.au/publication/C-1368007/0f14b510032e363ee0f8dd23881317ae7d19c015-4x3-x67y0w2761h2071.jpg\",\"reference\":\"https://images.s.7news.com.au/publication/C-1368007/0f14b510032e363ee0f8dd23881317ae7d19c015-4x3-x67y0w2761h2071.jpg\",\"width\":2761,\"height\":2071,\"dimensions\":\"2761x2071\",\"ratio\":\"4:3\",\"credit\":\"AAPIMAGE\",\"captionText\":\"Treasurer Josh Frydenberg has handed down the Federal Budget in the House of Representatives at Parliament House in Canberra, Tuesday, October 6, 2020.\",\"copyrightByline\":\"AAP IMAGE\",\"byline\":\"MICK TSIKAS\"},{\"format\":\"image/jpeg\",\"src\":\"https://images.s.7news.com.au/publication/C-1368007/0f14b510032e363ee0f8dd23881317ae7d19c015-161x229-x719y0w1456h2071.jpg\",\"reference\":\"https://images.s.7news.com.au/publication/C-1368007/0f14b510032e363ee0f8dd23881317ae7d19c015-161x229-x719y0w1456h2071.jpg\",\"width\":1456,\"height\":2071,\"dimensions\":\"1456x2071\",\"ratio\":\"161:229\",\"credit\":\"AAPIMAGE\",\"captionText\":\"Treasurer Josh Frydenberg has handed down the Federal Budget in the House of Representatives at Parliament House in Canberra, Tuesday, October 6, 2020.\",\"copyrightByline\":\"AAP IMAGE\",\"byline\":\"MICK TSIKAS\"}],\"mainVideo\":{\"accountId\":\"4761797480001\",\"heading\":\"7NEWS Evening Update: October 6\",\"kind\":\"video\",\"posterImage\":{\"height\":360,\"width\":640,\"reference\":\"https://images.s.7news.com.au/publication/6197880827001/220800907a5072e888964d161c09b92845569ee5.jpg\",\"src\":\"https://images.s.7news.com.au/publication/6197880827001/220800907a5072e888964d161c09b92845569ee5.jpg\",\"dimensions\":\"640x360\",\"format\":\"\",\"ratio\":\"16:9\"},\"videoDescription\":\"7NEWS Evening Update: October 6\",\"videoId\":\"6197880827001\",\"videoType\":\"vod\",\"ingestChannel\":\"vizstory\"},\"socialImage\":null,\"slug\":\"federal-budget-2020-tax-cuts-spear-federal-budget-cash-splash-c-1368007\",\"socialHead\":\"\",\"socialTeaser\":\"\",\"seoHead\":\"\",\"isSponsored\":false,\"layoutView\":\"default\",\"redirectUrl\":null,\"promotionType\":null,\"canonicalUrl\":null,\"canonicalTitle\":null,\"blogState\":null,\"profiles\":[],\"allowCommenting\":false},{\"_self\":\"https://7news.com.au/business/finance/fraud-admissions-from-former-union-boss-kathy-jackson-c-1365795\",\"id\":\"C-1365795\",\"kind\":\"article\",\"status\":\"live\",\"isLiveContent\":false,\"isPremium\":false,\"requiredAccess\":{\"level\":\"anonymous\"},\"source\":\"AAP\",\"publicationDate\":\"2020-10-05T18:30:49.000Z\",\"created\":\"2020-10-05T16:39:13.000Z\",\"lastUpdated\":\"2020-10-05T18:30:51.696Z\",\"expiryDate\":null,\"topics\":{\"primary\":{\"id\":\"business/finance\",\"guid\":\"cke86br96007307lmgvj7gp9a\",\"title\":\"Finance\",\"metadata\":{},\"seoTitle\":\"Finance\",\"parent\":{\"id\":\"business\",\"guid\":\"cke86aal5000a07lm1zxv4n8t\",\"title\":\"Business\",\"metadata\":{},\"seoTitle\":\"Business\",\"seoDescription\":\"The latest business news including market updates, mining news, property development and the start-ups you should know about.\"}},\"secondary\":[{\"id\":\"news/court-justice\",\"guid\":\"cke86cea600a907lmci6t8900\",\"title\":\"Courts & Justice\",\"metadata\":{},\"seoTitle\":\"Courts & Justice\",\"parent\":{\"id\":\"news\",\"guid\":\"cke86a86z000007lmf10g7p14\",\"title\":\"News\",\"metadata\":{},\"seoTitle\":\"News\",\"seoDescription\":\"The latest news at home and across the world featuring news on Western Australia, Australia, the world and other topics you are interested in.\"}},{\"id\":\"news/crime\",\"guid\":\"cke86afb0000w07lm312p19bn\",\"title\":\"Crime\",\"metadata\":{},\"seoTitle\":\"Crime\",\"parent\":{\"id\":\"news\",\"guid\":\"cke86a86z000007lmf10g7p14\",\"title\":\"News\",\"metadata\":{},\"seoTitle\":\"News\",\"seoDescription\":\"The latest news at home and across the world featuring news on Western Australia, Australia, the world and other topics you are interested in.\"}},{\"id\":\"politics/federal-politics\",\"guid\":\"cke86ea5k00jg07lm2bama4o2\",\"title\":\"Federal Politics\",\"metadata\":{},\"seoTitle\":\"Federal Politics\",\"parent\":{\"id\":\"politics\",\"guid\":\"cke86ac5n000h07lmbvw45om2\",\"title\":\"Politics\",\"metadata\":{},\"seoTitle\":\"Politics\",\"seoDescription\":\"The latest local, national and international politics news. Find out the decisions politicians are making which could affect you.\"}},{\"id\":\"news/unions\",\"guid\":\"cke86alnx001p07lm5gngeute\",\"title\":\"Unions\",\"metadata\":{},\"seoTitle\":\"Unions\",\"seoDescription\":\"The latest news headlines on industrial actions and employer associations from Australia.\",\"parent\":{\"id\":\"news\",\"guid\":\"cke86a86z000007lmf10g7p14\",\"title\":\"News\",\"metadata\":{},\"seoTitle\":\"News\",\"seoDescription\":\"The latest news at home and across the world featuring news on Western Australia, Australia, the world and other topics you are interested in.\"}}]},\"heading\":\"Fraud admissions from former union boss Kathy Jackson\",\"byline\":{\"text\":\"AAP\"},\"headKicker\":\"fraud charges\",\"homepageHead\":\"Former union boss defrauded members of more than $100,000\",\"homepageTeaser\":\"Kathy Jackson has admitted fraud crimes, with her plea lifting the lid on a previously unpublished jury verdict.\",\"cardImages\":[],\"mainImages\":[{\"format\":\"image/jpeg\",\"src\":\"https://images.s.7news.com.au/publication/C-1365795/f3f614ee4a5dd8b48c46c9d8ccc6151119ee1c9b-16x9-x0y0w1280h720.jpg\",\"reference\":\"https://images.s.7news.com.au/publication/C-1365795/f3f614ee4a5dd8b48c46c9d8ccc6151119ee1c9b-16x9-x0y0w1280h720.jpg\",\"width\":1280,\"height\":720,\"dimensions\":\"1280x720\",\"ratio\":\"16:9\",\"credit\":\"AAP\",\"captionText\":\"Former Health Services Union boss Kathy Jackson obtained more than $100,000 by deception.\",\"copyrightByline\":\"AAP\"},{\"format\":\"image/jpeg\",\"src\":\"https://images.s.7news.com.au/publication/C-1365795/f3f614ee4a5dd8b48c46c9d8ccc6151119ee1c9b-4x3-x160y0w960h720.jpg\",\"reference\":\"https://images.s.7news.com.au/publication/C-1365795/f3f614ee4a5dd8b48c46c9d8ccc6151119ee1c9b-4x3-x160y0w960h720.jpg\",\"width\":960,\"height\":720,\"dimensions\":\"960x720\",\"ratio\":\"4:3\",\"credit\":\"AAP\",\"captionText\":\"Former Health Services Union boss Kathy Jackson obtained more than $100,000 by deception.\",\"copyrightByline\":\"AAP\"},{\"format\":\"image/jpeg\",\"src\":\"https://images.s.7news.com.au/publication/C-1365795/f3f614ee4a5dd8b48c46c9d8ccc6151119ee1c9b-161x229-x387y0w506h720.jpg\",\"reference\":\"https://images.s.7news.com.au/publication/C-1365795/f3f614ee4a5dd8b48c46c9d8ccc6151119ee1c9b-161x229-x387y0w506h720.jpg\",\"width\":506,\"height\":720,\"dimensions\":\"506x720\",\"ratio\":\"161:229\",\"credit\":\"AAP\",\"captionText\":\"Former Health Services Union boss Kathy Jackson obtained more than $100,000 by deception.\",\"copyrightByline\":\"AAP\"}],\"mainVideo\":{\"accountId\":\"4761797480001\",\"heading\":\"2020 Federal Budget preview\",\"kind\":\"video\",\"posterImage\":{\"height\":360,\"width\":640,\"reference\":\"https://images.s.7news.com.au/publication/6197674637001/24664ee93ec097678ac657e36d1c8d9b7fadd6f9.jpg\",\"src\":\"https://images.s.7news.com.au/publication/6197674637001/24664ee93ec097678ac657e36d1c8d9b7fadd6f9.jpg\",\"dimensions\":\"640x360\",\"format\":\"\",\"ratio\":\"16:9\"},\"videoDescription\":\"Josh Frydenberg  to reveal the national budget this evening.\",\"videoId\":\"6197674637001\",\"videoType\":\"vod\",\"ingestChannel\":\"vizstory\"},\"socialImage\":null,\"slug\":\"fraud-admissions-from-former-union-boss-kathy-jackson-c-1365795\",\"socialHead\":\"\",\"socialTeaser\":\"\",\"seoHead\":\"Former Health Services Union boss Kathy Jackson has admitted fraud crimes\",\"isSponsored\":false,\"layoutView\":\"default\",\"redirectUrl\":null,\"promotionType\":null,\"canonicalUrl\":null,\"canonicalTitle\":null,\"blogState\":null,\"profiles\":[{\"name\":\"AAP\",\"slug\":\"aap\",\"position\":\"Writer\",\"biography\":\"Journalist from Australian news agency, Australian Associated Press.\"}],\"allowCommenting\":false},{\"_self\":\"https://7news.com.au/business/finance/tax-cuts-tipped-to-headline-federal-budget-c-1365748\",\"id\":\"C-1365748\",\"kind\":\"article\",\"status\":\"live\",\"isLiveContent\":false,\"isPremium\":false,\"requiredAccess\":{\"level\":\"anonymous\"},\"source\":\"AAP\",\"publicationDate\":\"2020-10-05T16:36:48.000Z\",\"created\":\"2020-10-05T16:36:48.000Z\",\"lastUpdated\":\"2020-10-05T18:16:47.276Z\",\"expiryDate\":null,\"topics\":{\"primary\":{\"id\":\"business/finance\",\"guid\":\"cke86br96007307lmgvj7gp9a\",\"title\":\"Finance\",\"metadata\":{},\"seoTitle\":\"Finance\",\"parent\":{\"id\":\"business\",\"guid\":\"cke86aal5000a07lm1zxv4n8t\",\"title\":\"Business\",\"metadata\":{},\"seoTitle\":\"Business\",\"seoDescription\":\"The latest business news including market updates, mining news, property development and the start-ups you should know about.\"}},\"secondary\":[{\"id\":\"politics/budget\",\"guid\":\"cke86binq005w07lma77i1z8n\",\"title\":\"Budget\",\"metadata\":{},\"seoTitle\":\"Budget\",\"parent\":{\"id\":\"politics\",\"guid\":\"cke86ac5n000h07lmbvw45om2\",\"title\":\"Politics\",\"metadata\":{},\"seoTitle\":\"Politics\",\"seoDescription\":\"The latest local, national and international politics news. Find out the decisions politicians are making which could affect you.\"}},{\"id\":\"politics/federal-politics\",\"guid\":\"cke86ea5k00jg07lm2bama4o2\",\"title\":\"Federal Politics\",\"metadata\":{},\"seoTitle\":\"Federal Politics\",\"parent\":{\"id\":\"politics\",\"guid\":\"cke86ac5n000h07lmbvw45om2\",\"title\":\"Politics\",\"metadata\":{},\"seoTitle\":\"Politics\",\"seoDescription\":\"The latest local, national and international politics news. Find out the decisions politicians are making which could affect you.\"}},{\"id\":\"politics/josh-frydenberg\",\"guid\":\"cke86e8c100j707lm1m2c6krn\",\"title\":\"Josh Frydenberg\",\"metadata\":{},\"seoTitle\":\"Josh Frydenberg\",\"seoDescription\":\"The latest news and headlines on the Treasurer of Australia and Deputy Leader of the Liberal Party.\",\"parent\":{\"id\":\"politics\",\"guid\":\"cke86ac5n000h07lmbvw45om2\",\"title\":\"Politics\",\"metadata\":{},\"seoTitle\":\"Politics\",\"seoDescription\":\"The latest local, national and international politics news. Find out the decisions politicians are making which could affect you.\"}},{\"id\":\"lifestyle/personal-finance\",\"guid\":\"cke86eglv00kc07lmcz774jfy\",\"title\":\"Personal Finance\",\"metadata\":{},\"seoTitle\":\"Personal Finance\",\"parent\":{\"id\":\"lifestyle\",\"guid\":\"cke86aefd000s07lmhwrg2huw\",\"title\":\"Lifestyle\",\"metadata\":{},\"seoTitle\":\"Lifestyle\",\"seoDescription\":\"The latest lifestyle content featuring recipes, Perth\\'s best food, health and wellbeing advice and tips for your garden and home.\"}},{\"id\":\"politics\",\"guid\":\"cke86ac5n000h07lmbvw45om2\",\"title\":\"Politics\",\"metadata\":{},\"seoTitle\":\"Politics\",\"seoDescription\":\"The latest local, national and international politics news. Find out the decisions politicians are making which could affect you.\"},{\"id\":\"politics/scott-morrison\",\"guid\":\"cke86dzqq00i007lmf9kn8z76\",\"title\":\"Scott Morrison\",\"metadata\":{},\"seoTitle\":\"Scott Morrison\",\"parent\":{\"id\":\"politics\",\"guid\":\"cke86ac5n000h07lmbvw45om2\",\"title\":\"Politics\",\"metadata\":{},\"seoTitle\":\"Politics\",\"seoDescription\":\"The latest local, national and international politics news. Find out the decisions politicians are making which could affect you.\"}}]},\"heading\":\"Tax cuts tipped to headline federal budget 2020\",\"byline\":{\"text\":\"Matt Coughlan\"},\"headKicker\":\"Budget 2020\",\"homepageHead\":\"How much you\\'ll get back from fast-tracked income tax cuts\",\"homepageTeaser\":\"Treasurer Josh Frydenberg will deliver the federal budget on Tuesday, with tax relief part of plans to get the nation out of the coronavirus recession.\",\"cardImages\":[],\"mainImages\":[{\"format\":\"image/png\",\"src\":\"https://images.s.7news.com.au/publication/C-1365748/b3c213e34e6ccc13dcab1c8281225a245b7c69b5-16x9-x0y0w2000h1125.png\",\"reference\":\"https://images.s.7news.com.au/publication/C-1365748/b3c213e34e6ccc13dcab1c8281225a245b7c69b5-16x9-x0y0w2000h1125.png\",\"width\":2000,\"height\":1125,\"dimensions\":\"2000x1125\",\"ratio\":\"16:9\",\"credit\":\"Getty\",\"captionText\":\"Treasurer Josh Frydenberg is expected to announce a series of tax cuts.\"},{\"format\":\"image/png\",\"src\":\"https://images.s.7news.com.au/publication/C-1365748/b3c213e34e6ccc13dcab1c8281225a245b7c69b5-4x3-x0y0w1285h963.png\",\"reference\":\"https://images.s.7news.com.au/publication/C-1365748/b3c213e34e6ccc13dcab1c8281225a245b7c69b5-4x3-x0y0w1285h963.png\",\"width\":1285,\"height\":963,\"dimensions\":\"1285x963\",\"ratio\":\"4:3\",\"credit\":\"Getty\",\"captionText\":\"Treasurer Josh Frydenberg is expected to announce a series of tax cuts.\"},{\"format\":\"image/png\",\"src\":\"https://images.s.7news.com.au/publication/C-1365748/b3c213e34e6ccc13dcab1c8281225a245b7c69b5-161x229-x1360y0w640h910.png\",\"reference\":\"https://images.s.7news.com.au/publication/C-1365748/b3c213e34e6ccc13dcab1c8281225a245b7c69b5-161x229-x1360y0w640h910.png\",\"width\":640,\"height\":910,\"dimensions\":\"640x910\",\"ratio\":\"161:229\",\"credit\":\"Getty\",\"captionText\":\"Treasurer Josh Frydenberg is expected to announce a series of tax cuts.\"}],\"mainVideo\":{\"accountId\":\"4761797480001\",\"heading\":\"2020 Federal Budget preview\",\"kind\":\"video\",\"posterImage\":{\"height\":360,\"width\":640,\"reference\":\"https://images.s.7news.com.au/publication/6197674637001/24664ee93ec097678ac657e36d1c8d9b7fadd6f9.jpg\",\"src\":\"https://images.s.7news.com.au/publication/6197674637001/24664ee93ec097678ac657e36d1c8d9b7fadd6f9.jpg\",\"dimensions\":\"640x360\",\"format\":\"\",\"ratio\":\"16:9\"},\"videoDescription\":\"Josh Frydenberg  to reveal the national budget this evening.\",\"videoId\":\"6197674637001\",\"videoType\":\"vod\",\"ingestChannel\":\"vizstory\"},\"socialImage\":null,\"slug\":\"tax-cuts-tipped-to-headline-federal-budget-c-1365748\",\"socialHead\":\"\",\"socialTeaser\":\"\",\"seoHead\":\"Budget 2020 to include major tax cuts for Australians as coronavirus recession looms\",\"isSponsored\":false,\"layoutView\":\"default\",\"redirectUrl\":null,\"promotionType\":null,\"canonicalUrl\":null,\"canonicalTitle\":null,\"blogState\":null,\"profiles\":[],\"allowCommenting\":false},{\"_self\":\"https://7news.com.au/business/finance/australians-set-to-benefit-from-fast-tracked-tax-cuts-in-federal-budget-c-1364138\",\"id\":\"C-1364138\",\"kind\":\"article\",\"status\":\"live\",\"isLiveContent\":false,\"isPremium\":false,\"requiredAccess\":{\"level\":\"anonymous\"},\"source\":\"AAP/7NEWS\",\"publicationDate\":\"2020-10-05T02:12:17.000Z\",\"created\":\"2020-10-05T01:46:11.000Z\",\"lastUpdated\":\"2020-10-05T02:12:29.150Z\",\"expiryDate\":null,\"topics\":{\"primary\":{\"id\":\"business/finance\",\"guid\":\"cke86br96007307lmgvj7gp9a\",\"title\":\"Finance\",\"metadata\":{},\"seoTitle\":\"Finance\",\"parent\":{\"id\":\"business\",\"guid\":\"cke86aal5000a07lm1zxv4n8t\",\"title\":\"Business\",\"metadata\":{},\"seoTitle\":\"Business\",\"seoDescription\":\"The latest business news including market updates, mining news, property development and the start-ups you should know about.\"}},\"secondary\":[{\"id\":\"politics/budget\",\"guid\":\"cke86binq005w07lma77i1z8n\",\"title\":\"Budget\",\"metadata\":{},\"seoTitle\":\"Budget\",\"parent\":{\"id\":\"politics\",\"guid\":\"cke86ac5n000h07lmbvw45om2\",\"title\":\"Politics\",\"metadata\":{},\"seoTitle\":\"Politics\",\"seoDescription\":\"The latest local, national and international politics news. Find out the decisions politicians are making which could affect you.\"}},{\"id\":\"politics/federal-politics\",\"guid\":\"cke86ea5k00jg07lm2bama4o2\",\"title\":\"Federal Politics\",\"metadata\":{},\"seoTitle\":\"Federal Politics\",\"parent\":{\"id\":\"politics\",\"guid\":\"cke86ac5n000h07lmbvw45om2\",\"title\":\"Politics\",\"metadata\":{},\"seoTitle\":\"Politics\",\"seoDescription\":\"The latest local, national and international politics news. Find out the decisions politicians are making which could affect you.\"}},{\"id\":\"politics/josh-frydenberg\",\"guid\":\"cke86e8c100j707lm1m2c6krn\",\"title\":\"Josh Frydenberg\",\"metadata\":{},\"seoTitle\":\"Josh Frydenberg\",\"seoDescription\":\"The latest news and headlines on the Treasurer of Australia and Deputy Leader of the Liberal Party.\",\"parent\":{\"id\":\"politics\",\"guid\":\"cke86ac5n000h07lmbvw45om2\",\"title\":\"Politics\",\"metadata\":{},\"seoTitle\":\"Politics\",\"seoDescription\":\"The latest local, national and international politics news. Find out the decisions politicians are making which could affect you.\"}},{\"id\":\"lifestyle/personal-finance\",\"guid\":\"cke86eglv00kc07lmcz774jfy\",\"title\":\"Personal Finance\",\"metadata\":{},\"seoTitle\":\"Personal Finance\",\"parent\":{\"id\":\"lifestyle\",\"guid\":\"cke86aefd000s07lmhwrg2huw\",\"title\":\"Lifestyle\",\"metadata\":{},\"seoTitle\":\"Lifestyle\",\"seoDescription\":\"The latest lifestyle content featuring recipes, Perth\\'s best food, health and wellbeing advice and tips for your garden and home.\"}},{\"id\":\"politics\",\"guid\":\"cke86ac5n000h07lmbvw45om2\",\"title\":\"Politics\",\"metadata\":{},\"seoTitle\":\"Politics\",\"seoDescription\":\"The latest local, national and international politics news. Find out the decisions politicians are making which could affect you.\"},{\"id\":\"politics/scott-morrison\",\"guid\":\"cke86dzqq00i007lmf9kn8z76\",\"title\":\"Scott Morrison\",\"metadata\":{},\"seoTitle\":\"Scott Morrison\",\"parent\":{\"id\":\"politics\",\"guid\":\"cke86ac5n000h07lmbvw45om2\",\"title\":\"Politics\",\"metadata\":{},\"seoTitle\":\"Politics\",\"seoDescription\":\"The latest local, national and international politics news. Find out the decisions politicians are making which could affect you.\"}}]},\"heading\":\"Australians set to benefit from fast-tracked tax cuts in federal budget\",\"byline\":{\"text\":\"Warren Barnsley, Daniel McCulloch and Colin Brinsden\"},\"headKicker\":\"Better off\",\"homepageHead\":\"Aussies expected to get thousands extra in hip pocket when budget handed down\",\"homepageTeaser\":\"More detail is emerging on the document which Scott Morrison hopes will drive Australia\\'s recovery from the first recession since the 1990s.\",\"cardImages\":[],\"mainImages\":[{\"format\":\"image/png\",\"src\":\"https://images.s.7news.com.au/publication/C-1364138/28f8870fa7e1376b3a60227d5f7f136930f06720-16x9-x0y0w1920h1080.png\",\"reference\":\"https://images.s.7news.com.au/publication/C-1364138/28f8870fa7e1376b3a60227d5f7f136930f06720-16x9-x0y0w1920h1080.png\",\"width\":1920,\"height\":1080,\"dimensions\":\"1920x1080\",\"ratio\":\"16:9\",\"credit\":\"7NEWS Digital\",\"captionText\":\"Treasurer Josh Frydenberg is expected to bring forward slated tax cuts in Tuesday\\'s federal budget.\",\"byline\":\"Harry Thomson\"},{\"format\":\"image/png\",\"src\":\"https://images.s.7news.com.au/publication/C-1364138/28f8870fa7e1376b3a60227d5f7f136930f06720-4x3-x246y0w1440h1080.png\",\"reference\":\"https://images.s.7news.com.au/publication/C-1364138/28f8870fa7e1376b3a60227d5f7f136930f06720-4x3-x246y0w1440h1080.png\",\"width\":1440,\"height\":1080,\"dimensions\":\"1440x1080\",\"ratio\":\"4:3\",\"credit\":\"7NEWS Digital\",\"captionText\":\"Treasurer Josh Frydenberg is expected to bring forward slated tax cuts in Tuesday\\'s federal budget.\",\"byline\":\"Harry Thomson\"},{\"format\":\"image/png\",\"src\":\"https://images.s.7news.com.au/publication/C-1364138/28f8870fa7e1376b3a60227d5f7f136930f06720-161x229-x589y0w759h1080.png\",\"reference\":\"https://images.s.7news.com.au/publication/C-1364138/28f8870fa7e1376b3a60227d5f7f136930f06720-161x229-x589y0w759h1080.png\",\"width\":759,\"height\":1080,\"dimensions\":\"759x1080\",\"ratio\":\"161:229\",\"credit\":\"7NEWS Digital\",\"captionText\":\"Treasurer Josh Frydenberg is expected to bring forward slated tax cuts in Tuesday\\'s federal budget.\",\"byline\":\"Harry Thomson\"}],\"mainVideo\":{\"accountId\":\"4761797480001\",\"heading\":\"Midday news update - October 5\",\"kind\":\"video\",\"posterImage\":{\"height\":360,\"width\":640,\"reference\":\"https://images.s.7news.com.au/publication/6197437240001/716f6aaa4549b3d32a64e6543932a58984dd9167.jpg\",\"src\":\"https://images.s.7news.com.au/publication/6197437240001/716f6aaa4549b3d32a64e6543932a58984dd9167.jpg\",\"dimensions\":\"640x360\",\"format\":\"\",\"ratio\":\"16:9\"},\"videoDescription\":\"The latest news from around Australia and the world.\",\"videoId\":\"6197437240001\",\"videoType\":\"vod\",\"ingestChannel\":\"vizstory\"},\"socialImage\":null,\"slug\":\"australians-set-to-benefit-from-fast-tracked-tax-cuts-in-federal-budget-c-1364138\",\"socialHead\":\"\",\"socialTeaser\":\"\",\"seoHead\":\"Federal budget 2020 set to see Australians benefit from fast-tracked personal income tax cuts\",\"isSponsored\":false,\"layoutView\":\"default\",\"redirectUrl\":null,\"promotionType\":null,\"canonicalUrl\":null,\"canonicalTitle\":null,\"blogState\":null,\"profiles\":[],\"allowCommenting\":false}]}'"
      ]
     },
     "execution_count": 9,
     "metadata": {},
     "output_type": "execute_result"
    }
   ],
   "source": [
    "response.html.html"
   ]
  },
  {
   "cell_type": "code",
   "execution_count": 10,
   "metadata": {},
   "outputs": [],
   "source": [
    "crawler.parse(response)"
   ]
  },
  {
   "cell_type": "code",
   "execution_count": 11,
   "metadata": {},
   "outputs": [
    {
     "data": {
      "text/plain": [
       "[{'url': 'https://7news.com.au/lifestyle/personal-finance/temporary-changes-to-parental-leave-access-c-1368278',\n",
       "  'title': 'Federal Budget 2020: Thousands of new mothers to qualify for paid parental leave',\n",
       "  'date': '2020-10-06T10:38:15.000Z'},\n",
       " {'url': 'https://7news.com.au/lifestyle/personal-finance/federal-budget-2020-superannuation-accounts-to-follow-workers-when-they-change-jobs-c-1368157',\n",
       "  'title': 'Federal Budget 2020: Superannuation accounts to follow workers when they change jobs',\n",
       "  'date': '2020-10-06T10:29:32.000Z'},\n",
       " {'url': 'https://7news.com.au/politics/budget/federal-budget-2020-assumes-west-australian-border-will-be-open-by-april-2021-c-1368154',\n",
       "  'title': 'Federal Budget 2020 assumes West Australian border will be open by April 2021',\n",
       "  'date': '2020-10-06T10:10:39.000Z'},\n",
       " {'url': 'https://7news.com.au/lifestyle/personal-finance/federal-budget-2020-budget-relies-on-available-covid-vaccine-by-end-of-2021-c-1368047',\n",
       "  'title': 'Federal Budget 2020: Budget relies on available COVID vaccine by end of 2021',\n",
       "  'date': '2020-10-06T09:06:21.000Z'},\n",
       " {'url': 'https://7news.com.au/business/finance/federal-budget-2020-tax-cuts-spear-federal-budget-cash-splash-c-1368007',\n",
       "  'title': 'Federal Budget 2020: Tax cuts spear federal budget cash splash',\n",
       "  'date': '2020-10-06T09:00:33.000Z'},\n",
       " {'url': 'https://7news.com.au/business/finance/fraud-admissions-from-former-union-boss-kathy-jackson-c-1365795',\n",
       "  'title': 'Fraud admissions from former union boss Kathy Jackson',\n",
       "  'date': '2020-10-05T18:30:49.000Z'},\n",
       " {'url': 'https://7news.com.au/business/finance/tax-cuts-tipped-to-headline-federal-budget-c-1365748',\n",
       "  'title': 'Tax cuts tipped to headline federal budget 2020',\n",
       "  'date': '2020-10-05T16:36:48.000Z'},\n",
       " {'url': 'https://7news.com.au/business/finance/australians-set-to-benefit-from-fast-tracked-tax-cuts-in-federal-budget-c-1364138',\n",
       "  'title': 'Australians set to benefit from fast-tracked tax cuts in federal budget',\n",
       "  'date': '2020-10-05T02:12:17.000Z'}]"
      ]
     },
     "execution_count": 11,
     "metadata": {},
     "output_type": "execute_result"
    }
   ],
   "source": [
    "crawler.all_json_to_send"
   ]
  },
  {
   "cell_type": "markdown",
   "metadata": {},
   "source": [
    "### 4. Testing"
   ]
  },
  {
   "cell_type": "markdown",
   "metadata": {},
   "source": [
    "Para verificar que el crawler funciona, implementamos dos tests:"
   ]
  },
  {
   "cell_type": "code",
   "execution_count": 12,
   "metadata": {},
   "outputs": [],
   "source": [
    "#el crawler debe devolver una lista no vacia\n",
    "assert(len(crawler.all_json_to_send)>0) "
   ]
  },
  {
   "cell_type": "code",
   "execution_count": 13,
   "metadata": {},
   "outputs": [],
   "source": [
    "#lo que devuelve el crawler deben ser URLs correctas\n",
    "assert validators.url(crawler.all_json_to_send[0][\"url\"])"
   ]
  },
  {
   "cell_type": "markdown",
   "metadata": {},
   "source": [
    "## Parte 2: Scraping\n",
    "\n",
    "Recopilación del contenido y de metadatos (título, fecha) de las noticias de prensa"
   ]
  },
  {
   "cell_type": "markdown",
   "metadata": {},
   "source": [
    "### 1. URL _seed_ "
   ]
  },
  {
   "cell_type": "code",
   "execution_count": 15,
   "metadata": {},
   "outputs": [],
   "source": [
    "SEED_SCRAP = 'https://7news.com.au/lifestyle/personal-finance/temporary-changes-to-parental-leave-access-c-1368278'"
   ]
  },
  {
   "cell_type": "markdown",
   "metadata": {},
   "source": [
    "Para iniciar el proceso de scraping, necesitamos una página inicial que llamamos 'SEED'. Es la página que contiene una noticia.\n"
   ]
  },
  {
   "cell_type": "markdown",
   "metadata": {},
   "source": [
    "### 2. Class _Scraper_\n",
    "\n",
    "La clase _Scraper_ se encarga de enviar una consulta HTTP (GET) a la pagina SEED. Luego analiza la respuesta HTML para obtener el contenido de la noticia y sus metadatos.\n",
    "\n",
    "Se requiere definir la ruta HTML para obtener los datos que nos interesan."
   ]
  },
  {
   "cell_type": "code",
   "execution_count": 20,
   "metadata": {},
   "outputs": [],
   "source": [
    "QUERY_CONTENT =  \"//p\""
   ]
  },
  {
   "cell_type": "code",
   "execution_count": 21,
   "metadata": {},
   "outputs": [],
   "source": [
    "DATE = crawler.all_json_to_send[0][\"date\"]\n",
    "TITLE = crawler.all_json_to_send[0][\"title\"]"
   ]
  },
  {
   "cell_type": "code",
   "execution_count": 22,
   "metadata": {},
   "outputs": [],
   "source": [
    "import json\n",
    "import w3lib.html\n",
    "import random\n",
    "import os\n",
    "import datetime\n",
    "import requests\n",
    "import string\n",
    "import calendar\n",
    "import html\n",
    "import locale \n",
    "from requests_html import HTMLSession"
   ]
  },
  {
   "cell_type": "code",
   "execution_count": 23,
   "metadata": {},
   "outputs": [],
   "source": [
    "class Scraper:\n",
    "    \n",
    "    USER_AGENT_LIST = [\n",
    "        \"Mozilla/5.0 (Windows NT 6.1; WOW64) AppleWebKit/537.1 (KHTML, like Gecko) Chrome/22.0.1207.1 Safari/537.1\",\n",
    "        \"Mozilla/5.0 (X11; CrOS i686 2268.111.0) AppleWebKit/536.11 (KHTML, like Gecko) Chrome/20.0.1132.57 Safari/536.11\",\n",
    "        \"Mozilla/5.0 (Windows NT 6.1; WOW64) AppleWebKit/536.6 (KHTML, like Gecko) Chrome/20.0.1092.0 Safari/536.6\",\n",
    "        \"Mozilla/5.0 (Windows NT 6.2) AppleWebKit/536.6 (KHTML, like Gecko) Chrome/20.0.1090.0 Safari/536.6\",\n",
    "        \"Mozilla/5.0 (Windows NT 6.2; WOW64) AppleWebKit/537.1 (KHTML, like Gecko) Chrome/19.77.34.5 Safari/537.1\",\n",
    "        \"Mozilla/5.0 (X11; Linux x86_64) AppleWebKit/536.5 (KHTML, like Gecko) Chrome/19.0.1084.9 Safari/536.5\",\n",
    "        \"Mozilla/5.0 (Windows NT 6.0) AppleWebKit/536.5 (KHTML, like Gecko) Chrome/19.0.1084.36 Safari/536.5\",\n",
    "        \"Mozilla/5.0 (Windows NT 6.1; WOW64) AppleWebKit/536.3 (KHTML, like Gecko) Chrome/19.0.1063.0 Safari/536.3\",\n",
    "        \"Mozilla/5.0 (Windows NT 5.1) AppleWebKit/536.3 (KHTML, like Gecko) Chrome/19.0.1063.0 Safari/536.3\",\n",
    "        \"Mozilla/5.0 (Macintosh; Intel Mac OS X 10_8_0) AppleWebKit/536.3 (KHTML, like Gecko) Chrome/19.0.1063.0 Safari/536.3\",\n",
    "        \"Mozilla/5.0 (Windows NT 6.2) AppleWebKit/536.3 (KHTML, like Gecko) Chrome/19.0.1062.0 Safari/536.3\",\n",
    "        \"Mozilla/5.0 (Windows NT 6.1; WOW64) AppleWebKit/536.3 (KHTML, like Gecko) Chrome/19.0.1062.0 Safari/536.3\",\n",
    "        \"Mozilla/5.0 (Windows NT 6.2) AppleWebKit/536.3 (KHTML, like Gecko) Chrome/19.0.1061.1 Safari/536.3\",\n",
    "        \"Mozilla/5.0 (Windows NT 6.1; WOW64) AppleWebKit/536.3 (KHTML, like Gecko) Chrome/19.0.1061.1 Safari/536.3\",\n",
    "        \"Mozilla/5.0 (Windows NT 6.1) AppleWebKit/536.3 (KHTML, like Gecko) Chrome/19.0.1061.1 Safari/536.3\",\n",
    "        \"Mozilla/5.0 (Windows NT 6.2) AppleWebKit/536.3 (KHTML, like Gecko) Chrome/19.0.1061.0 Safari/536.3\",\n",
    "        \"Mozilla/5.0 (X11; Linux x86_64) AppleWebKit/535.24 (KHTML, like Gecko) Chrome/19.0.1055.1 Safari/535.24\",\n",
    "        \"Mozilla/5.0 (Windows NT 6.2; WOW64) AppleWebKit/535.24 (KHTML, like Gecko) Chrome/19.0.1055.1 Safari/535.24\"\n",
    "    ]\n",
    "\n",
    "\n",
    "    query_extract_text =  QUERY_CONTENT\n",
    "\n",
    "    news_title = TITLE\n",
    "    date = DATE\n",
    "\n",
    "    def _init_(self):\n",
    "        pass\n",
    "\n",
    "    def clean_text(self, html_text):\n",
    "        text_without_tags = w3lib.html.remove_tags(html_text)\n",
    "        text_without_escape_chars = w3lib.html.replace_escape_chars(text_without_tags)\n",
    "        text_without_escape_chars = html.unescape(text_without_escape_chars)\n",
    "        text_without_whitespace = text_without_escape_chars.strip()\n",
    "        return text_without_whitespace\n",
    "\n",
    "    def replace_month_name_to_number(self,date_string):\n",
    "        lower_string = date_string.lower()\n",
    "        for month_id in range(1, 13):\n",
    "            if(lower_string.find(calendar.month_name[month_id].lower())!=-1):\n",
    "                if(month_id>=10):\n",
    "                    return (lower_string.replace(calendar.month_name[month_id].lower(),str(month_id)))\n",
    "                else:\n",
    "                    return (lower_string.replace(calendar.month_name[month_id].lower(),\"0\"+str(month_id)))\n",
    "            if(lower_string.find(calendar.month_abbr[month_id].lower())!=-1):\n",
    "                if(month_id>=10):\n",
    "                    return (lower_string.replace(calendar.month_abbr[month_id].lower(),str(month_id)))\n",
    "                else:\n",
    "                    return (lower_string.replace(calendar.month_abbr[month_id].lower(),\"0\"+str(month_id)))\n",
    "                    \n",
    "    #Se puede modificar\n",
    "    def format_date(self,date):\n",
    "        date = date.split(\"T\")[0]\n",
    "        return(date)\n",
    "\n",
    "    #Se puede modificar\n",
    "    def parse(self, response):\n",
    "        self.news_text = []\n",
    "        self.message_to_send = []\n",
    "        self.scraped_url = response.url\n",
    "\n",
    "        self.news_title = self.clean_text(self.news_title)\n",
    "        self.date = self.clean_text(self.date)\n",
    "        self.date = self.format_date(self.date)\n",
    "        \n",
    "        news_text_extracted_response = response.html.xpath(self.query_extract_text)\n",
    "        for part_of_body in news_text_extracted_response:\n",
    "            stripped_html_tags = w3lib.html.remove_tags(part_of_body.text)\n",
    "            self.news_text.append(stripped_html_tags)\n",
    "\n",
    "    def start_request(self,url):\n",
    "        headers = {'user-agent':random.choice(self.USER_AGENT_LIST) }\n",
    "        session = HTMLSession()\n",
    "        response = session.get(url,headers=headers)        \n",
    "        return response      "
   ]
  },
  {
   "cell_type": "markdown",
   "metadata": {},
   "source": [
    "### 3. Scraping"
   ]
  },
  {
   "cell_type": "code",
   "execution_count": 24,
   "metadata": {},
   "outputs": [],
   "source": [
    "scraper = Scraper()\n",
    "response =scraper.start_request(SEED_SCRAP)"
   ]
  },
  {
   "cell_type": "code",
   "execution_count": 25,
   "metadata": {},
   "outputs": [],
   "source": [
    "scraper.parse(response)"
   ]
  },
  {
   "cell_type": "code",
   "execution_count": 26,
   "metadata": {},
   "outputs": [
    {
     "data": {
      "text/plain": [
       "'Federal Budget 2020: Thousands of new mothers to qualify for paid parental leave'"
      ]
     },
     "execution_count": 26,
     "metadata": {},
     "output_type": "execute_result"
    }
   ],
   "source": [
    "scraper.news_title"
   ]
  },
  {
   "cell_type": "code",
   "execution_count": 27,
   "metadata": {},
   "outputs": [
    {
     "data": {
      "text/plain": [
       "'2020-10-06'"
      ]
     },
     "execution_count": 27,
     "metadata": {},
     "output_type": "execute_result"
    }
   ],
   "source": [
    "scraper.date"
   ]
  },
  {
   "cell_type": "code",
   "execution_count": 28,
   "metadata": {},
   "outputs": [
    {
     "data": {
      "text/plain": [
       "['Thousands of new mothers are expected to qualify for paid parental leave after changes to eligibility requirements in response to the COVID-19 pandemic.',\n",
       " 'The temporary changes have been unveiled in the federal budget and are expected to help 9000 mothers, as well as 3500 fathers and partners.',\n",
       " 'Parents must usually have worked 10 of the 13 months prior to the birth or adoption of their child in order to qualify for paid parental leave.',\n",
       " 'But for parents with children born or adopted between March 22 this year and March 31 next year, the work period will be extended to 10 months out of the previous 20.',\n",
       " 'More than $2 billion each year over the forward estimates has been set aside for the paid parental leave.',\n",
       " 'Government costs for paid parental leave are expected to decrease by 5.6 per cent in 2020/21 compared to the previous financial year.',\n",
       " 'The government expects demand for the payment to return to pre-pandemic levels as employment improves.']"
      ]
     },
     "execution_count": 28,
     "metadata": {},
     "output_type": "execute_result"
    }
   ],
   "source": [
    "scraper.news_text"
   ]
  },
  {
   "cell_type": "markdown",
   "metadata": {},
   "source": [
    "### 4. Testing"
   ]
  },
  {
   "cell_type": "code",
   "execution_count": 29,
   "metadata": {},
   "outputs": [],
   "source": [
    "# Una función que verifica que las fechas tienen el formato correcto YYYY-MM-DD\n",
    "def validate(date_text):\n",
    "    try:\n",
    "        datetime.datetime.strptime(date_text, \"%Y-%m-%d\")\n",
    "        return True\n",
    "    except:\n",
    "        print(\"La fecha no tiene el formato correcto, año-mes-dia\")\n",
    "        return False"
   ]
  },
  {
   "cell_type": "code",
   "execution_count": 30,
   "metadata": {},
   "outputs": [],
   "source": [
    "#Verificamos que el scraper devuelve algo y que las fechas tienen un formato correcto\n",
    "assert(len(scraper.news_title)>0)\n",
    "assert(len(scraper.news_text)>0)\n",
    "assert(validate(scraper.date))"
   ]
  }
 ],
 "metadata": {
  "kernelspec": {
   "display_name": "Python 3 (ipykernel)",
   "language": "python",
   "name": "python3"
  },
  "language_info": {
   "codemirror_mode": {
    "name": "ipython",
    "version": 3
   },
   "file_extension": ".py",
   "mimetype": "text/x-python",
   "name": "python",
   "nbconvert_exporter": "python",
   "pygments_lexer": "ipython3",
   "version": "3.8.10"
  }
 },
 "nbformat": 4,
 "nbformat_minor": 2
}
